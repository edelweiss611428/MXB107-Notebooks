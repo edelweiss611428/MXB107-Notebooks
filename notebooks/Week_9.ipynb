{
  "nbformat": 4,
  "nbformat_minor": 0,
  "metadata": {
    "colab": {
      "provenance": [],
      "toc_visible": true
    },
    "kernelspec": {
      "name": "ir",
      "display_name": "R"
    },
    "language_info": {
      "name": "R"
    }
  },
  "cells": [
    {
      "cell_type": "markdown",
      "source": [
        "# **Week 9: Small Sample Inference - Hypothesis Testing**\n",
        "\n",
        "```\n",
        ".------------------------------------.\n",
        "|   __  ____  ______  _  ___ _____   |\n",
        "|  |  \\/  \\ \\/ / __ )/ |/ _ \\___  |  |\n",
        "|  | |\\/| |\\  /|  _ \\| | | | | / /   |\n",
        "|  | |  | |/  \\| |_) | | |_| |/ /    |\n",
        "|  |_|  |_/_/\\_\\____/|_|\\___//_/     |\n",
        "'------------------------------------'\n",
        "\n",
        "```"
      ],
      "metadata": {
        "id": "ZtpJJ8BSHOaK"
      }
    },
    {
      "cell_type": "markdown",
      "source": [
        "Through the following examples, we will explore the concepts of (small-sample) hypothesis testing (SSHT) and examine their practical implications.\n",
        "\n",
        "**Why focus on small samples?**\n",
        "\n",
        "- Less data means we cannot rely on the “law of large numbers” or asymptotic properties. Every conclusion depends heavily on the assumptions of our statistical model. For instance, if we assume data are normally distributed, that assumption has a bigger impact when the sample is small.\n",
        "\n",
        "- In contrast, with large samples, many statistical methods rely on asymptotic properties, meaning they behave approximately correctly ***almost*** regardless of the underlying model. Essentially, large-sample inference is almost model-free."
      ],
      "metadata": {
        "id": "nJN_EjsDJ5My"
      }
    },
    {
      "cell_type": "markdown",
      "source": [
        "## **Pre-Configurating the Notebook**"
      ],
      "metadata": {
        "id": "qJMHamzBgYY4"
      }
    },
    {
      "cell_type": "markdown",
      "source": [
        "### **Switching to the R Kernel on Colab**\n",
        "\n",
        "By default, Google Colab uses Python as its programming language. To use R instead, you’ll need to manually switch the kernel by going to **Runtime > Change runtime type**, and selecting R as the kernel. This allows you to run R code in the Colab environment.\n",
        "\n",
        "However, our notebook is already configured to use R by default. Unless something goes wrong, you shouldn’t need to manually change runtime type."
      ],
      "metadata": {
        "id": "RYNbU2mDgjJZ"
      }
    },
    {
      "cell_type": "markdown",
      "source": [
        "### **Importing Required Packages**\n",
        "**Run the following lines of code**:"
      ],
      "metadata": {
        "id": "Sh6s1ChmglUe"
      }
    },
    {
      "cell_type": "code",
      "source": [
        "#Do not modify\n",
        "\n",
        "setwd(\"/content\")\n",
        "\n",
        "# Remove `MXB107-Notebooks` if exists,\n",
        "if (dir.exists(\"MXB107-Notebooks\")) {\n",
        "  system(\"rm -rf MXB107-Notebooks\")\n",
        "}\n",
        "\n",
        "# Fork the repository\n",
        "system(\"git clone https://github.com/edelweiss611428/MXB107-Notebooks.git\")\n",
        "\n",
        "# Change working directory to \"MXB107-Notebooks\"\n",
        "setwd(\"MXB107-Notebooks\")\n",
        "\n",
        "#\n",
        "invisible(source(\"R/preConfigurated.R\"))"
      ],
      "metadata": {
        "id": "hXjYwRwxgmqZ"
      },
      "execution_count": null,
      "outputs": []
    },
    {
      "cell_type": "markdown",
      "source": [
        "**Do not modify the following**"
      ],
      "metadata": {
        "id": "0xU1keysgotb"
      }
    },
    {
      "cell_type": "code",
      "source": [
        "if (!require(\"testthat\")) install.packages(\"testthat\"); library(\"testthat\")\n",
        "\n",
        "test_that(\"Test if all packages have been loaded\", {\n",
        "\n",
        "  expect_true(all(c(\"ggplot2\", \"tidyr\", \"dplyr\", \"stringr\", \"magrittr\", \"knitr\") %in% loadedNamespaces()))\n",
        "\n",
        "})"
      ],
      "metadata": {
        "id": "VkOd7qZXgqr8"
      },
      "execution_count": null,
      "outputs": []
    },
    {
      "cell_type": "markdown",
      "source": [
        "## **Reference Tables for SSHT for Sample Means**"
      ],
      "metadata": {
        "id": "1WJSiLcxqAjt"
      }
    },
    {
      "cell_type": "markdown",
      "source": [
        "| Scenario | Parameter | Null hypothesis | Test statistic (t) | Degrees of freedom ($\\nu$) under $H_0$ |\n",
        "|----------|-----------|-----------------|--------------------|--------------------------------|\n",
        "| 1, One-sample mean | $\\mu$ | $\\mu = \\mu_0$ | $t = \\dfrac{\\bar{x} - \\mu_0}{s / \\sqrt{n}}$ | $n - 1$ |\n",
        "| 2, Paired sample (dependent) | $\\mu_D$ (mean difference) | $\\mu_D = d_0$ | $t = \\dfrac{\\bar{d}-d_0}{s_d / \\sqrt{n}}$ | $n - 1$ |\n",
        "| 3, Two-sample mean, equal variances (pooled) | $\\mu_1 - \\mu_2$ | $\\mu_1 - \\mu_2 = d_0$ | $s_p^2 = \\frac{(n_1-1)s_1^2 + (n_2-1)s_2^2}{n_1+n_2-2}$. <br> $t = \\dfrac{\\bar{x}_1 - \\bar{x}_2 - d_0}{s_p \\sqrt{\\tfrac{1}{n_1} + \\tfrac{1}{n_2}}}$ | $n_1 + n_2 - 2$ |\n",
        "| 4, Two-sample mean, unequal variances (Welch's) | $\\mu_1 - \\mu_2$ | $\\mu_1 - \\mu_2 = d_0$ | $t = \\dfrac{\\bar{x}_1 - \\bar{x}_2 - d_0}{\\sqrt{\\tfrac{s_1^2}{n_1} + \\tfrac{s_2^2}{n_2}}}$ | $\\dfrac{\\big(\\tfrac{s_1^2}{n_1} + \\tfrac{s_2^2}{n_2}\\big)^2}{\\tfrac{s_1^4}{n_1^2(n_1-1)} + \\tfrac{s_2^4}{n_2^2(n_2-1)}}$ |\n",
        "\n",
        "**NOTE THAT `R` BY DEFAULT USES FRACTIONAL NUMBER OF DEGREES OF FREEDOM FOR WELCH'S T-TEST, WHICH IS NOT AVAILABLE IN MOST STATISTICAL TABLES. IF NOT AVAILABLE, CONSIDER THE FLOOR VALUE**:\n",
        "\n",
        "$$\\left\\lfloor\\dfrac{\\big(\\tfrac{s_1^2}{n_1} + \\tfrac{s_2^2}{n_2}\\big)^2}{\\tfrac{s_1^4}{n_1^2(n_1-1)} + \\tfrac{s_2^4}{n_2^2(n_2-1)}}\\right\\rfloor,$$\n",
        "\n",
        "**WHICH LEADS TO A MORE CONSERVATIVE TEST. IN THIS UNIT, WE FOLLOW THIS APPROACH FOR PEN-AND-PAPER QUESTIONS. `R` CAN HANDLE FRACTIONAL NUMBER OF DEGREES OF FREEDOMS.**\n",
        "\n",
        "\n",
        "\n",
        "Assuming that data are i.i.d. generated from a Gaussian distribution (two dependent Gaussians for scenario 2; and two **independent** Gaussians for scenario 3 and 4), under the null hypothesis, the $t$ test statistics in the reference tables are approximately distributed as a Student's $T$ distribution with a number of degrees of freedom specified in the reference table. This implies a significant deviation from Gaussianity might weaken the tests (especially when data are heavily skewed or contain outliers).\n",
        "\n",
        "\n",
        "In fact, the validity of the $t$-test depends on how severely the data deviate from Gaussianity. We do not require the data to be truly normal to use the $t$-test, as it often remains useful when deviations from normality are mild. However, if the deviation is substantial (e.g., outliers, extreme values), the test can become unreliable.\n",
        "\n",
        "These $t$ tests are particularly useful when sample sizes are small, since the heavier tails of the $t$ distribution provide more accurate critical values. For large samples, however, the $T$ distribution converges to the standard normal distribution, and the tests reduce to the $z$-tests considered earlier in LSHT. Usually, n > 30 is sufficient.\n",
        "\n",
        "Any substantial deviation from the null hypothesis will tend to produce $t$ values that are unlikely under these $T$ distributions, which is why extreme values of $t$ provide evidence against $H_0$.\n",
        "\n",
        "| Test Type | Alternative Hypothesis | Rejection Region |\n",
        "|-----------|----------------------|----------------|\n",
        "| One-sided (right) | $H_1: \\theta > \\theta_0$ | Reject $H_0$ if $t > t_{\\nu\n",
        "  , 1-\\alpha}$ |\n",
        "| One-sided (left) | $H_1: \\theta < \\theta_0$ | Reject $H_0$ if $t < t_{\\nu, \\alpha}$ |\n",
        "| Two-sided | $H_1: \\theta \\neq \\theta_0$ | Reject $H_0$ if $|t| > t_{\\nu, 1-\\alpha/2}$ |\n",
        "\n",
        "Even though any deviation from $H_0$ can provide evidence against it, the choice between a one-sided and a two-sided test depends on our research goal and the direction of interest.\n",
        "\n",
        "If we specifically care about deviations in one direction — for example, testing whether the average battery life is less than 8 hours — a one-sided test is appropriate. Allocating all of the Type I error $\\alpha$ to that direction increases the test’s ability to detect deviations that matter in practice.\n",
        "\n",
        "On the other hand, if deviations in either direction are meaningful — for instance, testing whether the average rating of a show differs from 7.7, whether higher or lower — a two-sided test is necessary. Splitting $\\alpha$ between both tails ensures we properly account for evidence against $H_0$ in either direction.\n",
        "\n",
        "\n"
      ],
      "metadata": {
        "id": "KkwOCy-Xo3Xp"
      }
    },
    {
      "cell_type": "markdown",
      "source": [
        "#### **Reference Table for Small Sample Confidence Intervals**"
      ],
      "metadata": {
        "id": "VuW2pthPlMA1"
      }
    },
    {
      "cell_type": "markdown",
      "source": [
        "\n",
        "##### **Symmetric CI**\n",
        "\n",
        "| Scenario | Parameter | Confidence Interval (CI) | Degrees of freedom ($\\nu$) |\n",
        "|----------|-----------|--------------------------|---------------------------|\n",
        "| 1, One-sample mean | $\\mu$ | $\\bar{x} \\pm t_{\\nu, 1-\\alpha/2} \\frac{s}{\\sqrt{n}}$ | $n - 1$ |\n",
        "| 2, Paired sample (dependent) | $\\mu_D$ (mean difference) | $\\bar{d} \\pm t_{\\nu, 1-\\alpha/2} \\frac{s_d}{\\sqrt{n}}$ | $n - 1$ |\n",
        "| 3, Two-sample mean, equal variances (pooled) | $\\mu_1 - \\mu_2$ | $(\\bar{x}_1 - \\bar{x}_2) \\pm t_{\\nu, 1-\\alpha/2} \\cdot s_p \\sqrt{\\frac{1}{n_1} + \\frac{1}{n_2}}$ <br> where $s_p^2 = \\frac{(n_1-1)s_1^2 + (n_2-1)s_2^2}{n_1+n_2-2}$| $n_1 + n_2 - 2$ |\n",
        "| 4, Two-sample mean, unequal variances (Welch's) | $\\mu_1 - \\mu_2$ | $(\\bar{x}_1 - \\bar{x}_2) \\pm t_{\\nu, 1-\\alpha/2} \\sqrt{\\frac{s_1^2}{n_1} + \\frac{s_2^2}{n_2}}$ | $\\dfrac{\\big(\\tfrac{s_1^2}{n_1} + \\tfrac{s_2^2}{n_2}\\big)^2}{\\tfrac{s_1^4}{n_1^2(n_1-1)} + \\tfrac{s_2^4}{n_2^2(n_2-1)}}$ |\n"
      ],
      "metadata": {
        "id": "yM6QUKIIVLOo"
      }
    },
    {
      "cell_type": "markdown",
      "source": [
        "##### **Right-tailed CI**\n",
        "\n",
        "\n",
        "| Scenario | Parameter | Confidence Interval (CI) | Degrees of freedom ($\\nu$) |\n",
        "|----------|-----------|--------------------------|---------------------------|\n",
        "| 1, One-sample mean | $\\mu$ | $\\bar{x} - t_{\\nu, 1-\\alpha} \\frac{s}{\\sqrt{n}}, \\infty)$ | $n - 1$ |\n",
        "| 2, Paired sample (dependent) | $\\mu_D$ (mean difference) | $\\bar{d} - t_{\\nu, 1-\\alpha} \\frac{s_d}{\\sqrt{n}}, \\infty)$ | $n - 1$ |\n",
        "| 3, Two-sample mean, equal variances (pooled) | $\\mu_1 - \\mu_2$ | $(\\bar{x}_1 - \\bar{x}_2) - t_{\\nu, 1-\\alpha} \\cdot s_p \\sqrt{\\frac{1}{n_1} + \\frac{1}{n_2}}, \\infty)$ <br> where $s_p^2 = \\frac{(n_1-1)s_1^2 + (n_2-1)s_2^2}{n_1+n_2-2}$ | $n_1 + n_2 - 2$ |\n",
        "| 4, Two-sample mean, unequal variances (Welch's) | $\\mu_1 - \\mu_2$ | $(\\bar{x}_1 - \\bar{x}_2) - t_{\\nu, 1-\\alpha} \\sqrt{\\frac{s_1^2}{n_1} + \\frac{s_2^2}{n_2}}, \\infty)$ | $\\dfrac{\\big(\\tfrac{s_1^2}{n_1} + \\tfrac{s_2^2}{n_2}\\big)^2}{\\tfrac{s_1^4}{n_1^2(n_1-1)} + \\tfrac{s_2^4}{n_2^2(n_2-1)}}$ |\n",
        "\n",
        "\n"
      ],
      "metadata": {
        "id": "XtO8H5ohkB2c"
      }
    },
    {
      "cell_type": "markdown",
      "source": [
        "##### **Left-tailed CI**\n",
        "\n",
        "\n",
        "| Scenario | Parameter | Confidence Interval (CI) | Degrees of freedom ($\\nu$) |\n",
        "|----------|-----------|--------------------------|---------------------------|\n",
        "| 1, One-sample mean | $\\mu$ | $(-\\infty, \\bar{x} + t_{\\nu, 1-\\alpha} \\frac{s}{\\sqrt{n}}]$ | $n - 1$ |\n",
        "| 2, Paired sample (dependent) | $\\mu_D$ (mean difference) | $(-\\infty, \\bar{d} + t_{\\nu, 1-\\alpha} \\frac{s_d}{\\sqrt{n}}]$ | $n - 1$ |\n",
        "| 3, Two-sample mean, equal variances (pooled) | $\\mu_1 - \\mu_2$ | $(-\\infty, (\\bar{x}_1 - \\bar{x}_2) + t_{\\nu, 1-\\alpha} \\cdot s_p \\sqrt{\\frac{1}{n_1} + \\frac{1}{n_2}}]$ <br> where $s_p^2 = \\frac{(n_1-1)s_1^2 + (n_2-1)s_2^2}{n_1+n_2-2}$ | $n_1 + n_2 - 2$ |\n",
        "| 4, Two-sample mean, unequal variances (Welch's) | $\\mu_1 - \\mu_2$ | $(-\\infty, (\\bar{x}_1 - \\bar{x}_2) + t_{\\nu, 1-\\alpha} \\sqrt{\\frac{s_1^2}{n_1} + \\frac{s_2^2}{n_2}}]$ | $\\dfrac{\\big(\\tfrac{s_1^2}{n_1} + \\tfrac{s_2^2}{n_2}\\big)^2}{\\tfrac{s_1^4}{n_1^2(n_1-1)} + \\tfrac{s_2^4}{n_2^2(n_2-1)}}$ |\n",
        "\n"
      ],
      "metadata": {
        "id": "ZaxwNSpnkKlN"
      }
    },
    {
      "cell_type": "markdown",
      "source": [
        "###**When to Use The Welch's $t$-test?**\n",
        "\n",
        "\n",
        "Welch's $t$-test is more robust than the pooled-variance two-sample $t$-test because it does not assume equal population variances. It should be used when the two samples are independent and there is evidence that the variances differ.\n",
        "\n",
        "- **Advantage:** Handles unequal variances and sample sizes reliably.  \n",
        "- **Disadvantage:** Slightly less efficient (less power) than the pooled test if the population variances are actually equal.  \n",
        "\n",
        "**Rule of Thumb:**  \n",
        "If  \n",
        "$$\n",
        "\\frac{\\text{larger } s^2}{\\text{smaller } s^2} > 3,\n",
        "$$  \n",
        "then  use  Welch's $t$-test; otherwise, the pooled-variance $t$-test is usually **acceptable**."
      ],
      "metadata": {
        "id": "xB-dmHYBlpyF"
      }
    },
    {
      "cell_type": "markdown",
      "source": [
        "### **Connection Between Confidence Intervals and Hypothesis Testing**\n",
        "\n",
        "Confidence intervals (CIs) provide a range of plausible values for a parameter. They are closely linked to hypothesis tests: whether a null hypothesis $H_0$ is rejected at significance level $\\alpha$ can often be inferred from the corresponding CI.\n",
        "\n",
        "**Right-tailed test**  \n",
        "$$\n",
        "H_0: \\theta = \\theta_0 \\\\\n",
        "H_1: \\theta > \\theta_0\n",
        "$$  \n",
        "\n",
        "If $\\theta_0$ lies **below** the $(1-\\alpha) \\times 100\\%$ one-sided right-tailed CI ($\\text{LB}, -\\infty$), we reject $H_0$ at level $\\alpha$.  \n",
        "\n",
        "**Left-tailed test**  \n",
        "$$\n",
        "H_0: \\theta = \\theta_0 \\\\\n",
        "H_1: \\theta < \\theta_0\n",
        "$$  \n",
        "\n",
        "If $\\theta_0$ lies **above** the $(1-\\alpha) \\times 100\\%$ one-sided left-tailed CI ($\\infty, \\text{UB}$), we reject $H_0$ at level $\\alpha$.  \n",
        "\n",
        "**Two-sided (symmetric) test**  \n",
        "$$\n",
        "H_0: \\theta = \\theta_0 \\\\\n",
        "H_1: \\theta \\neq \\theta_0\n",
        "$$  \n",
        "\n",
        "If $\\theta_0$ lies **outside** the $(1-\\alpha) \\times 100\\%$ two-sided CI, we reject $H_0$ at level $\\alpha$.  \n",
        "\n"
      ],
      "metadata": {
        "id": "heLmiA29WYre"
      }
    },
    {
      "cell_type": "markdown",
      "source": [
        "## **Performing `t.test` in R**\n",
        "\n",
        "R provides a built-in function `t.test()` to perform hypothesis testing on means using the Student’s t-distribution. It can handle:\n",
        "\n",
        "- One-sample t-tests\n",
        "- Two-sample t-tests (equal or unequal variance)\n",
        "- Paired-sample t-tests\n",
        "\n",
        "It also handles small-sample confidence intervals on means (Gaussianity assumed).\n",
        "\n"
      ],
      "metadata": {
        "id": "BFQZUQsOnmou"
      }
    },
    {
      "cell_type": "markdown",
      "source": [
        "\n",
        "### **Vector Interface `t.test` - Default Usage**\n",
        "\n",
        "**Usage:**\n",
        "\n",
        "```r\n",
        "t.test(x, y = NULL,\n",
        "       alternative = c(\"two.sided\", \"less\", \"greater\"),\n",
        "       mu = 0,\n",
        "       paired = FALSE,\n",
        "       var.equal = FALSE,\n",
        "       conf.level = 0.95)\n",
        "```\n",
        "\n",
        "**Arguments:**\n",
        "\n",
        "- `x`: numeric vector of data (one-sample or first sample)\n",
        "- `y`: numeric vector of second sample (for two-sample tests)\n",
        "- `mu`: Hypothesised mean for one-sample tests, or hypothesised difference for paired/two-sample tests\n",
        "- `alternative`: `\"two.sided\"` (default), `\"less\"`, `\"greater\"`\n",
        "- `paired`: TRUE for paired-sample test, FALSE for independent samples\n",
        "- `var.equal`: TRUE for pooled-variance two-sample test, FALSE for Welch’s test\n",
        "- `conf.level`: confidence level for interval (default 0.95)\n",
        "\n",
        "#### **Reference Table**\n",
        "| Scenario              | x             | y             | paired | var.equal | mu / difference under H0 |\n",
        "|------------------------|---------------|---------------|--------|-----------|--------------------------|\n",
        "| One-sample             | data          | -             | FALSE  | -         | hypothesised mean        |\n",
        "| Two-sample Pooled      | sample1       | sample2       | FALSE  | TRUE      | hypothesised difference  |\n",
        "| Two-sample Welch's       | sample1       | sample2       | FALSE  | FALSE     | hypothesised difference  |\n",
        "| Paired-sample          | before        | after         | TRUE   | -         | hypothesised mean difference   |\n",
        "\n"
      ],
      "metadata": {
        "id": "s9zSaaNMtVUj"
      }
    },
    {
      "cell_type": "markdown",
      "source": [
        "### **Formula Interface**\n",
        "\n",
        "The `t.test` function also provides a **formula interface**, which is often more convenient when working with `data.frame`s.  \n",
        "\n",
        "- It is still the **same function** as the vector interface, but behaves differently depending on the input type.  \n",
        "- Internally, `t.test` is an **S3 generic** in R, meaning it has different methods depending on whether you pass a numeric vector or a formula.  \n",
        "- This is why we saw the **vector interface** earlier, and now we have the **formula interface**.\n",
        "\n",
        "**Usage:**\n",
        "\n",
        "```r\n",
        "t.test(formula, data,\n",
        "       subset,\n",
        "       na.action,\n",
        "       alternative = c(\"two.sided\", \"less\", \"greater\"),\n",
        "       mu = 0,\n",
        "       paired = FALSE,\n",
        "       var.equal = FALSE,\n",
        "       conf.level = 0.95)\n",
        "```\n",
        "\n",
        "**Arguments:**\n",
        "\n",
        "- `formula`: A formula describing the model, e.g. `response ~ group` for two-sample tests, or `response` for one-sample tests  \n",
        "- `data`: The data frame containing the variables in the formula  \n",
        "- `subset`: Optional logical vector to select a subset of the data  \n",
        "- `na.action`: How to handle missing values (`na.omit` by default)  \n",
        "- `alternative`: `\"two.sided\"` (default), `\"less\"`, or `\"greater\"`  \n",
        "- `mu`: Hypothesised mean for one-sample tests, or hypothesised difference for paired/two-sample tests  \n",
        "- `paired`: `TRUE` for paired-sample test, `FALSE` for independent samples  \n",
        "- `var.equal`: `TRUE` for pooled-variance two-sample test, `FALSE` for Welch’s test  \n",
        "- `conf.level`: Confidence level for the interval (default 0.95)"
      ],
      "metadata": {
        "id": "maatXz5duF9A"
      }
    },
    {
      "cell_type": "markdown",
      "source": [
        "A **`formula`** specifies which column contains the response variable (numeric values) and which column contains the grouping variable (factor).  \n",
        "  - Typical form: `response ~ group`  \n",
        "  - For a one-sample test, you can just use `response` (no grouping variable needed).  \n",
        "- Data should ideally be in **long format**, where one column specifies the measured values, and another column specifies the group/label. This is especially useful for multiple groups.\n"
      ],
      "metadata": {
        "id": "jPKpltSYvPbA"
      }
    },
    {
      "cell_type": "markdown",
      "source": [
        "#### **Reference Table**\n",
        "\n",
        "| Scenario              | Formula                         | paired | var.equal | mu / difference under H0 |\n",
        "|-----------------------|---------------------------------|--------|-----------|--------------------------|\n",
        "| One-sample            | response ~ 1                     | FALSE  | -         | hypothesised mean        |\n",
        "| Two-sample Pooled     | response ~ group, var.equal=TRUE | FALSE  | TRUE      | hypothesised difference  |\n",
        "| Two-sample Welch's    | response ~ group                 | FALSE  | FALSE     | hypothesised difference  |\n",
        "| Paired-sample         | (response_after - response_before) ~ 1 | TRUE   | -         | hypothesised mean difference |\n",
        "\n",
        "\n",
        "\n"
      ],
      "metadata": {
        "id": "rRtMaOlZvfE2"
      }
    },
    {
      "cell_type": "markdown",
      "source": [
        "### **Examples**\n",
        "\n",
        "The `sleep` dataset contains extra hours of sleep gained by 20 patients under two different drugs.\n",
        "\n",
        "Through out this section, we assume a 95% significance level."
      ],
      "metadata": {
        "id": "0i4ebXzBrgj4"
      }
    },
    {
      "cell_type": "code",
      "source": [
        "sleep %>% str()"
      ],
      "metadata": {
        "id": "WoKUKkkYsj4S"
      },
      "execution_count": null,
      "outputs": []
    },
    {
      "cell_type": "markdown",
      "source": [
        "#### **Example 1: One-Sample t-test**\n",
        "\n",
        "Is there any evidence that the average extra sleep (in hours) of the first group different from 1?\n",
        "\n"
      ],
      "metadata": {
        "id": "Y1m3sE2UqJR9"
      }
    },
    {
      "cell_type": "markdown",
      "source": [
        "Let $x_1, \\dots, x_{n_1}$ be the extra sleep hours gained by patients in the group `\"1\"` in the `sleep` dataset. We assume that\n",
        "\n",
        "$$\n",
        "x_1, \\dots, x_{n_1} \\sim \\text{i.i.d. } \\mathcal{N}(\\mu, \\sigma^2)\n",
        "$$\n",
        "\n",
        "We want to test whether there is any evidence that the average extra sleep (in hours) of the first group is different from 1. Formally, the hypotheses are:\n",
        "$$\n",
        "\\begin{align}\n",
        "H_0: \\mu &= 1 \\\\\n",
        "H_1: \\mu &\\neq 1\n",
        "\\end{align}\n",
        "$$\n",
        "\n",
        "Since the sample size is small, a $t$-test might be appropriate here."
      ],
      "metadata": {
        "id": "tCZH2eGRroEV"
      }
    },
    {
      "cell_type": "code",
      "source": [
        "sleep %>% filter(group == \"1\") -> group1\n",
        "group1 %>% str()"
      ],
      "metadata": {
        "id": "zy0ulH_8tBwO"
      },
      "execution_count": null,
      "outputs": []
    },
    {
      "cell_type": "markdown",
      "source": [
        "The following code cells give equivalent `t.test` results."
      ],
      "metadata": {
        "id": "Dj_jSOEywoBQ"
      }
    },
    {
      "cell_type": "code",
      "source": [
        "t.test(group1$extra, mu = 1, alternative = \"two.sided\")"
      ],
      "metadata": {
        "id": "YcNEO5XpwohR"
      },
      "execution_count": null,
      "outputs": []
    },
    {
      "cell_type": "code",
      "source": [
        "t.test(extra~1, data = group1, mu = 1, alternative = \"two.sided\")"
      ],
      "metadata": {
        "id": "gWJqaSRDyFLb"
      },
      "execution_count": null,
      "outputs": []
    },
    {
      "cell_type": "markdown",
      "source": [
        "##### **What Does the Summary from `t.test` Tell Us?**\n",
        "\n",
        "`t.test()` by default generates a **statistical summary**, which includes:\n",
        "\n",
        "- $t$-statistic: the value of the test statistic for the t-test  \n",
        "- Degrees of freedom (df): for the $t$-distribution under the null hypothesis  \n",
        "- p-value: the probability of observing a value as extreme (or more extreme) than the observed test statistic, assuming the null hypothesis is true  \n",
        "  - If the **p-value is smaller than the significance level** $\\alpha$, it is equivalent to rejecting the null hypothesis in the Neyman-Pearson framework. Quite handy, isn't it?\n",
        "\n",
        "- Confidence interval (CI): a plausible range for population mean (by default, a symmetric CI at 95% confidence level).\n",
        "  - If the hypothesised value under `H0` lies **outside** this interval, it corresponds to rejecting `H0` at the same significance level. **This is a nice connection between confidence interval and hypothesis testing**.\n",
        "\n",
        "**Note that we have not spent a great deal of time talking about p-values in this unit (yet).** To make a decision (whether or not to reject the null hypothesis), we may need to check whether or not the $t$ test statistics in in the rejection region. You can save the `t.test` output to a variable and then use that to extract quantities of interest.\n",
        "\n",
        "\n",
        "\n"
      ],
      "metadata": {
        "id": "9QeUPFYNyLxB"
      }
    },
    {
      "cell_type": "code",
      "source": [
        "t.test(group1$extra, mu = 1, alternative = \"two.sided\") -> output\n",
        "output$statistic #test-statistics\n",
        "output$parameter #DF"
      ],
      "metadata": {
        "id": "3vgkBDhH0mpV"
      },
      "execution_count": null,
      "outputs": []
    },
    {
      "cell_type": "markdown",
      "source": [
        "We need to compare the absolute value of the $t$-statistic (as it is a two-sided test) to a critical value.  In this case, the critical value is the 97.5th percentile of the Student’s t-distribution with 9 degrees of freedom.  \n",
        "\n",
        "If the absolute value of the t-statistic exceeds this critical value, we reject the null hypothesis at the 95% significance level.\n"
      ],
      "metadata": {
        "id": "-_i8hIBA1QlJ"
      }
    },
    {
      "cell_type": "code",
      "source": [
        "abs(output$statistic) > qt(0.975, df = 9)\n",
        "#Do not reject the null hypothesis"
      ],
      "metadata": {
        "id": "9tO0xpCH1P44"
      },
      "execution_count": null,
      "outputs": []
    },
    {
      "cell_type": "markdown",
      "source": [
        "#### **Is The Gaussian Assumption Valid?**"
      ],
      "metadata": {
        "id": "u0K0JFIu5Apx"
      }
    },
    {
      "cell_type": "markdown",
      "source": [
        "We can use `qqplot` to check the **validity of the Gaussian assumption**. (There are formal tests for normality, but these are out of the scope of this unit.)  \n",
        "\n",
        "However, this approach is not perfect, especially with small sample sizes (here, n = 10). Looking at the QQ-plot below, the points are not perfectly aligned with the theoretical line, but this could simply be due to random variation. In this example, we do **not see any substantially different values**, which would indicate extreme values or outliers (hence, non-Gaussianity).  \n",
        "\n",
        "Reading a QQ-line is more like an **art than a strict rule**. You need to be flexible enough to recognise differences, while considering that small deviations may be due to chance.  \n",
        "\n",
        "To master QQ-plot reading, try different distributions, explore various sample sizes, and observe how point alignment and deviations change. This experience will help you interpret QQ-plots more effectively.\n"
      ],
      "metadata": {
        "id": "ZOYU0-SP5KIR"
      }
    },
    {
      "cell_type": "code",
      "source": [
        "qqnorm(group1$extra)\n",
        "qqline(group1$extra)"
      ],
      "metadata": {
        "id": "U_us7CvH44Ie"
      },
      "execution_count": null,
      "outputs": []
    },
    {
      "cell_type": "markdown",
      "source": [
        "#### **Example 2: Two-Sample t-test**\n",
        "\n",
        "Is there a difference in the mean extra sleep hours between patients taking Drug `\"1\"` and Drug `\"2\"`?\n"
      ],
      "metadata": {
        "id": "9jT54DYa13sg"
      }
    },
    {
      "cell_type": "markdown",
      "source": [
        "Note that the `sleep` dataset is already in the long format, where `extra` is the response variable and `group` shows the labels."
      ],
      "metadata": {
        "id": "Tz07Aj9_2ghd"
      }
    },
    {
      "cell_type": "code",
      "source": [
        "sleep %>% kable()"
      ],
      "metadata": {
        "id": "_lNw1_nX2fGm"
      },
      "execution_count": null,
      "outputs": []
    },
    {
      "cell_type": "markdown",
      "source": [
        "Let $x_1, \\dots, x_{n_1}$ and $y_1, \\dots, y_{n_2}$  be the extra sleep hours gained by patients in the groups `\"1\"` and `\"2\"` in the `sleep` dataset. We assume that\n",
        "\n",
        "$$\n",
        "x_1, \\dots, x_{n_1} \\sim \\text{i.i.d. } \\mathcal{N}(\\mu_1, \\sigma_1^2)\n",
        "$$\n",
        "\n",
        "$$\n",
        "y_1, \\dots, y_{n_2} \\sim \\text{i.i.d. } \\mathcal{N}(\\mu_2, \\sigma_2^2)\n",
        "$$\n",
        "\n",
        "\n",
        "We want to test whether there is any evidence that the average extra sleep hours of the two groups are diffent. Formally, the hypotheses are:\n",
        "$$\n",
        "\\begin{align}\n",
        "H_0: \\mu_1 - \\mu_2 &= 0 \\\\\n",
        "H_1: \\mu_1 - \\mu_2 &\\neq 0\n",
        "\\end{align}\n",
        "$$\n",
        "\n",
        "This is **not a paired sample**, since patients are allocated into two separate groups, and no patient takes both drugs.  It is also reasonable to assume that these two populations are **independent**, at least in this example, where we assume the study is well-signed, but this assumption may not always hold in practice.  \n",
        "\n",
        "*A quick detour from what we are doing…* Various factors can compromise independence, for example:  \n",
        "\n",
        "- If patients know which drug they are taking, their behavior or reporting may be affected (placebo effect, expectations, or bias).  \n",
        "- If there is some systematic way in which patients are assigned to groups, the two samples may not be truly independent.  \n",
        "\n",
        "Always think critically about whether the **independence assumption** is valid for your study.\n"
      ],
      "metadata": {
        "id": "xxdh1Guv2vhG"
      }
    },
    {
      "cell_type": "markdown",
      "source": [
        "***Back to the question***, given the sample sizes, we can use a two-sample t-test. Which one to use? Let's take a look at box plots of `extra` for the two groups."
      ],
      "metadata": {
        "id": "5qpb18zh4dcc"
      }
    },
    {
      "cell_type": "code",
      "source": [
        "sleep %>%\n",
        "  ggplot(aes(x = group, y = extra)) +\n",
        "  geom_boxplot()"
      ],
      "metadata": {
        "id": "xlpVrFIH6m1h"
      },
      "execution_count": null,
      "outputs": []
    },
    {
      "cell_type": "markdown",
      "source": [
        "Group 2 seems to have a higher average of extra hours of sleep, and the IQR appears to be roughly double that of group 1. There do not seem to be any outliers in either group.  The median in group 2 appears to be slightly shifted towards the 25% quantile, which could suggest non-Gaussianity.\n",
        "\n",
        "However, these might also be due to random variation, especially since the sample size for each group is quite small. We can also check the **rule of thumb** discussed earlier to decide whether to use the pooled-variance t-test or Welch's test.\n"
      ],
      "metadata": {
        "id": "ULnvJY1d65YP"
      }
    },
    {
      "cell_type": "code",
      "source": [
        "sleep %>%\n",
        "  group_by(group) %>%\n",
        "  summarise(smpl_var = var(extra)) -> group_vars\n",
        "\n",
        "group_vars\n",
        "\n",
        "group_vars %>% pull(smpl_var) %>% max / group_vars %>% pull(smpl_var) %>% min"
      ],
      "metadata": {
        "id": "38DMbfhS7dgN"
      },
      "execution_count": null,
      "outputs": []
    },
    {
      "cell_type": "markdown",
      "source": [
        "As\n",
        "\n",
        "$$\n",
        "\\frac{\\text{larger } s^2}{\\text{smaller } s^2} = \\frac{4.009000}{3.200556} \\approx 1.25 < 3,\n",
        "$$  "
      ],
      "metadata": {
        "id": "wSZOVLSE71KP"
      }
    },
    {
      "cell_type": "markdown",
      "source": [
        "We can use the pooled-variance t-test in this example. The following code cells give the same outputs."
      ],
      "metadata": {
        "id": "xt1uWMo78udY"
      }
    },
    {
      "cell_type": "code",
      "source": [
        "t.test(x = sleep %>% filter(group == \"1\") %>% pull(extra),\n",
        "       y = sleep %>% filter(group == \"2\") %>% pull(extra),\n",
        "       mu = 0, alternative = \"two.sided\", var.equal = TRUE)"
      ],
      "metadata": {
        "id": "VU4Hgk5J9Ecb"
      },
      "execution_count": null,
      "outputs": []
    },
    {
      "cell_type": "markdown",
      "source": [
        "Here, the p-value suggests there is no evidence to reject $H_0$ at the $\\alpha = 0.05$ significance level. We can also compare the absolute value of test statistic (two-sided test) to  the 97.5th percentile of the Student’s t-distribution with 18 degrees of freedom (10 + 10 - 2)."
      ],
      "metadata": {
        "id": "_kkl6BBl9fp2"
      }
    },
    {
      "cell_type": "code",
      "source": [
        "t.test(extra ~ group, data = sleep, mu = 0, alternative = \"two.sided\", var.equal = TRUE) -> output\n",
        "abs(output$statistic) > qt(0.975, df = 18)\n",
        "# Do not reject the null hypothesis"
      ],
      "metadata": {
        "id": "2YOFzNcn83k_"
      },
      "execution_count": null,
      "outputs": []
    },
    {
      "cell_type": "markdown",
      "source": [
        "### **Exercise**\n",
        "\n",
        "Is there a difference in the mean extra sleep hours between patients taking Drug \"1\" and Drug \"2\"?  \n",
        "\n",
        "Perform a **Welch’s t-test** to test this hypothesis using `t.test` function and compare the results to the previous two-sample t-test obtained using the pooled variance.\n"
      ],
      "metadata": {
        "id": "zPJuc4Jx-qWi"
      }
    },
    {
      "cell_type": "code",
      "source": [],
      "metadata": {
        "id": "FDazCOR6_BAe"
      },
      "execution_count": null,
      "outputs": []
    },
    {
      "cell_type": "markdown",
      "source": [
        "\n",
        "\n",
        "<details>\n",
        "<summary>▶️ Click to show the solution</summary>\n",
        "\n",
        "```r\n",
        "t.test(extra ~ group, data = sleep, mu = 0, alternative = \"two.sided\", var.equal = FALSE) -> output\n",
        "output\n",
        "abs(output$statistic) > qt(0.975, df = output$parameter)\n",
        "#Do not reject the null hypothesis\n",
        "```\n",
        "\n",
        "</details>\n"
      ],
      "metadata": {
        "id": "Y4zCIevz_JGt"
      }
    },
    {
      "cell_type": "markdown",
      "source": [
        "## **The T Statistical Table**\n",
        "\n"
      ],
      "metadata": {
        "id": "IeNS-OHIA4uK"
      }
    },
    {
      "cell_type": "markdown",
      "source": [
        "This table shows the critical t-values for the Student’s t-distribution at various degrees of freedom (df) and significance levels ($\\alpha$). Historically, such tables were used in textbooks and labs before computers to quickly determine whether a t-statistic was extreme enough to reject the null hypothesis.  \n",
        "\n",
        "Mathematically, each value corresponds to a quantile of the cumulative distribution function (CDF) of the $t$-distribution. For example, the entry for df = 10 and $\\alpha = 0.05$ is the 95th percentile of the t-distribution with 10 degrees of freedom, which is the critical value for a **one-sided right-tailed test at the 5% significance level**, or equivalently, for a **two-sided test at the 10% significance level**.\n",
        "\n",
        "This allows you to compare your observed t-statistic directly to the table value to decide whether to reject the null hypothesis.\n",
        "\n",
        "**VERY IMPORTANT:** Note that variations of t-statistic tables exist. Some show **two-sided critical values** ($1 - \\alpha/2$ quantile), some show **one-sided critical values** ($1 - \\alpha$ quantile), and some show both. Be careful when using these tables, know which convention is being used, and ask for clarification if it is unclear.\n",
        "\n",
        "**Note**: This table only shows integer $\\nu$. If a fractional number of degrees of freedom is encountered (as in Welch’s test), take the floor value.\n",
        "\n",
        "**UPDATE: YOU WON'T NEED TO USE ANY STATISTICAL TABLES IN THE FINAL EXAM**"
      ],
      "metadata": {
        "id": "smIDFWIVBVVy"
      }
    },
    {
      "cell_type": "code",
      "source": [
        "generateTTable()"
      ],
      "metadata": {
        "id": "bjUL55ALA_cE"
      },
      "execution_count": null,
      "outputs": []
    },
    {
      "cell_type": "markdown",
      "source": [
        "## **Workshop Questions**\n",
        "\n",
        "\n"
      ],
      "metadata": {
        "id": "u7rOC3o-fyix"
      }
    },
    {
      "cell_type": "markdown",
      "source": [
        "### **Question 1: Which t-test to Use?**\n",
        "\n",
        "For each of the following scenarios, decide which type of t-test should be used (one-sample, two-sample pooled, Welch’s, or paired-sample) and explain your reasoning.\n",
        "\n",
        "**Scenarios:**\n",
        "\n",
        "1. Measure the heart rate of participants before and after swimming.\n",
        "\n",
        "2. A factory claims that the average weight of cereal boxes is 500 grams. You collect a sample of boxes and measure their weights.\n",
        "\n",
        "3. Compare math test scores between students taught with method A and students taught with method B.\n",
        "\n",
        "4. Compare math test scores of students who take both specialist maths and regular maths.\n",
        "\n",
        "5.  Measure the heart rate of participants after drinking Coffee 1. One week later, the same participants drink Coffee 2 and their heart rate is measured again. Compare the heart rates between the two types of coffee.\n",
        "\n",
        "\n"
      ],
      "metadata": {
        "id": "4wYH11rnDo-3"
      }
    },
    {
      "cell_type": "markdown",
      "source": [
        "\n",
        "\n",
        "<details>\n",
        "<summary>▶️ Click to show the solution</summary>\n",
        "\n",
        "Solution will be released at the end of the week!\n",
        "\n",
        "\n",
        "\n",
        "</details>\n"
      ],
      "metadata": {
        "id": "AP_M9uobFwQu"
      }
    },
    {
      "cell_type": "markdown",
      "source": [
        "### **Question 2**\n",
        "\n",
        "A geologist collected twenty ore samples and randomly divided them into two separate groups. They then used two different techniques to measure the amount of titanium present in the samples. The data are:"
      ],
      "metadata": {
        "id": "gMPkgJnVhLdq"
      }
    },
    {
      "cell_type": "code",
      "source": [
        "group1 = c(0.011,0.013,0.013,0.015,0.014,0.013,0.010,0.013,0.011,0.012)\n",
        "group2 = c(0.008,0.018,0.015,0.017,0.017,0.012,0.012,0.015,0.016,0.016)"
      ],
      "metadata": {
        "id": "lTezwUg3hPf8"
      },
      "execution_count": null,
      "outputs": []
    },
    {
      "cell_type": "markdown",
      "source": [
        "Perform hypothesis testing to evaluate whether these two methods of taking measurements are equivalent. Now multiply the measurements by 1000, do you expect your test results to be any different? Repeat the test and compare the results. Use $\\alpha = 0.05$."
      ],
      "metadata": {
        "id": "dR7bHaUCJnMO"
      }
    },
    {
      "cell_type": "markdown",
      "source": [
        "\n",
        "\n",
        "<details>\n",
        "<summary>▶️ Click to show the solution</summary>\n",
        "\n",
        "Solution will be released at the end of the week!\n",
        "\n",
        "</details>\n"
      ],
      "metadata": {
        "id": "SQWkPh9bKqvN"
      }
    },
    {
      "cell_type": "markdown",
      "source": [
        "### **Question 3: Oh no!!!**\n",
        "\n",
        "\n",
        "Oh no!!! The geologist in **Question 2** realises they made a mistake: each element of the same rock was measured using two different instruments (`group1` and `group2`). Given this new information, perform hypothesis testing to evaluate whether these two methods of taking measurements are equivalent. Use $\\alpha = 0.05$."
      ],
      "metadata": {
        "id": "yfdqw6zLLOiH"
      }
    },
    {
      "cell_type": "code",
      "source": [
        "group1 = c(0.011,0.013,0.013,0.015,0.014,0.013,0.010,0.013,0.011,0.012)\n",
        "group2 = c(0.008,0.018,0.015,0.017,0.017,0.012,0.012,0.015,0.016,0.016)"
      ],
      "metadata": {
        "id": "jYkgeKRQMWrX"
      },
      "execution_count": null,
      "outputs": []
    },
    {
      "cell_type": "markdown",
      "source": [
        "\n",
        "\n",
        "<details>\n",
        "<summary>▶️ Click to show the solution</summary>\n",
        "\n",
        "\n",
        "Solution will be released at the end of the week!\n",
        "</details>\n"
      ],
      "metadata": {
        "id": "mpBhw7SCMW8l"
      }
    },
    {
      "cell_type": "markdown",
      "source": [
        "### **Question 4**\n",
        "\n",
        "\n",
        "Consider the data on weights (in grams) of packages of mince, is there any evidence that the average weight of a package of mince is less than 500g, assuming a Type 1 error of $0.01$?"
      ],
      "metadata": {
        "id": "yQkVU9dMPPSs"
      }
    },
    {
      "cell_type": "code",
      "source": [
        "smpl_data = c(490.32, 449.46, 440.38, 535.72, 640.14, 581.12, 376.82, 481.24, 517.56, 626.52, 340.50, 435.84,490.32, 394.98, 404.06, 404.06, 435.84, 508.48, 508.48, 422.22, 562.96, 404.06, 517.56, 417.68, 535.72, 531.18)"
      ],
      "metadata": {
        "id": "ePZqiGNyQOOh"
      },
      "execution_count": null,
      "outputs": []
    },
    {
      "cell_type": "markdown",
      "source": [
        "\n",
        "\n",
        "<details>\n",
        "<summary>▶️ Click to show the solution</summary>\n",
        "\n",
        "Solution will be released at the end of the week!\n",
        "</details>\n"
      ],
      "metadata": {
        "id": "AZ1I7HCPQcqw"
      }
    },
    {
      "cell_type": "markdown",
      "source": [
        "### **Question 5**\n",
        "\n",
        "The classical $t$-test assumes that the data are normally distributed. In practice, this assumption often does not hold, which can substantially affect the Type I error rate (the probability of incorrectly rejecting a true null hypothesis).\n",
        "\n",
        "Suppose we generate 10 independent observations from an exponential distribution with rate parameter $\\lambda = \\frac{1}{2}$. The expected value of this exponential random variable is $\\frac{1}{\\lambda} = 2$.\n",
        "\n",
        "We want to test:\n",
        "\n",
        "$$\n",
        "\\begin{align}\n",
        "H_0: \\mu &= 2 \\text{ (the true mean)}\\\\\n",
        "H_1: \\mu &\\neq 2 \\\\\n",
        "\\end{align}\n",
        "$$\n",
        "\n",
        "At a 95% significance level, if the $t$-test worked perfectly, we would expect the Type I error rate to be exactly 0.05."
      ],
      "metadata": {
        "id": "KpI0smWFZ6M8"
      }
    },
    {
      "cell_type": "markdown",
      "source": [
        "#### **Question 5.1**\n",
        "\n",
        "At a 95% significance level, repeat this process many times (e.g., 10,000 repetitions) to estimate the empirical Type I error rate."
      ],
      "metadata": {
        "id": "kO-AjXDRbbdM"
      }
    },
    {
      "cell_type": "code",
      "source": [
        "smpl_data = rexp(10, rate = 2)\n",
        "conf.int = t.test(smpl_data, mu = 2)$conf.int\n",
        "conf.int[1] < 2 & 2 < conf.int[2]"
      ],
      "metadata": {
        "id": "bo4oELuzaKF1"
      },
      "execution_count": null,
      "outputs": []
    },
    {
      "cell_type": "markdown",
      "source": [
        "\n",
        "<details>\n",
        "<summary>▶️ Click to show the solution</summary>\n",
        "\n",
        "Solution will be released at the end of the week!\n",
        "</details>"
      ],
      "metadata": {
        "id": "1viKxEYCc3Ku"
      }
    },
    {
      "cell_type": "markdown",
      "source": [
        "#### **Question 5.2**\n",
        "\n",
        "Repeat the simulation from **Question 5.1**, but now generate 10 observations from a Poisson distribution with $\\lambda = 20$ and estimate the Type I error of the one-sample $t$-test at the 95% significance level. Compare the estimated Type I error to the one obtained before and explain the difference.\n",
        "\n",
        "**Hint**: Examine the histograms of large samples from these two distributions to see their approximate shapes."
      ],
      "metadata": {
        "id": "1Tv5zhLWdF4B"
      }
    },
    {
      "cell_type": "code",
      "source": [],
      "metadata": {
        "id": "VJl1VZR5eaOK"
      },
      "execution_count": null,
      "outputs": []
    },
    {
      "cell_type": "markdown",
      "source": [
        "\n",
        "<details>\n",
        "<summary>▶️ Click to show the solution</summary>\n",
        "Solution will be released at the end of the week!\n",
        "\n",
        "</details>"
      ],
      "metadata": {
        "id": "iRVX-RznecmQ"
      }
    }
  ]
}