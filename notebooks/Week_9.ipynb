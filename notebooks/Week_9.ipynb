{
  "nbformat": 4,
  "nbformat_minor": 0,
  "metadata": {
    "colab": {
      "provenance": []
    },
    "kernelspec": {
      "name": "ir",
      "display_name": "R"
    },
    "language_info": {
      "name": "R"
    }
  },
  "cells": [
    {
      "cell_type": "markdown",
      "source": [
        "# **Week 9: Small Sample Inference - Hypothesis Testing**\n",
        "\n",
        "```\n",
        ".------------------------------------.\n",
        "|   __  ____  ______  _  ___ _____   |\n",
        "|  |  \\/  \\ \\/ / __ )/ |/ _ \\___  |  |\n",
        "|  | |\\/| |\\  /|  _ \\| | | | | / /   |\n",
        "|  | |  | |/  \\| |_) | | |_| |/ /    |\n",
        "|  |_|  |_/_/\\_\\____/|_|\\___//_/     |\n",
        "'------------------------------------'\n",
        "\n",
        "```"
      ],
      "metadata": {
        "id": "ZtpJJ8BSHOaK"
      }
    },
    {
      "cell_type": "markdown",
      "source": [
        "Through the following examples, we will explore the concepts of (small-sample) hypothesis testing (SSHT) and examine their practical implications.\n"
      ],
      "metadata": {
        "id": "nJN_EjsDJ5My"
      }
    },
    {
      "cell_type": "markdown",
      "source": [
        "## **Pre-Configurating the Notebook**"
      ],
      "metadata": {
        "id": "qJMHamzBgYY4"
      }
    },
    {
      "cell_type": "markdown",
      "source": [
        "### **Switching to the R Kernel on Colab**\n",
        "\n",
        "By default, Google Colab uses Python as its programming language. To use R instead, you’ll need to manually switch the kernel by going to **Runtime > Change runtime type**, and selecting R as the kernel. This allows you to run R code in the Colab environment.\n",
        "\n",
        "However, our notebook is already configured to use R by default. Unless something goes wrong, you shouldn’t need to manually change runtime type."
      ],
      "metadata": {
        "id": "RYNbU2mDgjJZ"
      }
    },
    {
      "cell_type": "markdown",
      "source": [
        "### **Importing Required Packages**\n",
        "**Run the following lines of code**:"
      ],
      "metadata": {
        "id": "Sh6s1ChmglUe"
      }
    },
    {
      "cell_type": "code",
      "source": [
        "#Do not modify\n",
        "\n",
        "setwd(\"/content\")\n",
        "\n",
        "# Remove `MXB107-Notebooks` if exists,\n",
        "if (dir.exists(\"MXB107-Notebooks\")) {\n",
        "  system(\"rm -rf MXB107-Notebooks\")\n",
        "}\n",
        "\n",
        "# Fork the repository\n",
        "system(\"git clone https://github.com/edelweiss611428/MXB107-Notebooks.git\")\n",
        "\n",
        "# Change working directory to \"MXB107-Notebooks\"\n",
        "setwd(\"MXB107-Notebooks\")\n",
        "\n",
        "#\n",
        "invisible(source(\"R/preConfigurated.R\"))"
      ],
      "metadata": {
        "id": "hXjYwRwxgmqZ"
      },
      "execution_count": 74,
      "outputs": []
    },
    {
      "cell_type": "markdown",
      "source": [
        "**Do not modify the following**"
      ],
      "metadata": {
        "id": "0xU1keysgotb"
      }
    },
    {
      "cell_type": "code",
      "source": [
        "if (!require(\"testthat\")) install.packages(\"testthat\"); library(\"testthat\")\n",
        "\n",
        "test_that(\"Test if all packages have been loaded\", {\n",
        "\n",
        "  expect_true(all(c(\"ggplot2\", \"tidyr\", \"dplyr\", \"stringr\", \"magrittr\", \"knitr\") %in% loadedNamespaces()))\n",
        "\n",
        "})"
      ],
      "metadata": {
        "colab": {
          "base_uri": "https://localhost:8080/"
        },
        "id": "VkOd7qZXgqr8",
        "outputId": "b67ffe66-c14d-4745-f179-4380e17e71b3"
      },
      "execution_count": 75,
      "outputs": [
        {
          "output_type": "stream",
          "name": "stdout",
          "text": [
            "\u001b[32mTest passed\u001b[39m 🎉\n"
          ]
        }
      ]
    },
    {
      "cell_type": "markdown",
      "source": [
        "## **Reference Tables for SSHT for Sample Means**"
      ],
      "metadata": {
        "id": "1WJSiLcxqAjt"
      }
    },
    {
      "cell_type": "markdown",
      "source": [
        "| Scenario | Parameter | Null hypothesis | Test statistic (t) | Degrees of freedom ($\\nu$) under $H_0$ |\n",
        "|----------|-----------|-----------------|--------------------|--------------------------------|\n",
        "| 1, One-sample mean | $\\mu$ | $\\mu = \\mu_0$ | $t = \\dfrac{\\bar{x} - \\mu_0}{s / \\sqrt{n}}$ | $n - 1$ |\n",
        "| 2, Paired sample (dependent) | $\\mu_D$ (mean difference) | $\\mu_D = d_0$ | $t = \\dfrac{\\bar{d} - d_0}{s_d / \\sqrt{n}}$ | $n - 1$ |\n",
        "| 3, Two-sample mean, equal variances (pooled) | $\\mu_1 - \\mu_2$ | $\\mu_1 - \\mu_2 = d$ | $s_p^2 = \\frac{(n_1-1)s_1^2 + (n_2-1)s_2^2}{n_1+n_2-2}$. <br> $t = \\dfrac{\\bar{x}_1 - \\bar{x}_2 - d}{s_p \\sqrt{\\tfrac{1}{n_1} + \\tfrac{1}{n_2}}}$ | $n_1 + n_2 - 2$ |\n",
        "| 4, Two-sample mean, unequal variances (Welch's) | $\\mu_1 - \\mu_2$ | $\\mu_1 - \\mu_2 = d$ | $t = \\dfrac{\\bar{x}_1 - \\bar{x}_2 - d}{\\sqrt{\\tfrac{s_1^2}{n_1} + \\tfrac{s_2^2}{n_2}}}$ | $\\dfrac{\\big(\\tfrac{s_1^2}{n_1} + \\tfrac{s_2^2}{n_2}\\big)^2}{\\tfrac{s_1^4}{n_1^2(n_1-1)} + \\tfrac{s_2^4}{n_2^2(n_2-1)}}$ | |\n",
        "\n",
        "\n",
        "\n",
        "Assuming that data are i.i.d. generated from a Gaussian distribution (two dependent Gaussians for scenario 2; and two **independent** Gaussians for scenario 3 and 4), under the null hypothesis, the $t$ test statistics in the reference tables are approximately distributed as a Student's $T$ distribution with a number of degrees of freedom specified in the reference table. This implies a significant deviation from Gaussianity might weaken the tests (especially when data are heavily skewed or contain outliers).\n",
        "\n",
        "These $t$ tests are particularly useful when sample sizes are small, since the heavier tails of the $t$ distribution provide more accurate critical values. For large samples, however, the $T$ distribution converges to the standard normal distribution, and the tests reduce to the $z$-tests considered earlier in LSHT. Usually, n > 30 is sufficient.\n",
        "\n",
        "Any substantial deviation from the null hypothesis will tend to produce $t$ values that are unlikely under these $T$ distributions, which is why extreme values of $t$ provide evidence against $H_0$.\n",
        "\n",
        "| Test Type | Alternative Hypothesis | Rejection Region |\n",
        "|-----------|----------------------|----------------|\n",
        "| One-sided (right) | $H_1: \\theta > \\theta_0$ | Reject $H_0$ if $t > t_{\\nu\n",
        "  , 1-\\alpha}$ |\n",
        "| One-sided (left) | $H_1: \\theta < \\theta_0$ | Reject $H_0$ if $t < t_{\\nu, \\alpha}$ |\n",
        "| Two-sided | $H_1: \\theta \\neq \\theta_0$ | Reject $H_0$ if $|t| > t_{\\nu, 1-\\alpha/2}$ |\n",
        "\n",
        "Even though any deviation from $H_0$ can provide evidence against it, the choice between a one-sided and a two-sided test depends on our research goal and the direction of interest.\n",
        "\n",
        "If we specifically care about deviations in one direction — for example, testing whether the average battery life is less than 8 hours — an one-sided test is appropriate. Allocating all of the Type I error $\\alpha$ to that direction increases the test’s ability to detect deviations that matter in practice.\n",
        "\n",
        "On the other hand, if deviations in either direction are meaningful — for instance, testing whether the average rating of a show differs from 7.7, whether higher or lower — a two-sided test is necessary. Splitting $\\alpha$ between both tails ensures we properly account for evidence against $H_0$ in either direction.\n",
        "\n",
        "\n",
        "#### **Reference Table for Small Sample Confidence Intervals**\n",
        "| Scenario | Parameter | Confidence Interval (CI) | Degrees of freedom ($\\nu$) |\n",
        "|----------|-----------|--------------------------|---------------------------|\n",
        "| 1, One-sample mean | $\\mu$ | $\\bar{x} \\pm t_{\\nu, 1-\\alpha/2} \\frac{s}{\\sqrt{n}}$ | $n - 1$ |\n",
        "| 2, Paired sample (dependent) | $\\mu_D$ (mean difference) | $\\bar{d} \\pm t_{\\nu, 1-\\alpha/2} \\frac{s_d}{\\sqrt{n}}$ | $n - 1$ |\n",
        "| 3, Two-sample mean, equal variances (pooled) | $\\mu_1 - \\mu_2$ | $(\\bar{x}_1 - \\bar{x}_2) \\pm t_{\\nu, 1-\\alpha/2} \\cdot s_p \\sqrt{\\frac{1}{n_1} + \\frac{1}{n_2}}$ <br> where $s_p^2 = \\frac{(n_1-1)s_1^2 + (n_2-1)s_2^2}{n_1+n_2-2}$| $n_1 + n_2 - 2$ |\n",
        "| 4, Two-sample mean, unequal variances (Welch's) | $\\mu_1 - \\mu_2$ | $(\\bar{x}_1 - \\bar{x}_2) \\pm t_{\\nu, 1-\\alpha/2} \\sqrt{\\frac{s_1^2}{n_1} + \\frac{s_2^2}{n_2}}$ | $\\dfrac{(\\frac{s_1^2}{n_1} + \\frac{s_2^2}{n_2})^2}{\\frac{s_1^4}{n_1^2(n_1-1)} + \\frac{s_2^4}{n_2^2(n_2-1)}}$ |\n",
        "\n"
      ],
      "metadata": {
        "id": "KkwOCy-Xo3Xp"
      }
    },
    {
      "cell_type": "markdown",
      "source": [
        "##**When to Use The Welsch's $t$-test?**\n",
        "\n",
        "\n",
        "Welch's $t$-test is more robust than the pooled-variance two-sample $t$-test because it does not assume equal population variances. It should be used when the two samples are independent and there is evidence that the variances differ.\n",
        "\n",
        "- **Advantage:** Handles unequal variances and sample sizes reliably.  \n",
        "- **Disadvantage:** Slightly less efficient (less power) than the pooled test if the population variances are actually equal.  \n",
        "\n",
        "**Rule of Thumb:**  \n",
        "If  \n",
        "$$\n",
        "\\frac{\\text{larger } s^2}{\\text{smaller } s^2} > 3,\n",
        "$$  \n",
        "then  use  Welch's $t$-test; otherwise, the pooled-variance $t$-test is usually **acceptable**."
      ],
      "metadata": {
        "id": "xB-dmHYBlpyF"
      }
    },
    {
      "cell_type": "markdown",
      "source": [
        "## **Performing `t.test` in R**\n",
        "\n",
        "R provides a built-in function `t.test()` to perform hypothesis testing on means using the Student’s t-distribution. It can handle:\n",
        "\n",
        "- One-sample t-tests\n",
        "- Two-sample t-tests (equal or unequal variance)\n",
        "- Paired-sample t-tests\n",
        "\n",
        "It also handles small-sample confidence intervals on means (Gaussianity assumed).\n",
        "\n"
      ],
      "metadata": {
        "id": "BFQZUQsOnmou"
      }
    },
    {
      "cell_type": "markdown",
      "source": [
        "\n",
        "### **Vector Interface `t.test` - Default Usage**\n",
        "\n",
        "**Usage:**\n",
        "\n",
        "```r\n",
        "t.test(x, y = NULL,\n",
        "       alternative = c(\"two.sided\", \"less\", \"greater\"),\n",
        "       mu = 0,\n",
        "       paired = FALSE,\n",
        "       var.equal = FALSE,\n",
        "       conf.level = 0.95)\n",
        "```\n",
        "\n",
        "**Arguments:**\n",
        "\n",
        "- `x`: numeric vector of data (one-sample or first sample)\n",
        "- `y`: numeric vector of second sample (for two-sample tests)\n",
        "- `mu`: Hypothesised mean for one-sample tests, or hypothesised difference for paired/two-sample tests\n",
        "- `alternative`: `\"two.sided\"` (default), `\"less\"`, `\"greater\"`\n",
        "- `paired`: TRUE for paired-sample test, FALSE for independent samples\n",
        "- `var.equal`: TRUE for pooled-variance two-sample test, FALSE for Welch’s test\n",
        "- `conf.level`: confidence level for interval (default 0.95)\n",
        "\n",
        "#### **Reference Table**\n",
        "| Scenario              | x             | y             | paired | var.equal | mu / difference under H0 |\n",
        "|------------------------|---------------|---------------|--------|-----------|--------------------------|\n",
        "| One-sample             | data          | -             | FALSE  | -         | hypothesised mean        |\n",
        "| Two-sample Pooled      | sample1       | sample2       | FALSE  | TRUE      | hypothesised difference  |\n",
        "| Two-sample Welch's       | sample1       | sample2       | FALSE  | FALSE     | hypothesised difference  |\n",
        "| Paired-sample          | before        | after         | TRUE   | -         | hypothesised mean difference   |\n",
        "\n"
      ],
      "metadata": {
        "id": "s9zSaaNMtVUj"
      }
    },
    {
      "cell_type": "markdown",
      "source": [
        "### **Formula Interface**\n",
        "\n",
        "The `t.test` function also provides a **formula interface**, which is often more convenient when working with `data.frame`s.  \n",
        "\n",
        "- It is still the **same function** as the vector interface, but behaves differently depending on the input type.  \n",
        "- Internally, `t.test` is an **S3 generic** in R, meaning it has different methods depending on whether you pass a numeric vector or a formula.  \n",
        "- This is why we saw the **vector interface** earlier, and now we have the **formula interface**.\n",
        "\n",
        "**Usage:**\n",
        "\n",
        "```r\n",
        "t.test(formula, data,\n",
        "       subset,\n",
        "       na.action,\n",
        "       alternative = c(\"two.sided\", \"less\", \"greater\"),\n",
        "       mu = 0,\n",
        "       paired = FALSE,\n",
        "       var.equal = FALSE,\n",
        "       conf.level = 0.95)\n",
        "```\n",
        "\n",
        "**Arguments:**\n",
        "\n",
        "- `formula`: A formula describing the model, e.g. `response ~ group` for two-sample tests, or `response` for one-sample tests  \n",
        "- `data`: The data frame containing the variables in the formula  \n",
        "- `subset`: Optional logical vector to select a subset of the data  \n",
        "- `na.action`: How to handle missing values (`na.omit` by default)  \n",
        "- `alternative`: `\"two.sided\"` (default), `\"less\"`, or `\"greater\"`  \n",
        "- `mu`: Hypothesised mean for one-sample tests, or hypothesised difference for paired/two-sample tests  \n",
        "- `paired`: `TRUE` for paired-sample test, `FALSE` for independent samples  \n",
        "- `var.equal`: `TRUE` for pooled-variance two-sample test, `FALSE` for Welch’s test  \n",
        "- `conf.level`: Confidence level for the interval (default 0.95)"
      ],
      "metadata": {
        "id": "maatXz5duF9A"
      }
    },
    {
      "cell_type": "markdown",
      "source": [
        "A **`formula`** specifies which column contains the response variable (numeric values) and which column contains the grouping variable (factor).  \n",
        "  - Typical form: `response ~ group`  \n",
        "  - For a one-sample test, you can just use `response` (no grouping variable needed).  \n",
        "- Data should ideally be in **long format**, where one column specifies the measured values, and another column specifies the group/label. This is especially useful for multiple groups.\n"
      ],
      "metadata": {
        "id": "jPKpltSYvPbA"
      }
    },
    {
      "cell_type": "markdown",
      "source": [
        "#### **Reference Table**\n",
        "\n",
        "| Scenario              | Formula                         | paired | var.equal | mu / difference under H0 |\n",
        "|-----------------------|---------------------------------|--------|-----------|--------------------------|\n",
        "| One-sample            | response ~ 1                     | FALSE  | -         | hypothesised mean        |\n",
        "| Two-sample Pooled     | response ~ group, var.equal=TRUE | FALSE  | TRUE      | hypothesised difference  |\n",
        "| Two-sample Welch's    | response ~ group                 | FALSE  | FALSE     | hypothesised difference  |\n",
        "| Paired-sample         | (response_after - response_before) ~ 1 | TRUE   | -         | hypothesised mean difference |\n",
        "\n",
        "\n",
        "\n"
      ],
      "metadata": {
        "id": "rRtMaOlZvfE2"
      }
    },
    {
      "cell_type": "markdown",
      "source": [
        "### **Examples**\n",
        "\n",
        "The `sleep` dataset contains extra hours of sleep gained by 20 patients under two different drugs.\n",
        "\n",
        "Through out this section, we assume a 95% significance level."
      ],
      "metadata": {
        "id": "0i4ebXzBrgj4"
      }
    },
    {
      "cell_type": "code",
      "source": [
        "sleep %>% str()"
      ],
      "metadata": {
        "colab": {
          "base_uri": "https://localhost:8080/"
        },
        "id": "WoKUKkkYsj4S",
        "outputId": "9243ec37-1af0-4015-ad2b-a2af76350dd6"
      },
      "execution_count": 76,
      "outputs": [
        {
          "output_type": "stream",
          "name": "stdout",
          "text": [
            "'data.frame':\t20 obs. of  3 variables:\n",
            " $ extra: num  0.7 -1.6 -0.2 -1.2 -0.1 3.4 3.7 0.8 0 2 ...\n",
            " $ group: Factor w/ 2 levels \"1\",\"2\": 1 1 1 1 1 1 1 1 1 1 ...\n",
            " $ ID   : Factor w/ 10 levels \"1\",\"2\",\"3\",\"4\",..: 1 2 3 4 5 6 7 8 9 10 ...\n"
          ]
        }
      ]
    },
    {
      "cell_type": "markdown",
      "source": [
        "#### **Example 1: One-Sample t-test**\n",
        "\n",
        "Is there any evidence that the average extra sleep (in hours) of the first group different from 1?\n",
        "\n"
      ],
      "metadata": {
        "id": "Y1m3sE2UqJR9"
      }
    },
    {
      "cell_type": "markdown",
      "source": [
        "Let $x_1, \\dots, x_{n_1}$ be the extra sleep hours gained by patients in the group `\"1\"` in the `sleep` dataset. We assume that\n",
        "\n",
        "$$\n",
        "x_1, \\dots, x_{n_1} \\sim \\text{i.i.d. } \\mathcal{N}(\\mu, \\sigma^2)\n",
        "$$\n",
        "\n",
        "We want to test whether there is any evidence that the average extra sleep (in hours) of the first group is different from 1. Formally, the hypotheses are:\n",
        "$$\n",
        "\\begin{align}\n",
        "H_0: \\mu &= 1 \\\\\n",
        "H_1: \\mu &\\neq 1\n",
        "\\end{align}\n",
        "$$\n",
        "\n",
        "Since the sample size is small, a $t$-test might be appropriate here."
      ],
      "metadata": {
        "id": "tCZH2eGRroEV"
      }
    },
    {
      "cell_type": "code",
      "source": [
        "sleep %>% filter(group == \"1\") -> group1\n",
        "group1 %>% str()"
      ],
      "metadata": {
        "colab": {
          "base_uri": "https://localhost:8080/"
        },
        "id": "zy0ulH_8tBwO",
        "outputId": "faa87cd2-5648-414f-f701-f8a8d588f075"
      },
      "execution_count": 77,
      "outputs": [
        {
          "output_type": "stream",
          "name": "stdout",
          "text": [
            "'data.frame':\t10 obs. of  3 variables:\n",
            " $ extra: num  0.7 -1.6 -0.2 -1.2 -0.1 3.4 3.7 0.8 0 2\n",
            " $ group: Factor w/ 2 levels \"1\",\"2\": 1 1 1 1 1 1 1 1 1 1\n",
            " $ ID   : Factor w/ 10 levels \"1\",\"2\",\"3\",\"4\",..: 1 2 3 4 5 6 7 8 9 10\n"
          ]
        }
      ]
    },
    {
      "cell_type": "markdown",
      "source": [
        "The following code cells give equivalent `t.test` results."
      ],
      "metadata": {
        "id": "Dj_jSOEywoBQ"
      }
    },
    {
      "cell_type": "code",
      "source": [
        "t.test(group1$extra, mu = 1, alternative = \"two.sided\")"
      ],
      "metadata": {
        "colab": {
          "base_uri": "https://localhost:8080/",
          "height": 202
        },
        "id": "YcNEO5XpwohR",
        "outputId": "0cfc3a61-1175-4d27-e5c6-3f844df26e6a"
      },
      "execution_count": 78,
      "outputs": [
        {
          "output_type": "display_data",
          "data": {
            "text/plain": [
              "\n",
              "\tOne Sample t-test\n",
              "\n",
              "data:  group1$extra\n",
              "t = -0.4419, df = 9, p-value = 0.669\n",
              "alternative hypothesis: true mean is not equal to 1\n",
              "95 percent confidence interval:\n",
              " -0.5297804  2.0297804\n",
              "sample estimates:\n",
              "mean of x \n",
              "     0.75 \n"
            ]
          },
          "metadata": {}
        }
      ]
    },
    {
      "cell_type": "code",
      "source": [
        "t.test(extra~1, data = group1, mu = 1, alternative = \"two.sided\")"
      ],
      "metadata": {
        "colab": {
          "base_uri": "https://localhost:8080/",
          "height": 202
        },
        "id": "gWJqaSRDyFLb",
        "outputId": "a5c93d0f-2b52-4bba-ac03-4603fc3bf1fe"
      },
      "execution_count": 79,
      "outputs": [
        {
          "output_type": "display_data",
          "data": {
            "text/plain": [
              "\n",
              "\tOne Sample t-test\n",
              "\n",
              "data:  extra\n",
              "t = -0.4419, df = 9, p-value = 0.669\n",
              "alternative hypothesis: true mean is not equal to 1\n",
              "95 percent confidence interval:\n",
              " -0.5297804  2.0297804\n",
              "sample estimates:\n",
              "mean of x \n",
              "     0.75 \n"
            ]
          },
          "metadata": {}
        }
      ]
    },
    {
      "cell_type": "markdown",
      "source": [
        "##### **What Does the Summary from `t.test` Tell Us?**\n",
        "\n",
        "`t.test()` by default generates a **statistical summary**, which includes:\n",
        "\n",
        "- $t$-statistic: the value of the test statistic for the t-test  \n",
        "- Degrees of freedom (df): for the $t$-distribution under the null hypothesis  \n",
        "- p-value: the probability of observing a value as extreme (or more extreme) than the observed test statistic, assuming the null hypothesis is true  \n",
        "  - If the **p-value is smaller than the significance level** $\\alpha$, it is equivalent to rejecting the null hypothesis in the Neyman-Pearson framework. Quite handy, isn't it.\n",
        "\n",
        "- Confidence interval (CI): a plausible range of for population mean (by default, a symmetric CI at 95% confidence level).\n",
        "  - If the hypothesised value under `H0` lies **outside** this interval, it corresponds to rejecting `H0` at the same significance level. **This is a nice connection between confidence interval and hypothesis testing**.\n",
        "\n",
        "Quite handy, isn't it?  \n",
        "\n",
        "**Note that definition and interpretation of p-values are not covered in this unit (yet).** To make a decision (whether or not to reject the null hypothesis), we may need to check whether or not the $t$ test statistics in in the rejection region. You can save the `t.test` output to a variable and then use that to extract quantities of interest.\n",
        "\n",
        "\n",
        "\n"
      ],
      "metadata": {
        "id": "9QeUPFYNyLxB"
      }
    },
    {
      "cell_type": "code",
      "source": [
        "t.test(group1$extra, mu = 1, alternative = \"two.sided\") -> output\n",
        "output$statistic #test-statistics\n",
        "output$parameter #DF"
      ],
      "metadata": {
        "colab": {
          "base_uri": "https://localhost:8080/",
          "height": 51
        },
        "id": "3vgkBDhH0mpV",
        "outputId": "c18a9400-c33c-41c0-9d1b-4f91e704dbeb"
      },
      "execution_count": 80,
      "outputs": [
        {
          "output_type": "display_data",
          "data": {
            "text/html": [
              "<strong>t:</strong> -0.44190338023794"
            ],
            "text/markdown": "**t:** -0.44190338023794",
            "text/latex": "\\textbf{t:} -0.44190338023794",
            "text/plain": [
              "         t \n",
              "-0.4419034 "
            ]
          },
          "metadata": {}
        },
        {
          "output_type": "display_data",
          "data": {
            "text/html": [
              "<strong>df:</strong> 9"
            ],
            "text/markdown": "**df:** 9",
            "text/latex": "\\textbf{df:} 9",
            "text/plain": [
              "df \n",
              " 9 "
            ]
          },
          "metadata": {}
        }
      ]
    },
    {
      "cell_type": "markdown",
      "source": [
        "We need to compare the absolute value of the $t$-statistic (as it is a two-sided test) to a critical value.  In this case, the critical value is the 97.5th percentile of the Student’s t-distribution with 9 degrees of freedom.  \n",
        "\n",
        "If the absolute value of the t-statistic exceeds this critical value, we reject the null hypothesis at the 95% significance level.\n"
      ],
      "metadata": {
        "id": "-_i8hIBA1QlJ"
      }
    },
    {
      "cell_type": "code",
      "source": [
        "abs(output$statistic) > qt(0.975, df = 9)\n",
        "#Do not reject the null hypothesis"
      ],
      "metadata": {
        "colab": {
          "base_uri": "https://localhost:8080/",
          "height": 34
        },
        "id": "9tO0xpCH1P44",
        "outputId": "c964ab2a-32b6-434a-c108-25c75c91a9ec"
      },
      "execution_count": 81,
      "outputs": [
        {
          "output_type": "display_data",
          "data": {
            "text/html": [
              "<strong>t:</strong> FALSE"
            ],
            "text/markdown": "**t:** FALSE",
            "text/latex": "\\textbf{t:} FALSE",
            "text/plain": [
              "    t \n",
              "FALSE "
            ]
          },
          "metadata": {}
        }
      ]
    },
    {
      "cell_type": "markdown",
      "source": [
        "#### **Is The Gaussian Assumption Valid?**"
      ],
      "metadata": {
        "id": "u0K0JFIu5Apx"
      }
    },
    {
      "cell_type": "markdown",
      "source": [
        "We can use `qqplot` to check the **validity of the Gaussian assumption**. (There are formal tests for normality, but these are out of the scope of this unit.)  \n",
        "\n",
        "However, this approach is not perfect, especially with small sample sizes (here, n = 10). Looking at the QQ-plot below, the points are not perfectly aligned with the theoretical line, but this could simply be due to random variation. In this example, we do **not see any substantially different values**, which would indicate extreme values or outliers (hence, non-Gaussianity).  \n",
        "\n",
        "Reading a QQ-line is more like an **art than a strict rule**. You need to be flexible enough to recognise differences, while considering that small deviations may be due to chance.  \n",
        "\n",
        "To master QQ-plot reading, try different distributions, explore various sample sizes, and observe how point alignment and deviations change. This experience will help you interpret QQ-plots more effectively.\n"
      ],
      "metadata": {
        "id": "ZOYU0-SP5KIR"
      }
    },
    {
      "cell_type": "code",
      "source": [
        "qqnorm(group1$extra)\n",
        "qqline(group1$extra)"
      ],
      "metadata": {
        "colab": {
          "base_uri": "https://localhost:8080/",
          "height": 437
        },
        "id": "U_us7CvH44Ie",
        "outputId": "168a8d91-2b4e-4305-aa00-0a340db41cd2"
      },
      "execution_count": 82,
      "outputs": [
        {
          "output_type": "display_data",
          "data": {
            "text/plain": [
              "Plot with title “Normal Q-Q Plot”"
            ],
            "image/png": "[encoded data removed]"
          },
          "metadata": {
            "image/png": {
              "width": 420,
              "height": 420
            }
          }
        }
      ]
    },
    {
      "cell_type": "markdown",
      "source": [
        "#### **Example 2: Two-Sample t-test**\n",
        "\n",
        "Is there a difference in the mean extra sleep hours between patients taking Drug `\"1\"` and Drug `\"2\"`?\n"
      ],
      "metadata": {
        "id": "9jT54DYa13sg"
      }
    },
    {
      "cell_type": "markdown",
      "source": [
        "Note that the `sleep` dataset is already in the long format, where `extra` is the response variable and `group` shows the labels."
      ],
      "metadata": {
        "id": "Tz07Aj9_2ghd"
      }
    },
    {
      "cell_type": "code",
      "source": [
        "sleep %>% kable()"
      ],
      "metadata": {
        "colab": {
          "base_uri": "https://localhost:8080/",
          "height": 420
        },
        "id": "_lNw1_nX2fGm",
        "outputId": "d27e8b8e-e863-480e-e6a8-1b83c1c377d8"
      },
      "execution_count": 83,
      "outputs": [
        {
          "output_type": "display_data",
          "data": {
            "text/plain": [
              "\n",
              "\n",
              "| extra|group |ID |\n",
              "|-----:|:-----|:--|\n",
              "|   0.7|1     |1  |\n",
              "|  -1.6|1     |2  |\n",
              "|  -0.2|1     |3  |\n",
              "|  -1.2|1     |4  |\n",
              "|  -0.1|1     |5  |\n",
              "|   3.4|1     |6  |\n",
              "|   3.7|1     |7  |\n",
              "|   0.8|1     |8  |\n",
              "|   0.0|1     |9  |\n",
              "|   2.0|1     |10 |\n",
              "|   1.9|2     |1  |\n",
              "|   0.8|2     |2  |\n",
              "|   1.1|2     |3  |\n",
              "|   0.1|2     |4  |\n",
              "|  -0.1|2     |5  |\n",
              "|   4.4|2     |6  |\n",
              "|   5.5|2     |7  |\n",
              "|   1.6|2     |8  |\n",
              "|   4.6|2     |9  |\n",
              "|   3.4|2     |10 |"
            ]
          },
          "metadata": {}
        }
      ]
    },
    {
      "cell_type": "markdown",
      "source": [
        "Let $x_1, \\dots, x_{n_1}$ and $y_1, \\dots, y_{n_2}$  be the extra sleep hours gained by patients in the groups `\"1\"` and `\"2\"` in the `sleep` dataset. We assume that\n",
        "\n",
        "$$\n",
        "x_1, \\dots, x_{n_1} \\sim \\text{i.i.d. } \\mathcal{N}(\\mu_1, \\sigma_1^2)\n",
        "$$\n",
        "\n",
        "$$\n",
        "y_1, \\dots, y_{n_2} \\sim \\text{i.i.d. } \\mathcal{N}(\\mu_2, \\sigma_2^2)\n",
        "$$\n",
        "\n",
        "\n",
        "We want to test whether there is any evidence that the average extra sleep hours of the two groups are diffent. Formally, the hypotheses are:\n",
        "$$\n",
        "\\begin{align}\n",
        "H_0: \\mu_1 - \\mu_2 &= 0 \\\\\n",
        "H_1: \\mu_1 - \\mu_2 &\\neq 0\n",
        "\\end{align}\n",
        "$$\n",
        "\n",
        "This is **not a paired sample**, since patients are allocated into two separate groups, and no patient takes both drugs.  It is also reasonable to assume that these two populations are **independent**, at least in this example, where we assume the study is well-signed, but this assumption may not always hold in practice.  \n",
        "\n",
        "*A quick detour from what we are doing…* Various factors can compromise independence, for example:  \n",
        "\n",
        "- If patients know which drug they are taking, their behavior or reporting may be affected (placebo effect, expectations, or bias).  \n",
        "- If there is some systematic way in which patients are assigned to groups, the two samples may not be truly independent.  \n",
        "\n",
        "Always think critically about whether the **independence assumption** is valid for your study.\n"
      ],
      "metadata": {
        "id": "xxdh1Guv2vhG"
      }
    },
    {
      "cell_type": "markdown",
      "source": [
        "***Back to the question***, given the sample sizes, we can use a two-sample t-test. Which one to use? Let's take a look at box plots of `extra` for the two groups."
      ],
      "metadata": {
        "id": "5qpb18zh4dcc"
      }
    },
    {
      "cell_type": "code",
      "source": [
        "sleep %>%\n",
        "  ggplot(aes(x = group, y = extra)) +\n",
        "  geom_boxplot()"
      ],
      "metadata": {
        "colab": {
          "base_uri": "https://localhost:8080/",
          "height": 437
        },
        "id": "xlpVrFIH6m1h",
        "outputId": "1d6dfe68-e5d3-44d5-b1d3-19abf4a4a27e"
      },
      "execution_count": 84,
      "outputs": [
        {
          "output_type": "display_data",
          "data": {
            "text/plain": [
              "plot without title"
            ],
            "image/png": "[encoded data removed]"
          },
          "metadata": {
            "image/png": {
              "width": 420,
              "height": 420
            }
          }
        }
      ]
    },
    {
      "cell_type": "markdown",
      "source": [
        "Group 2 seems to have a higher average of extra hours of sleep, and the IQR appears to be roughly double that of group 1. There do not seem to be any outliers in either group.  The median in group 2 appears to be slightly shifted towards the 25% quantile, which could suggest non-Gaussianity.\n",
        "\n",
        "However, these might also be due to random variation, especially since the sample size for each group is quite small. We can also check the **rule of thumb** discussed earlier to decide whether to use the pooled-variance t-test or Welch's test.\n"
      ],
      "metadata": {
        "id": "ULnvJY1d65YP"
      }
    },
    {
      "cell_type": "code",
      "source": [
        "sleep %>%\n",
        "  group_by(group) %>%\n",
        "  summarise(smpl_var = var(extra)) -> group_vars\n",
        "\n",
        "group_vars\n",
        "\n",
        "group_vars %>% pull(smpl_var) %>% max / group_vars %>% pull(smpl_var) %>% min"
      ],
      "metadata": {
        "colab": {
          "base_uri": "https://localhost:8080/",
          "height": 175
        },
        "id": "38DMbfhS7dgN",
        "outputId": "a610f245-4621-440e-bddd-d610247f7c13"
      },
      "execution_count": 85,
      "outputs": [
        {
          "output_type": "display_data",
          "data": {
            "text/html": [
              "<table class=\"dataframe\">\n",
              "<caption>A tibble: 2 × 2</caption>\n",
              "<thead>\n",
              "\t<tr><th scope=col>group</th><th scope=col>smpl_var</th></tr>\n",
              "\t<tr><th scope=col>&lt;fct&gt;</th><th scope=col>&lt;dbl&gt;</th></tr>\n",
              "</thead>\n",
              "<tbody>\n",
              "\t<tr><td>1</td><td>3.200556</td></tr>\n",
              "\t<tr><td>2</td><td>4.009000</td></tr>\n",
              "</tbody>\n",
              "</table>\n"
            ],
            "text/markdown": "\nA tibble: 2 × 2\n\n| group &lt;fct&gt; | smpl_var &lt;dbl&gt; |\n|---|---|\n| 1 | 3.200556 |\n| 2 | 4.009000 |\n\n",
            "text/latex": "A tibble: 2 × 2\n\\begin{tabular}{ll}\n group & smpl\\_var\\\\\n <fct> & <dbl>\\\\\n\\hline\n\t 1 & 3.200556\\\\\n\t 2 & 4.009000\\\\\n\\end{tabular}\n",
            "text/plain": [
              "  group smpl_var\n",
              "1 1     3.200556\n",
              "2 2     4.009000"
            ]
          },
          "metadata": {}
        },
        {
          "output_type": "display_data",
          "data": {
            "text/html": [
              "1.2525950355841"
            ],
            "text/markdown": "1.2525950355841",
            "text/latex": "1.2525950355841",
            "text/plain": [
              "[1] 1.252595"
            ]
          },
          "metadata": {}
        }
      ]
    },
    {
      "cell_type": "markdown",
      "source": [
        "As\n",
        "\n",
        "$$\n",
        "\\frac{\\text{larger } s^2}{\\text{smaller } s^2} = \\frac{4.009000}{3.200556} \\approx 1.25 < 3,\n",
        "$$  "
      ],
      "metadata": {
        "id": "wSZOVLSE71KP"
      }
    },
    {
      "cell_type": "markdown",
      "source": [
        "We can use the pooled-variance t-test in this example. The following code cells give the same outputs."
      ],
      "metadata": {
        "id": "xt1uWMo78udY"
      }
    },
    {
      "cell_type": "code",
      "source": [
        "t.test(x = sleep %>% filter(group == \"1\") %>% pull(extra),\n",
        "       y = sleep %>% filter(group == \"2\") %>% pull(extra),\n",
        "       mu = 0, alternative = \"two.sided\", var.equal = TRUE)"
      ],
      "metadata": {
        "colab": {
          "base_uri": "https://localhost:8080/",
          "height": 202
        },
        "id": "VU4Hgk5J9Ecb",
        "outputId": "b1e651a9-8875-44ad-89a6-953846a4be5b"
      },
      "execution_count": 86,
      "outputs": [
        {
          "output_type": "display_data",
          "data": {
            "text/plain": [
              "\n",
              "\tTwo Sample t-test\n",
              "\n",
              "data:  sleep %>% filter(group == \"1\") %>% pull(extra) and sleep %>% filter(group == \"2\") %>% pull(extra)\n",
              "t = -1.8608, df = 18, p-value = 0.07919\n",
              "alternative hypothesis: true difference in means is not equal to 0\n",
              "95 percent confidence interval:\n",
              " -3.363874  0.203874\n",
              "sample estimates:\n",
              "mean of x mean of y \n",
              "     0.75      2.33 \n"
            ]
          },
          "metadata": {}
        }
      ]
    },
    {
      "cell_type": "markdown",
      "source": [
        "Here, the p-value suggests no rejection of $H_0$ at 95% significance level. We can also compare the absolute value of test statistic (two-sided test) to  the 97.5th percentile of the Student’s t-distribution with 18 degrees of freedom (10 + 10 - 2)."
      ],
      "metadata": {
        "id": "_kkl6BBl9fp2"
      }
    },
    {
      "cell_type": "code",
      "source": [
        "t.test(extra ~ group, data = sleep, mu = 0, alternative = \"two.sided\", var.equal = TRUE) -> output\n",
        "abs(output$statistic) > qt(0.975, df = 18)\n",
        "# Do not reject the null hypothesis"
      ],
      "metadata": {
        "colab": {
          "base_uri": "https://localhost:8080/",
          "height": 34
        },
        "id": "2YOFzNcn83k_",
        "outputId": "935d7fb5-668d-4393-91bc-9d6173257d85"
      },
      "execution_count": 87,
      "outputs": [
        {
          "output_type": "display_data",
          "data": {
            "text/html": [
              "<strong>t:</strong> FALSE"
            ],
            "text/markdown": "**t:** FALSE",
            "text/latex": "\\textbf{t:} FALSE",
            "text/plain": [
              "    t \n",
              "FALSE "
            ]
          },
          "metadata": {}
        }
      ]
    },
    {
      "cell_type": "markdown",
      "source": [
        "### **Exercise**\n",
        "\n",
        "Is there a difference in the mean extra sleep hours between patients taking Drug \"1\" and Drug \"2\"?  \n",
        "\n",
        "Perform a **Welch’s t-test** to test this hypothesis using `t.test` function and compare the results to the previous two-sample t-test obtained using the pooled variance.\n"
      ],
      "metadata": {
        "id": "zPJuc4Jx-qWi"
      }
    },
    {
      "cell_type": "code",
      "source": [],
      "metadata": {
        "id": "FDazCOR6_BAe"
      },
      "execution_count": 88,
      "outputs": []
    },
    {
      "cell_type": "markdown",
      "source": [
        "\n",
        "\n",
        "<details>\n",
        "<summary>▶️ Click to show the solution</summary>\n",
        "\n",
        "```r\n",
        "t.test(extra ~ group, data = sleep, mu = 0, alternative = \"two.sided\", var.equal = FALSE) -> output\n",
        "output\n",
        "abs(output$statistic) > qt(0.975, df = output$parameter)\n",
        "#Do not reject the null hypothesis\n",
        "```\n",
        "\n",
        "</details>\n"
      ],
      "metadata": {
        "id": "Y4zCIevz_JGt"
      }
    },
    {
      "cell_type": "markdown",
      "source": [
        "## **The T Statistical Table**\n",
        "\n"
      ],
      "metadata": {
        "id": "IeNS-OHIA4uK"
      }
    },
    {
      "cell_type": "markdown",
      "source": [
        "This table shows the critical t-values for the Student’s t-distribution at various degrees of freedom (df) and significance levels ($\\alpha$). Historically, such tables were used in textbooks and labs before computers to quickly determine whether a t-statistic was extreme enough to reject the null hypothesis.  \n",
        "\n",
        "Mathematically, each value corresponds to a quantile of the cumulative distribution function (CDF) of the $t$-distribution. For example, the entry for df = 10 and $\\alpha = 0.05$ is the 95th percentile of the t-distribution with 10 degrees of freedom, which is the critical value for a **one-sided right-tailed test at the 5% significance level**, or equivalently, for a **two-sided test at the 10% significance level**.\n",
        "\n",
        "This allows you to compare your observed t-statistic directly to the table value to decide whether to reject the null hypothesis.\n",
        "\n",
        "**VERY IMPORTANT:** Note that variations of t-statistic tables exist. Some show **two-sided critical values** ($1 - \\alpha/2$ quantile), some show **one-sided critical values** ($1 - \\alpha$ quantile), and some show both. Be careful when using these tables, know which convention is being used, and ask for clarification if it is unclear.\n",
        "\n",
        "**Note**: This table only shows integer $\\nu$. If a fractional number of degrees of freedom is encountered (as in Welch’s test), round it to the **nearest df**.\n",
        "\n"
      ],
      "metadata": {
        "id": "smIDFWIVBVVy"
      }
    },
    {
      "cell_type": "code",
      "source": [
        "generateTTable()"
      ],
      "metadata": {
        "colab": {
          "base_uri": "https://localhost:8080/",
          "height": 588
        },
        "id": "bjUL55ALA_cE",
        "outputId": "a3b7c016-0edb-46a4-d6c0-657d97e4c3d2"
      },
      "execution_count": 89,
      "outputs": [
        {
          "output_type": "display_data",
          "data": {
            "text/plain": [
              "\n",
              "\n",
              "|      | alpha=0.2| alpha=0.1| alpha=0.05| alpha=0.025| alpha=0.01| alpha=0.005| alpha=0.001|\n",
              "|:-----|---------:|---------:|----------:|-----------:|----------:|-----------:|-----------:|\n",
              "|df=1  |    1.3764|    3.0777|     6.3138|     12.7062|    31.8205|     63.6567|    318.3088|\n",
              "|df=2  |    1.0607|    1.8856|     2.9200|      4.3027|     6.9646|      9.9248|     22.3271|\n",
              "|df=3  |    0.9785|    1.6377|     2.3534|      3.1824|     4.5407|      5.8409|     10.2145|\n",
              "|df=4  |    0.9410|    1.5332|     2.1318|      2.7764|     3.7469|      4.6041|      7.1732|\n",
              "|df=5  |    0.9195|    1.4759|     2.0150|      2.5706|     3.3649|      4.0321|      5.8934|\n",
              "|df=6  |    0.9057|    1.4398|     1.9432|      2.4469|     3.1427|      3.7074|      5.2076|\n",
              "|df=7  |    0.8960|    1.4149|     1.8946|      2.3646|     2.9980|      3.4995|      4.7853|\n",
              "|df=8  |    0.8889|    1.3968|     1.8595|      2.3060|     2.8965|      3.3554|      4.5008|\n",
              "|df=9  |    0.8834|    1.3830|     1.8331|      2.2622|     2.8214|      3.2498|      4.2968|\n",
              "|df=10 |    0.8791|    1.3722|     1.8125|      2.2281|     2.7638|      3.1693|      4.1437|\n",
              "|df=11 |    0.8755|    1.3634|     1.7959|      2.2010|     2.7181|      3.1058|      4.0247|\n",
              "|df=12 |    0.8726|    1.3562|     1.7823|      2.1788|     2.6810|      3.0545|      3.9296|\n",
              "|df=13 |    0.8702|    1.3502|     1.7709|      2.1604|     2.6503|      3.0123|      3.8520|\n",
              "|df=14 |    0.8681|    1.3450|     1.7613|      2.1448|     2.6245|      2.9768|      3.7874|\n",
              "|df=15 |    0.8662|    1.3406|     1.7531|      2.1314|     2.6025|      2.9467|      3.7328|\n",
              "|df=16 |    0.8647|    1.3368|     1.7459|      2.1199|     2.5835|      2.9208|      3.6862|\n",
              "|df=17 |    0.8633|    1.3334|     1.7396|      2.1098|     2.5669|      2.8982|      3.6458|\n",
              "|df=18 |    0.8620|    1.3304|     1.7341|      2.1009|     2.5524|      2.8784|      3.6105|\n",
              "|df=19 |    0.8610|    1.3277|     1.7291|      2.0930|     2.5395|      2.8609|      3.5794|\n",
              "|df=20 |    0.8600|    1.3253|     1.7247|      2.0860|     2.5280|      2.8453|      3.5518|\n",
              "|df=21 |    0.8591|    1.3232|     1.7207|      2.0796|     2.5176|      2.8314|      3.5272|\n",
              "|df=22 |    0.8583|    1.3212|     1.7171|      2.0739|     2.5083|      2.8188|      3.5050|\n",
              "|df=23 |    0.8575|    1.3195|     1.7139|      2.0687|     2.4999|      2.8073|      3.4850|\n",
              "|df=24 |    0.8569|    1.3178|     1.7109|      2.0639|     2.4922|      2.7969|      3.4668|\n",
              "|df=25 |    0.8562|    1.3163|     1.7081|      2.0595|     2.4851|      2.7874|      3.4502|\n",
              "|df=26 |    0.8557|    1.3150|     1.7056|      2.0555|     2.4786|      2.7787|      3.4350|\n",
              "|df=27 |    0.8551|    1.3137|     1.7033|      2.0518|     2.4727|      2.7707|      3.4210|\n",
              "|df=28 |    0.8546|    1.3125|     1.7011|      2.0484|     2.4671|      2.7633|      3.4082|\n",
              "|df=29 |    0.8542|    1.3114|     1.6991|      2.0452|     2.4620|      2.7564|      3.3962|\n",
              "|df=30 |    0.8538|    1.3104|     1.6973|      2.0423|     2.4573|      2.7500|      3.3852|"
            ]
          },
          "metadata": {}
        }
      ]
    },
    {
      "cell_type": "markdown",
      "source": [
        "## **Workshop Questions**\n",
        "\n",
        "\n"
      ],
      "metadata": {
        "id": "u7rOC3o-fyix"
      }
    },
    {
      "cell_type": "markdown",
      "source": [
        "### **Question 1: Which t-test to Use?**\n",
        "\n",
        "For each of the following scenarios, decide which type of t-test should be used (one-sample, two-sample pooled, Welch’s, or paired-sample) and explain your reasoning.\n",
        "\n",
        "**Scenarios:**\n",
        "\n",
        "1. Measure the heart rate of participants before and after swimming.\n",
        "\n",
        "2. A factory claims that the average weight of cereal boxes is 500 grams. You collect a sample of boxes and measure their weights.\n",
        "\n",
        "3. Compare math test scores between students taught with method A and students taught with method B.\n",
        "\n",
        "4. Compare math test scores of students who take both specialist maths and regular maths.\n",
        "\n",
        "5.  Measure the heart rate of participants after drinking Coffee 1. One week later, the same participants drink Coffee 2 and their heart rate is measured again. Compare the heart rates between the two types of coffee.\n",
        "\n",
        "\n"
      ],
      "metadata": {
        "id": "4wYH11rnDo-3"
      }
    },
    {
      "cell_type": "markdown",
      "source": [
        "\n",
        "\n",
        "<details>\n",
        "<summary>▶️ Click to show the solution</summary>\n",
        "\n",
        "1. Paired-sample t-test can be used as the same participants are measured twice (before and after), so the measurements are dependent.\n",
        "\n",
        "2. One-sample t-test can be used as you are comparing a sample mean to a known/hypothesised population mean, which is exactly what a one-sample t-test is designed for.\n",
        "\n",
        "3. Two-sample pooled t-test (or Welch’s t-test if unequal variance is suspected) can be used as it is reasonable to assume independent populations here.\n",
        "\n",
        "4. Paired-sample t-test can be used as the same students are measured in two subjects, making the data *dependent.\n",
        "\n",
        "5. Paired-sample t-test can be used because the same participants are measured after two conditions, making the data dependent (e.g., both measurements depend on each participant's baseline heart rate).\n",
        "\n",
        "\n",
        "\n",
        "</details>\n"
      ],
      "metadata": {
        "id": "AP_M9uobFwQu"
      }
    },
    {
      "cell_type": "markdown",
      "source": [
        "### **Question 2**\n",
        "\n",
        "A geologist collected twenty ore samples and randomly divided them into two separate groups. She then used two different techniques to measure the amount of titanium present in the samples. The data are:"
      ],
      "metadata": {
        "id": "gMPkgJnVhLdq"
      }
    },
    {
      "cell_type": "code",
      "source": [
        "group1 = c(0.011,0.013,0.013,0.015,0.014,0.013,0.010,0.013,0.011,0.012)\n",
        "group2 = c(0.008,0.018,0.015,0.017,0.017,0.012,0.012,0.015,0.016,0.016)"
      ],
      "metadata": {
        "id": "lTezwUg3hPf8"
      },
      "execution_count": 114,
      "outputs": []
    },
    {
      "cell_type": "markdown",
      "source": [
        "Perform hypothesis testing to evaluate whether these two methods of taking measurements are equivalent. Now multiply the measurements by 1000, do you expect your test results to be any different? Repeat the test and compare the results. Use $\\alpha = 0.05$."
      ],
      "metadata": {
        "id": "dR7bHaUCJnMO"
      }
    },
    {
      "cell_type": "code",
      "source": [
        "group1 = c(0.011,0.013,0.013,0.015,0.014,0.013,0.010,0.013,0.011,0.012)\n",
        "group2 = c(0.008,0.018,0.015,0.017,0.017,0.012,0.012,0.015,0.016,0.016)"
      ],
      "metadata": {
        "id": "o--YFWMxJqkH"
      },
      "execution_count": 145,
      "outputs": []
    },
    {
      "cell_type": "markdown",
      "source": [
        "\n",
        "\n",
        "<details>\n",
        "<summary>▶️ Click to show the solution</summary>\n",
        "\n",
        "Let $x_1, \\dots, x_{10}$ denote the measurements of titanium in ore samples using **instrument 1** (`group1`), and $y_1, \\dots, y_{10}$ denote the measurements using **instrument 2** (`group2`). Assuming the measurements are independent and normally distributed:\n",
        "\n",
        "$$\n",
        "x_1, \\dots, x_{10} \\sim \\text{i.i.d. } \\mathcal{N}(\\mu_1, \\sigma_1^2)\n",
        "$$\n",
        "$$\n",
        "y_1, \\dots, y_{10} \\sim \\text{i.i.d. } \\mathcal{N}(\\mu_2, \\sigma_2^2)\n",
        "$$\n",
        "\n",
        "Formally, the hypotheses are:\n",
        "\n",
        "$$\n",
        "H_0: \\mu_1 - \\mu_2 = 0 \\\\\n",
        "H_1: \\mu_1 - \\mu_2 \\neq 0\n",
        "$$\n",
        "\n",
        "It is reasonable to assume independent populations here. We can use a two-sample $t$-test (for example, with `var.equal = FALSE`).\n",
        "\n",
        "```r\n",
        "group1 = c(0.011,0.013,0.013,0.015,0.014,0.013,0.010,0.013,0.011,0.012)\n",
        "group2 = c(0.011,0.016,0.013,0.012,0.015,0.012,0.017,0.013,0.014,0.015)\n",
        "#var.equal = FALSE\n",
        "t.test(group1, group2)\n",
        "t.test(group1 * 1000, group2 * 1000)\n",
        "\n",
        "```\n",
        "\n",
        "The null hypothesis $H_0: \\mu_1 - \\mu_2 = 0$ is not affected by multiplying both groups by a common constant. Moreover, the standard deviation is scaled by the same factor as the mean difference, the $t$-statistic remains unchanged, and the test produces the same result.\n",
        "\n",
        "Since both CIs do contain 0, we do not reject the null hypothesis at 95% significance level.\n",
        "\n",
        "</details>\n"
      ],
      "metadata": {
        "id": "SQWkPh9bKqvN"
      }
    },
    {
      "cell_type": "markdown",
      "source": [
        "### **Question 3**\n",
        "\n",
        "\n",
        "Oh no!!! The geologist in **Question 2** realises she made a mistake: each element of the same rock was measured using two different instruments (`group1` and `group2`). Given this new information, perform hypothesis testing to evaluate whether these two methods of taking measurements are equivalent. Use $\\alpha = 0.05$."
      ],
      "metadata": {
        "id": "yfdqw6zLLOiH"
      }
    },
    {
      "cell_type": "code",
      "source": [
        "group1 = c(0.011,0.013,0.013,0.015,0.014,0.013,0.010,0.013,0.011,0.012)\n",
        "group2 = c(0.008,0.018,0.015,0.017,0.017,0.012,0.012,0.015,0.016,0.016)"
      ],
      "metadata": {
        "id": "jYkgeKRQMWrX"
      },
      "execution_count": 139,
      "outputs": []
    },
    {
      "cell_type": "markdown",
      "source": [
        "\n",
        "\n",
        "<details>\n",
        "<summary>▶️ Click to show the solution</summary>\n",
        "\n",
        "\n",
        "Let $x_1, \\dots, x_{10}$ and $y_1, \\dots, y_{10}$ be the measurements of the same rock taken by **instrument 1** (`group1`) and **instrument 2** (`group2`). Let $d_i = x_i - y_i$ be the difference for each pair. We assume\n",
        "\n",
        "$$\n",
        "d_1, \\dots, d_{10} \\sim \\text{i.i.d. } \\mathcal{N}(\\mu_d, \\sigma_d^2)\n",
        "$$\n",
        "\n",
        "Formally, the hypotheses are:\n",
        "\n",
        "$$\n",
        "H_0: \\mu_d = 0 \\\\\n",
        "H_1: \\mu_d \\neq 0\n",
        "$$\n",
        "\n",
        "\n",
        "We want to test whether there is any evidence that the average extra sleep hours of the two groups are diffent. Formally, the hypotheses are:\n",
        "\n",
        "Since the two populations are **dependent and paired**, a paired-sample t-test is more appropriate. Here, the correlation between `group1` and `group2` is 0.577.\n",
        "\n",
        "\n",
        "```r\n",
        "group1 = c(0.011,0.013,0.013,0.015,0.014,0.013,0.010,0.013,0.011,0.012)\n",
        "group2 = c(0.008,0.018,0.015,0.017,0.017,0.012,0.012,0.015,0.016,0.016)\n",
        "cor(group1, group2)\n",
        "plot(group1, group2)\n",
        "```\n",
        "\n",
        "```r\n",
        "t.test(group1-group2)\n",
        "t.test(1000*group1-1000*group2)\n",
        "```\n",
        "\n",
        "The null hypothesis $H_0: \\mu_d = 0$ is not affected by multiplying both groups by a common constant. Moreover, the standard deviation is scaled by the same factor as the mean difference, the $t$-statistic remains unchanged, and the test produces the same result.\n",
        "\n",
        "Since both CIs do not contain 0, at 95% significance level, we reject the null hypothesis that the two instruments are equivalent, favouring the alternative one that they are different.\n",
        "\n",
        "</details>\n"
      ],
      "metadata": {
        "id": "mpBhw7SCMW8l"
      }
    },
    {
      "cell_type": "markdown",
      "source": [
        "### **Question 4**\n",
        "\n",
        "\n",
        "Consider the data on weights (in grams) of packages of mince, is there any evidence that the average weight of a package of mince is less than 500g, assuming a Type 1 error of $0.01$?"
      ],
      "metadata": {
        "id": "yQkVU9dMPPSs"
      }
    },
    {
      "cell_type": "code",
      "source": [
        "smpl_data = c(490.32, 449.46, 440.38, 535.72, 640.14, 581.12, 376.82, 481.24, 517.56, 626.52, 340.50, 435.84,490.32, 394.98, 404.06, 404.06, 435.84, 508.48, 508.48, 422.22, 562.96, 404.06, 517.56, 417.68, 535.72, 531.18)"
      ],
      "metadata": {
        "id": "ePZqiGNyQOOh"
      },
      "execution_count": 144,
      "outputs": []
    },
    {
      "cell_type": "markdown",
      "source": [
        "\n",
        "\n",
        "<details>\n",
        "<summary>▶️ Click to show the solution</summary>\n",
        "\n",
        "Assuming the weights (in grams) of these packages, $x_1, ..., x_n \\sim \\text{i.i.d. } \\mathcal{N}(\\mu, \\sigma^2)$, the hypotheses are:\n",
        "\n",
        "$$\n",
        "H_0: \\mu = 500 \\\\\n",
        "H_1: \\mu < 500\n",
        "$$\n",
        "\n",
        "\n",
        "```r\n",
        "smpl_data = c(490.32, 449.46, 440.38, 535.72, 640.14, 581.12, 376.82, 481.24, 517.56, 626.52, 340.50, 435.84,490.32, 394.98, 404.06, 404.06, 435.84, 508.48, 508.48, 422.22, 562.96, 404.06, 517.56, 417.68, 535.72, 531.18)\n",
        "t.test(smpl_data, mu = 500, alternative = \"less\")\n",
        "```\n",
        "\n",
        "Since the CI does contain 500, at 99% significance level, we do not reject the null hypothesis.\n",
        "</details>\n"
      ],
      "metadata": {
        "id": "AZ1I7HCPQcqw"
      }
    }
  ]
}