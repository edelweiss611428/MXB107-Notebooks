{
  "nbformat": 4,
  "nbformat_minor": 0,
  "metadata": {
    "colab": {
      "provenance": [],
      "toc_visible": true
    },
    "kernelspec": {
      "name": "ir",
      "display_name": "R"
    },
    "language_info": {
      "name": "R"
    }
  },
  "cells": [
    {
      "cell_type": "markdown",
      "source": [
        "# **Week 8: Large Sample Inference - Hypothesis Testing**\n",
        "\n",
        "```\n",
        ".------------------------------------.\n",
        "|   __  ____  ______  _  ___ _____   |\n",
        "|  |  \\/  \\ \\/ / __ )/ |/ _ \\___  |  |\n",
        "|  | |\\/| |\\  /|  _ \\| | | | | / /   |\n",
        "|  | |  | |/  \\| |_) | | |_| |/ /    |\n",
        "|  |_|  |_/_/\\_\\____/|_|\\___//_/     |\n",
        "'------------------------------------'\n",
        "\n",
        "```"
      ],
      "metadata": {
        "id": "ZtpJJ8BSHOaK"
      }
    },
    {
      "cell_type": "markdown",
      "source": [
        "Through the following examples, we will explore the concepts of hypothesis testing and examine their practical implications.\n"
      ],
      "metadata": {
        "id": "nJN_EjsDJ5My"
      }
    },
    {
      "cell_type": "markdown",
      "source": [
        "## **Pre-Configurating the Notebook**"
      ],
      "metadata": {
        "id": "qJMHamzBgYY4"
      }
    },
    {
      "cell_type": "markdown",
      "source": [
        "### **Switching to the R Kernel on Colab**\n",
        "\n",
        "By default, Google Colab uses Python as its programming language. To use R instead, you’ll need to manually switch the kernel by going to **Runtime > Change runtime type**, and selecting R as the kernel. This allows you to run R code in the Colab environment.\n",
        "\n",
        "However, our notebook is already configured to use R by default. Unless something goes wrong, you shouldn’t need to manually change runtime type."
      ],
      "metadata": {
        "id": "RYNbU2mDgjJZ"
      }
    },
    {
      "cell_type": "markdown",
      "source": [
        "### **Importing Required Packages**\n",
        "**Run the following lines of code**:"
      ],
      "metadata": {
        "id": "Sh6s1ChmglUe"
      }
    },
    {
      "cell_type": "code",
      "source": [
        "#Do not modify\n",
        "\n",
        "setwd(\"/content\")\n",
        "\n",
        "# Remove `MXB107-Notebooks` if exists,\n",
        "if (dir.exists(\"MXB107-Notebooks\")) {\n",
        "  system(\"rm -rf MXB107-Notebooks\")\n",
        "}\n",
        "\n",
        "# Fork the repository\n",
        "system(\"git clone https://github.com/edelweiss611428/MXB107-Notebooks.git\")\n",
        "\n",
        "# Change working directory to \"MXB107-Notebooks\"\n",
        "setwd(\"MXB107-Notebooks\")\n",
        "\n",
        "#\n",
        "invisible(source(\"R/preConfigurated.R\"))"
      ],
      "metadata": {
        "colab": {
          "base_uri": "https://localhost:8080/"
        },
        "id": "hXjYwRwxgmqZ",
        "outputId": "8eb98f5c-107b-45d5-b1a6-28a831af10fe"
      },
      "execution_count": 21,
      "outputs": [
        {
          "output_type": "stream",
          "name": "stderr",
          "text": [
            "Loading required package: ggplot2\n",
            "\n",
            "Loading required package: dplyr\n",
            "\n",
            "\n",
            "Attaching package: ‘dplyr’\n",
            "\n",
            "\n",
            "The following objects are masked from ‘package:stats’:\n",
            "\n",
            "    filter, lag\n",
            "\n",
            "\n",
            "The following objects are masked from ‘package:base’:\n",
            "\n",
            "    intersect, setdiff, setequal, union\n",
            "\n",
            "\n",
            "Loading required package: tidyr\n",
            "\n",
            "Loading required package: stringr\n",
            "\n",
            "Loading required package: magrittr\n",
            "\n",
            "\n",
            "Attaching package: ‘magrittr’\n",
            "\n",
            "\n",
            "The following object is masked from ‘package:tidyr’:\n",
            "\n",
            "    extract\n",
            "\n",
            "\n",
            "Loading required package: IRdisplay\n",
            "\n",
            "Loading required package: png\n",
            "\n",
            "Warning message in library(package, lib.loc = lib.loc, character.only = TRUE, logical.return = TRUE, :\n",
            "“there is no package called ‘png’”\n",
            "Installing package into ‘/usr/local/lib/R/site-library’\n",
            "(as ‘lib’ is unspecified)\n",
            "\n",
            "Loading required package: grid\n",
            "\n",
            "Loading required package: knitr\n",
            "\n"
          ]
        }
      ]
    },
    {
      "cell_type": "markdown",
      "source": [
        "**Do not modify the following**"
      ],
      "metadata": {
        "id": "0xU1keysgotb"
      }
    },
    {
      "cell_type": "code",
      "source": [
        "if (!require(\"testthat\")) install.packages(\"testthat\"); library(\"testthat\")\n",
        "\n",
        "test_that(\"Test if all packages have been loaded\", {\n",
        "\n",
        "  expect_true(all(c(\"ggplot2\", \"tidyr\", \"dplyr\", \"stringr\", \"magrittr\", \"knitr\") %in% loadedNamespaces()))\n",
        "\n",
        "})"
      ],
      "metadata": {
        "colab": {
          "base_uri": "https://localhost:8080/"
        },
        "id": "VkOd7qZXgqr8",
        "outputId": "d8d16dc4-4d04-4afc-f3d9-33384ec0102a"
      },
      "execution_count": 22,
      "outputs": [
        {
          "output_type": "stream",
          "name": "stderr",
          "text": [
            "Loading required package: testthat\n",
            "\n",
            "\n",
            "Attaching package: ‘testthat’\n",
            "\n",
            "\n",
            "The following objects are masked from ‘package:magrittr’:\n",
            "\n",
            "    equals, is_less_than, not\n",
            "\n",
            "\n",
            "The following object is masked from ‘package:tidyr’:\n",
            "\n",
            "    matches\n",
            "\n",
            "\n",
            "The following object is masked from ‘package:dplyr’:\n",
            "\n",
            "    matches\n",
            "\n",
            "\n"
          ]
        },
        {
          "output_type": "stream",
          "name": "stdout",
          "text": [
            "\u001b[32mTest passed\u001b[39m 🌈\n"
          ]
        }
      ]
    },
    {
      "cell_type": "markdown",
      "source": [
        "## **Making Sense of Hypothesis Testing**\n"
      ],
      "metadata": {
        "id": "EoNyOvXKPpp9"
      }
    },
    {
      "cell_type": "code",
      "source": [
        "smpl_data = c(7.2, 8.53, 8.07, 7.99, 7.79, 7.77, 8.9, 7.64, 7.35, 8.45, 9.14, 7.93, 7.35, 7.52, 7.41, 8.27,\n",
        "7.55, 7.5, 8.53, 8.37, 8.17, 8.15, 8.02, 7.63,7.64, 8.83, 8.17, 7.41, 7.7, 8.21)"
      ],
      "metadata": {
        "id": "UXUcHNuKVw0p"
      },
      "execution_count": 23,
      "outputs": []
    },
    {
      "cell_type": "markdown",
      "source": [
        "### **Toy Example**\n",
        "\n",
        "A phone company advertises that the average battery life of their phones (when continuously watching videos), denoted as $\\mu$, is 8 hours.\n",
        "\n",
        "To verify this claim, an independent random sample of 30 phones was tested. Battery life is assumed to follow a normal distribution, and the population standard deviation is known to be 1 hour.\n",
        "\n",
        "**Hint**:\n",
        "- Use the asymptotic properties of the sample mean\n",
        "- Replace the unknown standard deviation $\\sigma$ with its estimate"
      ],
      "metadata": {
        "id": "jAkk973JdkZb"
      }
    },
    {
      "cell_type": "markdown",
      "source": [
        "**Write down the asymptotic sampling distribution of sample mean.**"
      ],
      "metadata": {
        "id": "YaOr7MjSZm9L"
      }
    },
    {
      "cell_type": "markdown",
      "source": [
        "Given i.i.d. $x_1, ⋯, x_n \\sim \\mathcal{N}(\\mu, \\sigma^2)$, we have:\n",
        "\n",
        "$$\\bar{x} \\sim \\mathcal{N}\\Big(\\mu,\\frac{\\sigma^2}{30}\\Big)$$\n",
        "\n",
        "This is the exact sampling distribution as $x_1, ⋯, x_n$ are i.i.d. Gaussian random variables."
      ],
      "metadata": {
        "id": "Nfvp1kNaaCjG"
      }
    },
    {
      "cell_type": "markdown",
      "source": [
        "**Write down the null and alternative hypotheses for testing whether the company’s claim is correct.**"
      ],
      "metadata": {
        "id": "o7EUD2CTW9n-"
      }
    },
    {
      "cell_type": "markdown",
      "source": [
        "\n",
        "Since we are testing whether or not there is evidence *against* the company’s claim that the average battery life is 8 hours, the alternative hypothesis should challenge this claim.  \n",
        "\n",
        "Because we are not concerned if the battery lasts longer than 8 hours (that would be favorable to consumers), we only test if it is **less** than 8 hours.  \n",
        "\n",
        "$$\n",
        "\\begin{align}\n",
        "H_0: \\mu &= 8 \\\\\n",
        "H_1: \\mu &< 8\n",
        "\\end{align}\n",
        "$$\n",
        "\n",
        "This is a **left-tailed test** of the mean."
      ],
      "metadata": {
        "id": "c-VZC_P0a11X"
      }
    },
    {
      "cell_type": "markdown",
      "source": [
        "**Approximate the sampling distribution of the sample mean under the null hypothesis.**"
      ],
      "metadata": {
        "id": "HaeJCeUTbjF9"
      }
    },
    {
      "cell_type": "code",
      "source": [
        "var(smpl_data)"
      ],
      "metadata": {
        "colab": {
          "base_uri": "https://localhost:8080/",
          "height": 34
        },
        "id": "axv1EtgzHhar",
        "outputId": "a2e7c14e-7632-4879-c34a-f666b162f088"
      },
      "execution_count": 24,
      "outputs": [
        {
          "output_type": "display_data",
          "data": {
            "text/html": [
              "0.252849310344828"
            ],
            "text/markdown": "0.252849310344828",
            "text/latex": "0.252849310344828",
            "text/plain": [
              "[1] 0.2528493"
            ]
          },
          "metadata": {}
        }
      ]
    },
    {
      "cell_type": "markdown",
      "source": [
        "$$\\bar{x} \\sim \\mathcal{N}\\Big(7.9,\\frac{0.253}{30}\\Big)$$"
      ],
      "metadata": {
        "id": "gkxjqyJ3Hga6"
      }
    },
    {
      "cell_type": "markdown",
      "source": [
        "**Define the z-test statistic for testing the null hypothesis and derive the rejection region.**"
      ],
      "metadata": {
        "id": "edBS1yg8XT1k"
      }
    },
    {
      "cell_type": "markdown",
      "source": [
        "\n",
        "$$\n",
        "z = \\frac{\\bar{x} - \\mu_{H_o}}{\\sigma_{\\bar{x}}} \\approx \\frac{\\bar{x} - 8}{\\sqrt{\\frac{0.253}{30}}}\n",
        "$$\n",
        "\n",
        "\n",
        "At $\\alpha = 0.05$, we reject the null hypothesis if $z < z_{0.05} = -1.645$. Thus, the rejection region is $(-\\infty, -1.645)$."
      ],
      "metadata": {
        "id": "bbuSlo1mIUQW"
      }
    },
    {
      "cell_type": "markdown",
      "source": [
        "**Why is this approach valid?**\n",
        "\n",
        "Under the null hypothesis (i.e., if $H_0$ is true), the test statistic follows a standard Gaussian distribution:  \n",
        "\n",
        "$$\n",
        "z \\mid H_0 \\sim \\mathcal{N}(0,1)\n",
        "$$  \n",
        "\n",
        "Here, the probability of observing $z < -1.645$ under $H_0$ is 0.05, which is relatively unlikely. If we observe a test statistic less than -1.645, this provides evidence **against** the null hypothesis that $\\mu = 8$.  \n",
        "\n",
        "For example, if the true population mean is substantially smaller than 8, the sample mean is likely to be smaller, resulting in a more negative test statistic $z$.  \n",
        "\n",
        "\n"
      ],
      "metadata": {
        "id": "QojWvOg0gLjf"
      }
    },
    {
      "cell_type": "markdown",
      "source": [
        "**Given the sample data, compute the test statistic and state the Neyman-Pearson decision.**"
      ],
      "metadata": {
        "id": "Jt709RJoXzud"
      }
    },
    {
      "cell_type": "code",
      "source": [
        "xbar = mean(smpl_data)\n",
        "s = sd(smpl_data)\n",
        "n = 30\n",
        "z = (xbar-8)/(s/sqrt(n))\n",
        "z"
      ],
      "metadata": {
        "colab": {
          "base_uri": "https://localhost:8080/",
          "height": 34
        },
        "id": "tHg0vZV-YCFu",
        "outputId": "85421746-bdf7-4bbd-c720-9351b68e08e2"
      },
      "execution_count": 25,
      "outputs": [
        {
          "output_type": "display_data",
          "data": {
            "text/html": [
              "-0.294098970877915"
            ],
            "text/markdown": "-0.294098970877915",
            "text/latex": "-0.294098970877915",
            "text/plain": [
              "[1] -0.294099"
            ]
          },
          "metadata": {}
        }
      ]
    },
    {
      "cell_type": "markdown",
      "source": [
        "As $z_{observed} ≈ -0.294 ∉ (-∞, -1.645)$, there is no evidence against the null hypothesis that $\\mu = 8$. Do not reject the null hypothesis."
      ],
      "metadata": {
        "id": "FfRpraVLRqve"
      }
    },
    {
      "cell_type": "markdown",
      "source": [
        "### **Key Ideas About Hypothesis Testing**"
      ],
      "metadata": {
        "id": "RGC2U6nLdvf2"
      }
    },
    {
      "cell_type": "markdown",
      "source": [
        "#### **Key Idea #1**"
      ],
      "metadata": {
        "id": "tCxq00UZbByj"
      }
    },
    {
      "cell_type": "markdown",
      "source": [
        "Hypothesis testing is based on the philosophy that if an event is unlikely under scenario A, but we still observe it in reality, this serves as evidence against scenario A (calling into question the validity or existence of A).\n",
        "\n",
        "By convention, the **null hypothesis** is set to represent the idea that \"nothing special is happening,\" while the **alternative hypothesis** is the one that *challenges* this assumption.  \n",
        "\n",
        "For example:  \n",
        "- If you want to test whether the average battery life is 8 hours, the null hypothesis would be:  \n",
        "  $$\n",
        "  H_0: \\mu = 8\n",
        "  $$  \n",
        "  This is the \"nothing special\" scenario.  \n",
        "\n",
        "- If you suspect someone might have malicious intent, the null hypothesis would be:  \n",
        "  $$\n",
        "  H_0: \\text{No malicious intent}\n",
        "  $$\n",
        "  The alternative would be:  \n",
        "  $$\n",
        "  H_1: \\text{Malicious intent}\n",
        "  $$  \n",
        "\n",
        "Of course, if you start observing lots of *suspicious* actions, those observations serve as **evidence against the null**, which may lead you to favour the alternative.\n"
      ],
      "metadata": {
        "id": "vfnHWcAkbAHm"
      }
    },
    {
      "cell_type": "markdown",
      "source": [
        "\n",
        "#### **Key Idea #2**\n",
        "\n",
        "Hypothesis testing cannot establish whether a hypothesis is true or false—it only assesses whether the data provide sufficient evidence to reject the null hypothesis.\n",
        "\n",
        "Even if we reject the null hypothesis, this does **not** mean that $H_0$ is false. This is because we may still commit a **Type I error**, which occurs when we reject the null hypothesis even though it is actually true.  \n",
        "\n",
        "Therefore, we should **never say**:  \n",
        "- \"The null hypothesis is wrong.\"  \n",
        "- \"The alternative hypothesis is correct.\"\n",
        "- \"We accept the alternative hypothesis.\"\n",
        "\n",
        "Instead, say:\n",
        "\n",
        "- \"There is evidence against the null hypothesis.\"\n",
        "- \"We reject the null hypothesis in favour of the alternative.\"\n",
        "\n",
        "The good news is that the probability of a Type I error is something we can control.  Most conventional hypothesis testing procedures (such as Neyman-Pearson or Fisher’s p-value approach) are based on pre-specifying a Type I error probability, often denoted by $\\alpha$. A common choice is $\\alpha = 0.05$, which serves as the threshold for deciding whether the observed data provide sufficient evidence against $H_0$.  \n",
        "\n",
        "Back to this example:\n",
        "\n",
        "$$\n",
        "\\begin{align}\n",
        "H_0: &\\text{ No malicious intent} \\\\\n",
        "H_1: &\\text{ Malicious intent}\n",
        "\\end{align}\n",
        "$$\n",
        "\n",
        "What if we observe no suspicious actions? Does that mean $H_0$ is `true`? Not necessarily — they may simply be waiting for an opportunity. In hypothesis testing, we also have **Type 2 error** - failing to reject the null hypothesis when the alternative is `true`. As a result, failing to reject the null does not imply:\n",
        "\n",
        "- \"The null hypothesis is correct.\"\n",
        "- \"We accept the null hypothesis.\"\n",
        "\n",
        "Instead, we should conclude that\n",
        "- \"There is no evidence against the null hypothesis.\"\n",
        "\n",
        "Unfortunately, there is an inherent trade-off between Type I and Type II errors. The Neyman–Pearson lemma shows how to construct the most powerful test for a given size (i.e., a fixed Type I error rate). This test minimises the Type II error among all tests with that Type I error. However, for any fixed Type I error rate, you cannot reduce the Type II error further. In practice, you first choose the Type I error rate you are willing to tolerate, and then apply Neyman–Pearson to obtain a test that achieves the best possible power against a given alternative.\n",
        "\n",
        "How to actually construct such tests is beyond the scope of this unit. Instead, we will only state a corollary of the Neyman–Pearson lemma, which shows how to determine the rejection region in the simple case of testing hypotheses about the sample means."
      ],
      "metadata": {
        "id": "sbXBHPhRbNtq"
      }
    },
    {
      "cell_type": "markdown",
      "source": [
        "#### **Key Idea #3**\n",
        "\n",
        "We do hypothesis testing not to confirm whether or not $H_0$ is `true` but rather find evidence whether or not data provide evidence of a substantial deviation from the null hypothesis.\n",
        "\n",
        "For example, suppose the true mean battery life is 7.999 hours instead of 8. Such a tiny difference is practically indistinguishable, so it does not matter. What matters is whether the observed data show a meaningful departure from the claimed value of 8 hours. In this case, it is very likely that we will fail to reject the null hypothesis $\\mu_0 = 8$, because the deviation is too small to detect.$\\mu_0 = 8$."
      ],
      "metadata": {
        "id": "FvW1syaFbY5f"
      }
    },
    {
      "cell_type": "markdown",
      "source": [
        "#### **Key Idea #4**\n",
        "\n",
        "It is very bad practice to adjust the hypothesis after looking at the data.\n",
        "\n",
        "Hypothesis testing assumes that the null and alternative hypotheses are specified before collecting or examining the data.\n",
        "Changing your hypothesis after observing the data (sometimes called “data snooping” or “p-hacking”) inflates the Type I error rate and makes your conclusions unreliable.\n",
        "Connection to the battery-life example:\n",
        "Suppose you originally want to test\n",
        "\n",
        "$$\n",
        "\\begin{align}\n",
        "H_0: \\mu &= 8 \\\\\n",
        "H_1: \\mu &< 8\n",
        "\\end{align}\n",
        "$$\n",
        "\n",
        "If you peek at the data and see a mean around 7.95 hours, and then decide to only test a smaller deviation (say $\\mu < 7.9$) to get “nicer” results, you are **post-hoc adjusting the hypothesis**.  This biases the test: your Type I error is no longer controlled.\n",
        "\n",
        "The correct approach: decide in advance what deviation you want to detect (e.g., battery life shorter than 8 hours) and stick with it, regardless of what the observed sample mean turns out to be. If you want to change the hypotheses, you need to collect new data."
      ],
      "metadata": {
        "id": "Hi_IIwfdegJa"
      }
    },
    {
      "cell_type": "markdown",
      "source": [
        "## **Workshop Questions**\n",
        "Through out this section, we assume a Type 1 error rate of 0.05.\n",
        "\n",
        "\n"
      ],
      "metadata": {
        "id": "u7rOC3o-fyix"
      }
    },
    {
      "cell_type": "markdown",
      "source": [
        "### **Question 1**\n",
        "\n",
        "The following questions are based on the `episodes` dataset. While you are expected to use R to compute the answers, the underlying concepts are identical to those in pen-and-paper confidence interval calculations."
      ],
      "metadata": {
        "id": "gMPkgJnVhLdq"
      }
    },
    {
      "cell_type": "code",
      "source": [
        "episodes = read.csv(\"./datasets/episodes.csv\")\n",
        "episodes %>% str()"
      ],
      "metadata": {
        "colab": {
          "base_uri": "https://localhost:8080/"
        },
        "id": "lTezwUg3hPf8",
        "outputId": "a975218e-9d67-4586-e624-65a0d15d7510"
      },
      "execution_count": 27,
      "outputs": [
        {
          "output_type": "stream",
          "name": "stdout",
          "text": [
            "'data.frame':\t704 obs. of  57 variables:\n",
            " $ Series                        : chr  \"TOS\" \"TOS\" \"TOS\" \"TOS\" ...\n",
            " $ Series.Name                   : chr  \"The Original Series\" \"The Original Series\" \"The Original Series\" \"The Original Series\" ...\n",
            " $ Season                        : int  1 1 1 1 1 1 1 1 1 1 ...\n",
            " $ Episode                       : int  1 2 3 4 5 6 7 8 9 10 ...\n",
            " $ IMDB.Ranking                  : num  7.3 7.2 7.8 8 7.8 6.9 7.6 7.1 7.5 8.2 ...\n",
            " $ Title                         : chr  \"The Man Trap\" \"Charlie X\" \"Where No Man Has Gone Before\" \"The Naked Time\" ...\n",
            " $ Star.date                     : chr  \"1513.1\" \"1533.6\" \"1312.4\" \"1704.2\" ...\n",
            " $ Air.date                      : chr  \"8/9/66\" \"15/9/66\" \"22/9/66\" \"29/9/66\" ...\n",
            " $ Bechdel.Wallace.Test          : logi  FALSE FALSE FALSE FALSE FALSE FALSE ...\n",
            " $ Director                      : chr  \"Marc Daniels\" \"Lawrence Dobkin\" \"James Goldstone\" \"Marc Daniels\" ...\n",
            " $ Writer.1                      : chr  \"George Clayton Johnson\" \"Gene Rodenberry\" \"Samuel A Peeples\" \"John D. F. Black\" ...\n",
            " $ Writer.2                      : chr  NA \"D. C. Fontana\" NA NA ...\n",
            " $ Writer.3                      : chr  NA NA NA NA ...\n",
            " $ Writer.4                      : chr  NA NA NA NA ...\n",
            " $ Writer.5                      : chr  NA NA NA NA ...\n",
            " $ Writer.6                      : chr  NA NA NA NA ...\n",
            " $ Female.Director               : logi  FALSE FALSE FALSE FALSE FALSE FALSE ...\n",
            " $ Female.Writer.1               : logi  FALSE FALSE FALSE FALSE FALSE FALSE ...\n",
            " $ Female.Writer.2               : logi  FALSE TRUE FALSE FALSE FALSE FALSE ...\n",
            " $ Female.Writer.3               : logi  FALSE FALSE FALSE FALSE FALSE FALSE ...\n",
            " $ Female.Writer.4               : logi  FALSE FALSE FALSE FALSE FALSE FALSE ...\n",
            " $ Female.Writer.5               : logi  FALSE FALSE FALSE FALSE FALSE FALSE ...\n",
            " $ Female.Writer.6               : logi  FALSE FALSE FALSE FALSE FALSE FALSE ...\n",
            " $ Executive.Producer.1          : chr  NA NA NA NA ...\n",
            " $ Executive.Producer.2          : chr  NA NA NA NA ...\n",
            " $ Executive.Producer.3          : chr  NA NA NA NA ...\n",
            " $ Co.Executive.Producer.1       : chr  NA NA NA NA ...\n",
            " $ Co.Executive.Producer.2       : chr  NA NA NA NA ...\n",
            " $ Co.Executive.Producer.3       : chr  NA NA NA NA ...\n",
            " $ Producer.1                    : chr  \"Gene Rodenberry\" \"Gene Rodenberry\" \"Gene Rodenberry\" \"Gene Rodenberry\" ...\n",
            " $ Producer.2                    : chr  NA NA NA NA ...\n",
            " $ Producer.3                    : chr  NA NA NA NA ...\n",
            " $ Producer.4                    : chr  NA NA NA NA ...\n",
            " $ Co.Producer.1                 : chr  NA NA NA NA ...\n",
            " $ Co.Producer.2                 : chr  NA NA NA NA ...\n",
            " $ Co.Producer.3                 : chr  NA NA NA NA ...\n",
            " $ Co.Producer.4                 : chr  NA NA NA NA ...\n",
            " $ Co.Producer.5                 : chr  NA NA NA NA ...\n",
            " $ Associate.Producer.1          : chr  \"John D. F. Black\" \"John D. F. Black\" \"Robert H. Justman\" \"John D. F. Black\" ...\n",
            " $ Associate.Producer.2          : chr  \"Robert H. Justman\" \"Robert H. Justman\" NA \"Robert H. Justman\" ...\n",
            " $ Supervising.Producer.1        : chr  NA NA NA NA ...\n",
            " $ Supervising.Producer.2        : chr  NA NA NA NA ...\n",
            " $ Supervising.Producer.3        : chr  NA NA NA NA ...\n",
            " $ Co.Supervising.Producer.1     : chr  NA NA NA NA ...\n",
            " $ Co.Supervising.Producer.2     : chr  NA NA NA NA ...\n",
            " $ Line.Producer                 : chr  NA NA NA NA ...\n",
            " $ Coordinating.Producer         : chr  NA NA NA NA ...\n",
            " $ Consulting.Producer.1         : chr  NA NA NA NA ...\n",
            " $ Consulting.Producer.2         : chr  NA NA NA NA ...\n",
            " $ Female.Executive.Producer     : logi  FALSE FALSE FALSE FALSE FALSE FALSE ...\n",
            " $ Female.Co.Executive.Producer  : logi  FALSE FALSE FALSE FALSE FALSE FALSE ...\n",
            " $ Female.Producer               : logi  FALSE FALSE FALSE FALSE FALSE FALSE ...\n",
            " $ Female.Co.Producer            : logi  FALSE FALSE FALSE FALSE FALSE FALSE ...\n",
            " $ Female.Associate.Producer     : logi  FALSE FALSE FALSE FALSE FALSE FALSE ...\n",
            " $ Female.Supervising.Producer   : logi  FALSE FALSE FALSE FALSE FALSE FALSE ...\n",
            " $ Female.Co.Supervising.Producer: logi  FALSE FALSE FALSE FALSE FALSE FALSE ...\n",
            " $ Female.Line.Producer          : logi  FALSE FALSE FALSE FALSE FALSE FALSE ...\n"
          ]
        }
      ]
    },
    {
      "cell_type": "markdown",
      "source": [
        "#### **Question 1.1**\n",
        "\n",
        "Test whether the mean IMDB rating of episodes of Star Trek: The Original Series is greater than 7.7. Interpret the results for a non-statistician stakeholder."
      ],
      "metadata": {
        "id": "r-EopFOFf19C"
      }
    },
    {
      "cell_type": "code",
      "source": [],
      "metadata": {
        "id": "WtVRLhe6hhG0"
      },
      "execution_count": null,
      "outputs": []
    },
    {
      "cell_type": "markdown",
      "source": [
        "\n",
        "\n",
        "<details>\n",
        "<summary>▶️ Click to show the solution</summary>\n",
        "\n",
        "Solution will be released at the end of the week!\n",
        "\n",
        "</details>\n"
      ],
      "metadata": {
        "id": "KdQqp-HpjtwI"
      }
    },
    {
      "cell_type": "markdown",
      "source": [
        "#### **Question 1.2**\n",
        "\n",
        "Test whether the mean IMDB rating of episodes of Star Trek: The Original Series differs from the mean rating of Star Trek: The Next Generation. Interpret the results for a non-statistician stakeholder."
      ],
      "metadata": {
        "id": "2PtbU1jrhUZQ"
      }
    },
    {
      "cell_type": "code",
      "source": [],
      "metadata": {
        "id": "qTY4XikJhiC8"
      },
      "execution_count": null,
      "outputs": []
    },
    {
      "cell_type": "markdown",
      "source": [
        "\n",
        "\n",
        "<details>\n",
        "<summary>▶️ Click to show the solution</summary>\n",
        "\n",
        "Solution will be released at the end of the week!\n",
        "\n",
        "</details>\n"
      ],
      "metadata": {
        "id": "OgjJ2CdZjuaE"
      }
    },
    {
      "cell_type": "markdown",
      "source": [
        "#### **Question 1.3**\n",
        "\n",
        "Test whether the proportion of Star Trek: The Next Generation episodes that pass the Bechdel-Wallace Test is equal to 0.4. Interpret the results for a non-statistician stakeholder."
      ],
      "metadata": {
        "id": "AWwDxhuKhv44"
      }
    },
    {
      "cell_type": "markdown",
      "source": [
        "\n",
        "**Note**: While these series have ended and you technically have the full “population” of some values (e.g., results of the Bechdel-Wallace test), we still ask you to test whether or not the proportion of episodes that pass the test is equal to 0.4. This may seem counter-intuitive, but you can think of it as follows:\n",
        "\n",
        "- The episode test results are treated as realisations from an unknown probability distribution $f$ (here, Bernoulli(p)).\n",
        "- Although the episodes are released, we are interested in the underlying process that generates these values. This includes not-yet-released episodes or hypothetical similar episodes. Simply examining the “complete” population of Bechdel test results is not sufficient; instead, we rely on a statistical model to quantify uncertainty."
      ],
      "metadata": {
        "id": "QnaGxyE1kJmt"
      }
    },
    {
      "cell_type": "code",
      "source": [],
      "metadata": {
        "id": "q1nduV1CjAUo"
      },
      "execution_count": null,
      "outputs": []
    },
    {
      "cell_type": "markdown",
      "source": [
        "\n",
        "\n",
        "<details>\n",
        "<summary>▶️ Click to show the solution</summary>\n",
        "\n",
        "Solution will be released at the end of the week!\n",
        "\n",
        "</details>\n"
      ],
      "metadata": {
        "id": "zeoBz1alju7q"
      }
    },
    {
      "cell_type": "markdown",
      "source": [
        "#### **Question 1.4**\n",
        "\n",
        "Test whether the proportion of episodes that pass the Bechdel-Wallace Test differs between Star Trek: The Next Generation and Star Trek: Voyager. Interpret the results for a non-statistician stakeholder."
      ],
      "metadata": {
        "id": "FoGVfo_hjArg"
      }
    },
    {
      "cell_type": "code",
      "source": [],
      "metadata": {
        "id": "8azh6dZHjeDc"
      },
      "execution_count": null,
      "outputs": []
    },
    {
      "cell_type": "markdown",
      "source": [
        "\n",
        "\n",
        "<details>\n",
        "<summary>▶️ Click to show the solution</summary>\n",
        "\n",
        "Solution will be released at the end of the week!\n",
        "\n",
        "</details>\n"
      ],
      "metadata": {
        "id": "FlavSEiCjvT3"
      }
    },
    {
      "cell_type": "markdown",
      "source": [
        "### **Question 2**\n",
        "\n",
        "The following questions are based on the `epa_data` dataset. While you are expected to use R to compute the answers, the underlying concepts are identical to those in pen-and-paper confidence interval calculations.\n"
      ],
      "metadata": {
        "id": "iABy0Dkejia4"
      }
    },
    {
      "cell_type": "code",
      "source": [
        "epa_data = read.csv(\"./datasets/epa_data.csv\")\n",
        "epa_data %>% str()"
      ],
      "metadata": {
        "colab": {
          "base_uri": "https://localhost:8080/"
        },
        "id": "YQgqS1IXjzMp",
        "outputId": "39a575cf-fe4b-4b76-fa86-e0e7e66f424f"
      },
      "execution_count": 29,
      "outputs": [
        {
          "output_type": "stream",
          "name": "stdout",
          "text": [
            "'data.frame':\t13569 obs. of  9 variables:\n",
            " $ city : int  16 15 16 19 19 19 19 19 19 19 ...\n",
            " $ hwy  : int  24 22 22 27 29 24 26 27 29 24 ...\n",
            " $ cyl  : int  8 8 8 4 4 4 4 4 4 4 ...\n",
            " $ disp : num  5 5 5 2 2 2.4 2.4 2 2 2.4 ...\n",
            " $ drive: chr  \"Rear-Wheel Drive\" \"Rear-Wheel Drive\" \"Rear-Wheel Drive\" \"Rear-Wheel Drive\" ...\n",
            " $ make : chr  \"Jaguar\" \"Jaguar\" \"Jaguar\" \"Pontiac\" ...\n",
            " $ model: chr  \"XK\" \"XK\" \"XK Convertible\" \"Solstice\" ...\n",
            " $ trans: chr  \"Automatic\" \"Automatic\" \"Automatic\" \"Automatic\" ...\n",
            " $ year : int  2010 2010 2010 2010 2010 2010 2010 2010 2010 2010 ...\n"
          ]
        }
      ]
    },
    {
      "cell_type": "markdown",
      "source": [
        "#### **Question 2.1**\n",
        "\n",
        "Test the hypothesis that there is no difference between the city mileage for cars manufactured in 2015 and 2020. Interpret the results for a non-statistician stakeholder."
      ],
      "metadata": {
        "id": "zisuB0lUj3yE"
      }
    },
    {
      "cell_type": "code",
      "source": [],
      "metadata": {
        "id": "F9gnd1ydlHxo"
      },
      "execution_count": null,
      "outputs": []
    },
    {
      "cell_type": "markdown",
      "source": [
        "\n",
        "\n",
        "<details>\n",
        "<summary>▶️ Click to show the solution</summary>\n",
        "\n",
        "Solution will be released at the end of the week!\n",
        "\n",
        "</details>\n"
      ],
      "metadata": {
        "id": "9XFHEzV3lJSg"
      }
    },
    {
      "cell_type": "markdown",
      "source": [
        "#### **Question 2.2**\n",
        "\n",
        "Test the hypothesis that the proportion of cars produced with manual transmissions in 2010 is less than 0.5. Interpret the results for a non-statistician stakeholder."
      ],
      "metadata": {
        "id": "9e6ODNN6lKpz"
      }
    },
    {
      "cell_type": "code",
      "source": [],
      "metadata": {
        "id": "BqQFbnEjlXoh"
      },
      "execution_count": 31,
      "outputs": []
    },
    {
      "cell_type": "markdown",
      "source": [
        "\n",
        "\n",
        "<details>\n",
        "<summary>▶️ Click to show the solution</summary>\n",
        "\n",
        "Solution will be released at the end of the week!\n",
        "\n",
        "</details>\n"
      ],
      "metadata": {
        "id": "my6tFYsOlkat"
      }
    },
    {
      "cell_type": "markdown",
      "source": [
        "#### **Question 2.3**\n",
        "\n",
        "Test the hypothesis that the proportion of cars produced with manual transmissions for the years 1990 and 2010 has decreased. Interpret the results for a non-statistician stakeholder."
      ],
      "metadata": {
        "id": "fNu9mI0rlk0d"
      }
    },
    {
      "cell_type": "code",
      "source": [],
      "metadata": {
        "id": "8txY_R41lsJP"
      },
      "execution_count": null,
      "outputs": []
    },
    {
      "cell_type": "markdown",
      "source": [
        "\n",
        "\n",
        "<details>\n",
        "<summary>▶️ Click to show the solution</summary>\n",
        "\n",
        "Solution will be released at the end of the week!\n",
        "\n",
        "</details>\n"
      ],
      "metadata": {
        "id": "G2Sk-1I2ls-H"
      }
    }
  ]
}