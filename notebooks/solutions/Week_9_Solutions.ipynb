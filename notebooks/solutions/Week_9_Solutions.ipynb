{
  "nbformat": 4,
  "nbformat_minor": 0,
  "metadata": {
    "colab": {
      "provenance": []
    },
    "kernelspec": {
      "name": "ir",
      "display_name": "R"
    },
    "language_info": {
      "name": "R"
    }
  },
  "cells": [
    {
      "cell_type": "markdown",
      "source": [
        "# **Week 9: Small Sample Inference - Hypothesis Testing (Solutions)**\n",
        "\n",
        "```\n",
        ".------------------------------------.\n",
        "|   __  ____  ______  _  ___ _____   |\n",
        "|  |  \\/  \\ \\/ / __ )/ |/ _ \\___  |  |\n",
        "|  | |\\/| |\\  /|  _ \\| | | | | / /   |\n",
        "|  | |  | |/  \\| |_) | | |_| |/ /    |\n",
        "|  |_|  |_/_/\\_\\____/|_|\\___//_/     |\n",
        "'------------------------------------'\n",
        "\n",
        "```"
      ],
      "metadata": {
        "id": "ZtpJJ8BSHOaK"
      }
    },
    {
      "cell_type": "markdown",
      "source": [
        "Through the following examples, we will explore the concepts of (small-sample) hypothesis testing (SSHT) and examine their practical implications.\n",
        "\n",
        "**Why focus on small samples?**\n",
        "\n",
        "- Less data means we cannot rely on the “law of large numbers” or asymptotic properties. Every conclusion depends heavily on the assumptions of our statistical model. For instance, if we assume data are normally distributed, that assumption has a bigger impact when the sample is small.\n",
        "\n",
        "- In contrast, with large samples, many statistical methods rely on asymptotic properties, meaning they behave approximately correctly ***almost*** regardless of the underlying model. Essentially, large-sample inference is almost model-free."
      ],
      "metadata": {
        "id": "nJN_EjsDJ5My"
      }
    },
    {
      "cell_type": "markdown",
      "source": [
        "## **Pre-Configurating the Notebook**"
      ],
      "metadata": {
        "id": "qJMHamzBgYY4"
      }
    },
    {
      "cell_type": "markdown",
      "source": [
        "### **Switching to the R Kernel on Colab**\n",
        "\n",
        "By default, Google Colab uses Python as its programming language. To use R instead, you’ll need to manually switch the kernel by going to **Runtime > Change runtime type**, and selecting R as the kernel. This allows you to run R code in the Colab environment.\n",
        "\n",
        "However, our notebook is already configured to use R by default. Unless something goes wrong, you shouldn’t need to manually change runtime type."
      ],
      "metadata": {
        "id": "RYNbU2mDgjJZ"
      }
    },
    {
      "cell_type": "markdown",
      "source": [
        "### **Importing Required Packages**\n",
        "**Run the following lines of code**:"
      ],
      "metadata": {
        "id": "Sh6s1ChmglUe"
      }
    },
    {
      "cell_type": "code",
      "source": [
        "#Do not modify\n",
        "\n",
        "setwd(\"/content\")\n",
        "\n",
        "# Remove `MXB107-Notebooks` if exists,\n",
        "if (dir.exists(\"MXB107-Notebooks\")) {\n",
        "  system(\"rm -rf MXB107-Notebooks\")\n",
        "}\n",
        "\n",
        "# Fork the repository\n",
        "system(\"git clone https://github.com/edelweiss611428/MXB107-Notebooks.git\")\n",
        "\n",
        "# Change working directory to \"MXB107-Notebooks\"\n",
        "setwd(\"MXB107-Notebooks\")\n",
        "\n",
        "#\n",
        "invisible(source(\"R/preConfigurated.R\"))"
      ],
      "metadata": {
        "id": "hXjYwRwxgmqZ",
        "outputId": "e2b3faad-50c6-4a54-eb32-3f79f9457ded",
        "colab": {
          "base_uri": "https://localhost:8080/"
        }
      },
      "execution_count": 1,
      "outputs": [
        {
          "output_type": "stream",
          "name": "stderr",
          "text": [
            "Loading required package: ggplot2\n",
            "\n",
            "Loading required package: dplyr\n",
            "\n",
            "\n",
            "Attaching package: ‘dplyr’\n",
            "\n",
            "\n",
            "The following objects are masked from ‘package:stats’:\n",
            "\n",
            "    filter, lag\n",
            "\n",
            "\n",
            "The following objects are masked from ‘package:base’:\n",
            "\n",
            "    intersect, setdiff, setequal, union\n",
            "\n",
            "\n",
            "Loading required package: tidyr\n",
            "\n",
            "Loading required package: stringr\n",
            "\n",
            "Loading required package: magrittr\n",
            "\n",
            "\n",
            "Attaching package: ‘magrittr’\n",
            "\n",
            "\n",
            "The following object is masked from ‘package:tidyr’:\n",
            "\n",
            "    extract\n",
            "\n",
            "\n",
            "Loading required package: IRdisplay\n",
            "\n",
            "Loading required package: png\n",
            "\n",
            "Warning message in library(package, lib.loc = lib.loc, character.only = TRUE, logical.return = TRUE, :\n",
            "“there is no package called ‘png’”\n",
            "Installing package into ‘/usr/local/lib/R/site-library’\n",
            "(as ‘lib’ is unspecified)\n",
            "\n",
            "Loading required package: grid\n",
            "\n",
            "Loading required package: knitr\n",
            "\n"
          ]
        }
      ]
    },
    {
      "cell_type": "markdown",
      "source": [
        "**Do not modify the following**"
      ],
      "metadata": {
        "id": "0xU1keysgotb"
      }
    },
    {
      "cell_type": "code",
      "source": [
        "if (!require(\"testthat\")) install.packages(\"testthat\"); library(\"testthat\")\n",
        "\n",
        "test_that(\"Test if all packages have been loaded\", {\n",
        "\n",
        "  expect_true(all(c(\"ggplot2\", \"tidyr\", \"dplyr\", \"stringr\", \"magrittr\", \"knitr\") %in% loadedNamespaces()))\n",
        "\n",
        "})"
      ],
      "metadata": {
        "id": "VkOd7qZXgqr8",
        "outputId": "0c5f43e8-c266-4f12-9d26-2c2a23cf1e8e",
        "colab": {
          "base_uri": "https://localhost:8080/"
        }
      },
      "execution_count": 2,
      "outputs": [
        {
          "output_type": "stream",
          "name": "stderr",
          "text": [
            "Loading required package: testthat\n",
            "\n",
            "\n",
            "Attaching package: ‘testthat’\n",
            "\n",
            "\n",
            "The following objects are masked from ‘package:magrittr’:\n",
            "\n",
            "    equals, is_less_than, not\n",
            "\n",
            "\n",
            "The following object is masked from ‘package:tidyr’:\n",
            "\n",
            "    matches\n",
            "\n",
            "\n",
            "The following object is masked from ‘package:dplyr’:\n",
            "\n",
            "    matches\n",
            "\n",
            "\n"
          ]
        },
        {
          "output_type": "stream",
          "name": "stdout",
          "text": [
            "\u001b[32mTest passed\u001b[39m 🥳\n"
          ]
        }
      ]
    },
    {
      "cell_type": "markdown",
      "source": [
        "## **Reference Tables for SSHT for Sample Means**"
      ],
      "metadata": {
        "id": "1WJSiLcxqAjt"
      }
    },
    {
      "cell_type": "markdown",
      "source": [
        "| Scenario | Parameter | Null hypothesis | Test statistic (t) | Degrees of freedom ($\\nu$) under $H_0$ |\n",
        "|----------|-----------|-----------------|--------------------|--------------------------------|\n",
        "| 1, One-sample mean | $\\mu$ | $\\mu = \\mu_0$ | $t = \\dfrac{\\bar{x} - \\mu_0}{s / \\sqrt{n}}$ | $n - 1$ |\n",
        "| 2, Paired sample (dependent) | $\\mu_D$ (mean difference) | $\\mu_D = d_0$ | $t = \\dfrac{\\bar{d}-d_0}{s_d / \\sqrt{n}}$ | $n - 1$ |\n",
        "| 3, Two-sample mean, equal variances (pooled) | $\\mu_1 - \\mu_2$ | $\\mu_1 - \\mu_2 = d_0$ | $s_p^2 = \\frac{(n_1-1)s_1^2 + (n_2-1)s_2^2}{n_1+n_2-2}$. <br> $t = \\dfrac{\\bar{x}_1 - \\bar{x}_2 - d_0}{s_p \\sqrt{\\tfrac{1}{n_1} + \\tfrac{1}{n_2}}}$ | $n_1 + n_2 - 2$ |\n",
        "| 4, Two-sample mean, unequal variances (Welch's) | $\\mu_1 - \\mu_2$ | $\\mu_1 - \\mu_2 = d_0$ | $t = \\dfrac{\\bar{x}_1 - \\bar{x}_2 - d_0}{\\sqrt{\\tfrac{s_1^2}{n_1} + \\tfrac{s_2^2}{n_2}}}$ | $\\left\\lfloor\\dfrac{\\big(\\tfrac{s_1^2}{n_1} + \\tfrac{s_2^2}{n_2}\\big)^2}{\\tfrac{s_1^4}{n_1^2(n_1-1)} + \\tfrac{s_2^4}{n_2^2(n_2-1)}}\\right\\rfloor$| |\n",
        "\n",
        "\n",
        "\n",
        "Assuming that data are i.i.d. generated from a Gaussian distribution (two dependent Gaussians for scenario 2; and two **independent** Gaussians for scenario 3 and 4), under the null hypothesis, the $t$ test statistics in the reference tables are approximately distributed as a Student's $T$ distribution with a number of degrees of freedom specified in the reference table. This implies a significant deviation from Gaussianity might weaken the tests (especially when data are heavily skewed or contain outliers).\n",
        "\n",
        "\n",
        "In fact, the validity of the $t$-test depends on how severely the data deviate from Gaussianity. We do not require the data to be truly normal to use the $t$-test, as it often remains useful when deviations from normality are mild. However, if the deviation is substantial (e.g., outliers, extreme values), the test can become unreliable.\n",
        "\n",
        "These $t$ tests are particularly useful when sample sizes are small, since the heavier tails of the $t$ distribution provide more accurate critical values. For large samples, however, the $T$ distribution converges to the standard normal distribution, and the tests reduce to the $z$-tests considered earlier in LSHT. Usually, n > 30 is sufficient.\n",
        "\n",
        "Any substantial deviation from the null hypothesis will tend to produce $t$ values that are unlikely under these $T$ distributions, which is why extreme values of $t$ provide evidence against $H_0$.\n",
        "\n",
        "| Test Type | Alternative Hypothesis | Rejection Region |\n",
        "|-----------|----------------------|----------------|\n",
        "| One-sided (right) | $H_1: \\theta > \\theta_0$ | Reject $H_0$ if $t > t_{\\nu\n",
        "  , 1-\\alpha}$ |\n",
        "| One-sided (left) | $H_1: \\theta < \\theta_0$ | Reject $H_0$ if $t < t_{\\nu, \\alpha}$ |\n",
        "| Two-sided | $H_1: \\theta \\neq \\theta_0$ | Reject $H_0$ if $|t| > t_{\\nu, 1-\\alpha/2}$ |\n",
        "\n",
        "Even though any deviation from $H_0$ can provide evidence against it, the choice between a one-sided and a two-sided test depends on our research goal and the direction of interest.\n",
        "\n",
        "If we specifically care about deviations in one direction — for example, testing whether the average battery life is less than 8 hours — a one-sided test is appropriate. Allocating all of the Type I error $\\alpha$ to that direction increases the test’s ability to detect deviations that matter in practice.\n",
        "\n",
        "On the other hand, if deviations in either direction are meaningful — for instance, testing whether the average rating of a show differs from 7.7, whether higher or lower — a two-sided test is necessary. Splitting $\\alpha$ between both tails ensures we properly account for evidence against $H_0$ in either direction.\n",
        "\n",
        "\n",
        "\n",
        "\n"
      ],
      "metadata": {
        "id": "KkwOCy-Xo3Xp"
      }
    },
    {
      "cell_type": "markdown",
      "source": [
        "#### **Reference Table for Small Sample Confidence Intervals**"
      ],
      "metadata": {
        "id": "xJHuqlETlKKq"
      }
    },
    {
      "cell_type": "markdown",
      "source": [
        "\n",
        "##### **Symmetric CI**\n",
        "\n",
        "| Scenario | Parameter | Confidence Interval (CI) | Degrees of freedom ($\\nu$) |\n",
        "|----------|-----------|--------------------------|---------------------------|\n",
        "| 1, One-sample mean | $\\mu$ | $\\bar{x} \\pm t_{\\nu, 1-\\alpha/2} \\frac{s}{\\sqrt{n}}$ | $n - 1$ |\n",
        "| 2, Paired sample (dependent) | $\\mu_D$ (mean difference) | $\\bar{d} \\pm t_{\\nu, 1-\\alpha/2} \\frac{s_d}{\\sqrt{n}}$ | $n - 1$ |\n",
        "| 3, Two-sample mean, equal variances (pooled) | $\\mu_1 - \\mu_2$ | $(\\bar{x}_1 - \\bar{x}_2) \\pm t_{\\nu, 1-\\alpha/2} \\cdot s_p \\sqrt{\\frac{1}{n_1} + \\frac{1}{n_2}}$ <br> where $s_p^2 = \\frac{(n_1-1)s_1^2 + (n_2-1)s_2^2}{n_1+n_2-2}$| $n_1 + n_2 - 2$ |\n",
        "| 4, Two-sample mean, unequal variances (Welch's) | $\\mu_1 - \\mu_2$ | $(\\bar{x}_1 - \\bar{x}_2) \\pm t_{\\nu, 1-\\alpha/2} \\sqrt{\\frac{s_1^2}{n_1} + \\frac{s_2^2}{n_2}}$ | $\\left\\lfloor\\dfrac{\\big(\\tfrac{s_1^2}{n_1} + \\tfrac{s_2^2}{n_2}\\big)^2}{\\tfrac{s_1^4}{n_1^2(n_1-1)} + \\tfrac{s_2^4}{n_2^2(n_2-1)}}\\right\\rfloor$ |\n"
      ],
      "metadata": {
        "id": "yM6QUKIIVLOo"
      }
    },
    {
      "cell_type": "markdown",
      "source": [
        "##### **Right-tailed CI**\n",
        "\n",
        "\n",
        "| Scenario | Parameter | Confidence Interval (CI) | Degrees of freedom ($\\nu$) |\n",
        "|----------|-----------|--------------------------|---------------------------|\n",
        "| 1, One-sample mean | $\\mu$ | $\\bar{x} - t_{\\nu, 1-\\alpha} \\frac{s}{\\sqrt{n}}, \\infty)$ | $n - 1$ |\n",
        "| 2, Paired sample (dependent) | $\\mu_D$ (mean difference) | $\\bar{d} - t_{\\nu, 1-\\alpha} \\frac{s_d}{\\sqrt{n}}, \\infty)$ | $n - 1$ |\n",
        "| 3, Two-sample mean, equal variances (pooled) | $\\mu_1 - \\mu_2$ | $(\\bar{x}_1 - \\bar{x}_2) - t_{\\nu, 1-\\alpha} \\cdot s_p \\sqrt{\\frac{1}{n_1} + \\frac{1}{n_2}}, \\infty)$ <br> where $s_p^2 = \\frac{(n_1-1)s_1^2 + (n_2-1)s_2^2}{n_1+n_2-2}$ | $n_1 + n_2 - 2$ |\n",
        "| 4, Two-sample mean, unequal variances (Welch's) | $\\mu_1 - \\mu_2$ | $(\\bar{x}_1 - \\bar{x}_2) - t_{\\nu, 1-\\alpha} \\sqrt{\\frac{s_1^2}{n_1} + \\frac{s_2^2}{n_2}}, \\infty)$ | $\\left\\lfloor\\dfrac{\\big(\\tfrac{s_1^2}{n_1} + \\tfrac{s_2^2}{n_2}\\big)^2}{\\tfrac{s_1^4}{n_1^2(n_1-1)} + \\tfrac{s_2^4}{n_2^2(n_2-1)}}\\right\\rfloor$ |\n",
        "\n",
        "\n"
      ],
      "metadata": {
        "id": "YaEK2P2glQ6n"
      }
    },
    {
      "cell_type": "markdown",
      "source": [
        "##### **Left-tailed CI**\n",
        "\n",
        "\n",
        "| Scenario | Parameter | Confidence Interval (CI) | Degrees of freedom ($\\nu$) |\n",
        "|----------|-----------|--------------------------|---------------------------|\n",
        "| 1, One-sample mean | $\\mu$ | $(-\\infty, \\bar{x} + t_{\\nu, 1-\\alpha} \\frac{s}{\\sqrt{n}}]$ | $n - 1$ |\n",
        "| 2, Paired sample (dependent) | $\\mu_D$ (mean difference) | $(-\\infty, \\bar{d} + t_{\\nu, 1-\\alpha} \\frac{s_d}{\\sqrt{n}}]$ | $n - 1$ |\n",
        "| 3, Two-sample mean, equal variances (pooled) | $\\mu_1 - \\mu_2$ | $(-\\infty, (\\bar{x}_1 - \\bar{x}_2) + t_{\\nu, 1-\\alpha} \\cdot s_p \\sqrt{\\frac{1}{n_1} + \\frac{1}{n_2}}]$ <br> where $s_p^2 = \\frac{(n_1-1)s_1^2 + (n_2-1)s_2^2}{n_1+n_2-2}$ | $n_1 + n_2 - 2$ |\n",
        "| 4, Two-sample mean, unequal variances (Welch's) | $\\mu_1 - \\mu_2$ | $(-\\infty, (\\bar{x}_1 - \\bar{x}_2) + t_{\\nu, 1-\\alpha} \\sqrt{\\frac{s_1^2}{n_1} + \\frac{s_2^2}{n_2}}]$ | $\\left\\lfloor\\dfrac{\\big(\\tfrac{s_1^2}{n_1} + \\tfrac{s_2^2}{n_2}\\big)^2}{\\tfrac{s_1^4}{n_1^2(n_1-1)} + \\tfrac{s_2^4}{n_2^2(n_2-1)}}\\right\\rfloor$ |\n",
        "\n",
        "\n"
      ],
      "metadata": {
        "id": "5xAeyE37lTUU"
      }
    },
    {
      "cell_type": "markdown",
      "source": [
        "###**When to Use The Welch's $t$-test?**\n",
        "\n",
        "\n",
        "Welch's $t$-test is more robust than the pooled-variance two-sample $t$-test because it does not assume equal population variances. It should be used when the two samples are independent and there is evidence that the variances differ.\n",
        "\n",
        "- **Advantage:** Handles unequal variances and sample sizes reliably.  \n",
        "- **Disadvantage:** Slightly less efficient (less power) than the pooled test if the population variances are actually equal.  \n",
        "\n",
        "**Rule of Thumb:**  \n",
        "If  \n",
        "$$\n",
        "\\frac{\\text{larger } s^2}{\\text{smaller } s^2} > 3,\n",
        "$$  \n",
        "then  use  Welch's $t$-test; otherwise, the pooled-variance $t$-test is usually **acceptable**."
      ],
      "metadata": {
        "id": "xB-dmHYBlpyF"
      }
    },
    {
      "cell_type": "markdown",
      "source": [
        "### **Connection Between Confidence Intervals and Hypothesis Testing**\n",
        "\n",
        "Confidence intervals (CIs) provide a range of plausible values for a parameter. They are closely linked to hypothesis tests: whether a null hypothesis $H_0$ is rejected at significance level $\\alpha$ can often be inferred from the corresponding CI.\n",
        "\n",
        "**Two-sided test**  \n",
        "$$\n",
        "H_0: \\theta = \\theta_0 \\\\\n",
        "H_1: \\theta \\neq \\theta_0\n",
        "$$  \n",
        "\n",
        "If $\\theta_0$ lies **outside** the $(1-\\alpha) \\times 100\\%$ two-sided CI, we reject $H_0$ at level $\\alpha$.  \n"
      ],
      "metadata": {
        "id": "heLmiA29WYre"
      }
    },
    {
      "cell_type": "markdown",
      "source": [
        "## **Performing `t.test` in R**\n",
        "\n",
        "R provides a built-in function `t.test()` to perform hypothesis testing on means using the Student’s t-distribution. It can handle:\n",
        "\n",
        "- One-sample t-tests\n",
        "- Two-sample t-tests (equal or unequal variance)\n",
        "- Paired-sample t-tests\n",
        "\n",
        "It also handles small-sample confidence intervals on means (Gaussianity assumed).\n",
        "\n"
      ],
      "metadata": {
        "id": "BFQZUQsOnmou"
      }
    },
    {
      "cell_type": "markdown",
      "source": [
        "\n",
        "### **Vector Interface `t.test` - Default Usage**\n",
        "\n",
        "**Usage:**\n",
        "\n",
        "```r\n",
        "t.test(x, y = NULL,\n",
        "       alternative = c(\"two.sided\", \"less\", \"greater\"),\n",
        "       mu = 0,\n",
        "       paired = FALSE,\n",
        "       var.equal = FALSE,\n",
        "       conf.level = 0.95)\n",
        "```\n",
        "\n",
        "**Arguments:**\n",
        "\n",
        "- `x`: numeric vector of data (one-sample or first sample)\n",
        "- `y`: numeric vector of second sample (for two-sample tests)\n",
        "- `mu`: Hypothesised mean for one-sample tests, or hypothesised difference for paired/two-sample tests\n",
        "- `alternative`: `\"two.sided\"` (default), `\"less\"`, `\"greater\"`\n",
        "- `paired`: TRUE for paired-sample test, FALSE for independent samples\n",
        "- `var.equal`: TRUE for pooled-variance two-sample test, FALSE for Welch’s test\n",
        "- `conf.level`: confidence level for interval (default 0.95)\n",
        "\n",
        "#### **Reference Table**\n",
        "| Scenario              | x             | y             | paired | var.equal | mu / difference under H0 |\n",
        "|------------------------|---------------|---------------|--------|-----------|--------------------------|\n",
        "| One-sample             | data          | -             | FALSE  | -         | hypothesised mean        |\n",
        "| Two-sample Pooled      | sample1       | sample2       | FALSE  | TRUE      | hypothesised difference  |\n",
        "| Two-sample Welch's       | sample1       | sample2       | FALSE  | FALSE     | hypothesised difference  |\n",
        "| Paired-sample          | before        | after         | TRUE   | -         | hypothesised mean difference   |\n",
        "\n"
      ],
      "metadata": {
        "id": "s9zSaaNMtVUj"
      }
    },
    {
      "cell_type": "markdown",
      "source": [
        "### **Formula Interface**\n",
        "\n",
        "The `t.test` function also provides a **formula interface**, which is often more convenient when working with `data.frame`s.  \n",
        "\n",
        "- It is still the **same function** as the vector interface, but behaves differently depending on the input type.  \n",
        "- Internally, `t.test` is an **S3 generic** in R, meaning it has different methods depending on whether you pass a numeric vector or a formula.  \n",
        "- This is why we saw the **vector interface** earlier, and now we have the **formula interface**.\n",
        "\n",
        "**Usage:**\n",
        "\n",
        "```r\n",
        "t.test(formula, data,\n",
        "       subset,\n",
        "       na.action,\n",
        "       alternative = c(\"two.sided\", \"less\", \"greater\"),\n",
        "       mu = 0,\n",
        "       paired = FALSE,\n",
        "       var.equal = FALSE,\n",
        "       conf.level = 0.95)\n",
        "```\n",
        "\n",
        "**Arguments:**\n",
        "\n",
        "- `formula`: A formula describing the model, e.g. `response ~ group` for two-sample tests, or `response` for one-sample tests  \n",
        "- `data`: The data frame containing the variables in the formula  \n",
        "- `subset`: Optional logical vector to select a subset of the data  \n",
        "- `na.action`: How to handle missing values (`na.omit` by default)  \n",
        "- `alternative`: `\"two.sided\"` (default), `\"less\"`, or `\"greater\"`  \n",
        "- `mu`: Hypothesised mean for one-sample tests, or hypothesised difference for paired/two-sample tests  \n",
        "- `paired`: `TRUE` for paired-sample test, `FALSE` for independent samples  \n",
        "- `var.equal`: `TRUE` for pooled-variance two-sample test, `FALSE` for Welch’s test  \n",
        "- `conf.level`: Confidence level for the interval (default 0.95)"
      ],
      "metadata": {
        "id": "maatXz5duF9A"
      }
    },
    {
      "cell_type": "markdown",
      "source": [
        "A **`formula`** specifies which column contains the response variable (numeric values) and which column contains the grouping variable (factor).  \n",
        "  - Typical form: `response ~ group`  \n",
        "  - For a one-sample test, you can just use `response` (no grouping variable needed).  \n",
        "- Data should ideally be in **long format**, where one column specifies the measured values, and another column specifies the group/label. This is especially useful for multiple groups.\n"
      ],
      "metadata": {
        "id": "jPKpltSYvPbA"
      }
    },
    {
      "cell_type": "markdown",
      "source": [
        "#### **Reference Table**\n",
        "\n",
        "| Scenario              | Formula                         | paired | var.equal | mu / difference under H0 |\n",
        "|-----------------------|---------------------------------|--------|-----------|--------------------------|\n",
        "| One-sample            | response ~ 1                     | FALSE  | -         | hypothesised mean        |\n",
        "| Two-sample Pooled     | response ~ group, var.equal=TRUE | FALSE  | TRUE      | hypothesised difference  |\n",
        "| Two-sample Welch's    | response ~ group                 | FALSE  | FALSE     | hypothesised difference  |\n",
        "| Paired-sample         | (response_after - response_before) ~ 1 | TRUE   | -         | hypothesised mean difference |\n",
        "\n",
        "\n",
        "\n"
      ],
      "metadata": {
        "id": "rRtMaOlZvfE2"
      }
    },
    {
      "cell_type": "markdown",
      "source": [
        "### **Examples**\n",
        "\n",
        "The `sleep` dataset contains extra hours of sleep gained by 20 patients under two different drugs.\n",
        "\n",
        "Through out this section, we assume a 95% significance level."
      ],
      "metadata": {
        "id": "0i4ebXzBrgj4"
      }
    },
    {
      "cell_type": "code",
      "source": [
        "sleep %>% str()"
      ],
      "metadata": {
        "id": "WoKUKkkYsj4S",
        "outputId": "5226c88d-6064-43c4-8d2a-5d374c81a1be",
        "colab": {
          "base_uri": "https://localhost:8080/"
        }
      },
      "execution_count": 3,
      "outputs": [
        {
          "output_type": "stream",
          "name": "stdout",
          "text": [
            "'data.frame':\t20 obs. of  3 variables:\n",
            " $ extra: num  0.7 -1.6 -0.2 -1.2 -0.1 3.4 3.7 0.8 0 2 ...\n",
            " $ group: Factor w/ 2 levels \"1\",\"2\": 1 1 1 1 1 1 1 1 1 1 ...\n",
            " $ ID   : Factor w/ 10 levels \"1\",\"2\",\"3\",\"4\",..: 1 2 3 4 5 6 7 8 9 10 ...\n"
          ]
        }
      ]
    },
    {
      "cell_type": "markdown",
      "source": [
        "#### **Example 1: One-Sample t-test**\n",
        "\n",
        "Is there any evidence that the average extra sleep (in hours) of the first group different from 1?\n",
        "\n"
      ],
      "metadata": {
        "id": "Y1m3sE2UqJR9"
      }
    },
    {
      "cell_type": "markdown",
      "source": [
        "Let $x_1, \\dots, x_{n_1}$ be the extra sleep hours gained by patients in the group `\"1\"` in the `sleep` dataset. We assume that\n",
        "\n",
        "$$\n",
        "x_1, \\dots, x_{n_1} \\sim \\text{i.i.d. } \\mathcal{N}(\\mu, \\sigma^2)\n",
        "$$\n",
        "\n",
        "We want to test whether there is any evidence that the average extra sleep (in hours) of the first group is different from 1. Formally, the hypotheses are:\n",
        "$$\n",
        "\\begin{align}\n",
        "H_0: \\mu &= 1 \\\\\n",
        "H_1: \\mu &\\neq 1\n",
        "\\end{align}\n",
        "$$\n",
        "\n",
        "Since the sample size is small, a $t$-test might be appropriate here."
      ],
      "metadata": {
        "id": "tCZH2eGRroEV"
      }
    },
    {
      "cell_type": "code",
      "source": [
        "sleep %>% filter(group == \"1\") -> group1\n",
        "group1 %>% str()"
      ],
      "metadata": {
        "id": "zy0ulH_8tBwO",
        "outputId": "1f5d4f4a-c4fb-421c-dd19-5f26be66ed54",
        "colab": {
          "base_uri": "https://localhost:8080/"
        }
      },
      "execution_count": 4,
      "outputs": [
        {
          "output_type": "stream",
          "name": "stdout",
          "text": [
            "'data.frame':\t10 obs. of  3 variables:\n",
            " $ extra: num  0.7 -1.6 -0.2 -1.2 -0.1 3.4 3.7 0.8 0 2\n",
            " $ group: Factor w/ 2 levels \"1\",\"2\": 1 1 1 1 1 1 1 1 1 1\n",
            " $ ID   : Factor w/ 10 levels \"1\",\"2\",\"3\",\"4\",..: 1 2 3 4 5 6 7 8 9 10\n"
          ]
        }
      ]
    },
    {
      "cell_type": "markdown",
      "source": [
        "The following code cells give equivalent `t.test` results."
      ],
      "metadata": {
        "id": "Dj_jSOEywoBQ"
      }
    },
    {
      "cell_type": "code",
      "source": [
        "t.test(group1$extra, mu = 1, alternative = \"two.sided\")"
      ],
      "metadata": {
        "id": "YcNEO5XpwohR",
        "outputId": "6ba4dda1-e9e4-4e03-998a-257728be9715",
        "colab": {
          "base_uri": "https://localhost:8080/",
          "height": 204
        }
      },
      "execution_count": 5,
      "outputs": [
        {
          "output_type": "display_data",
          "data": {
            "text/plain": [
              "\n",
              "\tOne Sample t-test\n",
              "\n",
              "data:  group1$extra\n",
              "t = -0.4419, df = 9, p-value = 0.669\n",
              "alternative hypothesis: true mean is not equal to 1\n",
              "95 percent confidence interval:\n",
              " -0.5297804  2.0297804\n",
              "sample estimates:\n",
              "mean of x \n",
              "     0.75 \n"
            ]
          },
          "metadata": {}
        }
      ]
    },
    {
      "cell_type": "code",
      "source": [
        "t.test(extra~1, data = group1, mu = 1, alternative = \"two.sided\")"
      ],
      "metadata": {
        "id": "gWJqaSRDyFLb",
        "outputId": "fb1b1c9b-1d20-42f3-9f81-3b23fc2d77cf",
        "colab": {
          "base_uri": "https://localhost:8080/",
          "height": 204
        }
      },
      "execution_count": 6,
      "outputs": [
        {
          "output_type": "display_data",
          "data": {
            "text/plain": [
              "\n",
              "\tOne Sample t-test\n",
              "\n",
              "data:  extra\n",
              "t = -0.4419, df = 9, p-value = 0.669\n",
              "alternative hypothesis: true mean is not equal to 1\n",
              "95 percent confidence interval:\n",
              " -0.5297804  2.0297804\n",
              "sample estimates:\n",
              "mean of x \n",
              "     0.75 \n"
            ]
          },
          "metadata": {}
        }
      ]
    },
    {
      "cell_type": "markdown",
      "source": [
        "##### **What Does the Summary from `t.test` Tell Us?**\n",
        "\n",
        "`t.test()` by default generates a **statistical summary**, which includes:\n",
        "\n",
        "- $t$-statistic: the value of the test statistic for the t-test  \n",
        "- Degrees of freedom (df): for the $t$-distribution under the null hypothesis  \n",
        "- p-value: the probability of observing a value as extreme (or more extreme) than the observed test statistic, assuming the null hypothesis is true  \n",
        "  - If the **p-value is smaller than the significance level** $\\alpha$, it is equivalent to rejecting the null hypothesis in the Neyman-Pearson framework. Quite handy, isn't it?\n",
        "\n",
        "- Confidence interval (CI): a plausible range for population mean (by default, a symmetric CI at 95% confidence level).\n",
        "  - If the hypothesised value under `H0` lies **outside** this interval, it corresponds to rejecting `H0` at the same significance level. **This is a nice connection between confidence interval and hypothesis testing**.\n",
        "\n",
        "**Note that we have not spent a great deal of time talking about p-values in this unit (yet).** To make a decision (whether or not to reject the null hypothesis), we may need to check whether or not the $t$ test statistics in in the rejection region. You can save the `t.test` output to a variable and then use that to extract quantities of interest.\n",
        "\n",
        "\n",
        "\n"
      ],
      "metadata": {
        "id": "9QeUPFYNyLxB"
      }
    },
    {
      "cell_type": "code",
      "source": [
        "t.test(group1$extra, mu = 1, alternative = \"two.sided\") -> output\n",
        "output$statistic #test-statistics\n",
        "output$parameter #DF"
      ],
      "metadata": {
        "id": "3vgkBDhH0mpV",
        "outputId": "8dea786f-b5ed-452e-9923-188f2f052690",
        "colab": {
          "base_uri": "https://localhost:8080/",
          "height": 51
        }
      },
      "execution_count": 7,
      "outputs": [
        {
          "output_type": "display_data",
          "data": {
            "text/html": [
              "<strong>t:</strong> -0.44190338023794"
            ],
            "text/markdown": "**t:** -0.44190338023794",
            "text/latex": "\\textbf{t:} -0.44190338023794",
            "text/plain": [
              "         t \n",
              "-0.4419034 "
            ]
          },
          "metadata": {}
        },
        {
          "output_type": "display_data",
          "data": {
            "text/html": [
              "<strong>df:</strong> 9"
            ],
            "text/markdown": "**df:** 9",
            "text/latex": "\\textbf{df:} 9",
            "text/plain": [
              "df \n",
              " 9 "
            ]
          },
          "metadata": {}
        }
      ]
    },
    {
      "cell_type": "markdown",
      "source": [
        "We need to compare the absolute value of the $t$-statistic (as it is a two-sided test) to a critical value.  In this case, the critical value is the 97.5th percentile of the Student’s t-distribution with 9 degrees of freedom.  \n",
        "\n",
        "If the absolute value of the t-statistic exceeds this critical value, we reject the null hypothesis at the 95% significance level.\n"
      ],
      "metadata": {
        "id": "-_i8hIBA1QlJ"
      }
    },
    {
      "cell_type": "code",
      "source": [
        "abs(output$statistic) > qt(0.975, df = 9)\n",
        "#Do not reject the null hypothesis"
      ],
      "metadata": {
        "id": "9tO0xpCH1P44",
        "outputId": "6583889b-5b26-427d-bc11-f4cc5687a9fb",
        "colab": {
          "base_uri": "https://localhost:8080/",
          "height": 34
        }
      },
      "execution_count": 8,
      "outputs": [
        {
          "output_type": "display_data",
          "data": {
            "text/html": [
              "<strong>t:</strong> FALSE"
            ],
            "text/markdown": "**t:** FALSE",
            "text/latex": "\\textbf{t:} FALSE",
            "text/plain": [
              "    t \n",
              "FALSE "
            ]
          },
          "metadata": {}
        }
      ]
    },
    {
      "cell_type": "markdown",
      "source": [
        "#### **Is The Gaussian Assumption Valid?**"
      ],
      "metadata": {
        "id": "u0K0JFIu5Apx"
      }
    },
    {
      "cell_type": "markdown",
      "source": [
        "We can use `qqplot` to check the **validity of the Gaussian assumption**. (There are formal tests for normality, but these are out of the scope of this unit.)  \n",
        "\n",
        "However, this approach is not perfect, especially with small sample sizes (here, n = 10). Looking at the QQ-plot below, the points are not perfectly aligned with the theoretical line, but this could simply be due to random variation. In this example, we do **not see any substantially different values**, which would indicate extreme values or outliers (hence, non-Gaussianity).  \n",
        "\n",
        "Reading a QQ-line is more like an **art than a strict rule**. You need to be flexible enough to recognise differences, while considering that small deviations may be due to chance.  \n",
        "\n",
        "To master QQ-plot reading, try different distributions, explore various sample sizes, and observe how point alignment and deviations change. This experience will help you interpret QQ-plots more effectively.\n"
      ],
      "metadata": {
        "id": "ZOYU0-SP5KIR"
      }
    },
    {
      "cell_type": "code",
      "source": [
        "qqnorm(group1$extra)\n",
        "qqline(group1$extra)"
      ],
      "metadata": {
        "id": "U_us7CvH44Ie",
        "outputId": "884c8011-98cb-49b4-9303-f08208d09c38",
        "colab": {
          "base_uri": "https://localhost:8080/",
          "height": 437
        }
      },
      "execution_count": 9,
      "outputs": [
        {
          "output_type": "display_data",
          "data": {
            "text/plain": [
              "Plot with title “Normal Q-Q Plot”"
            ],
            "image/png": "[encoded data removed]"
          },
          "metadata": {
            "image/png": {
              "width": 420,
              "height": 420
            }
          }
        }
      ]
    },
    {
      "cell_type": "markdown",
      "source": [
        "#### **Example 2: Two-Sample t-test**\n",
        "\n",
        "Is there a difference in the mean extra sleep hours between patients taking Drug `\"1\"` and Drug `\"2\"`?\n"
      ],
      "metadata": {
        "id": "9jT54DYa13sg"
      }
    },
    {
      "cell_type": "markdown",
      "source": [
        "Note that the `sleep` dataset is already in the long format, where `extra` is the response variable and `group` shows the labels."
      ],
      "metadata": {
        "id": "Tz07Aj9_2ghd"
      }
    },
    {
      "cell_type": "code",
      "source": [
        "sleep %>% kable()"
      ],
      "metadata": {
        "id": "_lNw1_nX2fGm",
        "outputId": "f069b07f-49e0-4a5f-e8f5-9ecd691357ac",
        "colab": {
          "base_uri": "https://localhost:8080/",
          "height": 425
        }
      },
      "execution_count": 10,
      "outputs": [
        {
          "output_type": "display_data",
          "data": {
            "text/plain": [
              "\n",
              "\n",
              "| extra|group |ID |\n",
              "|-----:|:-----|:--|\n",
              "|   0.7|1     |1  |\n",
              "|  -1.6|1     |2  |\n",
              "|  -0.2|1     |3  |\n",
              "|  -1.2|1     |4  |\n",
              "|  -0.1|1     |5  |\n",
              "|   3.4|1     |6  |\n",
              "|   3.7|1     |7  |\n",
              "|   0.8|1     |8  |\n",
              "|   0.0|1     |9  |\n",
              "|   2.0|1     |10 |\n",
              "|   1.9|2     |1  |\n",
              "|   0.8|2     |2  |\n",
              "|   1.1|2     |3  |\n",
              "|   0.1|2     |4  |\n",
              "|  -0.1|2     |5  |\n",
              "|   4.4|2     |6  |\n",
              "|   5.5|2     |7  |\n",
              "|   1.6|2     |8  |\n",
              "|   4.6|2     |9  |\n",
              "|   3.4|2     |10 |"
            ]
          },
          "metadata": {}
        }
      ]
    },
    {
      "cell_type": "markdown",
      "source": [
        "Let $x_1, \\dots, x_{n_1}$ and $y_1, \\dots, y_{n_2}$  be the extra sleep hours gained by patients in the groups `\"1\"` and `\"2\"` in the `sleep` dataset. We assume that\n",
        "\n",
        "$$\n",
        "x_1, \\dots, x_{n_1} \\sim \\text{i.i.d. } \\mathcal{N}(\\mu_1, \\sigma_1^2)\n",
        "$$\n",
        "\n",
        "$$\n",
        "y_1, \\dots, y_{n_2} \\sim \\text{i.i.d. } \\mathcal{N}(\\mu_2, \\sigma_2^2)\n",
        "$$\n",
        "\n",
        "\n",
        "We want to test whether there is any evidence that the average extra sleep hours of the two groups are diffent. Formally, the hypotheses are:\n",
        "$$\n",
        "\\begin{align}\n",
        "H_0: \\mu_1 - \\mu_2 &= 0 \\\\\n",
        "H_1: \\mu_1 - \\mu_2 &\\neq 0\n",
        "\\end{align}\n",
        "$$\n",
        "\n",
        "This is **not a paired sample**, since patients are allocated into two separate groups, and no patient takes both drugs.  It is also reasonable to assume that these two populations are **independent**, at least in this example, where we assume the study is well-signed, but this assumption may not always hold in practice.  \n",
        "\n",
        "*A quick detour from what we are doing…* Various factors can compromise independence, for example:  \n",
        "\n",
        "- If patients know which drug they are taking, their behavior or reporting may be affected (placebo effect, expectations, or bias).  \n",
        "- If there is some systematic way in which patients are assigned to groups, the two samples may not be truly independent.  \n",
        "\n",
        "Always think critically about whether the **independence assumption** is valid for your study.\n"
      ],
      "metadata": {
        "id": "xxdh1Guv2vhG"
      }
    },
    {
      "cell_type": "markdown",
      "source": [
        "***Back to the question***, given the sample sizes, we can use a two-sample t-test. Which one to use? Let's take a look at box plots of `extra` for the two groups."
      ],
      "metadata": {
        "id": "5qpb18zh4dcc"
      }
    },
    {
      "cell_type": "code",
      "source": [
        "sleep %>%\n",
        "  ggplot(aes(x = group, y = extra)) +\n",
        "  geom_boxplot()"
      ],
      "metadata": {
        "id": "xlpVrFIH6m1h",
        "outputId": "32501686-ee29-44e7-d902-599be183a5d2",
        "colab": {
          "base_uri": "https://localhost:8080/",
          "height": 437
        }
      },
      "execution_count": 11,
      "outputs": [
        {
          "output_type": "display_data",
          "data": {
            "text/plain": [
              "plot without title"
            ],
            "image/png": "[encoded data removed]"
          },
          "metadata": {
            "image/png": {
              "width": 420,
              "height": 420
            }
          }
        }
      ]
    },
    {
      "cell_type": "markdown",
      "source": [
        "Group 2 seems to have a higher average of extra hours of sleep, and the IQR appears to be roughly double that of group 1. There do not seem to be any outliers in either group.  The median in group 2 appears to be slightly shifted towards the 25% quantile, which could suggest non-Gaussianity.\n",
        "\n",
        "However, these might also be due to random variation, especially since the sample size for each group is quite small. We can also check the **rule of thumb** discussed earlier to decide whether to use the pooled-variance t-test or Welch's test.\n"
      ],
      "metadata": {
        "id": "ULnvJY1d65YP"
      }
    },
    {
      "cell_type": "code",
      "source": [
        "sleep %>%\n",
        "  group_by(group) %>%\n",
        "  summarise(smpl_var = var(extra)) -> group_vars\n",
        "\n",
        "group_vars\n",
        "\n",
        "group_vars %>% pull(smpl_var) %>% max / group_vars %>% pull(smpl_var) %>% min"
      ],
      "metadata": {
        "id": "38DMbfhS7dgN",
        "outputId": "690fee90-64b5-4ca9-d10b-1d64d1825acc",
        "colab": {
          "base_uri": "https://localhost:8080/",
          "height": 176
        }
      },
      "execution_count": 12,
      "outputs": [
        {
          "output_type": "display_data",
          "data": {
            "text/html": [
              "<table class=\"dataframe\">\n",
              "<caption>A tibble: 2 × 2</caption>\n",
              "<thead>\n",
              "\t<tr><th scope=col>group</th><th scope=col>smpl_var</th></tr>\n",
              "\t<tr><th scope=col>&lt;fct&gt;</th><th scope=col>&lt;dbl&gt;</th></tr>\n",
              "</thead>\n",
              "<tbody>\n",
              "\t<tr><td>1</td><td>3.200556</td></tr>\n",
              "\t<tr><td>2</td><td>4.009000</td></tr>\n",
              "</tbody>\n",
              "</table>\n"
            ],
            "text/markdown": "\nA tibble: 2 × 2\n\n| group &lt;fct&gt; | smpl_var &lt;dbl&gt; |\n|---|---|\n| 1 | 3.200556 |\n| 2 | 4.009000 |\n\n",
            "text/latex": "A tibble: 2 × 2\n\\begin{tabular}{ll}\n group & smpl\\_var\\\\\n <fct> & <dbl>\\\\\n\\hline\n\t 1 & 3.200556\\\\\n\t 2 & 4.009000\\\\\n\\end{tabular}\n",
            "text/plain": [
              "  group smpl_var\n",
              "1 1     3.200556\n",
              "2 2     4.009000"
            ]
          },
          "metadata": {}
        },
        {
          "output_type": "display_data",
          "data": {
            "text/html": [
              "1.2525950355841"
            ],
            "text/markdown": "1.2525950355841",
            "text/latex": "1.2525950355841",
            "text/plain": [
              "[1] 1.252595"
            ]
          },
          "metadata": {}
        }
      ]
    },
    {
      "cell_type": "markdown",
      "source": [
        "As\n",
        "\n",
        "$$\n",
        "\\frac{\\text{larger } s^2}{\\text{smaller } s^2} = \\frac{4.009000}{3.200556} \\approx 1.25 < 3,\n",
        "$$  "
      ],
      "metadata": {
        "id": "wSZOVLSE71KP"
      }
    },
    {
      "cell_type": "markdown",
      "source": [
        "We can use the pooled-variance t-test in this example. The following code cells give the same outputs."
      ],
      "metadata": {
        "id": "xt1uWMo78udY"
      }
    },
    {
      "cell_type": "code",
      "source": [
        "t.test(x = sleep %>% filter(group == \"1\") %>% pull(extra),\n",
        "       y = sleep %>% filter(group == \"2\") %>% pull(extra),\n",
        "       mu = 0, alternative = \"two.sided\", var.equal = TRUE)"
      ],
      "metadata": {
        "id": "VU4Hgk5J9Ecb",
        "outputId": "75b7e08e-0092-44fa-8a6a-693b9392bd9b",
        "colab": {
          "base_uri": "https://localhost:8080/",
          "height": 204
        }
      },
      "execution_count": 13,
      "outputs": [
        {
          "output_type": "display_data",
          "data": {
            "text/plain": [
              "\n",
              "\tTwo Sample t-test\n",
              "\n",
              "data:  sleep %>% filter(group == \"1\") %>% pull(extra) and sleep %>% filter(group == \"2\") %>% pull(extra)\n",
              "t = -1.8608, df = 18, p-value = 0.07919\n",
              "alternative hypothesis: true difference in means is not equal to 0\n",
              "95 percent confidence interval:\n",
              " -3.363874  0.203874\n",
              "sample estimates:\n",
              "mean of x mean of y \n",
              "     0.75      2.33 \n"
            ]
          },
          "metadata": {}
        }
      ]
    },
    {
      "cell_type": "markdown",
      "source": [
        "Here, the p-value suggests there is no evidence to reject $H_0$ at the $\\alpha = 0.05$ significance level. We can also compare the absolute value of test statistic (two-sided test) to  the 97.5th percentile of the Student’s t-distribution with 18 degrees of freedom (10 + 10 - 2)."
      ],
      "metadata": {
        "id": "_kkl6BBl9fp2"
      }
    },
    {
      "cell_type": "code",
      "source": [
        "t.test(extra ~ group, data = sleep, mu = 0, alternative = \"two.sided\", var.equal = TRUE) -> output\n",
        "abs(output$statistic) > qt(0.975, df = 18)\n",
        "# Do not reject the null hypothesis"
      ],
      "metadata": {
        "id": "2YOFzNcn83k_",
        "outputId": "bf783f16-990a-4169-b832-8788f5b77133",
        "colab": {
          "base_uri": "https://localhost:8080/",
          "height": 34
        }
      },
      "execution_count": 14,
      "outputs": [
        {
          "output_type": "display_data",
          "data": {
            "text/html": [
              "<strong>t:</strong> FALSE"
            ],
            "text/markdown": "**t:** FALSE",
            "text/latex": "\\textbf{t:} FALSE",
            "text/plain": [
              "    t \n",
              "FALSE "
            ]
          },
          "metadata": {}
        }
      ]
    },
    {
      "cell_type": "markdown",
      "source": [
        "### **Exercise**\n",
        "\n",
        "Is there a difference in the mean extra sleep hours between patients taking Drug \"1\" and Drug \"2\"?  \n",
        "\n",
        "Perform a **Welch’s t-test** to test this hypothesis using `t.test` function and compare the results to the previous two-sample t-test obtained using the pooled variance.\n"
      ],
      "metadata": {
        "id": "zPJuc4Jx-qWi"
      }
    },
    {
      "cell_type": "code",
      "source": [
        "t.test(extra ~ group, data = sleep, mu = 0, alternative = \"two.sided\", var.equal = FALSE) -> output\n",
        "output\n",
        "abs(output$statistic) > qt(0.975, df = floor(output$parameter))\n",
        "# Do not reject the null hypothesis"
      ],
      "metadata": {
        "id": "FDazCOR6_BAe",
        "outputId": "9d0fbdad-bbf2-4f2b-891c-afc0123769ef",
        "colab": {
          "base_uri": "https://localhost:8080/",
          "height": 221
        }
      },
      "execution_count": 15,
      "outputs": [
        {
          "output_type": "display_data",
          "data": {
            "text/plain": [
              "\n",
              "\tWelch Two Sample t-test\n",
              "\n",
              "data:  extra by group\n",
              "t = -1.8608, df = 17.776, p-value = 0.07939\n",
              "alternative hypothesis: true difference in means between group 1 and group 2 is not equal to 0\n",
              "95 percent confidence interval:\n",
              " -3.3654832  0.2054832\n",
              "sample estimates:\n",
              "mean in group 1 mean in group 2 \n",
              "           0.75            2.33 \n"
            ]
          },
          "metadata": {}
        },
        {
          "output_type": "display_data",
          "data": {
            "text/html": [
              "<strong>t:</strong> FALSE"
            ],
            "text/markdown": "**t:** FALSE",
            "text/latex": "\\textbf{t:} FALSE",
            "text/plain": [
              "    t \n",
              "FALSE "
            ]
          },
          "metadata": {}
        }
      ]
    },
    {
      "cell_type": "markdown",
      "source": [
        "## **The T Statistical Table**\n",
        "\n"
      ],
      "metadata": {
        "id": "IeNS-OHIA4uK"
      }
    },
    {
      "cell_type": "markdown",
      "source": [
        "This table shows the critical t-values for the Student’s t-distribution at various degrees of freedom (df) and significance levels ($\\alpha$). Historically, such tables were used in textbooks and labs before computers to quickly determine whether a t-statistic was extreme enough to reject the null hypothesis.  \n",
        "\n",
        "Mathematically, each value corresponds to a quantile of the cumulative distribution function (CDF) of the $t$-distribution. For example, the entry for df = 10 and $\\alpha = 0.05$ is the 95th percentile of the t-distribution with 10 degrees of freedom, which is the critical value for a **one-sided right-tailed test at the 5% significance level**, or equivalently, for a **two-sided test at the 10% significance level**.\n",
        "\n",
        "This allows you to compare your observed t-statistic directly to the table value to decide whether to reject the null hypothesis.\n",
        "\n",
        "**VERY IMPORTANT:** Note that variations of t-statistic tables exist. Some show **two-sided critical values** ($1 - \\alpha/2$ quantile), some show **one-sided critical values** ($1 - \\alpha$ quantile), and some show both. Be careful when using these tables, know which convention is being used, and ask for clarification if it is unclear.\n",
        "\n",
        "**Note**: This table only shows integer $\\nu$. If a fractional number of degrees of freedom is encountered (as in Welch’s test), round it to the **nearest df**.\n",
        "\n"
      ],
      "metadata": {
        "id": "smIDFWIVBVVy"
      }
    },
    {
      "cell_type": "code",
      "source": [
        "generateTTable()"
      ],
      "metadata": {
        "id": "bjUL55ALA_cE",
        "outputId": "5312100b-6677-45eb-ddec-a2efb90dc23b",
        "colab": {
          "base_uri": "https://localhost:8080/",
          "height": 595
        }
      },
      "execution_count": 16,
      "outputs": [
        {
          "output_type": "display_data",
          "data": {
            "text/plain": [
              "\n",
              "\n",
              "|      | alpha=0.2| alpha=0.1| alpha=0.05| alpha=0.025| alpha=0.01| alpha=0.005| alpha=0.001|\n",
              "|:-----|---------:|---------:|----------:|-----------:|----------:|-----------:|-----------:|\n",
              "|df=1  |    1.3764|    3.0777|     6.3138|     12.7062|    31.8205|     63.6567|    318.3088|\n",
              "|df=2  |    1.0607|    1.8856|     2.9200|      4.3027|     6.9646|      9.9248|     22.3271|\n",
              "|df=3  |    0.9785|    1.6377|     2.3534|      3.1824|     4.5407|      5.8409|     10.2145|\n",
              "|df=4  |    0.9410|    1.5332|     2.1318|      2.7764|     3.7469|      4.6041|      7.1732|\n",
              "|df=5  |    0.9195|    1.4759|     2.0150|      2.5706|     3.3649|      4.0321|      5.8934|\n",
              "|df=6  |    0.9057|    1.4398|     1.9432|      2.4469|     3.1427|      3.7074|      5.2076|\n",
              "|df=7  |    0.8960|    1.4149|     1.8946|      2.3646|     2.9980|      3.4995|      4.7853|\n",
              "|df=8  |    0.8889|    1.3968|     1.8595|      2.3060|     2.8965|      3.3554|      4.5008|\n",
              "|df=9  |    0.8834|    1.3830|     1.8331|      2.2622|     2.8214|      3.2498|      4.2968|\n",
              "|df=10 |    0.8791|    1.3722|     1.8125|      2.2281|     2.7638|      3.1693|      4.1437|\n",
              "|df=11 |    0.8755|    1.3634|     1.7959|      2.2010|     2.7181|      3.1058|      4.0247|\n",
              "|df=12 |    0.8726|    1.3562|     1.7823|      2.1788|     2.6810|      3.0545|      3.9296|\n",
              "|df=13 |    0.8702|    1.3502|     1.7709|      2.1604|     2.6503|      3.0123|      3.8520|\n",
              "|df=14 |    0.8681|    1.3450|     1.7613|      2.1448|     2.6245|      2.9768|      3.7874|\n",
              "|df=15 |    0.8662|    1.3406|     1.7531|      2.1314|     2.6025|      2.9467|      3.7328|\n",
              "|df=16 |    0.8647|    1.3368|     1.7459|      2.1199|     2.5835|      2.9208|      3.6862|\n",
              "|df=17 |    0.8633|    1.3334|     1.7396|      2.1098|     2.5669|      2.8982|      3.6458|\n",
              "|df=18 |    0.8620|    1.3304|     1.7341|      2.1009|     2.5524|      2.8784|      3.6105|\n",
              "|df=19 |    0.8610|    1.3277|     1.7291|      2.0930|     2.5395|      2.8609|      3.5794|\n",
              "|df=20 |    0.8600|    1.3253|     1.7247|      2.0860|     2.5280|      2.8453|      3.5518|\n",
              "|df=21 |    0.8591|    1.3232|     1.7207|      2.0796|     2.5176|      2.8314|      3.5272|\n",
              "|df=22 |    0.8583|    1.3212|     1.7171|      2.0739|     2.5083|      2.8188|      3.5050|\n",
              "|df=23 |    0.8575|    1.3195|     1.7139|      2.0687|     2.4999|      2.8073|      3.4850|\n",
              "|df=24 |    0.8569|    1.3178|     1.7109|      2.0639|     2.4922|      2.7969|      3.4668|\n",
              "|df=25 |    0.8562|    1.3163|     1.7081|      2.0595|     2.4851|      2.7874|      3.4502|\n",
              "|df=26 |    0.8557|    1.3150|     1.7056|      2.0555|     2.4786|      2.7787|      3.4350|\n",
              "|df=27 |    0.8551|    1.3137|     1.7033|      2.0518|     2.4727|      2.7707|      3.4210|\n",
              "|df=28 |    0.8546|    1.3125|     1.7011|      2.0484|     2.4671|      2.7633|      3.4082|\n",
              "|df=29 |    0.8542|    1.3114|     1.6991|      2.0452|     2.4620|      2.7564|      3.3962|\n",
              "|df=30 |    0.8538|    1.3104|     1.6973|      2.0423|     2.4573|      2.7500|      3.3852|"
            ]
          },
          "metadata": {}
        }
      ]
    },
    {
      "cell_type": "markdown",
      "source": [
        "## **Workshop Questions**\n",
        "\n",
        "\n"
      ],
      "metadata": {
        "id": "u7rOC3o-fyix"
      }
    },
    {
      "cell_type": "markdown",
      "source": [
        "### **Question 1: Which t-test to Use?**\n",
        "\n",
        "For each of the following scenarios, decide which type of t-test should be used (one-sample, two-sample pooled, Welch’s, or paired-sample) and explain your reasoning.\n",
        "\n",
        "**Scenarios:**\n",
        "\n",
        "1. Measure the heart rate of participants before and after swimming.\n",
        "\n",
        "2. A factory claims that the average weight of cereal boxes is 500 grams. You collect a sample of boxes and measure their weights.\n",
        "\n",
        "3. Compare math test scores between students taught with method A and students taught with method B.\n",
        "\n",
        "4. Compare math test scores of students who take both specialist maths and regular maths.\n",
        "\n",
        "5.  Measure the heart rate of participants after drinking Coffee 1. One week later, the same participants drink Coffee 2 and their heart rate is measured again. Compare the heart rates between the two types of coffee.\n",
        "\n",
        "\n"
      ],
      "metadata": {
        "id": "4wYH11rnDo-3"
      }
    },
    {
      "cell_type": "markdown",
      "source": [
        "**Solutions:**\n",
        "\n",
        "1. Paired-sample t-test can be used as the same participants are measured twice (before and after), so the measurements are dependent.\n",
        "\n",
        "2. One-sample t-test can be used as you are comparing a sample mean to a known/hypothesised population mean, which is exactly what a one-sample t-test is designed for.\n",
        "\n",
        "3. Two-sample pooled t-test (or Welch’s t-test if unequal variance is suspected) can be used as it is reasonable to assume independent populations here.\n",
        "\n",
        "4. Paired-sample t-test can be used as the same students are measured in two subjects, making the data *dependent.\n",
        "\n",
        "5. Paired-sample t-test can be used because the same participants are measured after two conditions, making the data dependent (e.g., both measurements depend on each participant's baseline heart rate)."
      ],
      "metadata": {
        "id": "n1n0DMjSo2lL"
      }
    },
    {
      "cell_type": "markdown",
      "source": [
        "### **Question 2**\n",
        "\n",
        "A geologist collected twenty ore samples and randomly divided them into two separate groups. She then used two different techniques to measure the amount of titanium present in the samples. The data are:"
      ],
      "metadata": {
        "id": "gMPkgJnVhLdq"
      }
    },
    {
      "cell_type": "code",
      "source": [
        "group1 = c(0.011,0.013,0.013,0.015,0.014,0.013,0.010,0.013,0.011,0.012)\n",
        "group2 = c(0.008,0.018,0.015,0.017,0.017,0.012,0.012,0.015,0.016,0.016)"
      ],
      "metadata": {
        "id": "lTezwUg3hPf8"
      },
      "execution_count": 17,
      "outputs": []
    },
    {
      "cell_type": "markdown",
      "source": [
        "Perform hypothesis testing to evaluate whether these two methods of taking measurements are equivalent. Now multiply the measurements by 1000, do you expect your test results to be any different? Repeat the test and compare the results. Use $\\alpha = 0.05$."
      ],
      "metadata": {
        "id": "dR7bHaUCJnMO"
      }
    },
    {
      "cell_type": "markdown",
      "source": [
        "Let $x_1, \\dots, x_{10}$ denote the measurements of titanium in ore samples using **instrument 1** (`group1`), and $y_1, \\dots, y_{10}$ denote the measurements using **instrument 2** (`group2`). Assuming the measurements are independent and normally distributed:\n",
        "\n",
        "$$\n",
        "x_1, \\dots, x_{10} \\sim \\text{i.i.d. } \\mathcal{N}(\\mu_1, \\sigma_1^2)\n",
        "$$\n",
        "$$\n",
        "y_1, \\dots, y_{10} \\sim \\text{i.i.d. } \\mathcal{N}(\\mu_2, \\sigma_2^2)\n",
        "$$\n",
        "\n",
        "Formally, the hypotheses are:\n",
        "\n",
        "$$\n",
        "H_0: \\mu_1 - \\mu_2 = 0 \\\\\n",
        "H_1: \\mu_1 - \\mu_2 \\neq 0\n",
        "$$\n",
        "\n",
        "It is reasonable to assume independent populations here. We can use a two-sample $t$-test (for example, with `var.equal = FALSE`)."
      ],
      "metadata": {
        "id": "eHG_S2cepC1w"
      }
    },
    {
      "cell_type": "code",
      "source": [
        "group1 = c(0.011,0.013,0.013,0.015,0.014,0.013,0.010,0.013,0.011,0.012)\n",
        "group2 = c(0.011,0.016,0.013,0.012,0.015,0.012,0.017,0.013,0.014,0.015)\n",
        "# var.equal = FALSE\n",
        "t.test(group1, group2)\n",
        "t.test(group1 * 1000, group2 * 1000)"
      ],
      "metadata": {
        "id": "o--YFWMxJqkH",
        "outputId": "ff6d3fec-774e-4f9b-b1b9-de7c3caa563e",
        "colab": {
          "base_uri": "https://localhost:8080/",
          "height": 391
        }
      },
      "execution_count": 18,
      "outputs": [
        {
          "output_type": "display_data",
          "data": {
            "text/plain": [
              "\n",
              "\tWelch Two Sample t-test\n",
              "\n",
              "data:  group1 and group2\n",
              "t = -1.6767, df = 17.003, p-value = 0.1119\n",
              "alternative hypothesis: true difference in means is not equal to 0\n",
              "95 percent confidence interval:\n",
              " -0.0029357463  0.0003357463\n",
              "sample estimates:\n",
              "mean of x mean of y \n",
              "   0.0125    0.0138 \n"
            ]
          },
          "metadata": {}
        },
        {
          "output_type": "display_data",
          "data": {
            "text/plain": [
              "\n",
              "\tWelch Two Sample t-test\n",
              "\n",
              "data:  group1 * 1000 and group2 * 1000\n",
              "t = -1.6767, df = 17.003, p-value = 0.1119\n",
              "alternative hypothesis: true difference in means is not equal to 0\n",
              "95 percent confidence interval:\n",
              " -2.9357463  0.3357463\n",
              "sample estimates:\n",
              "mean of x mean of y \n",
              "     12.5      13.8 \n"
            ]
          },
          "metadata": {}
        }
      ]
    },
    {
      "cell_type": "markdown",
      "source": [
        "The null hypothesis $H_0: \\mu_1 - \\mu_2 = 0$ is not affected by multiplying both groups by a common constant. Moreover, the standard deviation is scaled by the same factor as the mean difference, the $t$-statistic remains unchanged, and the test produces the same result.\n",
        "\n",
        "Since both CIs do contain 0, we do not reject the null hypothesis at 95% significance level."
      ],
      "metadata": {
        "id": "1qwT5Z_-pKZ3"
      }
    },
    {
      "cell_type": "markdown",
      "source": [
        "### **Question 3: Oh no!!!**\n",
        "\n",
        "\n",
        "Oh no!!! The geologist in **Question 2** realises she made a mistake: each element of the same rock was measured using two different instruments (`group1` and `group2`). Given this new information, perform hypothesis testing to evaluate whether these two methods of taking measurements are equivalent. Use $\\alpha = 0.05$."
      ],
      "metadata": {
        "id": "yfdqw6zLLOiH"
      }
    },
    {
      "cell_type": "markdown",
      "source": [
        "Let $x_1, \\dots, x_{10}$ and $y_1, \\dots, y_{10}$ be the measurements of the same rock taken by **instrument 1** (`group1`) and **instrument 2** (`group2`). Let $d_i = x_i - y_i$ be the difference for each pair. We assume\n",
        "\n",
        "$$\n",
        "d_1, \\dots, d_{10} \\sim \\text{i.i.d. } \\mathcal{N}(\\mu_d, \\sigma_d^2)\n",
        "$$\n",
        "\n",
        "Formally, the hypotheses are:\n",
        "\n",
        "$$\n",
        "H_0: \\mu_d = 0 \\\\\n",
        "H_1: \\mu_d \\neq 0\n",
        "$$\n",
        "\n",
        "\n",
        "We want to test whether there is any evidence that the average extra sleep hours of the two groups are diffent. Formally, the hypotheses are:\n",
        "\n",
        "Since the two populations are **dependent and paired**, a paired-sample t-test is more appropriate. Here, the correlation between `group1` and `group2` is 0.577."
      ],
      "metadata": {
        "id": "mVWzPdk8pRCy"
      }
    },
    {
      "cell_type": "code",
      "source": [
        "group1 = c(0.011,0.013,0.013,0.015,0.014,0.013,0.010,0.013,0.011,0.012)\n",
        "group2 = c(0.008,0.018,0.015,0.017,0.017,0.012,0.012,0.015,0.016,0.016)\n",
        "cor(group1, group2)\n",
        "plot(group1, group2)\n",
        "\n",
        "t.test(group1-group2)\n",
        "t.test(1000*group1-1000*group2)"
      ],
      "metadata": {
        "id": "jYkgeKRQMWrX",
        "outputId": "fe56ef1c-a0c7-4d3c-adbd-719d9d767068",
        "colab": {
          "base_uri": "https://localhost:8080/",
          "height": 828
        }
      },
      "execution_count": 19,
      "outputs": [
        {
          "output_type": "display_data",
          "data": {
            "text/html": [
              "0.576983093541174"
            ],
            "text/markdown": "0.576983093541174",
            "text/latex": "0.576983093541174",
            "text/plain": [
              "[1] 0.5769831"
            ]
          },
          "metadata": {}
        },
        {
          "output_type": "display_data",
          "data": {
            "text/plain": [
              "\n",
              "\tOne Sample t-test\n",
              "\n",
              "data:  group1 - group2\n",
              "t = -2.6411, df = 9, p-value = 0.02687\n",
              "alternative hypothesis: true mean is not equal to 0\n",
              "95 percent confidence interval:\n",
              " -0.0038986955 -0.0003013045\n",
              "sample estimates:\n",
              "mean of x \n",
              "  -0.0021 \n"
            ]
          },
          "metadata": {}
        },
        {
          "output_type": "display_data",
          "data": {
            "text/plain": [
              "\n",
              "\tOne Sample t-test\n",
              "\n",
              "data:  1000 * group1 - 1000 * group2\n",
              "t = -2.6411, df = 9, p-value = 0.02687\n",
              "alternative hypothesis: true mean is not equal to 0\n",
              "95 percent confidence interval:\n",
              " -3.8986955 -0.3013045\n",
              "sample estimates:\n",
              "mean of x \n",
              "     -2.1 \n"
            ]
          },
          "metadata": {}
        },
        {
          "output_type": "display_data",
          "data": {
            "text/plain": [
              "plot without title"
            ],
            "image/png": "[encoded data removed]"
          },
          "metadata": {
            "image/png": {
              "width": 420,
              "height": 420
            }
          }
        }
      ]
    },
    {
      "cell_type": "markdown",
      "source": [
        "The null hypothesis $H_0: \\mu_d = 0$ is not affected by multiplying both groups by a common constant. Moreover, the standard deviation is scaled by the same factor as the mean difference, the $t$-statistic remains unchanged, and the test produces the same result.\n",
        "\n",
        "Since both CIs do not contain 0, at 95% significance level, we reject the null hypothesis that the two instruments are equivalent, favouring the alternative one that they are different.\n",
        "\n",
        "\n",
        "**Note**: Ignoring the dependence nature may give invalid inference."
      ],
      "metadata": {
        "id": "0377LO9Gpayf"
      }
    },
    {
      "cell_type": "markdown",
      "source": [
        "### **Question 4**\n",
        "\n",
        "\n",
        "Consider the data on weights (in grams) of packages of mince, is there any evidence that the average weight of a package of mince is less than 500g, assuming a Type 1 error of $0.01$?"
      ],
      "metadata": {
        "id": "yQkVU9dMPPSs"
      }
    },
    {
      "cell_type": "markdown",
      "source": [
        "Assuming the weights (in grams) of these packages, $x_1, ..., x_n \\sim \\text{i.i.d. } \\mathcal{N}(\\mu, \\sigma^2)$, the hypotheses are:\n",
        "\n",
        "$$\n",
        "H_0: \\mu = 500 \\\\\n",
        "H_1: \\mu < 500\n",
        "$$"
      ],
      "metadata": {
        "id": "XnFow82Hpwuo"
      }
    },
    {
      "cell_type": "code",
      "source": [
        "smpl_data = c(490.32, 449.46, 440.38, 535.72, 640.14, 581.12, 376.82, 481.24, 517.56, 626.52, 340.50, 435.84,490.32, 394.98, 404.06, 404.06, 435.84, 508.48, 508.48, 422.22, 562.96, 404.06, 517.56, 417.68, 535.72, 531.18)\n",
        "t.test(smpl_data, mu = 500, alternative = \"less\")"
      ],
      "metadata": {
        "id": "ePZqiGNyQOOh",
        "outputId": "32fc06b3-66a6-4377-809a-5557c558f9cc",
        "colab": {
          "base_uri": "https://localhost:8080/",
          "height": 204
        }
      },
      "execution_count": 20,
      "outputs": [
        {
          "output_type": "display_data",
          "data": {
            "text/plain": [
              "\n",
              "\tOne Sample t-test\n",
              "\n",
              "data:  smpl_data\n",
              "t = -1.4035, df = 25, p-value = 0.08639\n",
              "alternative hypothesis: true mean is less than 500\n",
              "95 percent confidence interval:\n",
              "    -Inf 504.565\n",
              "sample estimates:\n",
              "mean of x \n",
              "   478.97 \n"
            ]
          },
          "metadata": {}
        }
      ]
    },
    {
      "cell_type": "markdown",
      "source": [
        "Since the CI does contain 500, at 99% significance level, we do not reject the null hypothesis."
      ],
      "metadata": {
        "id": "qA9T6WK1p17r"
      }
    },
    {
      "cell_type": "markdown",
      "source": [
        "### **Question 5**\n",
        "\n",
        "The classical $t$-test assumes that the data are normally distributed. In practice, this assumption often does not hold, which can substantially affect the Type I error rate (the probability of incorrectly rejecting a true null hypothesis).\n",
        "\n",
        "Suppose we generate 10 independent observations from an exponential distribution with rate parameter $\\lambda = \\frac{1}{2}$. The expected value of this exponential random variable is $\\frac{1}{\\lambda} = 2$.\n",
        "\n",
        "We want to test:\n",
        "\n",
        "$$\n",
        "\\begin{align}\n",
        "H_0: \\mu &= 2 \\text{ (the true mean)}\\\\\n",
        "H_1: \\mu &\\neq 2 \\\\\n",
        "\\end{align}\n",
        "$$\n",
        "\n",
        "At a 95% significance level, if the $t$-test worked perfectly, we would expect the Type I error rate to be exactly 0.05."
      ],
      "metadata": {
        "id": "KpI0smWFZ6M8"
      }
    },
    {
      "cell_type": "markdown",
      "source": [
        "#### **Question 5.1**\n",
        "\n",
        "At a 95% significance level, repeat this process many times (e.g., 10,000 repetitions) to estimate the empirical Type I error rate."
      ],
      "metadata": {
        "id": "kO-AjXDRbbdM"
      }
    },
    {
      "cell_type": "code",
      "source": [
        "set.seed(123)\n",
        "test_results = character(10^4)\n",
        "for(i in 1:(10^4)){\n",
        "  smpl_data = rexp(10, rate = 1/2)\n",
        "  conf.int = t.test(smpl_data, mu = 2)$conf.int\n",
        "  test_results[i] = ifelse(conf.int[1] < 2 & 2 < conf.int[2], \"not rejected\", \"rejected\")\n",
        "}\n",
        "\n",
        "prop.table(table(test_results))"
      ],
      "metadata": {
        "id": "bo4oELuzaKF1",
        "outputId": "3bf5a6f1-1d2e-405d-f4dc-57351827b21a",
        "colab": {
          "base_uri": "https://localhost:8080/",
          "height": 68
        }
      },
      "execution_count": 21,
      "outputs": [
        {
          "output_type": "display_data",
          "data": {
            "text/plain": [
              "test_results\n",
              "not rejected     rejected \n",
              "      0.9003       0.0997 "
            ]
          },
          "metadata": {}
        }
      ]
    },
    {
      "cell_type": "markdown",
      "source": [
        "The estimated Type I error is approximately 0.1, twice as large as 0.05."
      ],
      "metadata": {
        "id": "QggNNNUoqQxF"
      }
    },
    {
      "cell_type": "markdown",
      "source": [
        "#### **Question 5.2**\n",
        "\n",
        "Repeat the simulation from **Question 5.1**, but now generate 10 observations from a Poisson distribution with $\\lambda = 20$ and estimate the Type I error of the one-sample $t$-test at the 95% significance level. Compare the estimated Type I error to the one obtained before and explain the difference.\n",
        "\n",
        "**Hint**: Examine the histograms of large samples from these two distributions to see their approximate shapes."
      ],
      "metadata": {
        "id": "1Tv5zhLWdF4B"
      }
    },
    {
      "cell_type": "markdown",
      "source": [
        "We want to test:\n",
        "\n",
        "$$\n",
        "\\begin{align}\n",
        "H_0: \\mu &= 20 \\text{ (the true mean)}\\\\\n",
        "H_1: \\mu &\\neq 20 \\\\\n",
        "\\end{align}\n",
        "$$"
      ],
      "metadata": {
        "id": "fi6KhzENqVmm"
      }
    },
    {
      "cell_type": "code",
      "source": [
        "set.seed(111)\n",
        "test_results = character(10^4)\n",
        "for(i in 1:(10^4)){\n",
        "  smpl_data = rpois(10, 20)\n",
        "  conf.int = t.test(smpl_data, mu = 20)$conf.int\n",
        "  test_results[i] = ifelse(conf.int[1] < 20 & 20 < conf.int[2], \"not rejected\", \"rejected\")\n",
        "}\n",
        "\n",
        "prop.table(table(test_results))"
      ],
      "metadata": {
        "id": "VJl1VZR5eaOK",
        "outputId": "b5cdd406-3a2d-4f77-ce63-fa930afdbdec",
        "colab": {
          "base_uri": "https://localhost:8080/",
          "height": 68
        }
      },
      "execution_count": 22,
      "outputs": [
        {
          "output_type": "display_data",
          "data": {
            "text/plain": [
              "test_results\n",
              "not rejected     rejected \n",
              "      0.9489       0.0511 "
            ]
          },
          "metadata": {}
        }
      ]
    },
    {
      "cell_type": "markdown",
      "source": [
        "The estimated Type I error is approximately 0.0511, quite close to 0.05.\n",
        "\n",
        "**Why?**"
      ],
      "metadata": {
        "id": "w43KKAeqqaKn"
      }
    },
    {
      "cell_type": "code",
      "source": [
        "set.seed(123)\n",
        "\n",
        "df = data.frame(value = c(rexp(1e4, 0.5), rpois(1e4, 20)),\n",
        "                distribution = rep(c(\"Exp(0.5)\", \"Pois(20)\"), each = 1e4))\n",
        "\n",
        "df %>%\n",
        "  ggplot(aes(x = value)) +\n",
        "  geom_histogram(aes(y = after_stat(density)), bins = 20) +\n",
        "  facet_wrap(~distribution)"
      ],
      "metadata": {
        "id": "eYQR8XvSqeng",
        "outputId": "b2e981f4-66a5-4769-8feb-81f2757eb025",
        "colab": {
          "base_uri": "https://localhost:8080/",
          "height": 437
        }
      },
      "execution_count": 23,
      "outputs": [
        {
          "output_type": "display_data",
          "data": {
            "text/plain": [
              "plot without title"
            ],
            "image/png": "[encoded data removed]"
          },
          "metadata": {
            "image/png": {
              "width": 420,
              "height": 420
            }
          }
        }
      ]
    },
    {
      "cell_type": "markdown",
      "source": [
        "Exp(0.5) is heavily positive-skewed, while Pois(20) is quite *symmetric* and resembles the bell-shape curve of a Gaussian distribution.\n"
      ],
      "metadata": {
        "id": "V-hPRtmZqfvG"
      }
    }
  ]
}