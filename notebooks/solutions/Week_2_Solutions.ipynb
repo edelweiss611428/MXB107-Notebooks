{
  "nbformat": 4,
  "nbformat_minor": 0,
  "metadata": {
    "colab": {
      "provenance": []
    },
    "kernelspec": {
      "name": "ir",
      "display_name": "R"
    },
    "language_info": {
      "name": "R"
    }
  },
  "cells": [
    {
      "cell_type": "markdown",
      "source": [
        "# **Week 2: Numerical Data Summaries**\n",
        "\n",
        "```\n",
        ".------------------------------------.\n",
        "|   __  ____  ______  _  ___ _____   |\n",
        "|  |  \\/  \\ \\/ / __ )/ |/ _ \\___  |  |\n",
        "|  | |\\/| |\\  /|  _ \\| | | | | / /   |\n",
        "|  | |  | |/  \\| |_) | | |_| |/ /    |\n",
        "|  |_|  |_/_/\\_\\____/|_|\\___//_/     |\n",
        "'------------------------------------'\n",
        "\n",
        "```\n"
      ],
      "metadata": {
        "id": "ZtpJJ8BSHOaK"
      }
    },
    {
      "cell_type": "markdown",
      "source": [
        "This week, we will explore basic summary statistics for numerical data and demonstrate how to compute them in R. If you are not familiar with R programming, please take some time to review [Week 0](https://colab.research.google.com/github/edelweiss611428/MXB107-Notebooks/blob/main/notebooks/Week_0.ipynb) and [Week 1](https://colab.research.google.com/github/edelweiss611428/MXB107-Notebooks/blob/main/notebooks/Week_1.ipynb) content."
      ],
      "metadata": {
        "id": "QWuoIciBrV25"
      }
    },
    {
      "cell_type": "markdown",
      "source": [
        "## **Pre-Configurating the Notebook**"
      ],
      "metadata": {
        "id": "SpK9XLxlHOcm"
      }
    },
    {
      "cell_type": "markdown",
      "source": [
        "### **Switching to the R Kernel on Colab**\n",
        "\n",
        "By default, Google Colab uses Python as its programming language. To use R instead, you’ll need to manually switch the kernel by going to **Runtime > Change runtime type**, and selecting R as the kernel. This allows you to run R code in the Colab environment.\n",
        "\n",
        "However, our notebook is already configured to use R by default. Unless something goes wrong, you shouldn’t need to manually change runtime type."
      ],
      "metadata": {
        "id": "4yA6tfrakIOY"
      }
    },
    {
      "cell_type": "markdown",
      "source": [
        "### **Importing Required Datasets and Packages**\n",
        "**Run the following lines of code**:"
      ],
      "metadata": {
        "id": "VLNikK3CYWIx"
      }
    },
    {
      "cell_type": "code",
      "source": [
        "#Do not modify\n",
        "\n",
        "setwd(\"/content\")\n",
        "\n",
        "# Remove `MXB107-Notebooks` if exists,\n",
        "if (dir.exists(\"MXB107-Notebooks\")) {\n",
        "  system(\"rm -rf MXB107-Notebooks\")\n",
        "}\n",
        "\n",
        "# Fork the repository\n",
        "system(\"git clone https://github.com/edelweiss611428/MXB107-Notebooks.git\")\n",
        "\n",
        "# Change working directory to \"MXB107-Notebooks\"\n",
        "setwd(\"MXB107-Notebooks\")\n",
        "\n",
        "#\n",
        "invisible(source(\"R/preConfigurated.R\"))"
      ],
      "metadata": {
        "id": "tYGemispahiY"
      },
      "execution_count": null,
      "outputs": []
    },
    {
      "cell_type": "markdown",
      "source": [
        "**Do not modify the following**"
      ],
      "metadata": {
        "id": "o_XFVhdp1GrA"
      }
    },
    {
      "cell_type": "code",
      "source": [
        "if (!require(\"testthat\")) install.packages(\"testthat\"); library(\"testthat\")\n",
        "\n",
        "test_that(\"Test if all packages have been loaded\", {\n",
        "\n",
        "  expect_true(all(c(\"ggplot2\", \"tidyr\", \"dplyr\", \"stringr\", \"magrittr\", \"IRdisplay\", \"png\") %in% loadedNamespaces()))\n",
        "\n",
        "})\n",
        "\n",
        "test_that(\"Test if all utility functions have been loaded\", {\n",
        "  expect_true(exists(\"skewness\"))\n",
        "  expect_true(exists(\"kurtosis\"))\n",
        "  expect_true(exists(\"Mode\"))\n",
        "  expect_true(exists(\"FDbinning\"))\n",
        "  expect_true(exists(\"ModeBinMidpoint\"))\n",
        "  expect_true(exists(\"empiricalRuleGaussian\"))\n",
        "  expect_true(exists(\"chebyshevRule\"))\n",
        "  expect_true(exists(\"rangeBasedSD\"))\n",
        "  expect_true(exists(\"IQRBasedSD\"))\n",
        "  expect_true(exists(\"boxPlotDescribe\"))\n",
        "})"
      ],
      "metadata": {
        "id": "6lru0NFK011G"
      },
      "execution_count": null,
      "outputs": []
    },
    {
      "cell_type": "markdown",
      "source": [
        "## **Workshop Questions**"
      ],
      "metadata": {
        "id": "QtPUbL3-nRXI"
      }
    },
    {
      "cell_type": "markdown",
      "source": [
        "### **Question 1**\n",
        "\n",
        "The empirical rule can be extended beyond ±3 standard deviations.\n",
        "\n",
        "| Interval | Approx. % of Data |\n",
        "| -------- | ----------------- |\n",
        "| ±1 SD    | 68.27%            |\n",
        "| ±2 SD    | 95.45%            |\n",
        "| ±3 SD    | 99.73%            |\n",
        "| ±4 SD    | 99.994%           |\n",
        "| ±5 SD    | 99.99994%         |\n",
        "| ±6 SD    | 99.9999998%       |\n",
        "\n",
        "\n",
        "\n",
        "The following code cell loads daily returns of `S&P 500` index from `03/01/2000` to `18/07/2025` from `s&p500.csv`, queried from Yahoo Finance."
      ],
      "metadata": {
        "id": "PtnuqYSpnYYE"
      }
    },
    {
      "cell_type": "code",
      "source": [
        "sp500_dailyReturn = 100*read.csv(\"datasets/s&p500.csv\")$daily.returns"
      ],
      "metadata": {
        "id": "h9CxhfpXnj2W"
      },
      "execution_count": null,
      "outputs": []
    },
    {
      "cell_type": "markdown",
      "source": [
        "Use the `empiricalRuleGaussian()` function to visualise the empirical rule for up to ±6 standard deviations. Compare the empirical and theoretical coverage."
      ],
      "metadata": {
        "id": "0rpRXJWnXhoz"
      }
    },
    {
      "cell_type": "code",
      "source": [
        "empiricalRuleGaussian(sp500_dailyReturn, ks = 1:6)\n",
        "\n",
        "# The empirical rule underestimates the probability of extreme return values, which can lead to an understatement of financial risk in worst-case scenarios."
      ],
      "metadata": {
        "id": "qMMuvL8EW06W"
      },
      "execution_count": null,
      "outputs": []
    },
    {
      "cell_type": "markdown",
      "source": [
        "### **EPA Fuel Economy Dataset**\n",
        "\n",
        "A dataset containing information on over 13,500 cars sold in the US from 2010 to 2020, including measurements and characteristics related to vehicle fuel economy and specifications. Data sourced from the [US Fuel Economy website](https://www.fueleconomy.gov/feg/download.shtml).\n",
        "\n",
        "| Variable | Description                                    |\n",
        "|----------|------------------------------------------------|\n",
        "| `city`   | EPA measured fuel economy in miles per gallon (city driving) |\n",
        "| `hwy`    | EPA measured fuel economy in miles per gallon (highway driving) |\n",
        "| `cyl`    | Number of cylinders in the engine              |\n",
        "| `disp`   | Engine displacement (litres)                    |\n",
        "| `drive`  | Vehicle drivetrain layout (e.g., FWD, RWD, AWD) |\n",
        "| `make`   | Vehicle manufacturer name                       |\n",
        "| `model`  | Vehicle model name                              |\n",
        "| `trans`  | Transmission type (manual or automatic)        |\n",
        "| `year`   | Vehicle model year                              |\n"
      ],
      "metadata": {
        "id": "ahPgOogUoFCC"
      }
    },
    {
      "cell_type": "code",
      "source": [
        "epa_data = read.csv(\"./datasets/epa_data.csv\")\n",
        "str(epa_data)"
      ],
      "metadata": {
        "id": "8Yf-TVzCnwJU"
      },
      "execution_count": null,
      "outputs": []
    },
    {
      "cell_type": "markdown",
      "source": [
        "### **Question 2**\n",
        "\n",
        "What is the mean and median city fuel economy for cars in the epa_data set? What is the mean, median, and mode for engine displacement?\n",
        "\n",
        "**Hint**: Use the provided `Mode()` function. Use `na.rm = TRUE` option in `mean` and `median` to avoid errors caused by missing values. You may use the `summarise()` function for better readability."
      ],
      "metadata": {
        "id": "x4km73sonktE"
      }
    },
    {
      "cell_type": "code",
      "source": [
        "epa_data %>%\n",
        "  summarise(mean_city_epa = mean(city, na.rm = TRUE),\n",
        "            median_city_epa = median(city, na.rm = TRUE),\n",
        "            mean_disp = mean(disp, na.rm = TRUE),\n",
        "            median_disp = median(disp, na.rm = TRUE),\n",
        "            mode_disp = Mode(disp))\n"
      ],
      "metadata": {
        "id": "TiZvXUN8n2NF"
      },
      "execution_count": null,
      "outputs": []
    },
    {
      "cell_type": "markdown",
      "source": [
        "### **Question 3**\n",
        "\n",
        "Compute the variances and standard deviations for EPA city and highway mileage. Use Chebyshev’s theorem and the empirical rule to interpret the results. Is the empirical rule adequate?\n",
        "\n",
        "**Hint**: Use the provided `empiricalRuleGaussian()` and `chebyshevRule()` functions. Use `na.rm = T` if needed."
      ],
      "metadata": {
        "id": "JZhNXLP6oeM_"
      }
    },
    {
      "cell_type": "code",
      "source": [
        "epa_data %>%\n",
        "  summarise(var_city_epa = var(city, na.rm = T),\n",
        "            sd_city_epa = sd(city, na.rm = T),\n",
        "            var_hwy_epa = var(hwy, na.rm = T),\n",
        "            sd_hwy_epa = sd(hwy, na.rm = T))\n",
        "\n",
        "\n",
        "empiricalRuleGaussian(epa_data$city)\n",
        "chebyshevRule(epa_data$city)\n",
        "empiricalRuleGaussian(epa_data$hwy)\n",
        "chebyshevRule(epa_data$hwy)\n",
        "\n",
        "#Empirical rule is severely violated as data are positively skewed. Chebyshev rule is always satisfied but too conservative.\n"
      ],
      "metadata": {
        "id": "JKahaTznovZi"
      },
      "execution_count": null,
      "outputs": []
    },
    {
      "cell_type": "markdown",
      "source": [
        "### **Question 4**\n",
        "\n",
        "Compute the three quartiles and interquartile ranges for EPA city and highway mileage. Then, create side-by-side boxplots to visually compare city and highway mileage.\n",
        "\n",
        "**Hint**: We may need a long format data frame to side-by-side boxplots.\n"
      ],
      "metadata": {
        "id": "xWK4gn1fo1aJ"
      }
    },
    {
      "cell_type": "code",
      "source": [
        "epa_data %>%\n",
        "  summarise(\n",
        "    city_Q1 = quantile(city, 0.25, na.rm = TRUE),\n",
        "    city_Q2 = quantile(city, 0.50, na.rm = TRUE),\n",
        "    city_Q3 = quantile(city, 0.75, na.rm = TRUE),\n",
        "    city_IQR = IQR(city, na.rm = TRUE),\n",
        "\n",
        "    hwy_Q1 = quantile(hwy, 0.25, na.rm = TRUE),\n",
        "    hwy_Q2 = quantile(hwy, 0.50, na.rm = TRUE),\n",
        "    hwy_Q3 = quantile(hwy, 0.75, na.rm = TRUE),\n",
        "    hwy_IQR = IQR(hwy, na.rm = TRUE)\n",
        "  )\n",
        "\n",
        "\n",
        "\n",
        "epa_data %>%\n",
        "  pivot_longer(cols = c(city, hwy),\n",
        "               names_to = \"type\",\n",
        "               values_to = \"value\") %>% #long-format df\n",
        "  ggplot(aes(x = type, y = value, colour = type)) +\n",
        "  geom_boxplot() +\n",
        "  labs(title = \"EPA: City driving vs. highway driving\",\n",
        "       x = \"Type\", y = \"Miles per gallon\") +\n",
        "  theme_minimal() +\n",
        "  theme(plot.title = element_text(face = \"bold\", size = 14, hjust = 0.5),\n",
        "        legend.position = \"top\")\n",
        "\n"
      ],
      "metadata": {
        "id": "7zPnoW3OphiE"
      },
      "execution_count": null,
      "outputs": []
    }
  ]
}