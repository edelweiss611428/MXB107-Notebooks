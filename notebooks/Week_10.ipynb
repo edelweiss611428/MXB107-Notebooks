{
  "nbformat": 4,
  "nbformat_minor": 0,
  "metadata": {
    "colab": {
      "provenance": []
    },
    "kernelspec": {
      "name": "ir",
      "display_name": "R"
    },
    "language_info": {
      "name": "R"
    }
  },
  "cells": [
    {
      "cell_type": "markdown",
      "source": [
        "# **Week 10: Analysis of Variance (ANOVA)**\n",
        "\n",
        "```\n",
        ".------------------------------------.\n",
        "|   __  ____  ______  _  ___ _____   |\n",
        "|  |  \\/  \\ \\/ / __ )/ |/ _ \\___  |  |\n",
        "|  | |\\/| |\\  /|  _ \\| | | | | / /   |\n",
        "|  | |  | |/  \\| |_) | | |_| |/ /    |\n",
        "|  |_|  |_/_/\\_\\____/|_|\\___//_/     |\n",
        "'------------------------------------'\n",
        "\n",
        "```"
      ],
      "metadata": {
        "id": "ZtpJJ8BSHOaK"
      }
    },
    {
      "cell_type": "markdown",
      "source": [
        "In this workshop, we will focus on analysis of variance (ANOVA) techniques.\n",
        "\n",
        "ANOVA is a family of statistical methods used to compare means across multiple groups and to understand how different factors contribute to variability in the data. We will explore:\n",
        "\n",
        "- The fundamental ideas behind ANOVA.\n",
        "- One-way and two-way ANOVA designs.\n",
        "- Assumptions underlying these models.\n",
        "- How to interpret results and post-hoc comparisons.\n",
        "- Practical applications with real datasets."
      ],
      "metadata": {
        "id": "nJN_EjsDJ5My"
      }
    },
    {
      "cell_type": "markdown",
      "source": [
        "## **Pre-Configurating the Notebook**"
      ],
      "metadata": {
        "id": "qJMHamzBgYY4"
      }
    },
    {
      "cell_type": "markdown",
      "source": [
        "### **Switching to the R Kernel on Colab**\n",
        "\n",
        "By default, Google Colab uses Python as its programming language. To use R instead, you’ll need to manually switch the kernel by going to **Runtime > Change runtime type**, and selecting R as the kernel. This allows you to run R code in the Colab environment.\n",
        "\n",
        "However, our notebook is already configured to use R by default. Unless something goes wrong, you shouldn’t need to manually change runtime type."
      ],
      "metadata": {
        "id": "RYNbU2mDgjJZ"
      }
    },
    {
      "cell_type": "markdown",
      "source": [
        "### **Importing Required Packages**\n",
        "**Run the following lines of code**:"
      ],
      "metadata": {
        "id": "Sh6s1ChmglUe"
      }
    },
    {
      "cell_type": "code",
      "source": [
        "#Do not modify\n",
        "\n",
        "setwd(\"/content\")\n",
        "\n",
        "# Remove `MXB107-Notebooks` if exists,\n",
        "if (dir.exists(\"MXB107-Notebooks\")) {\n",
        "  system(\"rm -rf MXB107-Notebooks\")\n",
        "}\n",
        "\n",
        "# Fork the repository\n",
        "system(\"git clone https://github.com/edelweiss611428/MXB107-Notebooks.git\")\n",
        "\n",
        "# Change working directory to \"MXB107-Notebooks\"\n",
        "setwd(\"MXB107-Notebooks\")\n",
        "\n",
        "#\n",
        "invisible(source(\"R/preConfigurated.R\"))"
      ],
      "metadata": {
        "id": "hXjYwRwxgmqZ",
        "colab": {
          "base_uri": "https://localhost:8080/"
        },
        "outputId": "a2eceedf-910e-4070-f12f-d33905b5d83c"
      },
      "execution_count": 2,
      "outputs": [
        {
          "output_type": "stream",
          "name": "stderr",
          "text": [
            "Loading required package: ggplot2\n",
            "\n",
            "Loading required package: dplyr\n",
            "\n",
            "\n",
            "Attaching package: ‘dplyr’\n",
            "\n",
            "\n",
            "The following objects are masked from ‘package:stats’:\n",
            "\n",
            "    filter, lag\n",
            "\n",
            "\n",
            "The following objects are masked from ‘package:base’:\n",
            "\n",
            "    intersect, setdiff, setequal, union\n",
            "\n",
            "\n",
            "Loading required package: tidyr\n",
            "\n",
            "Loading required package: stringr\n",
            "\n",
            "Loading required package: magrittr\n",
            "\n",
            "\n",
            "Attaching package: ‘magrittr’\n",
            "\n",
            "\n",
            "The following object is masked from ‘package:tidyr’:\n",
            "\n",
            "    extract\n",
            "\n",
            "\n",
            "Loading required package: IRdisplay\n",
            "\n",
            "Loading required package: png\n",
            "\n",
            "Warning message in library(package, lib.loc = lib.loc, character.only = TRUE, logical.return = TRUE, :\n",
            "“there is no package called ‘png’”\n",
            "Installing package into ‘/usr/local/lib/R/site-library’\n",
            "(as ‘lib’ is unspecified)\n",
            "\n",
            "Loading required package: grid\n",
            "\n",
            "Loading required package: knitr\n",
            "\n"
          ]
        }
      ]
    },
    {
      "cell_type": "markdown",
      "source": [
        "**Do not modify the following**"
      ],
      "metadata": {
        "id": "0xU1keysgotb"
      }
    },
    {
      "cell_type": "code",
      "source": [
        "if (!require(\"testthat\")) install.packages(\"testthat\"); library(\"testthat\")\n",
        "\n",
        "test_that(\"Test if all packages have been loaded\", {\n",
        "\n",
        "  expect_true(all(c(\"ggplot2\", \"tidyr\", \"dplyr\", \"stringr\", \"magrittr\", \"knitr\") %in% loadedNamespaces()))\n",
        "\n",
        "})"
      ],
      "metadata": {
        "id": "VkOd7qZXgqr8",
        "colab": {
          "base_uri": "https://localhost:8080/"
        },
        "outputId": "df578675-1d87-4014-c14c-0794e5f129a7"
      },
      "execution_count": 3,
      "outputs": [
        {
          "output_type": "stream",
          "name": "stderr",
          "text": [
            "Loading required package: testthat\n",
            "\n",
            "\n",
            "Attaching package: ‘testthat’\n",
            "\n",
            "\n",
            "The following objects are masked from ‘package:magrittr’:\n",
            "\n",
            "    equals, is_less_than, not\n",
            "\n",
            "\n",
            "The following object is masked from ‘package:tidyr’:\n",
            "\n",
            "    matches\n",
            "\n",
            "\n",
            "The following object is masked from ‘package:dplyr’:\n",
            "\n",
            "    matches\n",
            "\n",
            "\n"
          ]
        },
        {
          "output_type": "stream",
          "name": "stdout",
          "text": [
            "\u001b[32mTest passed\u001b[39m 🎊\n"
          ]
        }
      ]
    },
    {
      "cell_type": "markdown",
      "source": [
        "## **One-Way ANOVA**\n",
        "\n",
        "We will take a closer look at one-way ANOVA. The essence of two-way ANOVA is similar, although the formulas and interpretation are a bit more complex.\n"
      ],
      "metadata": {
        "id": "_EVVevuQgTtV"
      }
    },
    {
      "cell_type": "markdown",
      "source": [
        "### **Formulation of One-Way ANOVA**\n",
        "\n",
        "Consider a dataset $Y$ consisting of observations from $k$ **independent** groups.  \n",
        "Let $Y_{ij}$ denote the $j$-th observation in group $i$, where $i = 1, \\dots, k$ and $j = 1, \\dots, n_i$.  \n",
        "\n",
        "The one-way ANOVA model assumes that each observation can be modelled as:\n",
        "\n",
        "$$\n",
        "Y_{ij} = \\mu_i + \\varepsilon_{ij},\n",
        "$$\n",
        "\n",
        "where\n",
        "- $\\mu_i$: effect of group $i$\n",
        "- $\\varepsilon_{ij}$: random error, assumed $\\sim \\mathcal{N}(0, \\sigma^2)$  \n",
        "\n",
        "In this unit, for simplicity, $n_1 = n_2 = ⋯ = n_k$.\n",
        "\n",
        "In one-way ANOVA, the goal is to test whether the means of all groups are equal.  This can be formalised as follows:\n",
        "\n",
        "$$\n",
        "H_0: \\mu_1 = \\mu_2 = \\cdots = \\mu_k\\\\\n",
        "H_1: \\text{At least one group mean differs from the others}\n",
        "$$\n",
        "\n",
        "- **Interpretation:**  \n",
        "  - $H_0$ states that all group means are equal.  \n",
        "  - $H_1$ states that at least one group mean differs from the others.\n",
        "\n",
        "Note that two-sample t-test assuming equal variance is a special case of one-way ANOVA where $k = 2$. Moreover, this formulation assumes **equal population variance** across groups.\n",
        "\n"
      ],
      "metadata": {
        "id": "HD83AiYbBsIl"
      }
    },
    {
      "cell_type": "markdown",
      "source": [
        "### **Decomposition of Total Sum of Squares (SSTOT)**\n",
        "\n",
        "**NOTE:** In this unit, $n_1 = n_2 = ⋯ = n_k$.\n",
        "\n",
        "Total variability in the data is:\n",
        "\n",
        "$$\n",
        "\\text{SSTOT} = \\sum_{i=1}^{k} \\sum_{j=1}^{n_i} (Y_{ij} - \\bar{Y}_{..})^2\n",
        "$$\n",
        "\n",
        "Where $\\bar{Y}_{..}$ is the overall mean.  \n",
        "\n",
        "It is possible to show that\n",
        "\n",
        "$$\n",
        "\\text{SSTOT} = \\text{SSTr} + \\text{SSE}\n",
        "$$\n",
        "\n",
        "- **SSTr** = Treatment Sum of Squares, or sometimes called Between-group Sum of Squares (due to differences between group means)  \n",
        "- **SSW** = Error Sum of Squares, or sometimes called Within-group Sum of Squares (variability within groups)\n",
        "\n",
        "**Between-Group Sum of Squares (SSTr):**\n",
        "\n",
        "$$\n",
        "\\text{SSTr} = \\sum_{i=1}^{k} n_i (\\bar{Y}_{i\\cdot} - \\bar{Y}_{..})^2\n",
        "$$\n",
        "\n",
        "- $n_i$ = number of observations in group $i$  \n",
        "- $\\bar{Y}_{i\\cdot}$ = mean of group \\(i\\)  \n",
        "- $\\bar{Y}_{..}$ = overall mean  \n",
        "\n",
        "**Within-Group Sum of Squares (SSE):**\n",
        "\n",
        "$$\n",
        "\\text{SSE} = \\sum_{i=1}^{k} \\sum_{j=1}^{n_i} (Y_{ij} - \\bar{Y}_{i\\cdot})^2\n",
        "$$\n"
      ],
      "metadata": {
        "id": "1Ae_6FScBGcK"
      }
    },
    {
      "cell_type": "markdown",
      "source": [
        "### **Essence of One-Way ANOVA**\n",
        "\n",
        "\n",
        "Under the null hypothesis:\n",
        "\n",
        "$$\n",
        "H_0: \\mu_1 = \\mu_2 = \\cdots = \\mu_k\\\\\n",
        "$$\n",
        "\n",
        "- All group means are equal.\n",
        "- In this case, **SSTr** will be relatively small compared to **SSE**, because the differences between group means are mostly due to random variation within groups.  \n",
        "- **SSE** dominates the total variability.\n",
        "\n",
        "When $H_0$ is **violated** (i.e., at least one pair of group means are different):  \n",
        "\n",
        "- **SSTr** becomes large relative to **SSE**, because there is substantial variability due to differences between group means.  \n",
        "- This situation motivates the use of the **F-test**, which compares SSTr and SSE.\n",
        "\n",
        "**F-test rationale:**  \n",
        "\n",
        "- Under $H_0$, the F-statistic:\n",
        "\n",
        "$$\n",
        "F = \\frac{\\text{MSTr}}{\\text{MSE}} = \\frac{\\text{SSTr}/(k-1)}{\\text{SSE}/(N-k)}\n",
        "$$\n",
        "\n",
        "is distributed according to an $F$ distribution with $(k-1, N-k)$ degrees of freedom ($F_{k-1, N-k}$).  \n",
        "- If $H_0$ is violated, the observed $F$ statistic will be **large**, unlikely to occur under the null.  \n",
        "- A large $F$ statistic provides **evidence to reject $H_0$**, indicating that not all group means are equal.\n",
        "\n",
        "Unlike the t-test, which can be two-sided or one-sided, the F-test in ANOVA is **always a right-tailed test**.  This is because the F-statistic is a ratio of sums of squares (MSTr / MSE), which is **always non-negative**.  For example, take a look at the PDF of $F_{2,17}$\n"
      ],
      "metadata": {
        "id": "Q9AeQu_yF4-a"
      }
    },
    {
      "cell_type": "code",
      "source": [
        "#F_{2,17}\n",
        "vals = seq(0, 5, length.out = 500)\n",
        "densities = df(vals, df1  = 2, df2 = 17)\n",
        "\n",
        "# Plot\n",
        "plot(vals, densities, type = \"l\", lwd = 2,\n",
        "     main = \"F-Distribution (df1 = 2, df2 = 17)\",\n",
        "     xlab = \"F-value\", ylab = \"Density\", col = \"blue\")"
      ],
      "metadata": {
        "id": "KP6NczZ4G1KO",
        "colab": {
          "base_uri": "https://localhost:8080/",
          "height": 437
        },
        "outputId": "ea670df7-c6f1-4a52-ea29-4dc84cbc4932"
      },
      "execution_count": 4,
      "outputs": [
        {
          "output_type": "display_data",
          "data": {
            "text/plain": [
              "Plot with title “F-Distribution (df1 = 2, df2 = 17)”"
            ],
            "image/png": "[encoded data removed]"
          },
          "metadata": {
            "image/png": {
              "width": 420,
              "height": 420
            }
          }
        }
      ]
    },
    {
      "cell_type": "markdown",
      "source": [
        "### **R Examples**"
      ],
      "metadata": {
        "id": "fL9-M8tEJRtH"
      }
    },
    {
      "cell_type": "markdown",
      "source": [
        "#### **R Quick Reference for F-Distribution**\n",
        "\n",
        "Before we show how to run ANOVA in R, we will first discuss how to perform it manually.  This requires understanding and working with the $F$ distribution.\n",
        "\n",
        "\n",
        "`R` supports the following functions for computing distributional quantities and simulating from $F$-distributions:\n",
        "\n",
        "- `df(x, df1, df2, log = FALSE)` computes the **density** (PDF) of `F(df1, df2)` at `x`  \n",
        "- `pf(q, df1, df2, lower.tail = TRUE, log.p = FALSE)` computes the **CDF** of `F(df1, df2)` at `q`  \n",
        "- `qf(p, df1, df2, lower.tail = TRUE, log.p = FALSE)` computes the **p-quantile** of `F(df1, df2)`  \n",
        "- `rf(n, df1, df2)` simulates `n` random numbers from an `F(df1, df2)` distribution\n"
      ],
      "metadata": {
        "id": "TmK4GyfaIO9G"
      }
    },
    {
      "cell_type": "markdown",
      "source": [
        "##### **Exercises**\n",
        "\n",
        "The following dataset consists of three independent groups, each generated from a Gaussian distribution."
      ],
      "metadata": {
        "id": "M-FNmr90Jukt"
      }
    },
    {
      "cell_type": "code",
      "source": [
        "\n",
        "set.seed(123)\n",
        "group1 = rnorm(5, 1)\n",
        "group2 = rnorm(5,0)\n",
        "group3 = rnorm(5,-1)\n",
        "\n",
        "# Combine into long-format\n",
        "df = data.frame(\n",
        "  value = c(group1, group2, group3),\n",
        "  group = factor(c(\n",
        "    rep(1, length(group1)),\n",
        "    rep(2, length(group2)),\n",
        "    rep(3, length(group3))\n",
        "  ))\n",
        ")\n",
        "\n",
        "df %>% head(10)\n"
      ],
      "metadata": {
        "id": "oP-07b4TIwTZ",
        "colab": {
          "base_uri": "https://localhost:8080/",
          "height": 407
        },
        "outputId": "a517af30-9b9e-4df0-a9d7-1276d4d9c1db"
      },
      "execution_count": 5,
      "outputs": [
        {
          "output_type": "display_data",
          "data": {
            "text/html": [
              "<table class=\"dataframe\">\n",
              "<caption>A data.frame: 10 × 2</caption>\n",
              "<thead>\n",
              "\t<tr><th></th><th scope=col>value</th><th scope=col>group</th></tr>\n",
              "\t<tr><th></th><th scope=col>&lt;dbl&gt;</th><th scope=col>&lt;fct&gt;</th></tr>\n",
              "</thead>\n",
              "<tbody>\n",
              "\t<tr><th scope=row>1</th><td> 0.4395244</td><td>1</td></tr>\n",
              "\t<tr><th scope=row>2</th><td> 0.7698225</td><td>1</td></tr>\n",
              "\t<tr><th scope=row>3</th><td> 2.5587083</td><td>1</td></tr>\n",
              "\t<tr><th scope=row>4</th><td> 1.0705084</td><td>1</td></tr>\n",
              "\t<tr><th scope=row>5</th><td> 1.1292877</td><td>1</td></tr>\n",
              "\t<tr><th scope=row>6</th><td> 1.7150650</td><td>2</td></tr>\n",
              "\t<tr><th scope=row>7</th><td> 0.4609162</td><td>2</td></tr>\n",
              "\t<tr><th scope=row>8</th><td>-1.2650612</td><td>2</td></tr>\n",
              "\t<tr><th scope=row>9</th><td>-0.6868529</td><td>2</td></tr>\n",
              "\t<tr><th scope=row>10</th><td>-0.4456620</td><td>2</td></tr>\n",
              "</tbody>\n",
              "</table>\n"
            ],
            "text/markdown": "\nA data.frame: 10 × 2\n\n| <!--/--> | value &lt;dbl&gt; | group &lt;fct&gt; |\n|---|---|---|\n| 1 |  0.4395244 | 1 |\n| 2 |  0.7698225 | 1 |\n| 3 |  2.5587083 | 1 |\n| 4 |  1.0705084 | 1 |\n| 5 |  1.1292877 | 1 |\n| 6 |  1.7150650 | 2 |\n| 7 |  0.4609162 | 2 |\n| 8 | -1.2650612 | 2 |\n| 9 | -0.6868529 | 2 |\n| 10 | -0.4456620 | 2 |\n\n",
            "text/latex": "A data.frame: 10 × 2\n\\begin{tabular}{r|ll}\n  & value & group\\\\\n  & <dbl> & <fct>\\\\\n\\hline\n\t1 &  0.4395244 & 1\\\\\n\t2 &  0.7698225 & 1\\\\\n\t3 &  2.5587083 & 1\\\\\n\t4 &  1.0705084 & 1\\\\\n\t5 &  1.1292877 & 1\\\\\n\t6 &  1.7150650 & 2\\\\\n\t7 &  0.4609162 & 2\\\\\n\t8 & -1.2650612 & 2\\\\\n\t9 & -0.6868529 & 2\\\\\n\t10 & -0.4456620 & 2\\\\\n\\end{tabular}\n",
            "text/plain": [
              "   value      group\n",
              "1   0.4395244 1    \n",
              "2   0.7698225 1    \n",
              "3   2.5587083 1    \n",
              "4   1.0705084 1    \n",
              "5   1.1292877 1    \n",
              "6   1.7150650 2    \n",
              "7   0.4609162 2    \n",
              "8  -1.2650612 2    \n",
              "9  -0.6868529 2    \n",
              "10 -0.4456620 2    "
            ]
          },
          "metadata": {}
        }
      ]
    },
    {
      "cell_type": "markdown",
      "source": [
        "###### **Exercise 1**\n",
        "\n",
        "Verify the following identity:\n",
        "\n",
        "$$\n",
        "\\text{SSTOT} = \\text{SSTr} + \\text{SSE}.\n",
        "$$"
      ],
      "metadata": {
        "id": "DVEeWRDuKgcF"
      }
    },
    {
      "cell_type": "code",
      "source": [],
      "metadata": {
        "id": "_DUEVJ9rKqyX"
      },
      "execution_count": 6,
      "outputs": []
    },
    {
      "cell_type": "markdown",
      "source": [
        "\n",
        "<details>\n",
        "<summary>▶️ Click to show the solution</summary>\n",
        "\n",
        "```r\n",
        "df %>%\n",
        "  summarise(SSTOT = (n()-1)*var(value)) %>%\n",
        "    pull(SSTOT) -> SSTOT\n",
        "df %>%\n",
        "  group_by(group) %>%\n",
        "    summarise(groupAvg = mean(value), ni = n(), .groups = \"drop\") %>%\n",
        "    summarise(SSTr = sum(ni * (groupAvg - mean(df$value))^2)) %>%\n",
        "    pull(SSTr)  -> SSTr\n",
        "df %>%\n",
        "  group_by(group) %>%\n",
        "  summarise(SSEi = (n()-1)*var(value), .groups = \"drop\") %>%\n",
        "  summarise(SSE = sum(SSEi)) %>%\n",
        "  pull(SSE) -> SSE\n",
        "\n",
        "SSTOT\n",
        "SSTr\n",
        "SSE\n",
        "\n",
        "all.equal(SSTOT, SSTr + SSE)\n",
        "```\n",
        "\n",
        "</details>"
      ],
      "metadata": {
        "id": "Z_fwpOPTQp5b"
      }
    },
    {
      "cell_type": "markdown",
      "source": [
        "###### **Exercise 2**\n",
        "\n",
        "Use ANOVA to *manually* test whether the group means are equal. Assume a 5% Type I error."
      ],
      "metadata": {
        "id": "QHFj-A4vKthH"
      }
    },
    {
      "cell_type": "code",
      "source": [],
      "metadata": {
        "id": "90MFMNASK0xg"
      },
      "execution_count": 7,
      "outputs": []
    },
    {
      "cell_type": "markdown",
      "source": [
        "\n",
        "<details>\n",
        "<summary>▶️ Click to show the solution</summary>\n",
        "\n",
        "```r\n",
        "# Hypotheses:\n",
        "# H0: mu1 = mu2 = mu3\n",
        "# H1: At least one mean is different\n",
        "\n",
        "k = 3\n",
        "n = nrow(df)\n",
        "MSTr = SSTr/(k-1)\n",
        "MSE = SSE/(n-k)\n",
        "F_obs = MSTr/MSE #F_obs ~ F(k-1, n-k) under H0\n",
        "F_obs\n",
        "F_obs > qf(0.95, df1 = k-1, df2 = n-k) #unlikely under H0\n",
        "#Evidence to reject the null hypothesis\n",
        "```\n",
        "\n",
        "</details>"
      ],
      "metadata": {
        "id": "WZug-RhwUKTK"
      }
    },
    {
      "cell_type": "markdown",
      "source": [
        "###### **Exercise 3**\n",
        "\n",
        "Rerun the previous code blocks several times under different scenarios:\n",
        "\n",
        "- When the null hypothesis holds (all group means are equal).\n",
        "- When the group means are moderately different (e.g., $\\mu_1 = -1$, $\\mu_2 = 0$, $\\mu_3 = 1$.\n",
        "\n",
        "- When the group means are very different (e.g., $\\mu_1 = -5$, $\\mu_2 = 0$, $\\mu_3 = 5$.\n",
        "\n",
        "What happens to the $F$ statistic and the rejection decision in each case?"
      ],
      "metadata": {
        "id": "OPCMxfrhNb4f"
      }
    },
    {
      "cell_type": "code",
      "source": [
        "\n",
        "set.seed(123)\n",
        "group1 = rnorm(5, 5)\n",
        "group2 = rnorm(5,0)\n",
        "group3 = rnorm(5,-5)\n",
        "\n",
        "# Combine into long-format\n",
        "df = data.frame(\n",
        "  value = c(group1, group2, group3),\n",
        "  group = factor(c(\n",
        "    rep(1, length(group1)),\n",
        "    rep(2, length(group2)),\n",
        "    rep(3, length(group3))\n",
        "  ))\n",
        ")\n",
        "\n",
        "df %>% head(10)\n"
      ],
      "metadata": {
        "id": "RhjmG1kNN7lX",
        "colab": {
          "base_uri": "https://localhost:8080/",
          "height": 407
        },
        "outputId": "b8e3fa89-dfb8-4f6f-863f-daef61e86650"
      },
      "execution_count": 8,
      "outputs": [
        {
          "output_type": "display_data",
          "data": {
            "text/html": [
              "<table class=\"dataframe\">\n",
              "<caption>A data.frame: 10 × 2</caption>\n",
              "<thead>\n",
              "\t<tr><th></th><th scope=col>value</th><th scope=col>group</th></tr>\n",
              "\t<tr><th></th><th scope=col>&lt;dbl&gt;</th><th scope=col>&lt;fct&gt;</th></tr>\n",
              "</thead>\n",
              "<tbody>\n",
              "\t<tr><th scope=row>1</th><td> 4.4395244</td><td>1</td></tr>\n",
              "\t<tr><th scope=row>2</th><td> 4.7698225</td><td>1</td></tr>\n",
              "\t<tr><th scope=row>3</th><td> 6.5587083</td><td>1</td></tr>\n",
              "\t<tr><th scope=row>4</th><td> 5.0705084</td><td>1</td></tr>\n",
              "\t<tr><th scope=row>5</th><td> 5.1292877</td><td>1</td></tr>\n",
              "\t<tr><th scope=row>6</th><td> 1.7150650</td><td>2</td></tr>\n",
              "\t<tr><th scope=row>7</th><td> 0.4609162</td><td>2</td></tr>\n",
              "\t<tr><th scope=row>8</th><td>-1.2650612</td><td>2</td></tr>\n",
              "\t<tr><th scope=row>9</th><td>-0.6868529</td><td>2</td></tr>\n",
              "\t<tr><th scope=row>10</th><td>-0.4456620</td><td>2</td></tr>\n",
              "</tbody>\n",
              "</table>\n"
            ],
            "text/markdown": "\nA data.frame: 10 × 2\n\n| <!--/--> | value &lt;dbl&gt; | group &lt;fct&gt; |\n|---|---|---|\n| 1 |  4.4395244 | 1 |\n| 2 |  4.7698225 | 1 |\n| 3 |  6.5587083 | 1 |\n| 4 |  5.0705084 | 1 |\n| 5 |  5.1292877 | 1 |\n| 6 |  1.7150650 | 2 |\n| 7 |  0.4609162 | 2 |\n| 8 | -1.2650612 | 2 |\n| 9 | -0.6868529 | 2 |\n| 10 | -0.4456620 | 2 |\n\n",
            "text/latex": "A data.frame: 10 × 2\n\\begin{tabular}{r|ll}\n  & value & group\\\\\n  & <dbl> & <fct>\\\\\n\\hline\n\t1 &  4.4395244 & 1\\\\\n\t2 &  4.7698225 & 1\\\\\n\t3 &  6.5587083 & 1\\\\\n\t4 &  5.0705084 & 1\\\\\n\t5 &  5.1292877 & 1\\\\\n\t6 &  1.7150650 & 2\\\\\n\t7 &  0.4609162 & 2\\\\\n\t8 & -1.2650612 & 2\\\\\n\t9 & -0.6868529 & 2\\\\\n\t10 & -0.4456620 & 2\\\\\n\\end{tabular}\n",
            "text/plain": [
              "   value      group\n",
              "1   4.4395244 1    \n",
              "2   4.7698225 1    \n",
              "3   6.5587083 1    \n",
              "4   5.0705084 1    \n",
              "5   5.1292877 1    \n",
              "6   1.7150650 2    \n",
              "7   0.4609162 2    \n",
              "8  -1.2650612 2    \n",
              "9  -0.6868529 2    \n",
              "10 -0.4456620 2    "
            ]
          },
          "metadata": {}
        }
      ]
    },
    {
      "cell_type": "markdown",
      "source": [
        "\n",
        "<details>\n",
        "<summary>▶️ Click to show the solution</summary>\n",
        "\n",
        "```r\n",
        "group1 = rnorm(5, 5)\n",
        "group2 = rnorm(5,0)\n",
        "group3 = rnorm(5,-5)\n",
        "\n",
        "# Combine into long-format\n",
        "df = data.frame(\n",
        "  value = c(group1, group2, group3),\n",
        "  group = factor(c(\n",
        "    rep(1, length(group1)),\n",
        "    rep(2, length(group2)),\n",
        "    rep(3, length(group3))\n",
        "  ))\n",
        ")\n",
        "\n",
        "df %>%\n",
        "  summarise(SSTOT = (n()-1)*var(value)) %>%\n",
        "    pull(SSTOT) -> SSTOT\n",
        "df %>%\n",
        "  group_by(group) %>%\n",
        "    summarise(groupAvg = mean(value), ni = n(), .groups = \"drop\") %>%\n",
        "    summarise(SSTr = sum(ni * (groupAvg - mean(df$value))^2)) %>%\n",
        "    pull(SSTr)  -> SSTr\n",
        "df %>%\n",
        "  group_by(group) %>%\n",
        "  summarise(SSEi = (n()-1)*var(value), .groups = \"drop\") %>%\n",
        "  summarise(SSE = sum(SSEi)) %>%\n",
        "  pull(SSE) -> SSE\n",
        "\n",
        "# Hypotheses:\n",
        "# H0: mu1 = mu2 = mu3\n",
        "# H1: At least one mean is different\n",
        "\n",
        "k = 3\n",
        "n = nrow(df)\n",
        "MSTr = SSTr/(k-1)\n",
        "MSE = SSE/(n-k)\n",
        "F_obs = MSTr/MSE #F_obs ~ F(k-1, n-k) under H0\n",
        "F_obs\n",
        "```\n",
        "As the deviation between group means becomes larger, we tend to observe more extreme $F$ statistics, providing stronger evidence against the null hypothesis. When the null hypothesis is true, $F$ values are generally small.\n",
        "\n",
        "</details>"
      ],
      "metadata": {
        "id": "t21GzXNvN_TH"
      }
    },
    {
      "cell_type": "markdown",
      "source": [
        "#### **ANOVA in R via `aov`**\n",
        "\n",
        "R provides a dedicated function for performing ANOVA: the `aov()` function. It has a formula interface, similar to `t.test()`, `lm()`, and many other functions used in statistical modeling in R. However, `aov()` is not the only way to perform ANOVA in R. You can also use `lm()`, since ANOVA is a special case of (multiple) linear regression models.\n",
        "\n",
        "**Usage:**\n",
        "\n",
        "```r\n",
        "aov(formula,\n",
        "    data = NULL,\n",
        "    projections = FALSE,\n",
        "    qr = TRUE,\n",
        "    contrasts = NULL,\n",
        "    ...)\n",
        "```\n",
        "\n",
        "**Arguments:**\n",
        "\n",
        "- `formula`: a model formula of the form `response ~ predictors` (e.g., `y ~ group`)  \n",
        "- `data`: a data frame containing variables in the model  \n",
        "- `projections`: logical; if TRUE, returns projection matrices  \n",
        "- `qr`: logical; if TRUE, returns the QR decomposition of the model fit  \n",
        "- `contrasts`: a list of contrast specifications for factors  \n",
        "- `...`: additional arguments passed to `lm()`  \n",
        "\n"
      ],
      "metadata": {
        "id": "E1NVY2IaV4CA"
      }
    },
    {
      "cell_type": "markdown",
      "source": [
        "Back to the previous simulated dataset:"
      ],
      "metadata": {
        "id": "ExlfJWO6ZgDB"
      }
    },
    {
      "cell_type": "code",
      "source": [
        "\n",
        "set.seed(123)\n",
        "group1 = rnorm(5, 1)\n",
        "group2 = rnorm(5,0)\n",
        "group3 = rnorm(5,-1)\n",
        "\n",
        "# Combine into long-format\n",
        "df = data.frame(\n",
        "  value = c(group1, group2, group3),\n",
        "  group = factor(c(\n",
        "    rep(1, length(group1)),\n",
        "    rep(2, length(group2)),\n",
        "    rep(3, length(group3))\n",
        "  )),\n",
        "  groupInt = c(\n",
        "    rep(1, length(group1)),\n",
        "    rep(2, length(group2)),\n",
        "    rep(3, length(group3))\n",
        "  )\n",
        ")\n",
        "\n",
        "df %>% head(10)\n"
      ],
      "metadata": {
        "id": "SALzpN0PZkAJ",
        "colab": {
          "base_uri": "https://localhost:8080/",
          "height": 407
        },
        "outputId": "740455a2-8e32-4f71-f2b7-b2ec5c361b4c"
      },
      "execution_count": 9,
      "outputs": [
        {
          "output_type": "display_data",
          "data": {
            "text/html": [
              "<table class=\"dataframe\">\n",
              "<caption>A data.frame: 10 × 3</caption>\n",
              "<thead>\n",
              "\t<tr><th></th><th scope=col>value</th><th scope=col>group</th><th scope=col>groupInt</th></tr>\n",
              "\t<tr><th></th><th scope=col>&lt;dbl&gt;</th><th scope=col>&lt;fct&gt;</th><th scope=col>&lt;dbl&gt;</th></tr>\n",
              "</thead>\n",
              "<tbody>\n",
              "\t<tr><th scope=row>1</th><td> 0.4395244</td><td>1</td><td>1</td></tr>\n",
              "\t<tr><th scope=row>2</th><td> 0.7698225</td><td>1</td><td>1</td></tr>\n",
              "\t<tr><th scope=row>3</th><td> 2.5587083</td><td>1</td><td>1</td></tr>\n",
              "\t<tr><th scope=row>4</th><td> 1.0705084</td><td>1</td><td>1</td></tr>\n",
              "\t<tr><th scope=row>5</th><td> 1.1292877</td><td>1</td><td>1</td></tr>\n",
              "\t<tr><th scope=row>6</th><td> 1.7150650</td><td>2</td><td>2</td></tr>\n",
              "\t<tr><th scope=row>7</th><td> 0.4609162</td><td>2</td><td>2</td></tr>\n",
              "\t<tr><th scope=row>8</th><td>-1.2650612</td><td>2</td><td>2</td></tr>\n",
              "\t<tr><th scope=row>9</th><td>-0.6868529</td><td>2</td><td>2</td></tr>\n",
              "\t<tr><th scope=row>10</th><td>-0.4456620</td><td>2</td><td>2</td></tr>\n",
              "</tbody>\n",
              "</table>\n"
            ],
            "text/markdown": "\nA data.frame: 10 × 3\n\n| <!--/--> | value &lt;dbl&gt; | group &lt;fct&gt; | groupInt &lt;dbl&gt; |\n|---|---|---|---|\n| 1 |  0.4395244 | 1 | 1 |\n| 2 |  0.7698225 | 1 | 1 |\n| 3 |  2.5587083 | 1 | 1 |\n| 4 |  1.0705084 | 1 | 1 |\n| 5 |  1.1292877 | 1 | 1 |\n| 6 |  1.7150650 | 2 | 2 |\n| 7 |  0.4609162 | 2 | 2 |\n| 8 | -1.2650612 | 2 | 2 |\n| 9 | -0.6868529 | 2 | 2 |\n| 10 | -0.4456620 | 2 | 2 |\n\n",
            "text/latex": "A data.frame: 10 × 3\n\\begin{tabular}{r|lll}\n  & value & group & groupInt\\\\\n  & <dbl> & <fct> & <dbl>\\\\\n\\hline\n\t1 &  0.4395244 & 1 & 1\\\\\n\t2 &  0.7698225 & 1 & 1\\\\\n\t3 &  2.5587083 & 1 & 1\\\\\n\t4 &  1.0705084 & 1 & 1\\\\\n\t5 &  1.1292877 & 1 & 1\\\\\n\t6 &  1.7150650 & 2 & 2\\\\\n\t7 &  0.4609162 & 2 & 2\\\\\n\t8 & -1.2650612 & 2 & 2\\\\\n\t9 & -0.6868529 & 2 & 2\\\\\n\t10 & -0.4456620 & 2 & 2\\\\\n\\end{tabular}\n",
            "text/plain": [
              "   value      group groupInt\n",
              "1   0.4395244 1     1       \n",
              "2   0.7698225 1     1       \n",
              "3   2.5587083 1     1       \n",
              "4   1.0705084 1     1       \n",
              "5   1.1292877 1     1       \n",
              "6   1.7150650 2     2       \n",
              "7   0.4609162 2     2       \n",
              "8  -1.2650612 2     2       \n",
              "9  -0.6868529 2     2       \n",
              "10 -0.4456620 2     2       "
            ]
          },
          "metadata": {}
        }
      ]
    },
    {
      "cell_type": "markdown",
      "source": [
        "Note that the datatype of `group` is not integer, but factor. This means it should be treated as a categorical variable rather than a numeric one. This distinction is important for ANOVA because if group were treated as an integer, the model would interpret the group IDs (e.g., 1, 2, 3) as numeric values with a meaningful order or magnitude, rather than as mere labels representing different categories. Using a factor ensures that ANOVA correctly compares group means."
      ],
      "metadata": {
        "id": "1yGVCOjTZm3-"
      }
    },
    {
      "cell_type": "code",
      "source": [
        "aov(value ~ group, data = df) %>% summary()"
      ],
      "metadata": {
        "id": "z9B1MBiHakVg",
        "outputId": "41c70e3b-8004-4a1f-d5df-dbd6e859a1d6",
        "colab": {
          "base_uri": "https://localhost:8080/",
          "height": 102
        }
      },
      "execution_count": 10,
      "outputs": [
        {
          "output_type": "display_data",
          "data": {
            "text/plain": [
              "            Df Sum Sq Mean Sq F value Pr(>F)  \n",
              "group        2  9.180   4.590   5.689 0.0183 *\n",
              "Residuals   12  9.682   0.807                 \n",
              "---\n",
              "Signif. codes:  0 ‘***’ 0.001 ‘**’ 0.01 ‘*’ 0.05 ‘.’ 0.1 ‘ ’ 1"
            ]
          },
          "metadata": {}
        }
      ]
    },
    {
      "cell_type": "markdown",
      "source": [
        "`aov()` by default generates a **statistical summary**, which includes:\n",
        "\n",
        "- $F$-statistic: the value of the test statistic for the ANOVA  \n",
        "- Degrees of freedom (Df): for the $F$-distribution under the null hypothesis  \n",
        "- Sum of Squares (Sum Sq): total variation attributed to each source (between groups vs within groups/residual)  \n",
        "- Mean Squares (Mean Sq): average variation per degree of freedom (Sum Sq / Df)  \n",
        "- p-value (Pr(>F)): the probability of observing a value as extreme (or more extreme) than the observed $F$ statistic, assuming the null hypothesis is true  \n",
        "  - If the **p-value is smaller than the significance level** $\\alpha$, it is equivalent to rejecting the null hypothesis in the Neyman-Pearson framework. Useful for deciding whether group means differ significantly!\n"
      ],
      "metadata": {
        "id": "rtkc4XSIPmpp"
      }
    },
    {
      "cell_type": "markdown",
      "source": [
        "ANOVA is a special case of a linear regression model where the regressors are categorical. One can also use the `lm()` function to run ANOVA and then apply `anova()` on the `lm` object to extract the results.  Details about the mathematics behind this approach are beyond the scope of this unit.\n"
      ],
      "metadata": {
        "id": "j3KoIDpMPjBG"
      }
    },
    {
      "cell_type": "code",
      "source": [
        "lm(value ~ group, data = df) %>% anova()"
      ],
      "metadata": {
        "id": "RsgcqXRyQaU3",
        "colab": {
          "base_uri": "https://localhost:8080/",
          "height": 159
        },
        "outputId": "0381f55e-e7c4-4fb6-b2b2-3c9c67649117"
      },
      "execution_count": 11,
      "outputs": [
        {
          "output_type": "display_data",
          "data": {
            "text/html": [
              "<table class=\"dataframe\">\n",
              "<caption>A anova: 2 × 5</caption>\n",
              "<thead>\n",
              "\t<tr><th></th><th scope=col>Df</th><th scope=col>Sum Sq</th><th scope=col>Mean Sq</th><th scope=col>F value</th><th scope=col>Pr(&gt;F)</th></tr>\n",
              "\t<tr><th></th><th scope=col>&lt;int&gt;</th><th scope=col>&lt;dbl&gt;</th><th scope=col>&lt;dbl&gt;</th><th scope=col>&lt;dbl&gt;</th><th scope=col>&lt;dbl&gt;</th></tr>\n",
              "</thead>\n",
              "<tbody>\n",
              "\t<tr><th scope=row>group</th><td> 2</td><td>9.179556</td><td>4.5897780</td><td>5.68892</td><td>0.018292</td></tr>\n",
              "\t<tr><th scope=row>Residuals</th><td>12</td><td>9.681511</td><td>0.8067925</td><td>     NA</td><td>      NA</td></tr>\n",
              "</tbody>\n",
              "</table>\n"
            ],
            "text/markdown": "\nA anova: 2 × 5\n\n| <!--/--> | Df &lt;int&gt; | Sum Sq &lt;dbl&gt; | Mean Sq &lt;dbl&gt; | F value &lt;dbl&gt; | Pr(&gt;F) &lt;dbl&gt; |\n|---|---|---|---|---|---|\n| group |  2 | 9.179556 | 4.5897780 | 5.68892 | 0.018292 |\n| Residuals | 12 | 9.681511 | 0.8067925 |      NA |       NA |\n\n",
            "text/latex": "A anova: 2 × 5\n\\begin{tabular}{r|lllll}\n  & Df & Sum Sq & Mean Sq & F value & Pr(>F)\\\\\n  & <int> & <dbl> & <dbl> & <dbl> & <dbl>\\\\\n\\hline\n\tgroup &  2 & 9.179556 & 4.5897780 & 5.68892 & 0.018292\\\\\n\tResiduals & 12 & 9.681511 & 0.8067925 &      NA &       NA\\\\\n\\end{tabular}\n",
            "text/plain": [
              "          Df Sum Sq   Mean Sq   F value Pr(>F)  \n",
              "group      2 9.179556 4.5897780 5.68892 0.018292\n",
              "Residuals 12 9.681511 0.8067925      NA       NA"
            ]
          },
          "metadata": {}
        }
      ]
    },
    {
      "cell_type": "markdown",
      "source": [
        "**Be cautious!!!**\n",
        "\n",
        "If one forgets to convert `group` to a factor when it is numeric and performs ANOVA, this can lead to different results. In this case, ANOVA will treat `group` as a numeric predictor and fit a linear model where `value` depends linearly on `group`, rather than comparing group means. This can produce misleading conclusions.\n",
        "\n",
        "For example, in `df`, we have `groupInt`, which stores group IDs as integers."
      ],
      "metadata": {
        "id": "H0I8kxDjPH8A"
      }
    },
    {
      "cell_type": "code",
      "source": [
        "aov(value ~ groupInt, data = df) %>% summary()"
      ],
      "metadata": {
        "id": "ejMOLnT_PFjQ",
        "colab": {
          "base_uri": "https://localhost:8080/",
          "height": 102
        },
        "outputId": "0763ccc6-7c1c-4e5b-8c50-891337503177"
      },
      "execution_count": 12,
      "outputs": [
        {
          "output_type": "display_data",
          "data": {
            "text/plain": [
              "            Df Sum Sq Mean Sq F value Pr(>F)   \n",
              "groupInt     1  8.889   8.889   11.59 0.0047 **\n",
              "Residuals   13  9.972   0.767                  \n",
              "---\n",
              "Signif. codes:  0 ‘***’ 0.001 ‘**’ 0.01 ‘*’ 0.05 ‘.’ 0.1 ‘ ’ 1"
            ]
          },
          "metadata": {}
        }
      ]
    },
    {
      "cell_type": "code",
      "source": [
        "anova(lm(value ~ groupInt, data = df))"
      ],
      "metadata": {
        "id": "tTr55fkAPUR4",
        "colab": {
          "base_uri": "https://localhost:8080/",
          "height": 159
        },
        "outputId": "4f940dd4-d07f-4887-c1f1-1dd963d69ab9"
      },
      "execution_count": 13,
      "outputs": [
        {
          "output_type": "display_data",
          "data": {
            "text/html": [
              "<table class=\"dataframe\">\n",
              "<caption>A anova: 2 × 5</caption>\n",
              "<thead>\n",
              "\t<tr><th></th><th scope=col>Df</th><th scope=col>Sum Sq</th><th scope=col>Mean Sq</th><th scope=col>F value</th><th scope=col>Pr(&gt;F)</th></tr>\n",
              "\t<tr><th></th><th scope=col>&lt;int&gt;</th><th scope=col>&lt;dbl&gt;</th><th scope=col>&lt;dbl&gt;</th><th scope=col>&lt;dbl&gt;</th><th scope=col>&lt;dbl&gt;</th></tr>\n",
              "</thead>\n",
              "<tbody>\n",
              "\t<tr><th scope=row>groupInt</th><td> 1</td><td>8.889365</td><td>8.889365</td><td>11.58897</td><td>0.00470369</td></tr>\n",
              "\t<tr><th scope=row>Residuals</th><td>13</td><td>9.971702</td><td>0.767054</td><td>      NA</td><td>        NA</td></tr>\n",
              "</tbody>\n",
              "</table>\n"
            ],
            "text/markdown": "\nA anova: 2 × 5\n\n| <!--/--> | Df &lt;int&gt; | Sum Sq &lt;dbl&gt; | Mean Sq &lt;dbl&gt; | F value &lt;dbl&gt; | Pr(&gt;F) &lt;dbl&gt; |\n|---|---|---|---|---|---|\n| groupInt |  1 | 8.889365 | 8.889365 | 11.58897 | 0.00470369 |\n| Residuals | 13 | 9.971702 | 0.767054 |       NA |         NA |\n\n",
            "text/latex": "A anova: 2 × 5\n\\begin{tabular}{r|lllll}\n  & Df & Sum Sq & Mean Sq & F value & Pr(>F)\\\\\n  & <int> & <dbl> & <dbl> & <dbl> & <dbl>\\\\\n\\hline\n\tgroupInt &  1 & 8.889365 & 8.889365 & 11.58897 & 0.00470369\\\\\n\tResiduals & 13 & 9.971702 & 0.767054 &       NA &         NA\\\\\n\\end{tabular}\n",
            "text/plain": [
              "          Df Sum Sq   Mean Sq  F value  Pr(>F)    \n",
              "groupInt   1 8.889365 8.889365 11.58897 0.00470369\n",
              "Residuals 13 9.971702 0.767054       NA         NA"
            ]
          },
          "metadata": {}
        }
      ]
    },
    {
      "cell_type": "markdown",
      "source": [
        "#### **Pair-wise Comparision**\n",
        "\n",
        "After performing a one-way ANOVA, if the null hypothesis is rejected, one might be tempted to conduct **pairwise comparisons** between all groups to determine which specific means differ. For $k$ groups, there are $\\frac{k(k-1)}{2}$ possible pairwise comparisons. Each comparison can be formulated as a standard two-sample t-test:\n",
        "\n",
        "$$\n",
        "t = \\frac{\\bar{X}_i - \\bar{X}_j}{\\sqrt{s_p^2 \\left(\\frac{1}{n_i} + \\frac{1}{n_j}\\right)}},\n",
        "$$\n",
        "\n",
        "where $s_p^2$ is the pooled variance and $n_i$, $n_j$ are the sample sizes of groups $i$ and $j$. However, performing multiple t-tests **inflates the type I error rate**, because each test has a probability of incorrectly rejecting the null, and the more tests performed, the higher the overall chance of making at least one false positive. This is why adjustments such as Tukey's HSD, Bonferroni correction, or other multiple testing procedures are recommended after ANOVA to control the **family-wise error rate** — that is, the probability of incorrectly rejecting at least one pairwise comparison hypothesis when the original null hypothesis is true:\n",
        "\n",
        "$$\n",
        "H_0: \\mu_1 = \\mu_2 = \\dots = \\mu_k = 0.\n",
        "$$\n",
        "\n",
        "Of course, if one is solely interested in testing whether all group means are equal, it is more appropriate to test them **simultaneously** using the overall F-test from ANOVA, rather than performing multiple pairwise comparisons.\n",
        "\n",
        "\n",
        "We focus on the practical implementation of Tukey's HSD. It is straightforward: one only needs to pipe an `aov` object to the `TukeyHSD()` function to perform all pairwise comparisons with appropriate adjustment for multiple testing.\n",
        "\n"
      ],
      "metadata": {
        "id": "oKdY6oHPQ78_"
      }
    },
    {
      "cell_type": "code",
      "source": [
        "aov(value ~ group, data = df) %>% TukeyHSD()"
      ],
      "metadata": {
        "id": "k3HdIXm2RpSy",
        "colab": {
          "base_uri": "https://localhost:8080/",
          "height": 187
        },
        "outputId": "0c59beab-ca33-40a2-e39f-445457efc530"
      },
      "execution_count": 14,
      "outputs": [
        {
          "output_type": "display_data",
          "data": {
            "text/plain": [
              "  Tukey multiple comparisons of means\n",
              "    95% family-wise confidence level\n",
              "\n",
              "Fit: aov(formula = value ~ group, data = df)\n",
              "\n",
              "$group\n",
              "          diff       lwr        upr     p adj\n",
              "2-1 -1.2378892 -2.753454  0.2776758 0.1155094\n",
              "3-1 -1.8856685 -3.401234 -0.3701035 0.0156275\n",
              "3-2 -0.6477793 -2.163344  0.8677857 0.5089623\n"
            ]
          },
          "metadata": {}
        }
      ]
    },
    {
      "cell_type": "markdown",
      "source": [
        "There are several ways to interpret the output of `TukeyHSD()`. One handy approach is to look at the **adjusted p-values** (though this is not covered in detail in this unit). If the adjusted p-value is smaller than the chosen type I error rate $\\alpha$, we can reject the null hypothesis that the two group means are equal.  \n",
        "\n",
        "Another approach is to examine the `lwr` and `upr` columns. These represent confidence intervals for the differences between group means. If a confidence interval does **not** include 0, it is equivalent to rejecting the null hypothesis that the two group means are equal, thanks to the connection between hypothesis testing and confidence intervals.\n",
        "\n",
        "For example, in our example, we reject the null hypothesis that $\\mu_1 = \\mu_3$ and do not reject the null hypotheses $\\mu_1 = \\mu_2$ and $\\mu_2 = \\mu_3$.\n"
      ],
      "metadata": {
        "id": "XIw4_lUMSJ4O"
      }
    },
    {
      "cell_type": "markdown",
      "source": [
        "##### **Exercise**\n",
        "\n",
        "The `PlantGrowth` dataset contains the weight of plants under three different treatment groups (`ctrl`, `trt1`, `trt2`).\n",
        "\n",
        "- Use the `aov()` function in R to test whether there is a significant difference in mean plant weight among the three groups.\n",
        "- Interpret the ANOVA table and determine whether the null hypothesis of equal group means can be rejected.\n",
        "- Perform an appropriate method for pairwise comparisons between the groups.\n",
        "\n",
        "Assume a 5% Type I error.\n"
      ],
      "metadata": {
        "id": "gPvWDTD1TrMV"
      }
    },
    {
      "cell_type": "code",
      "source": [
        "PlantGrowth %>% str()"
      ],
      "metadata": {
        "id": "E2TgKmy4UIQw",
        "colab": {
          "base_uri": "https://localhost:8080/"
        },
        "outputId": "a9c019df-6a39-4670-8e9d-87d3928c5652"
      },
      "execution_count": 15,
      "outputs": [
        {
          "output_type": "stream",
          "name": "stdout",
          "text": [
            "'data.frame':\t30 obs. of  2 variables:\n",
            " $ weight: num  4.17 5.58 5.18 6.11 4.5 4.61 5.17 4.53 5.33 5.14 ...\n",
            " $ group : Factor w/ 3 levels \"ctrl\",\"trt1\",..: 1 1 1 1 1 1 1 1 1 1 ...\n"
          ]
        }
      ]
    },
    {
      "cell_type": "markdown",
      "source": [
        "\n",
        "<details>\n",
        "<summary>▶️ Click to show the solution</summary>\n",
        "\n",
        "```r\n",
        "aov(weight~group, PlantGrowth) %>% summary()\n",
        "F_val = 0.0159\n",
        "F_val > qf(0.95,2,27)\n",
        "```\n",
        "As $F$ statistic is larger than `qf(0.95, 2,27)`, we reject the null hypothesis that there is no difference in mean plant weight between the 3 interventions in favour of the alternative hypothesis.\n",
        "\n",
        "\n",
        "```r\n",
        "aov(weight~group, PlantGrowth) %>% TukeyHSD()\n",
        "```\n",
        "Pairwise comparisons using the TukeyHSD method suggest that there is **no evidence** against the null hypothesis for `trt2 - ctrl` and `trt1 - trt2` (their mean differences are not statistically significant). However, there **is evidence** that `trt1` and `ctrl` lead to different mean plant weights.\n",
        "\n",
        "**Note:**  \n",
        "\n",
        "Even if we find  \n",
        "- no statistical evidence for a difference between A and B, and  \n",
        "- no statistical evidence for a difference between A and C,  \n",
        "\n",
        "this does **not** mean there is no statistical difference between B and C.  \n",
        "\n",
        "For example, it could be that B has a slightly higher mean than A, and C has a slightly lower mean than A. Each difference might be too small for a t-test to detect individually. However, when comparing B and C directly, the differences \"add up,\" making it easier to detect a statistically significant difference.\n",
        "\n",
        "\n",
        "</details>"
      ],
      "metadata": {
        "id": "VAN9O2qiUM7b"
      }
    },
    {
      "cell_type": "markdown",
      "source": [
        "## **Two-Way ANOVA**"
      ],
      "metadata": {
        "id": "q94uJqalffHO"
      }
    },
    {
      "cell_type": "markdown",
      "source": [
        "\n",
        "\n",
        "### **Formulation of Two-Way ANOVA**\n",
        "We will not go into two-way ANOVA in as much detail as one-way ANOVA, but the idea is a natural extension. Here, instead of having only one treatment variable, we now allow for two treatment variables (factors). Their essenses are pretty much the same, though.\n",
        "\n",
        "Suppose we have two factors, **A** with $I$ levels and **B** with $J$ levels. The two-way ANOVA model is:  \n",
        "\n",
        "$$\n",
        "Y_{ijk} = \\alpha_i + \\beta_j + (\\alpha\\beta)_{ij} + \\varepsilon_{ijk},\n",
        "$$  \n",
        "\n",
        "where:  \n",
        "- $\\alpha_i$: effect of the $i$-th level of factor A  \n",
        "- $\\beta_j$: effect of the $j$-th level of factor B  \n",
        "- $(\\alpha\\beta)_{ij}$: **interaction effect** between level $i$ of A and level $j$ of B  \n",
        "- $\\varepsilon_{ijk} \\sim \\mathcal{N}(0, \\sigma^2)$: random error term  \n",
        "\n",
        "Sometimes the interaction is not included in the model. However, if interactions are present and significant, they fundamentally change how we interpret the effects of the factors. In particular:\n",
        "\n",
        "- If the interaction term is **not significant**, the effect of one factor is consistent across the levels of the other factor.  \n",
        "- If the interaction term is **significant**, the effect of one factor depends on the level of the other factor (the two factors do not act independently).  "
      ],
      "metadata": {
        "id": "vB-mRk3LWsbi"
      }
    },
    {
      "cell_type": "markdown",
      "source": [
        "#### **Hypothesis Testing for Two-Way ANOVA**\n",
        "  \n",
        "\n",
        "In two-way ANOVA, we are interested in testing the following hypotheses:\n",
        "\n",
        "- **Main effect of factor A:**  \n",
        "  $$\n",
        "  H_0^A: \\alpha_1 = \\alpha_2 = \\dots = \\alpha_I\\\\\n",
        "  H_1^A: \\text{At least one } \\alpha_i \\text{are different from the others}\n",
        "  $$  \n",
        "\n",
        "- **Main effect of factor B:**  \n",
        "  $$\n",
        "  H_0^B: \\beta_1 = \\beta_2 = \\dots = \\beta_J\\\\\n",
        "  H_1^B: \\text{At least one } \\beta_j\\text{are different from the others}\n",
        "  $$  \n",
        "\n",
        "- **Interaction effect:**  \n",
        "  $$\n",
        "  H_0^{AB}: (\\alpha\\beta)_{ij} = 0 \\quad \\text{for all } i,j\\\\\n",
        "  H_1^{AB}: \\text{At least one interaction term is non-zero}\n",
        "  $$  \n",
        "\n",
        "Below is a typical ANOVA table obtained from statistical software (e.g., `R`) for two-way ANOVA.\n",
        "\n",
        "| Source       | Degrees of Freedom | Sum of Squares | Mean Squares             | F             |\n",
        "|-------------|------------------|----------------|-------------------------|---------------|\n",
        "| A           | I - 1            | SSA            | SSA / (I - 1)           | MSA / MSE     |\n",
        "| B           | J - 1            | SSB            | SSB / (J - 1)           | MSB / MSE     |\n",
        "| A × B       | (I - 1)(J - 1)   | SSAB           | SSAB / ((I - 1)(J - 1)) | MSAB / MSE    |\n",
        "| Error       | IJ(K - 1)        | SSE            | SSE / (IJ(K - 1))       |               |\n",
        "| Total       | IJK - 1          | SST            |                         |               |\n",
        "\n",
        "The $F$-test for a factor (e.g., factor A) is performed by comparing the mean square of that factor (`MSA`) with the mean square of error (`MSE`) using the corresponding degrees of freedom:\n",
        "\n",
        "$$\n",
        "F_A = \\frac{MSA}{MSE},\n",
        "$$\n",
        "\n",
        "\n",
        "with $\\textit{df}_1 = I-1$, $\\textit{df}_2 = IJ(K-1)$.\n",
        "\n"
      ],
      "metadata": {
        "id": "CodJda18Yg8d"
      }
    },
    {
      "cell_type": "markdown",
      "source": [
        "### **Randomised Complete Block Design (RCBD)**\n",
        "\n",
        "A **block design** is a special case of two-way ANOVA, where one factor is the **treatment of interest** and the other factor is a **blocking factor** (a nuisance variable) used to control for variability across experimental units.\n",
        "\n",
        "Suppose we have:  \n",
        "- Treatments: factor A with $I$ levels  \n",
        "- Blocks: factor B with $J$ levels  \n",
        "- One replicate per treatment within each block (standard RCBD).\n",
        "\n",
        "The model is:\n",
        "\n",
        "$$\n",
        "Y_{ij} = \\tau_i + \\beta_j + \\varepsilon_{ij},\n",
        "$$\n",
        "\n",
        "where:   \n",
        "- $\\tau_i$: effect of the $i$-th treatment (factor of interest)  \n",
        "- $\\beta_j$: effect of the $j$-th block (blocking factor)  \n",
        "- $\\varepsilon_{ij} \\sim \\mathcal{N}(0, \\sigma^2)$: random error term  \n",
        "\n",
        "**Notes:**\n",
        "\n",
        "- There is **no interaction term**.\n",
        "- Including blocks in the model reduces residual variability, making it easier to detect treatment effects.  \n",
        "- The **null hypothesis** for treatments:\n",
        "\n",
        "$$\n",
        "H_0: \\tau_1 = \\tau_2 = \\dots = \\tau_I\n",
        "$$\n",
        "\n",
        "- The **null hypothesis** for blocks:\n",
        "\n",
        "$$\n",
        "H_0: \\beta_1 = \\beta_2 = \\dots = \\beta_J\n",
        "$$\n",
        "\n",
        "Interpretation of ANOVA output is the same as in one-way or two-way ANOVA. Below is a typical ANOVA table obtained from statistical software (e.g., `R`) for RCBD.\n",
        "\n",
        "| Source       | Sum of Squares | Degrees of Freedom | Mean Square       | F                  |\n",
        "|-------------|----------------|-----------------|-----------------|------------------|\n",
        "| Block       | SSB            | J - 1           | SSB / (J - 1)   | MSB / MSE        |\n",
        "| Treatment   | SSTr           | I - 1           | SSTr / (I - 1)  | MSTr / MSE       |\n",
        "| Error       | SSE            | (I - 1)(J - 1)  | SSE / ((I - 1)(J - 1)) |                  |\n",
        "| Total       | SST            | n - 1           |                 |                  |\n",
        "\n"
      ],
      "metadata": {
        "id": "uGzFPphjfXv4"
      }
    },
    {
      "cell_type": "markdown",
      "source": [
        "### **R Reference**\n",
        "\n",
        "We can use the `aov()` function (or equivalently `lm() %>% anova()`) to perform two-way ANOVA.\n",
        "\n",
        "```r\n",
        "aov(formula,\n",
        "    data = NULL,\n",
        "    projections = FALSE,\n",
        "    qr = TRUE,\n",
        "    contrasts = NULL,\n",
        "    ...)\n",
        "```\n",
        "There is no fundamental difference from one-way ANOVA, but now we can specify an additional factor and, optionally, their interaction.\n",
        "\n",
        "| Model formula                  | Includes main effects | Includes interaction | Interpretation                                                                 |\n",
        "|--------------------------------|-----------------------|----------------------|--------------------------------------------------------------------------------|\n",
        "| `response ~ factorA + factorB` | ✅ Yes                | ❌ No                | Each factor’s effect is assumed to act **independently** of the other.         |\n",
        "| `response ~ factorA * factorB` | ✅ Yes                | ✅ Yes               | Each factor’s effect may **depend on the level** of the other factor.          |\n",
        "\n",
        "Everything else (e.g., interpretation of the ANOVA table, p-values, hypothesis testing, and connections to confidence intervals) follows the same principles as in one-way ANOVA."
      ],
      "metadata": {
        "id": "B4OxYHdWYw5j"
      }
    },
    {
      "cell_type": "markdown",
      "source": [
        "## **Workshop Questions**\n",
        "\n",
        "In this section, a Type I error of 5% is assumed."
      ],
      "metadata": {
        "id": "R7zMNjANZ_p4"
      }
    },
    {
      "cell_type": "markdown",
      "source": [
        "### **Question 1**\n",
        "\n",
        "The built-in dataset `warpbreaks` contains the number of warp breaks per loom, grouped by two factors:  \n",
        "- `wool` (type of wool: `\"A\"` or `\"B\"`)  \n",
        "- `tension` (tension level: `\"L\"`, `\"M\"`, `\"H\"`)  \n",
        "\n"
      ],
      "metadata": {
        "id": "QOH6v8CoaE-g"
      }
    },
    {
      "cell_type": "code",
      "source": [
        "warpbreaks %>% str()"
      ],
      "metadata": {
        "colab": {
          "base_uri": "https://localhost:8080/"
        },
        "id": "PWwCzg5WaJRO",
        "outputId": "95e7b8fe-0d0d-4583-ee95-60b2eaf168b2"
      },
      "execution_count": 16,
      "outputs": [
        {
          "output_type": "stream",
          "name": "stdout",
          "text": [
            "'data.frame':\t54 obs. of  3 variables:\n",
            " $ breaks : num  26 30 54 25 70 52 51 26 67 18 ...\n",
            " $ wool   : Factor w/ 2 levels \"A\",\"B\": 1 1 1 1 1 1 1 1 1 1 ...\n",
            " $ tension: Factor w/ 3 levels \"L\",\"M\",\"H\": 1 1 1 1 1 1 1 1 1 2 ...\n"
          ]
        }
      ]
    },
    {
      "cell_type": "markdown",
      "source": [
        "#### **Question 1.1**\n",
        "\n",
        "Use the `aov()` function to test for the effects of `wool`, `tension`, and their interaction on the number of breaks.  Interpret the ANOVA table.\n",
        "\n"
      ],
      "metadata": {
        "id": "_QrTBcpfae5l"
      }
    },
    {
      "cell_type": "code",
      "source": [
        "aov(breaks ~ wool * tension, data = warpbreaks) %>% summary()\n",
        "\n",
        "# Main effect of wool has p-value ≈ 0.058. At 95% significance level, do not reject the null hypothesis that wool type has no effect on the number of breaks.\n",
        "# Main effect of tension has p-value ≈ 0.0007 < 0.05. Different tension levels significantly affect the number of breaks.\n",
        "# Interaction effect (wool:tension): p ≈ 0.02 < 0.05. Reject the null hypothesis in favour of the hypothesis that the effect of tension depends on the wool type (and vice versa).\n",
        "\n",
        "# Of course, one may also compare F statistics to critical values\n",
        "\n",
        "F_wool = 3.765\n",
        "F_tension = 8.498\n",
        "F_interaction = 4.189\n",
        "\n",
        "F_wool > qf(0.95, 1,48)\n",
        "F_tension > qf(0.95, 2,48)\n",
        "F_interaction > qf(0.95, 2,48)\n"
      ],
      "metadata": {
        "colab": {
          "base_uri": "https://localhost:8080/",
          "height": 187
        },
        "id": "6KP6Zsz7aqK8",
        "outputId": "c5491cf7-3be0-4d59-b75b-b2141c316bf0"
      },
      "execution_count": 17,
      "outputs": [
        {
          "output_type": "display_data",
          "data": {
            "text/plain": [
              "             Df Sum Sq Mean Sq F value   Pr(>F)    \n",
              "wool          1    451   450.7   3.765 0.058213 .  \n",
              "tension       2   2034  1017.1   8.498 0.000693 ***\n",
              "wool:tension  2   1003   501.4   4.189 0.021044 *  \n",
              "Residuals    48   5745   119.7                     \n",
              "---\n",
              "Signif. codes:  0 ‘***’ 0.001 ‘**’ 0.01 ‘*’ 0.05 ‘.’ 0.1 ‘ ’ 1"
            ]
          },
          "metadata": {}
        },
        {
          "output_type": "display_data",
          "data": {
            "text/html": [
              "FALSE"
            ],
            "text/markdown": "FALSE",
            "text/latex": "FALSE",
            "text/plain": [
              "[1] FALSE"
            ]
          },
          "metadata": {}
        },
        {
          "output_type": "display_data",
          "data": {
            "text/html": [
              "TRUE"
            ],
            "text/markdown": "TRUE",
            "text/latex": "TRUE",
            "text/plain": [
              "[1] TRUE"
            ]
          },
          "metadata": {}
        },
        {
          "output_type": "display_data",
          "data": {
            "text/html": [
              "TRUE"
            ],
            "text/markdown": "TRUE",
            "text/latex": "TRUE",
            "text/plain": [
              "[1] TRUE"
            ]
          },
          "metadata": {}
        }
      ]
    },
    {
      "cell_type": "markdown",
      "source": [
        "#### **Question 1.2**\n",
        "\n",
        "Use an appropriate post-hoc method to perform pairwise comparisons between levels of `tension`. Interpret the results to identify significant differences. Comment on the directions of the differences."
      ],
      "metadata": {
        "id": "mqcyN7SCaqdt"
      }
    },
    {
      "cell_type": "code",
      "source": [
        "aov(breaks ~ wool * tension, data = warpbreaks) %>% TukeyHSD()\n",
        "\n",
        "# M vs L: CI does not include 0. There is evidence that medium tension produces fewer breaks than low tension.\n",
        "# H vs L: CI does not include 0. There is evidence that high tension produces fewer breaks than low tension.\n",
        "# H vs M: CI does include 0. No evidence of difference between high and medium tension.\n",
        "\n",
        "# Technically, if a symmetric two-sided test is rejected, then the corresponding one-sided test in the same direction as the observed difference (`diff`) would also be rejected.\n",
        "# So, while TukeyHSD formally only performs two-sided tests for pairwise differences, it is still valid to **describe the observed direction of the difference** when reporting results.\n"
      ],
      "metadata": {
        "colab": {
          "base_uri": "https://localhost:8080/",
          "height": 561
        },
        "id": "cPG_Z7L9a6Ng",
        "outputId": "e45cd02d-25c8-4562-f8f8-0c51ff27e7e8"
      },
      "execution_count": 18,
      "outputs": [
        {
          "output_type": "display_data",
          "data": {
            "text/plain": [
              "  Tukey multiple comparisons of means\n",
              "    95% family-wise confidence level\n",
              "\n",
              "Fit: aov(formula = breaks ~ wool * tension, data = warpbreaks)\n",
              "\n",
              "$wool\n",
              "         diff       lwr       upr    p adj\n",
              "B-A -5.777778 -11.76458 0.2090243 0.058213\n",
              "\n",
              "$tension\n",
              "          diff       lwr       upr     p adj\n",
              "M-L -10.000000 -18.81965 -1.180353 0.0228554\n",
              "H-L -14.722222 -23.54187 -5.902575 0.0005595\n",
              "H-M  -4.722222 -13.54187  4.097425 0.4049442\n",
              "\n",
              "$`wool:tension`\n",
              "               diff       lwr        upr     p adj\n",
              "B:L-A:L -16.3333333 -31.63966  -1.027012 0.0302143\n",
              "A:M-A:L -20.5555556 -35.86188  -5.249234 0.0029580\n",
              "B:M-A:L -15.7777778 -31.08410  -0.471456 0.0398172\n",
              "A:H-A:L -20.0000000 -35.30632  -4.693678 0.0040955\n",
              "B:H-A:L -25.7777778 -41.08410 -10.471456 0.0001136\n",
              "A:M-B:L  -4.2222222 -19.52854  11.084100 0.9626541\n",
              "B:M-B:L   0.5555556 -14.75077  15.861877 0.9999978\n",
              "A:H-B:L  -3.6666667 -18.97299  11.639655 0.9797123\n",
              "B:H-B:L  -9.4444444 -24.75077   5.861877 0.4560950\n",
              "B:M-A:M   4.7777778 -10.52854  20.084100 0.9377205\n",
              "A:H-A:M   0.5555556 -14.75077  15.861877 0.9999978\n",
              "B:H-A:M  -5.2222222 -20.52854  10.084100 0.9114780\n",
              "A:H-B:M  -4.2222222 -19.52854  11.084100 0.9626541\n",
              "B:H-B:M -10.0000000 -25.30632   5.306322 0.3918767\n",
              "B:H-A:H  -5.7777778 -21.08410   9.528544 0.8705572\n"
            ]
          },
          "metadata": {}
        }
      ]
    },
    {
      "cell_type": "markdown",
      "source": [
        "### **Question 2**\n",
        "\n",
        "The `ToothGrowth` dataset contains the tooth length of 60 guinea pigs. Each animal received one of three dose levels of Vitamin C (0.5, 1, or 2 mg/day) with one of two delivery methods: orange juice (OJ) or ascorbic acid (VC).\n"
      ],
      "metadata": {
        "id": "CnhCDQTpqL1w"
      }
    },
    {
      "cell_type": "code",
      "source": [
        "ToothGrowth %>% str()"
      ],
      "metadata": {
        "colab": {
          "base_uri": "https://localhost:8080/"
        },
        "id": "DOGCNkS2qOS_",
        "outputId": "9d0be1b2-ae45-42c4-cbda-b3cce558070d"
      },
      "execution_count": 19,
      "outputs": [
        {
          "output_type": "stream",
          "name": "stdout",
          "text": [
            "'data.frame':\t60 obs. of  3 variables:\n",
            " $ len : num  4.2 11.5 7.3 5.8 6.4 10 11.2 11.2 5.2 7 ...\n",
            " $ supp: Factor w/ 2 levels \"OJ\",\"VC\": 2 2 2 2 2 2 2 2 2 2 ...\n",
            " $ dose: num  0.5 0.5 0.5 0.5 0.5 0.5 0.5 0.5 0.5 0.5 ...\n"
          ]
        }
      ]
    },
    {
      "cell_type": "markdown",
      "source": [
        "#### **Question 2.1**\n",
        "\n",
        "Fit a two-way ANOVA model using the `aov()` function to test for the effects of supplement and dose level, and their interaction on tooth length. Interpret the ANOVA table."
      ],
      "metadata": {
        "id": "K7ZAmMZMqiX9"
      }
    },
    {
      "cell_type": "code",
      "source": [
        "#Note that `dose` is currently a numeric variable. We need to convert this to a factor.\n",
        "\n",
        "ToothGrowth %>%\n",
        "  mutate(dose_fact = as.factor(dose)) -> ToothGrowth\n",
        "\n",
        "aov(len ~ supp*dose_fact, data = ToothGrowth) %>% summary()\n",
        "\n",
        "# Main effect of supplement type (supp) has p-value ≈ 0.000231 < 0.05.\n",
        "# Reject the null hypothesis that supplement type has no effect on tooth length.\n",
        "\n",
        "# Main effect of dose (dose_fact) has p-value < 2e-16 < 0.05.\n",
        "# There is significant evidence that different dose levels affect tooth length.\n",
        "\n",
        "# Interaction effect (supp:dose_fact): p ≈ 0.0219 < 0.05.\n",
        "# Reject the null hypothesis in favour of the hypothesis that the effect of dose depends on supplement type (and vice versa).\n",
        "\n",
        "# One may also compare F statistics to critical values:\n",
        "\n",
        "F_supp        = 15.572\n",
        "F_dose        = 92.000\n",
        "F_interaction =  4.107\n",
        "\n",
        "F_supp        > qf(0.95, 1,54)\n",
        "F_dose        > qf(0.95, 2,54)\n",
        "F_interaction > qf(0.95, 2,54)\n"
      ],
      "metadata": {
        "colab": {
          "base_uri": "https://localhost:8080/",
          "height": 136
        },
        "id": "MpDUzl4Qq64q",
        "outputId": "00519562-29b1-43f0-f726-d901bfff3932"
      },
      "execution_count": 24,
      "outputs": [
        {
          "output_type": "display_data",
          "data": {
            "text/plain": [
              "               Df Sum Sq Mean Sq F value   Pr(>F)    \n",
              "supp            1  205.4   205.4  15.572 0.000231 ***\n",
              "dose_fact       2 2426.4  1213.2  92.000  < 2e-16 ***\n",
              "supp:dose_fact  2  108.3    54.2   4.107 0.021860 *  \n",
              "Residuals      54  712.1    13.2                     \n",
              "---\n",
              "Signif. codes:  0 ‘***’ 0.001 ‘**’ 0.01 ‘*’ 0.05 ‘.’ 0.1 ‘ ’ 1"
            ]
          },
          "metadata": {}
        }
      ]
    },
    {
      "cell_type": "markdown",
      "source": [
        "#### **Question 2.2**\n",
        "\n",
        "\n",
        "Use an appropriate post-hoc method to perform pairwise comparisons between dose levels. Interpret the results to identify significant differences. Comment on the directions of the differences."
      ],
      "metadata": {
        "id": "RSz-uj6Hr-Bz"
      }
    },
    {
      "cell_type": "code",
      "source": [
        "aov(len ~ supp * dose_fact, data = ToothGrowth) %>% TukeyHSD()\n",
        "\n",
        "# 1 vs 0.5: CI does not include 0. There is evidence that a dose of 1 mg/day produces greater tooth length than a dose of 0.5 mg/day.\n",
        "# 2 vs 0.5: CI does not include 0. There is evidence that a dose of 2 mg/day produces greater tooth length than a dose of 0.5 mg/day.\n",
        "# 2 vs 1: CI does not include 0. There is evidence that a dose of 2 mg/day produces greater tooth length than a dose of 1 mg/day.\n"
      ],
      "metadata": {
        "colab": {
          "base_uri": "https://localhost:8080/",
          "height": 561
        },
        "id": "dJWtYhMrsHRQ",
        "outputId": "ce6bd86c-4575-44b5-f582-d47e511c0453"
      },
      "execution_count": 25,
      "outputs": [
        {
          "output_type": "display_data",
          "data": {
            "text/plain": [
              "  Tukey multiple comparisons of means\n",
              "    95% family-wise confidence level\n",
              "\n",
              "Fit: aov(formula = len ~ supp * dose_fact, data = ToothGrowth)\n",
              "\n",
              "$supp\n",
              "      diff       lwr       upr     p adj\n",
              "VC-OJ -3.7 -5.579828 -1.820172 0.0002312\n",
              "\n",
              "$dose_fact\n",
              "        diff       lwr       upr   p adj\n",
              "1-0.5  9.130  6.362488 11.897512 0.0e+00\n",
              "2-0.5 15.495 12.727488 18.262512 0.0e+00\n",
              "2-1    6.365  3.597488  9.132512 2.7e-06\n",
              "\n",
              "$`supp:dose_fact`\n",
              "               diff        lwr        upr     p adj\n",
              "VC:0.5-OJ:0.5 -5.25 -10.048124 -0.4518762 0.0242521\n",
              "OJ:1-OJ:0.5    9.47   4.671876 14.2681238 0.0000046\n",
              "VC:1-OJ:0.5    3.54  -1.258124  8.3381238 0.2640208\n",
              "OJ:2-OJ:0.5   12.83   8.031876 17.6281238 0.0000000\n",
              "VC:2-OJ:0.5   12.91   8.111876 17.7081238 0.0000000\n",
              "OJ:1-VC:0.5   14.72   9.921876 19.5181238 0.0000000\n",
              "VC:1-VC:0.5    8.79   3.991876 13.5881238 0.0000210\n",
              "OJ:2-VC:0.5   18.08  13.281876 22.8781238 0.0000000\n",
              "VC:2-VC:0.5   18.16  13.361876 22.9581238 0.0000000\n",
              "VC:1-OJ:1     -5.93 -10.728124 -1.1318762 0.0073930\n",
              "OJ:2-OJ:1      3.36  -1.438124  8.1581238 0.3187361\n",
              "VC:2-OJ:1      3.44  -1.358124  8.2381238 0.2936430\n",
              "OJ:2-VC:1      9.29   4.491876 14.0881238 0.0000069\n",
              "VC:2-VC:1      9.37   4.571876 14.1681238 0.0000058\n",
              "VC:2-OJ:2      0.08  -4.718124  4.8781238 1.0000000\n"
            ]
          },
          "metadata": {}
        }
      ]
    }
  ]
}