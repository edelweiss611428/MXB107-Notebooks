{
  "nbformat": 4,
  "nbformat_minor": 0,
  "metadata": {
    "colab": {
      "provenance": [],
      "toc_visible": true
    },
    "kernelspec": {
      "name": "ir",
      "display_name": "R"
    },
    "language_info": {
      "name": "R"
    }
  },
  "cells": [
    {
      "cell_type": "markdown",
      "source": [
        "# **Week 10: Analysis of Variance (ANOVA)**\n",
        "\n",
        "```\n",
        ".------------------------------------.\n",
        "|   __  ____  ______  _  ___ _____   |\n",
        "|  |  \\/  \\ \\/ / __ )/ |/ _ \\___  |  |\n",
        "|  | |\\/| |\\  /|  _ \\| | | | | / /   |\n",
        "|  | |  | |/  \\| |_) | | |_| |/ /    |\n",
        "|  |_|  |_/_/\\_\\____/|_|\\___//_/     |\n",
        "'------------------------------------'\n",
        "\n",
        "```"
      ],
      "metadata": {
        "id": "ZtpJJ8BSHOaK"
      }
    },
    {
      "cell_type": "markdown",
      "source": [
        "# **HI THIS IS A WORK-IN-PROGRESS - EXPECTED TO DELIVER IN FRIDAY AFTERNOON**"
      ],
      "metadata": {
        "id": "kmM5SZe4HalQ"
      }
    },
    {
      "cell_type": "markdown",
      "source": [
        "In this workshop, we will focus on analysis of variance (ANOVA) techniques.\n",
        "\n",
        "ANOVA is a family of statistical methods used to compare means across multiple groups and to understand how different factors contribute to variability in the data. We will explore:\n",
        "\n",
        "- The fundamental ideas behind ANOVA.\n",
        "- One-way and two-way ANOVA designs.\n",
        "- Assumptions underlying these models.\n",
        "- How to interpret results and post-hoc comparisons.\n",
        "- Practical applications with real datasets."
      ],
      "metadata": {
        "id": "nJN_EjsDJ5My"
      }
    },
    {
      "cell_type": "markdown",
      "source": [
        "## **Pre-Configurating the Notebook**"
      ],
      "metadata": {
        "id": "qJMHamzBgYY4"
      }
    },
    {
      "cell_type": "markdown",
      "source": [
        "### **Switching to the R Kernel on Colab**\n",
        "\n",
        "By default, Google Colab uses Python as its programming language. To use R instead, you’ll need to manually switch the kernel by going to **Runtime > Change runtime type**, and selecting R as the kernel. This allows you to run R code in the Colab environment.\n",
        "\n",
        "However, our notebook is already configured to use R by default. Unless something goes wrong, you shouldn’t need to manually change runtime type."
      ],
      "metadata": {
        "id": "RYNbU2mDgjJZ"
      }
    },
    {
      "cell_type": "markdown",
      "source": [
        "### **Importing Required Packages**\n",
        "**Run the following lines of code**:"
      ],
      "metadata": {
        "id": "Sh6s1ChmglUe"
      }
    },
    {
      "cell_type": "code",
      "source": [
        "#Do not modify\n",
        "\n",
        "setwd(\"/content\")\n",
        "\n",
        "# Remove `MXB107-Notebooks` if exists,\n",
        "if (dir.exists(\"MXB107-Notebooks\")) {\n",
        "  system(\"rm -rf MXB107-Notebooks\")\n",
        "}\n",
        "\n",
        "# Fork the repository\n",
        "system(\"git clone https://github.com/edelweiss611428/MXB107-Notebooks.git\")\n",
        "\n",
        "# Change working directory to \"MXB107-Notebooks\"\n",
        "setwd(\"MXB107-Notebooks\")\n",
        "\n",
        "#\n",
        "invisible(source(\"R/preConfigurated.R\"))"
      ],
      "metadata": {
        "id": "hXjYwRwxgmqZ",
        "colab": {
          "base_uri": "https://localhost:8080/"
        },
        "outputId": "9a1ca9d1-2bd6-4095-e194-eba71be15b26"
      },
      "execution_count": 3,
      "outputs": [
        {
          "output_type": "stream",
          "name": "stderr",
          "text": [
            "Loading required package: ggplot2\n",
            "\n",
            "Loading required package: dplyr\n",
            "\n",
            "\n",
            "Attaching package: ‘dplyr’\n",
            "\n",
            "\n",
            "The following objects are masked from ‘package:stats’:\n",
            "\n",
            "    filter, lag\n",
            "\n",
            "\n",
            "The following objects are masked from ‘package:base’:\n",
            "\n",
            "    intersect, setdiff, setequal, union\n",
            "\n",
            "\n",
            "Loading required package: tidyr\n",
            "\n",
            "Loading required package: stringr\n",
            "\n",
            "Loading required package: magrittr\n",
            "\n",
            "\n",
            "Attaching package: ‘magrittr’\n",
            "\n",
            "\n",
            "The following object is masked from ‘package:tidyr’:\n",
            "\n",
            "    extract\n",
            "\n",
            "\n",
            "Loading required package: IRdisplay\n",
            "\n",
            "Loading required package: png\n",
            "\n",
            "Warning message in library(package, lib.loc = lib.loc, character.only = TRUE, logical.return = TRUE, :\n",
            "“there is no package called ‘png’”\n",
            "Installing package into ‘/usr/local/lib/R/site-library’\n",
            "(as ‘lib’ is unspecified)\n",
            "\n",
            "Loading required package: grid\n",
            "\n",
            "Loading required package: knitr\n",
            "\n"
          ]
        }
      ]
    },
    {
      "cell_type": "markdown",
      "source": [
        "**Do not modify the following**"
      ],
      "metadata": {
        "id": "0xU1keysgotb"
      }
    },
    {
      "cell_type": "code",
      "source": [
        "if (!require(\"testthat\")) install.packages(\"testthat\"); library(\"testthat\")\n",
        "\n",
        "test_that(\"Test if all packages have been loaded\", {\n",
        "\n",
        "  expect_true(all(c(\"ggplot2\", \"tidyr\", \"dplyr\", \"stringr\", \"magrittr\", \"knitr\") %in% loadedNamespaces()))\n",
        "\n",
        "})"
      ],
      "metadata": {
        "id": "VkOd7qZXgqr8",
        "colab": {
          "base_uri": "https://localhost:8080/"
        },
        "outputId": "f773a2d6-0844-4025-c7a1-849179bcac06"
      },
      "execution_count": 4,
      "outputs": [
        {
          "output_type": "stream",
          "name": "stderr",
          "text": [
            "Loading required package: testthat\n",
            "\n",
            "\n",
            "Attaching package: ‘testthat’\n",
            "\n",
            "\n",
            "The following objects are masked from ‘package:magrittr’:\n",
            "\n",
            "    equals, is_less_than, not\n",
            "\n",
            "\n",
            "The following object is masked from ‘package:tidyr’:\n",
            "\n",
            "    matches\n",
            "\n",
            "\n",
            "The following object is masked from ‘package:dplyr’:\n",
            "\n",
            "    matches\n",
            "\n",
            "\n"
          ]
        },
        {
          "output_type": "stream",
          "name": "stdout",
          "text": [
            "\u001b[32mTest passed\u001b[39m 🌈\n"
          ]
        }
      ]
    },
    {
      "cell_type": "markdown",
      "source": [
        "## **One-Way ANOVA**\n",
        "\n",
        "We will take a closer look at one-way ANOVA. The essence of two-way ANOVA is similar, although the formulas and interpretation are a bit more complex.\n"
      ],
      "metadata": {
        "id": "_EVVevuQgTtV"
      }
    },
    {
      "cell_type": "markdown",
      "source": [
        "### **Formulation of One-Way ANOVA**\n",
        "\n",
        "Consider a dataset $Y$ consisting of observations from $k$ **independent** groups.  \n",
        "Let $Y_{ij}$ denote the $j$-th observation in group $i$, where $i = 1, \\dots, k$ and $j = 1, \\dots, n_i$.  \n",
        "\n",
        "The one-way ANOVA model assumes that each observation can be modelled as:\n",
        "\n",
        "$$\n",
        "Y_{ij} = \\lambda + \\tau_i + \\varepsilon_{ij},\n",
        "$$:\n",
        "\n",
        "where\n",
        "- $\\lambda$: baseline mean  \n",
        "- $\\tau_i$: effect of group $i$ (deviation from overall mean)  \n",
        "- $\\varepsilon_{ij}$: random error, assumed $\\sim \\mathcal{N}(0, \\sigma^2)$  \n",
        "\n",
        "In one-way ANOVA, the goal is to test whether the means of all groups are equal.  This can be formalised as follows:\n",
        "\n",
        "$$\n",
        "H_0: \\tau_1 = \\tau_2 = \\dots = \\tau_k = 0\n",
        "$$\n",
        "\n",
        "$$\n",
        "H_1: \\text{At least one } \\tau_i \\neq 0\n",
        "$$\n",
        "\n",
        "- **Interpretation:**  \n",
        "  - $H_0$ states that all group means are equal.  \n",
        "  - $H_1$ states that at least one group mean differs from the others.\n",
        "\n",
        "Note that two-sample t-test assuming equal variance is a special case of one-way ANOVA where $k = 2$.\n",
        "\n",
        "This formulation has a critical problem. It is impossible to uniquely identify a unique combination of $\\tau_1, \\tau_2, \\dots, \\tau_k$ and the baseline mean $\\lambda$ that fully characterises the model. For example, if you decrease $\\lambda$ by a small amount, you could increase each $\\tau_i$ by the same amount and obtain the **same model specification**.  This is why the original parameterisation is not practical for estimation.\n",
        "\n",
        "While the details are beyond the scope of this unit, it motivates the need for an **alternative (baseline-group) formulation**, which ensures the model is identifiable and interpretable.\n"
      ],
      "metadata": {
        "id": "HD83AiYbBsIl"
      }
    },
    {
      "cell_type": "markdown",
      "source": [
        "#### **Alternative Formulation of One-Way ANOVA**\n",
        "\n",
        "An equivalent way to write the one-way ANOVA model is to choose one group as a **baseline level** (say group 1) and express other group effects relative to it.  \n",
        "\n",
        "Let $Y_{ij}$ denote the $j$-th observation in group $i$, where $i = 1, \\dots, k$ and $j = 1, \\dots, n_i$. Then we can write:\n",
        "\n",
        "$$\n",
        "Y_{ij} =\n",
        "\\begin{cases}\n",
        "\\mu + \\varepsilon_{1j}, & i = 1 \\text{ (baseline group)} \\\\\n",
        "\\mu + \\delta_i + \\varepsilon_{ij}, & i = 2, \\dots, k\n",
        "\\end{cases}\n",
        "$$\n",
        "\n",
        "where  \n",
        "- $\\mu$: mean of the baseline group (group 1)  \n",
        "- $\\delta_i = \\tau_i - \\tau_1$: effect of group $i$ relative to the baseline group  \n",
        "- $\\varepsilon_{ij} \\sim \\mathcal{N}(0, \\sigma^2)$: random error  \n",
        "\n",
        "In the baseline-group formulation, testing whether all group means are equal can be written in terms of the relative effects $\\delta_i$:\n",
        "\n",
        "$$\n",
        "H_0: \\delta_2 = \\delta_3 = \\dots = \\delta_k = 0\n",
        "$$\n",
        "\n",
        "$$\n",
        "H_1: \\text{At least one } \\delta_i \\neq 0, \\ i = 2, \\dots, k\n",
        "$$\n",
        "\n",
        "- **Interpretation:**  \n",
        "  - $H_0$ states that all groups have the same mean as the baseline group (Group 1).  \n",
        "  - $H_1$ states that at least one group differs from the baseline.  \n",
        "\n",
        "This is the same as the standard ANOVA null hypothesis:\n",
        "\n",
        "$$\n",
        "H_0: \\tau_1 = \\tau_2 = \\dots = \\tau_k = 0\n",
        "$$"
      ],
      "metadata": {
        "id": "FCfOV2bzCLww"
      }
    },
    {
      "cell_type": "markdown",
      "source": [
        "### **Decomposition of Total Sum of Squares (SSTOT)**\n",
        "\n",
        "Total variability in the data is:\n",
        "\n",
        "$$\n",
        "\\text{SSTOT} = \\sum_{i=1}^{k} \\sum_{j=1}^{n_i} (Y_{ij} - \\bar{Y}_{..})^2\n",
        "$$\n",
        "\n",
        "Where $\\bar{Y}_{..}$ is the overall mean.  \n",
        "\n",
        "It is possible to show that\n",
        "\n",
        "$$\n",
        "\\text{SSTOT} = \\text{SSB} + \\text{SSW}\n",
        "$$\n",
        "\n",
        "- **SSB** = Between-group Sum of Squares (due to differences between group means)  \n",
        "- **SSW** = Within-group Sum of Squares (variability within groups)\n",
        "\n",
        "**Between-Group Sum of Squares (SSB):**\n",
        "\n",
        "$$\n",
        "\\text{SSB} = \\sum_{i=1}^{k} n_i (\\bar{Y}_{i\\cdot} - \\bar{Y}_{..})^2\n",
        "$$\n",
        "\n",
        "- $n_i$ = number of observations in group $i$  \n",
        "- $\\bar{Y}_{i\\cdot}$ = mean of group \\(i\\)  \n",
        "- $\\bar{Y}_{..}$ = overall mean  \n",
        "\n",
        "**Within-Group Sum of Squares (SSW):**\n",
        "\n",
        "$$\n",
        "\\text{SSW} = \\sum_{i=1}^{k} \\sum_{j=1}^{n_i} (Y_{ij} - \\bar{Y}_{i\\cdot})^2\n",
        "$$\n"
      ],
      "metadata": {
        "id": "1Ae_6FScBGcK"
      }
    },
    {
      "cell_type": "markdown",
      "source": [
        "### **Essence of One-Way ANOVA**\n",
        "\n",
        "\n",
        "Under the null hypothesis:\n",
        "\n",
        "$$\n",
        "H_0: \\delta_2 = \\delta_3 = \\dots = \\delta_k = 0\n",
        "$$\n",
        "\n",
        "- All group means are equal to the baseline group.  \n",
        "- In this case, **SSB** will be relatively small compared to **SSW**, because the differences between group means are mostly due to random variation within groups.  \n",
        "- **SSW** dominates the total variability.\n",
        "\n",
        "When $H_0$ is **violated** (i.e., at least one group mean differs):  \n",
        "\n",
        "- SSB becomes **large relative to SSW**, because there is substantial variability due to differences between group means.  \n",
        "- This situation motivates the use of the **F-test**, which compares SSB and SSW.\n",
        "\n",
        "**F-test rationale:**  \n",
        "\n",
        "- Under $H_0$, the F-statistic:\n",
        "\n",
        "$$\n",
        "F = \\frac{\\text{MSB}}{\\text{MSW}} = \\frac{\\text{SSB}/(k-1)}{\\text{SSW}/(N-k)}\n",
        "$$\n",
        "\n",
        "is distributed according to an $F$ distribution with $(k-1, N-k)$ degrees of freedom ($F_{k-1, N-k}$).  \n",
        "- If $H_0$ is violated, the observed $F$ statistic will be **large**, unlikely to occur under the null.  \n",
        "- A large $F$ statistic provides **evidence to reject $H_0$**, indicating that not all group means are equal.\n",
        "\n",
        "Unlike the t-test, which can be two-sided or one-sided, the F-test in ANOVA is **always a right-tailed test**.  This is because the F-statistic is a ratio of variances (MSB / MSW), which is **always non-negative**.  For example, take a look at the PDF of $F_{2,17}$\n"
      ],
      "metadata": {
        "id": "Q9AeQu_yF4-a"
      }
    },
    {
      "cell_type": "code",
      "source": [
        "#F_{2,17}\n",
        "vals = seq(0, 5, length.out = 500)\n",
        "densities = df(vals, df1  = 2, df2 = 17)\n",
        "\n",
        "# Plot\n",
        "plot(vals, densities, type = \"l\", lwd = 2,\n",
        "     main = \"F-Distribution (df1 = 2, df2 = 17)\",\n",
        "     xlab = \"F-value\", ylab = \"Density\", col = \"blue\")"
      ],
      "metadata": {
        "colab": {
          "base_uri": "https://localhost:8080/",
          "height": 437
        },
        "id": "KP6NczZ4G1KO",
        "outputId": "90e0a625-74fb-430f-8d6e-03a7282e4566"
      },
      "execution_count": 45,
      "outputs": [
        {
          "output_type": "display_data",
          "data": {
            "text/plain": [
              "Plot with title “F-Distribution (df1 = 2, df2 = 17)”"
            ],
            "image/png": "[encoded data removed]"
          },
          "metadata": {
            "image/png": {
              "width": 420,
              "height": 420
            }
          }
        }
      ]
    },
    {
      "cell_type": "markdown",
      "source": [
        "### **R Examples**"
      ],
      "metadata": {
        "id": "fL9-M8tEJRtH"
      }
    },
    {
      "cell_type": "markdown",
      "source": [
        "#### **R Quick Reference for F-Distribution**\n",
        "\n",
        "Before we show how to run ANOVA in R, we will first discuss how to perform it manually.  This requires understanding and working with the $F$ distribution.\n",
        "\n",
        "\n",
        "`R` supports the following functions for computing distributional quantities and simulating from $F$-distributions:\n",
        "\n",
        "- `df(x, df1, df2, log = FALSE)` computes the **density** (PDF) of `F(df1, df2)` at `x`  \n",
        "- `pf(q, df1, df2, lower.tail = TRUE, log.p = FALSE)` computes the **CDF** of `F(df1, df2)` at `q`  \n",
        "- `qf(p, df1, df2, lower.tail = TRUE, log.p = FALSE)` computes the **p-quantile** of `F(df1, df2)`  \n",
        "- `rf(n, df1, df2)` simulates `n` random numbers from an `F(df1, df2)` distribution\n"
      ],
      "metadata": {
        "id": "TmK4GyfaIO9G"
      }
    },
    {
      "cell_type": "markdown",
      "source": [
        "##### **Exercises**\n",
        "\n",
        "The following dataset consists of three independent groups, each generated from a Gaussian distribution."
      ],
      "metadata": {
        "id": "M-FNmr90Jukt"
      }
    },
    {
      "cell_type": "code",
      "source": [
        "\n",
        "set.seed(123)\n",
        "group1 = rnorm(5, 1)\n",
        "group2 = rnorm(5,0)\n",
        "group3 = rnorm(5,-1)\n",
        "\n",
        "# Combine into long-format\n",
        "df = data.frame(\n",
        "  value = c(group1, group2, group3),\n",
        "  group = factor(c(\n",
        "    rep(1, length(group1)),\n",
        "    rep(2, length(group2)),\n",
        "    rep(3, length(group3))\n",
        "  ))\n",
        ")\n",
        "\n",
        "df %>% head(10)\n"
      ],
      "metadata": {
        "id": "oP-07b4TIwTZ",
        "colab": {
          "base_uri": "https://localhost:8080/",
          "height": 407
        },
        "outputId": "73cdf3fd-6a9e-4a72-c9b6-9e0448aa2b94"
      },
      "execution_count": 42,
      "outputs": [
        {
          "output_type": "display_data",
          "data": {
            "text/html": [
              "<table class=\"dataframe\">\n",
              "<caption>A data.frame: 10 × 2</caption>\n",
              "<thead>\n",
              "\t<tr><th></th><th scope=col>value</th><th scope=col>group</th></tr>\n",
              "\t<tr><th></th><th scope=col>&lt;dbl&gt;</th><th scope=col>&lt;fct&gt;</th></tr>\n",
              "</thead>\n",
              "<tbody>\n",
              "\t<tr><th scope=row>1</th><td> 0.4395244</td><td>1</td></tr>\n",
              "\t<tr><th scope=row>2</th><td> 0.7698225</td><td>1</td></tr>\n",
              "\t<tr><th scope=row>3</th><td> 2.5587083</td><td>1</td></tr>\n",
              "\t<tr><th scope=row>4</th><td> 1.0705084</td><td>1</td></tr>\n",
              "\t<tr><th scope=row>5</th><td> 1.1292877</td><td>1</td></tr>\n",
              "\t<tr><th scope=row>6</th><td> 1.7150650</td><td>2</td></tr>\n",
              "\t<tr><th scope=row>7</th><td> 0.4609162</td><td>2</td></tr>\n",
              "\t<tr><th scope=row>8</th><td>-1.2650612</td><td>2</td></tr>\n",
              "\t<tr><th scope=row>9</th><td>-0.6868529</td><td>2</td></tr>\n",
              "\t<tr><th scope=row>10</th><td>-0.4456620</td><td>2</td></tr>\n",
              "</tbody>\n",
              "</table>\n"
            ],
            "text/markdown": "\nA data.frame: 10 × 2\n\n| <!--/--> | value &lt;dbl&gt; | group &lt;fct&gt; |\n|---|---|---|\n| 1 |  0.4395244 | 1 |\n| 2 |  0.7698225 | 1 |\n| 3 |  2.5587083 | 1 |\n| 4 |  1.0705084 | 1 |\n| 5 |  1.1292877 | 1 |\n| 6 |  1.7150650 | 2 |\n| 7 |  0.4609162 | 2 |\n| 8 | -1.2650612 | 2 |\n| 9 | -0.6868529 | 2 |\n| 10 | -0.4456620 | 2 |\n\n",
            "text/latex": "A data.frame: 10 × 2\n\\begin{tabular}{r|ll}\n  & value & group\\\\\n  & <dbl> & <fct>\\\\\n\\hline\n\t1 &  0.4395244 & 1\\\\\n\t2 &  0.7698225 & 1\\\\\n\t3 &  2.5587083 & 1\\\\\n\t4 &  1.0705084 & 1\\\\\n\t5 &  1.1292877 & 1\\\\\n\t6 &  1.7150650 & 2\\\\\n\t7 &  0.4609162 & 2\\\\\n\t8 & -1.2650612 & 2\\\\\n\t9 & -0.6868529 & 2\\\\\n\t10 & -0.4456620 & 2\\\\\n\\end{tabular}\n",
            "text/plain": [
              "   value      group\n",
              "1   0.4395244 1    \n",
              "2   0.7698225 1    \n",
              "3   2.5587083 1    \n",
              "4   1.0705084 1    \n",
              "5   1.1292877 1    \n",
              "6   1.7150650 2    \n",
              "7   0.4609162 2    \n",
              "8  -1.2650612 2    \n",
              "9  -0.6868529 2    \n",
              "10 -0.4456620 2    "
            ]
          },
          "metadata": {}
        }
      ]
    },
    {
      "cell_type": "markdown",
      "source": [
        "###### **Exercise 1**\n",
        "\n",
        "Verify the following identity:\n",
        "\n",
        "$$\n",
        "\\text{SSTOT} = \\text{SSB} + \\text{SSW}.\n",
        "$$"
      ],
      "metadata": {
        "id": "DVEeWRDuKgcF"
      }
    },
    {
      "cell_type": "code",
      "source": [],
      "metadata": {
        "id": "_DUEVJ9rKqyX"
      },
      "execution_count": 46,
      "outputs": []
    },
    {
      "cell_type": "markdown",
      "source": [
        "\n",
        "<details>\n",
        "<summary>▶️ Click to show the solution</summary>\n",
        "\n",
        "```r\n",
        "df %>%\n",
        "  summarise(SSTOT = (n()-1)*var(value)) %>%\n",
        "    pull(SSTOT) -> SSTOT\n",
        "df %>%\n",
        "  group_by(group) %>%\n",
        "    summarise(groupAvg = mean(value), ni = n(), .groups = \"drop\") %>%\n",
        "    summarise(SSB = sum(ni * (groupAvg - mean(df$value))^2)) %>%\n",
        "    pull(SSB)  -> SSB\n",
        "df %>%\n",
        "  group_by(group) %>%\n",
        "  summarise(SSWi = (n()-1)*var(value), .groups = \"drop\") %>%\n",
        "  summarise(SSW = sum(SSWi)) %>%\n",
        "  pull(SSW) -> SSW\n",
        "\n",
        "SSTOT\n",
        "SSB\n",
        "SSW\n",
        "\n",
        "all.equal(SSTOT, SSB + SSW)\n",
        "```\n",
        "\n",
        "</details>"
      ],
      "metadata": {
        "id": "Z_fwpOPTQp5b"
      }
    },
    {
      "cell_type": "markdown",
      "source": [
        "###### **Exercise 2**\n",
        "\n",
        "Use ANOVA to *manually* test whether the group means are equal. Assume a 5% Type I error."
      ],
      "metadata": {
        "id": "QHFj-A4vKthH"
      }
    },
    {
      "cell_type": "code",
      "source": [],
      "metadata": {
        "id": "90MFMNASK0xg"
      },
      "execution_count": 47,
      "outputs": []
    },
    {
      "cell_type": "markdown",
      "source": [
        "\n",
        "<details>\n",
        "<summary>▶️ Click to show the solution</summary>\n",
        "\n",
        "```r\n",
        "# Hypotheses:\n",
        "# H0: mu1 = mu2 = mu3\n",
        "# H1: At least one mean is different\n",
        "\n",
        "k = 3\n",
        "n = nrow(df)\n",
        "MSB = SSB/(k-1)\n",
        "MSW = SSW/(n-k)\n",
        "F_obs = MSB/MSW #F_obs ~ F(k-1, n-k) under H0\n",
        "F_obs\n",
        "F_obs > qf(0.95, df1 = k-1, df2 = n-k) #unlikely under H0\n",
        "#Reject the null hypothesis\n",
        "```\n",
        "\n",
        "</details>"
      ],
      "metadata": {
        "id": "WZug-RhwUKTK"
      }
    },
    {
      "cell_type": "markdown",
      "source": [
        "#### **ANOVA in R via `aov`**\n",
        "\n",
        "R provides a dedicated function for performing ANOVA: the `aov()` function. It has a formula interface, similar to `t.test()`, `lm()`, and many other functions used in statistical modeling in R. However, `aov()` is not the only way to perform ANOVA in R. You can also use `lm()`, since ANOVA is a special case of (multiple) linear regression models. However, we will focus solely on ANOVA.\n",
        "\n",
        "**Usage:**\n",
        "\n",
        "```r\n",
        "aov(formula,\n",
        "    data = NULL,\n",
        "    projections = FALSE,\n",
        "    qr = TRUE,\n",
        "    contrasts = NULL,\n",
        "    ...)\n",
        "```\n",
        "\n",
        "**Arguments:**\n",
        "\n",
        "- `formula`: a model formula of the form `response ~ predictors` (e.g., `y ~ group`)  \n",
        "- `data`: a data frame containing variables in the model  \n",
        "- `projections`: logical; if TRUE, returns projection matrices  \n",
        "- `qr`: logical; if TRUE, returns the QR decomposition of the model fit  \n",
        "- `contrasts`: a list of contrast specifications for factors  \n",
        "- `...`: additional arguments passed to `lm()`  \n",
        "\n"
      ],
      "metadata": {
        "id": "E1NVY2IaV4CA"
      }
    },
    {
      "cell_type": "markdown",
      "source": [
        "Back to the previous simulated dataset:"
      ],
      "metadata": {
        "id": "ExlfJWO6ZgDB"
      }
    },
    {
      "cell_type": "code",
      "source": [
        "\n",
        "set.seed(123)\n",
        "group1 = rnorm(5, 1)\n",
        "group2 = rnorm(5,0)\n",
        "group3 = rnorm(5,-1)\n",
        "\n",
        "# Combine into long-format\n",
        "df = data.frame(\n",
        "  value = c(group1, group2, group3),\n",
        "  group = factor(c(\n",
        "    rep(1, length(group1)),\n",
        "    rep(2, length(group2)),\n",
        "    rep(3, length(group3))\n",
        "  ))\n",
        ")\n",
        "\n",
        "df %>% head(10)\n"
      ],
      "metadata": {
        "id": "SALzpN0PZkAJ",
        "outputId": "54b2fbee-3362-4e44-995d-6b5eca0cecdd",
        "colab": {
          "base_uri": "https://localhost:8080/",
          "height": 407
        }
      },
      "execution_count": 73,
      "outputs": [
        {
          "output_type": "display_data",
          "data": {
            "text/html": [
              "<table class=\"dataframe\">\n",
              "<caption>A data.frame: 10 × 2</caption>\n",
              "<thead>\n",
              "\t<tr><th></th><th scope=col>value</th><th scope=col>group</th></tr>\n",
              "\t<tr><th></th><th scope=col>&lt;dbl&gt;</th><th scope=col>&lt;fct&gt;</th></tr>\n",
              "</thead>\n",
              "<tbody>\n",
              "\t<tr><th scope=row>1</th><td> 0.4395244</td><td>1</td></tr>\n",
              "\t<tr><th scope=row>2</th><td> 0.7698225</td><td>1</td></tr>\n",
              "\t<tr><th scope=row>3</th><td> 2.5587083</td><td>1</td></tr>\n",
              "\t<tr><th scope=row>4</th><td> 1.0705084</td><td>1</td></tr>\n",
              "\t<tr><th scope=row>5</th><td> 1.1292877</td><td>1</td></tr>\n",
              "\t<tr><th scope=row>6</th><td> 1.7150650</td><td>2</td></tr>\n",
              "\t<tr><th scope=row>7</th><td> 0.4609162</td><td>2</td></tr>\n",
              "\t<tr><th scope=row>8</th><td>-1.2650612</td><td>2</td></tr>\n",
              "\t<tr><th scope=row>9</th><td>-0.6868529</td><td>2</td></tr>\n",
              "\t<tr><th scope=row>10</th><td>-0.4456620</td><td>2</td></tr>\n",
              "</tbody>\n",
              "</table>\n"
            ],
            "text/markdown": "\nA data.frame: 10 × 2\n\n| <!--/--> | value &lt;dbl&gt; | group &lt;fct&gt; |\n|---|---|---|\n| 1 |  0.4395244 | 1 |\n| 2 |  0.7698225 | 1 |\n| 3 |  2.5587083 | 1 |\n| 4 |  1.0705084 | 1 |\n| 5 |  1.1292877 | 1 |\n| 6 |  1.7150650 | 2 |\n| 7 |  0.4609162 | 2 |\n| 8 | -1.2650612 | 2 |\n| 9 | -0.6868529 | 2 |\n| 10 | -0.4456620 | 2 |\n\n",
            "text/latex": "A data.frame: 10 × 2\n\\begin{tabular}{r|ll}\n  & value & group\\\\\n  & <dbl> & <fct>\\\\\n\\hline\n\t1 &  0.4395244 & 1\\\\\n\t2 &  0.7698225 & 1\\\\\n\t3 &  2.5587083 & 1\\\\\n\t4 &  1.0705084 & 1\\\\\n\t5 &  1.1292877 & 1\\\\\n\t6 &  1.7150650 & 2\\\\\n\t7 &  0.4609162 & 2\\\\\n\t8 & -1.2650612 & 2\\\\\n\t9 & -0.6868529 & 2\\\\\n\t10 & -0.4456620 & 2\\\\\n\\end{tabular}\n",
            "text/plain": [
              "   value      group\n",
              "1   0.4395244 1    \n",
              "2   0.7698225 1    \n",
              "3   2.5587083 1    \n",
              "4   1.0705084 1    \n",
              "5   1.1292877 1    \n",
              "6   1.7150650 2    \n",
              "7   0.4609162 2    \n",
              "8  -1.2650612 2    \n",
              "9  -0.6868529 2    \n",
              "10 -0.4456620 2    "
            ]
          },
          "metadata": {}
        }
      ]
    },
    {
      "cell_type": "markdown",
      "source": [
        "Note that the datatype of `group` is not integer, but factor. This means it should be treated as a categorical variable rather than a numeric one. This distinction is important for ANOVA because if group were treated as an integer, the model would interpret the group IDs (e.g., 1, 2, 3) as numeric values with a meaningful order or magnitude, rather than as mere labels representing different categories. Using a factor ensures that ANOVA correctly compares group means."
      ],
      "metadata": {
        "id": "1yGVCOjTZm3-"
      }
    }
  ]
}