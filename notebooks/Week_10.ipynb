{
  "nbformat": 4,
  "nbformat_minor": 0,
  "metadata": {
    "colab": {
      "provenance": []
    },
    "kernelspec": {
      "name": "ir",
      "display_name": "R"
    },
    "language_info": {
      "name": "R"
    }
  },
  "cells": [
    {
      "cell_type": "markdown",
      "source": [
        "# **Week 10: Analysis of Variance (ANOVA)**\n",
        "\n",
        "```\n",
        ".------------------------------------.\n",
        "|   __  ____  ______  _  ___ _____   |\n",
        "|  |  \\/  \\ \\/ / __ )/ |/ _ \\___  |  |\n",
        "|  | |\\/| |\\  /|  _ \\| | | | | / /   |\n",
        "|  | |  | |/  \\| |_) | | |_| |/ /    |\n",
        "|  |_|  |_/_/\\_\\____/|_|\\___//_/     |\n",
        "'------------------------------------'\n",
        "\n",
        "```"
      ],
      "metadata": {
        "id": "ZtpJJ8BSHOaK"
      }
    },
    {
      "cell_type": "markdown",
      "source": [
        "In this workshop, we will focus on analysis of variance (ANOVA) techniques.\n",
        "\n",
        "ANOVA is a family of statistical methods used to compare means across multiple groups and to understand how different factors contribute to variability in the data. We will explore:\n",
        "\n",
        "- The fundamental ideas behind ANOVA.\n",
        "- One-way and two-way ANOVA designs.\n",
        "- Assumptions underlying these models.\n",
        "- How to interpret results and post-hoc comparisons.\n",
        "- Practical applications with real datasets."
      ],
      "metadata": {
        "id": "nJN_EjsDJ5My"
      }
    },
    {
      "cell_type": "markdown",
      "source": [
        "## **Pre-Configurating the Notebook**"
      ],
      "metadata": {
        "id": "qJMHamzBgYY4"
      }
    },
    {
      "cell_type": "markdown",
      "source": [
        "### **Switching to the R Kernel on Colab**\n",
        "\n",
        "By default, Google Colab uses Python as its programming language. To use R instead, you’ll need to manually switch the kernel by going to **Runtime > Change runtime type**, and selecting R as the kernel. This allows you to run R code in the Colab environment.\n",
        "\n",
        "However, our notebook is already configured to use R by default. Unless something goes wrong, you shouldn’t need to manually change runtime type."
      ],
      "metadata": {
        "id": "RYNbU2mDgjJZ"
      }
    },
    {
      "cell_type": "markdown",
      "source": [
        "### **Importing Required Packages**\n",
        "**Run the following lines of code**:"
      ],
      "metadata": {
        "id": "Sh6s1ChmglUe"
      }
    },
    {
      "cell_type": "code",
      "source": [
        "#Do not modify\n",
        "\n",
        "setwd(\"/content\")\n",
        "\n",
        "# Remove `MXB107-Notebooks` if exists,\n",
        "if (dir.exists(\"MXB107-Notebooks\")) {\n",
        "  system(\"rm -rf MXB107-Notebooks\")\n",
        "}\n",
        "\n",
        "# Fork the repository\n",
        "system(\"git clone https://github.com/edelweiss611428/MXB107-Notebooks.git\")\n",
        "\n",
        "# Change working directory to \"MXB107-Notebooks\"\n",
        "setwd(\"MXB107-Notebooks\")\n",
        "\n",
        "#\n",
        "invisible(source(\"R/preConfigurated.R\"))"
      ],
      "metadata": {
        "id": "hXjYwRwxgmqZ"
      },
      "execution_count": null,
      "outputs": []
    },
    {
      "cell_type": "markdown",
      "source": [
        "**Do not modify the following**"
      ],
      "metadata": {
        "id": "0xU1keysgotb"
      }
    },
    {
      "cell_type": "code",
      "source": [
        "if (!require(\"testthat\")) install.packages(\"testthat\"); library(\"testthat\")\n",
        "\n",
        "test_that(\"Test if all packages have been loaded\", {\n",
        "\n",
        "  expect_true(all(c(\"ggplot2\", \"tidyr\", \"dplyr\", \"stringr\", \"magrittr\", \"knitr\") %in% loadedNamespaces()))\n",
        "\n",
        "})"
      ],
      "metadata": {
        "id": "VkOd7qZXgqr8"
      },
      "execution_count": null,
      "outputs": []
    },
    {
      "cell_type": "markdown",
      "source": [
        "## **One-Way ANOVA**\n",
        "\n",
        "We will take a closer look at one-way ANOVA. The essence of two-way ANOVA is similar, although the formulas and interpretation are a bit more complex.\n"
      ],
      "metadata": {
        "id": "_EVVevuQgTtV"
      }
    },
    {
      "cell_type": "markdown",
      "source": [
        "### **Formulation of One-Way ANOVA**\n",
        "\n",
        "Consider a dataset $Y$ consisting of observations from $k$ different groups.  \n",
        "Let $Y_{ij}$ denote the $j$-th observation in group $i$, where $i = 1, \\dots, k$ and $j = 1, \\dots, n_i$.  \n",
        "\n",
        "The one-way ANOVA model assumes that each observation can be modelled as:\n",
        "\n",
        "$$\n",
        "Y_{ij} = \\lambda + \\tau_i + \\varepsilon_{ij},\n",
        "$$:\n",
        "\n",
        "where\n",
        "- $\\lambda$: baseline mean  \n",
        "- $\\tau_i$: effect of group $i$ (deviation from overall mean)  \n",
        "- $\\varepsilon_{ij}$: random error, assumed $\\sim \\mathcal{N}(0, \\sigma^2)$  \n",
        "\n",
        "In one-way ANOVA, the goal is to test whether the means of all groups are equal.  This can be formalised as follows:\n",
        "\n",
        "$$\n",
        "H_0: \\tau_1 = \\tau_2 = \\dots = \\tau_k = 0\n",
        "$$\n",
        "\n",
        "$$\n",
        "H_1: \\text{At least one } \\tau_i \\neq 0\n",
        "$$\n",
        "\n",
        "- **Interpretation:**  \n",
        "  - $H_0$ states that all group means are equal.  \n",
        "  - $H_1$ states that at least one group mean differs from the others.\n",
        "\n",
        "Note that two-sample t-test assuming equal variance is a special case of one-way ANOVA where $k = 2$.\n",
        "\n",
        "This formulation has a critical problem. It is impossible to uniquely identify a unique combination of $\\tau_1, \\tau_2, \\dots, \\tau_k$ and the baseline mean $\\lambda$ that fully characterises the model. For example, if you decrease $\\lambda$ by a small amount, you could increase each $\\tau_i$ by the same amount and obtain the **same model specification**.  This is why the original parameterisation is not practical for estimation.\n",
        "\n",
        "While the details are beyond the scope of this unit, it motivates the need for an **alternative (baseline-group) formulation**, which ensures the model is identifiable and interpretable.\n"
      ],
      "metadata": {
        "id": "HD83AiYbBsIl"
      }
    },
    {
      "cell_type": "markdown",
      "source": [
        "#### **Alternative Formulation of One-Way ANOVA**\n",
        "\n",
        "An equivalent way to write the one-way ANOVA model is to choose one group as a **baseline level** (say group 1) and express other group effects relative to it.  \n",
        "\n",
        "Let $Y_{ij}$ denote the $j$-th observation in group $i$, where $i = 1, \\dots, k$ and $j = 1, \\dots, n_i$. Then we can write:\n",
        "\n",
        "$$\n",
        "Y_{ij} =\n",
        "\\begin{cases}\n",
        "\\mu + \\varepsilon_{1j}, & i = 1 \\text{ (baseline group)} \\\\\n",
        "\\mu + \\delta_i + \\varepsilon_{ij}, & i = 2, \\dots, k\n",
        "\\end{cases}\n",
        "$$\n",
        "\n",
        "where  \n",
        "- $\\mu$: mean of the baseline group (group 1)  \n",
        "- $\\delta_i = \\tau_i - \\tau_1$: effect of group $i$ relative to the baseline group  \n",
        "- $\\varepsilon_{ij} \\sim \\mathcal{N}(0, \\sigma^2)$: random error  \n",
        "\n",
        "In the baseline-group formulation, testing whether all group means are equal can be written in terms of the relative effects $\\delta_i$:\n",
        "\n",
        "$$\n",
        "H_0: \\delta_2 = \\delta_3 = \\dots = \\delta_k = 0\n",
        "$$\n",
        "\n",
        "$$\n",
        "H_1: \\text{At least one } \\delta_i \\neq 0, \\ i = 2, \\dots, k\n",
        "$$\n",
        "\n",
        "- **Interpretation:**  \n",
        "  - $H_0$ states that all groups have the same mean as the baseline group (Group 1).  \n",
        "  - $H_1$ states that at least one group differs from the baseline.  \n",
        "\n",
        "This is the same as the standard ANOVA null hypothesis:\n",
        "\n",
        "$$\n",
        "H_0: \\tau_1 = \\tau_2 = \\dots = \\tau_k = 0\n",
        "$$"
      ],
      "metadata": {
        "id": "FCfOV2bzCLww"
      }
    },
    {
      "cell_type": "markdown",
      "source": [
        "### **Decomposition of Total Sum of Squares (SSTOT)**\n",
        "\n",
        "Total variability in the data is:\n",
        "\n",
        "$$\n",
        "\\text{SSTOT} = \\sum_{i=1}^{k} \\sum_{j=1}^{n_i} (Y_{ij} - \\bar{Y}_{..})^2\n",
        "$$\n",
        "\n",
        "Where $\\bar{Y}_{..}$ is the overall mean.  \n",
        "\n",
        "It is possible to show that\n",
        "\n",
        "$$\n",
        "\\text{SSTOT} = \\text{SSB} + \\text{SSW}\n",
        "$$\n",
        "\n",
        "- **SSB** = Between-group Sum of Squares (due to differences between group means)  \n",
        "- **SSW** = Within-group Sum of Squares (variability within groups)\n",
        "\n",
        "**Between-Group Sum of Squares (SSB):**\n",
        "\n",
        "$$\n",
        "\\text{SSB} = \\sum_{i=1}^{k} n_i (\\bar{Y}_{i\\cdot} - \\bar{Y}_{..})^2\n",
        "$$\n",
        "\n",
        "- $n_i$ = number of observations in group $i$  \n",
        "- $\\bar{Y}_{i\\cdot}$ = mean of group \\(i\\)  \n",
        "- $\\bar{Y}_{..}$ = overall mean  \n",
        "\n",
        "**Within-Group Sum of Squares (SSW):**\n",
        "\n",
        "$$\n",
        "\\text{SSW} = \\sum_{i=1}^{k} \\sum_{j=1}^{n_i} (Y_{ij} - \\bar{Y}_{i\\cdot})^2\n",
        "$$\n"
      ],
      "metadata": {
        "id": "1Ae_6FScBGcK"
      }
    },
    {
      "cell_type": "markdown",
      "source": [
        "### **Essence of One-Way ANOVA**\n",
        "\n",
        "\n",
        "Under the null hypothesis:\n",
        "\n",
        "$$\n",
        "H_0: \\delta_2 = \\delta_3 = \\dots = \\delta_k = 0\n",
        "$$\n",
        "\n",
        "- All group means are equal to the baseline group.  \n",
        "- In this case, **SSB** will be relatively small compared to **SSW**, because the differences between group means are mostly due to random variation within groups.  \n",
        "- **SSW** dominates the total variability.\n",
        "\n",
        "When $H_0$ is **violated** (i.e., at least one group mean differs):  \n",
        "\n",
        "- SSB becomes **large relative to SSW**, because there is substantial variability due to differences between group means.  \n",
        "- This situation motivates the use of the **F-test**, which compares SSB and SSW.\n",
        "\n",
        "**F-test rationale:**  \n",
        "\n",
        "- Under $H_0$, the F-statistic:\n",
        "\n",
        "$$\n",
        "F = \\frac{\\text{MSB}}{\\text{MSW}} = \\frac{\\text{SSB}/(k-1)}{\\text{SSW}/(N-k)}\n",
        "$$\n",
        "\n",
        "is distributed according to an $F$ distribution with $(k-1, N-k)$ degrees of freedom ($F_{k-1, N-k}$).  \n",
        "- If $H_0$ is violated, the observed $F$ statistic will be **large**, unlikely to occur under the null.  \n",
        "- A large $F$ statistic provides **evidence to reject $H_0$**, indicating that not all group means are equal.\n",
        "\n",
        "Unlike the t-test, which can be two-sided or one-sided, the F-test in ANOVA is **always a right-tailed test**.  This is because the F-statistic is a ratio of variances (MSB / MSW), which is **always non-negative**.  For example, take a look at the PDF of $F_{1,17}$\n"
      ],
      "metadata": {
        "id": "Q9AeQu_yF4-a"
      }
    },
    {
      "cell_type": "code",
      "source": [
        "#F_{1,17}\n",
        "vals = seq(0, 5, length.out = 500)\n",
        "densities = df(vals, df1  = 1, df2 = 17)\n",
        "\n",
        "# Plot\n",
        "plot(vals, densities, type = \"l\", lwd = 2,\n",
        "     main = \"F-Distribution (df1 = 1, df2 = 17)\",\n",
        "     xlab = \"F-value\", ylab = \"Density\", col = \"blue\")"
      ],
      "metadata": {
        "id": "KP6NczZ4G1KO",
        "outputId": "15b813f3-0dbb-40b1-ee67-552429337eab",
        "colab": {
          "base_uri": "https://localhost:8080/",
          "height": 437
        }
      },
      "execution_count": 1,
      "outputs": [
        {
          "output_type": "display_data",
          "data": {
            "text/plain": [
              "Plot with title “F-Distribution (df1 = 1, df2 = 17)”"
            ],
            "image/png": "[encoded data removed]"
          },
          "metadata": {
            "image/png": {
              "width": 420,
              "height": 420
            }
          }
        }
      ]
    }
  ]
}