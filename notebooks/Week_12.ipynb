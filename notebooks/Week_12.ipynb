{
  "nbformat": 4,
  "nbformat_minor": 0,
  "metadata": {
    "colab": {
      "provenance": []
    },
    "kernelspec": {
      "name": "ir",
      "display_name": "R"
    },
    "language_info": {
      "name": "R"
    }
  },
  "cells": [
    {
      "cell_type": "markdown",
      "source": [
        "# **Week 12: Categorical Data Analysis via Chi-squared Tests**\n",
        "\n",
        "```\n",
        ".------------------------------------.\n",
        "|   __  ____  ______  _  ___ _____   |\n",
        "|  |  \\/  \\ \\/ / __ )/ |/ _ \\___  |  |\n",
        "|  | |\\/| |\\  /|  _ \\| | | | | / /   |\n",
        "|  | |  | |/  \\| |_) | | |_| |/ /    |\n",
        "|  |_|  |_/_/\\_\\____/|_|\\___//_/     |\n",
        "'------------------------------------'\n",
        "\n",
        "```\n"
      ],
      "metadata": {
        "id": "ZtpJJ8BSHOaK"
      }
    },
    {
      "cell_type": "markdown",
      "source": [
        "This week, we will explore how to perform chi-squared tests in R to check for associations between categorical variables and to assess goodness of fit."
      ],
      "metadata": {
        "id": "QWuoIciBrV25"
      }
    },
    {
      "cell_type": "markdown",
      "source": [
        "## **Pre-Configurating the Notebook**"
      ],
      "metadata": {
        "id": "SpK9XLxlHOcm"
      }
    },
    {
      "cell_type": "markdown",
      "source": [
        "### **Switching to the R Kernel on Colab**\n",
        "\n",
        "By default, Google Colab uses Python as its programming language. To use R instead, you’ll need to manually switch the kernel by going to **Runtime > Change runtime type**, and selecting R as the kernel. This allows you to run R code in the Colab environment.\n",
        "\n",
        "However, our notebook is already configured to use R by default. Unless something goes wrong, you shouldn’t need to manually change runtime type."
      ],
      "metadata": {
        "id": "4yA6tfrakIOY"
      }
    },
    {
      "cell_type": "markdown",
      "source": [
        "### **Importing Required Datasets and Packages**\n",
        "**Run the following lines of code**:"
      ],
      "metadata": {
        "id": "VLNikK3CYWIx"
      }
    },
    {
      "cell_type": "code",
      "source": [
        "#Do not modify\n",
        "\n",
        "setwd(\"/content\")\n",
        "\n",
        "# Remove `MXB107-Notebooks` if exists,\n",
        "if (dir.exists(\"MXB107-Notebooks\")) {\n",
        "  system(\"rm -rf MXB107-Notebooks\")\n",
        "}\n",
        "\n",
        "# Fork the repository\n",
        "system(\"git clone https://github.com/edelweiss611428/MXB107-Notebooks.git\")\n",
        "\n",
        "# Change working directory to \"MXB107-Notebooks\"\n",
        "setwd(\"MXB107-Notebooks\")\n",
        "\n",
        "#\n",
        "invisible(source(\"R/preConfigurated.R\"))"
      ],
      "metadata": {
        "id": "tYGemispahiY"
      },
      "execution_count": null,
      "outputs": []
    },
    {
      "cell_type": "markdown",
      "source": [
        "**Do not modify the following**"
      ],
      "metadata": {
        "id": "o_XFVhdp1GrA"
      }
    },
    {
      "cell_type": "code",
      "source": [
        "if (!require(\"testthat\")) install.packages(\"testthat\"); library(\"testthat\")\n",
        "\n",
        "test_that(\"Test if all packages have been loaded\", {\n",
        "\n",
        "  expect_true(all(c(\"ggplot2\", \"tidyr\", \"dplyr\", \"stringr\", \"magrittr\", \"knitr\") %in% loadedNamespaces()))\n",
        "\n",
        "})"
      ],
      "metadata": {
        "id": "6lru0NFK011G"
      },
      "execution_count": null,
      "outputs": []
    },
    {
      "cell_type": "markdown",
      "source": [
        "## **Chi-squared Tests in R**\n",
        "\n"
      ],
      "metadata": {
        "id": "umRdmBh0u3X6"
      }
    },
    {
      "cell_type": "markdown",
      "source": [
        "\n",
        "R provides the `chisq.test()` function for performing **chi-squared tests**.  \n",
        "It can be used for two main purposes:\n",
        "- **Goodness-of-fit tests** – to check whether observed frequencies match expected probabilities.  \n",
        "- **Tests of independence** – to determine whether two categorical variables are associated."
      ],
      "metadata": {
        "id": "Yp2oqx215T74"
      }
    },
    {
      "cell_type": "markdown",
      "source": [
        "\n",
        "**Basic usage:**\n",
        "```r\n",
        "chisq.test(x,\n",
        "           y = NULL,\n",
        "           p = NULL,\n",
        "           rescale.p = FALSE)\n"
      ],
      "metadata": {
        "id": "k9nZZK7g5YwH"
      }
    },
    {
      "cell_type": "markdown",
      "source": [
        "**Arguments:**\n",
        "- `x`: a numeric vector of observed counts (for goodness-of-fit) or a matrix/table of counts (for independence tests)\n",
        "- `y`: an optional second vector of counts, used when testing the independence between two categorical variables\n",
        "- `p`: a vector of expected probabilities for goodness-of-fit tests; must be the same length as x and sum to 1\n",
        "- `rescale.p`: logical; if TRUE, rescales p to sum to 1 if it does not already\n"
      ],
      "metadata": {
        "id": "eqXYq0eo62LV"
      }
    },
    {
      "cell_type": "markdown",
      "source": [
        "**Details:**\n",
        "- For a **goodness-of-fit test**, `x` is a vector of observed frequencies, and `p` gives the expected proportions.  \n",
        "- For a **test of independence**, `x` is a contingency table (e.g., created with `table()` for instance), and the test checks for association between row and column variables are independent.  \n",
        "- The function returns an object of class `\"htest\"`, containing the test statistic, degrees of freedom, and p-value.\n"
      ],
      "metadata": {
        "id": "vPISJlF08nZJ"
      }
    },
    {
      "cell_type": "markdown",
      "source": [
        "### **Chi-squared Tests of Independence**\n",
        "\n",
        "\n"
      ],
      "metadata": {
        "id": "PoMuXvycT-xJ"
      }
    },
    {
      "cell_type": "markdown",
      "source": [
        "#### **Definition**\n",
        "\n",
        "\n",
        "The **chi-squared test of independence** is used to determine whether two categorical variables are associated (dependent) or independent.\n",
        "\n",
        "The test works by comparing the **observed counts** in each cell of a contingency table with the **expected counts** that would occur if the variables were independent.  \n",
        "\n",
        "For two categorical variables X and Y, the hypotheses are:\n",
        "\n",
        "\n",
        "- **Null hypothesis (H₀):**  \n",
        "$$\n",
        "P(Y \\mid X) = P(Y)\n",
        "$$  \n",
        "(The variables X and Y are independent)\n",
        "\n",
        "- **Alternative hypothesis (H₁):**  \n",
        "$$\n",
        "P(Y \\mid X) \\neq P(Y)\n",
        "$$  \n",
        "(The variables X and Y are not independent)"
      ],
      "metadata": {
        "id": "T-uQwQkHVISG"
      }
    },
    {
      "cell_type": "markdown",
      "source": [
        "For a contingency table with $r$ rows and $c$ columns computed from observed data, we compute the following $\\chi^2$ test statistic:\n",
        "\n",
        "$$\n",
        "\\chi^2 = \\sum_{i=1}^{r} \\sum_{j=1}^{c} \\frac{(O_{ij} - E_{ij})^2}{E_{ij}}\n",
        "$$\n",
        "\n",
        "Where:  \n",
        "- $O_{ij}$ = observed count in row $i$, column $j$  \n",
        "- $E_{ij} = \\frac{(\\text{row sum}_i) \\times (\\text{column sum}_j)}{\\text{total}}$ = expected count under independence"
      ],
      "metadata": {
        "id": "SUZYEdbHUskW"
      }
    },
    {
      "cell_type": "markdown",
      "source": [
        "\n",
        "The degrees of freedom for the chi-squared test of independence are:\n",
        "\n",
        "$$\n",
        "\\text{df} = (r - 1) \\times (c - 1)\n",
        "$$\n",
        "\n",
        "Where $r$ is the number of rows and $c$ is the number of columns in the contingency table.  \n",
        "\n",
        "\n",
        "If the observed $\\chi^2$ statistic is greater than $\\chi^2_{\\text{df}, 1-\\alpha}$, we reject the null hypothesis at significance level $1-\\alpha$."
      ],
      "metadata": {
        "id": "E-5xR5QMUz_H"
      }
    },
    {
      "cell_type": "markdown",
      "source": [
        "#### **`Titanic` Example**\n",
        "\n",
        "To demonstrate the chi-squared for tests of independence, we return to the `Titanic` example in Week 3, which is derived from the well-known `Titanic` dataset, containing information on 2,201 passengers aboard the Titanic, including their:\n",
        "\n",
        "- Passenger class (`class`)\n",
        "- Sex (`sex`)\n",
        "- Age group (`age_status`, i.e., adult or child)\n",
        "- Survival status (`survived`)"
      ],
      "metadata": {
        "id": "dT5DxNtGxA2r"
      }
    },
    {
      "cell_type": "code",
      "source": [
        "titanic = read.csv(\"./datasets/titanic.csv\", stringsAsFactors = T)\n",
        "titanic %>%\n",
        "  str()\n",
        "\n",
        "titanic %>%\n",
        "  head(5)"
      ],
      "metadata": {
        "id": "vb_jgVMY_As4"
      },
      "execution_count": null,
      "outputs": []
    },
    {
      "cell_type": "markdown",
      "source": [
        "We are interested in testing whether or not there is an association between passenger class and survival. This test can be formalised as follows:\n",
        "\n",
        "- **Null hypothesis (H₀):**\n",
        "$$\n",
        "P(\\text{Survival} \\mid \\text{Class}) = P(\\text{Survival})\n",
        "$$\n",
        "(Survival is independent of passenger class)\n",
        "\n",
        "- **Alternative hypothesis (H₁):**\n",
        "$$\n",
        "P(\\text{Survival} \\mid \\text{Class}) \\neq P(\\text{Survival})\n",
        "$$\n",
        "(Survival depends on passenger class)"
      ],
      "metadata": {
        "id": "HbmGEC7j_YOM"
      }
    },
    {
      "cell_type": "markdown",
      "source": [
        "In Week 3, we created unnormalised and normalised contingency tables for `Class` and `Survived`."
      ],
      "metadata": {
        "id": "pHwhbyOrApau"
      }
    },
    {
      "cell_type": "code",
      "source": [
        "unnormalised_table = table(titanic$Class, titanic$Survived)\n",
        "print(unnormalised_table)\n",
        "normalised_table = prop.table(unnormalised_table, margin = 1)*100 #Normalised by row (i.e., within each class)\n",
        "print(normalised_table)"
      ],
      "metadata": {
        "id": "WSWRkZ0fA-Yg"
      },
      "execution_count": null,
      "outputs": []
    },
    {
      "cell_type": "markdown",
      "source": [
        "Informally, we can see that the survival rate increases as you go from Crew members to 1st class. This aligns with historical accounts, as most crew members (especially those working in lower bunkers) had higher mortality, while passengers in 1st class, located on the upper decks, had easier access to lifeboats."
      ],
      "metadata": {
        "id": "k4ANfKcwBTah"
      }
    },
    {
      "cell_type": "markdown",
      "source": [
        "We can run a chi-squared test of independence to formally assess this."
      ],
      "metadata": {
        "id": "YQkQIz9NCLd4"
      }
    },
    {
      "cell_type": "code",
      "source": [
        "chisq.test(unnormalised_table) %>% print()"
      ],
      "metadata": {
        "id": "wqJtuZUoCO7x"
      },
      "execution_count": null,
      "outputs": []
    },
    {
      "cell_type": "markdown",
      "source": [
        "Or equivalently,"
      ],
      "metadata": {
        "id": "zezlJUA_CbUL"
      }
    },
    {
      "cell_type": "code",
      "source": [
        "chisq.test(titanic$Class, titanic$Survived) %>% print()"
      ],
      "metadata": {
        "id": "dIpjKqavCcrI"
      },
      "execution_count": null,
      "outputs": []
    },
    {
      "cell_type": "markdown",
      "source": [
        "Here, we don't need to create a contingency table as R will automatically do that.\n",
        "\n",
        "From the output, the number of degrees of freedom is 3, which is:\n",
        "\n",
        "$$\\text{(#Categories in Class - 1)} \\times \\text{(#Categories in Survived - 1)} = (4-1)\\times(2-1) = 3$$\n",
        "\n",
        "The p-value is extremely small. There is overwhelming evidence against the null. This suggests that there is an association between `Survived` and `Class`, as we expected."
      ],
      "metadata": {
        "id": "dbtXxBWRCvtb"
      }
    },
    {
      "cell_type": "markdown",
      "source": [
        "### **Chi-squared Goodness-of-Fit Test**\n",
        "\n"
      ],
      "metadata": {
        "id": "-DewIXvTEJdn"
      }
    },
    {
      "cell_type": "markdown",
      "source": [
        "#### **Definition**\n",
        "\n",
        "The **chi-squared goodness-of-fit test** is used to determine whether the observed frequencies in one categorical variable match the expected frequencies under a specified theoretical distribution.\n",
        "\n",
        "The test works by comparing the **observed counts** in each category with the **expected counts** calculated from the hypothesised probabilities.  \n",
        "\n",
        "For a categorical variable with $k$ categories, the hypotheses are:\n",
        "\n",
        "- **Null hypothesis (H₀):**  \n",
        "$$\n",
        "P(\\text{Category } i) = p_i \\quad \\text{for all } i = 1, \\dots, k\n",
        "$$  \n",
        "(The observed frequencies follow the theoretical distribution)\n",
        "\n",
        "- **Alternative hypothesis (H₁):**  \n",
        "$$\n",
        "P(\\text{Category } i) \\neq p_i \\quad \\text{for at least one } i\n",
        "$$  \n",
        "(The observed frequencies do not follow the theoretical distribution)\n",
        "\n"
      ],
      "metadata": {
        "id": "DRumsFFIWhWp"
      }
    },
    {
      "cell_type": "markdown",
      "source": [
        "The observed chi-squared statistic is calculated as:\n",
        "\n",
        "$$\n",
        "\\chi^2 = \\sum_{i=1}^{k} \\frac{(O_i - E_i)^2}{E_i}\n",
        "$$\n",
        "\n",
        "Where:  \n",
        "- $O_i$ = observed count in category $i$\n",
        "- $E_i = p_i \\times n$ = expected count in category $i$ based on the hypothesised probabilities and total sample size $n$  \n"
      ],
      "metadata": {
        "id": "gQahfpyNW2F7"
      }
    },
    {
      "cell_type": "markdown",
      "source": [
        "The degrees of freedom are:\n",
        "\n",
        "$$\n",
        "\\text{df} = k - 1 - m\n",
        "$$\n",
        "\n",
        "Where $m$ is the number of parameters estimated from the data (this is 0 if the theoretical probabilities are fully specified).\n",
        "\n",
        "If the observed $\\chi^2$ statistic is greater than $\\chi^2_{\\text{df}, 1-\\alpha}$, we reject the null hypothesis at significance level $1-\\alpha$."
      ],
      "metadata": {
        "id": "EqdLeH0fW0GU"
      }
    },
    {
      "cell_type": "markdown",
      "source": [
        "**Note that if data are continuous, this test can still be used; however, binning is required. Moreover, in this workshop, probabilities will be well-specified.**"
      ],
      "metadata": {
        "id": "4-i2qdavXLL5"
      }
    },
    {
      "cell_type": "markdown",
      "source": [
        "#### **Benford's Law Example**\n",
        "\n",
        "\n",
        "**Question:**  \n",
        "\n",
        "Benford's Law states that in many naturally occurring datasets, smaller digits appear as the leading digit more frequently than larger digits, with the probability of the first digit $d$ given by:\n",
        "\n",
        "$$\n",
        "P(D = d) = \\log_{10}\\left(1 + \\frac{1}{d}\\right), \\quad d = 1, 2, \\dots, 9\n",
        "$$\n",
        "\n",
        "![Benford Law](https://upload.wikimedia.org/wikipedia/commons/8/82/Benford-physical.svg)\n"
      ],
      "metadata": {
        "id": "MvBXVC9QXiwi"
      }
    },
    {
      "cell_type": "markdown",
      "source": [
        "This has been utilised in various applications, e.g., fraud detection, where Benford's Law provides a **heuristic** to check for evidence of fraud in accounting or financial datasets.\n",
        "\n",
        "As an example, we collect financial data from Jane's accounting records. We will evaluate whether there is any evidence of fraud by testing whether the data follow Benford's Law.\n"
      ],
      "metadata": {
        "id": "cykSUlxZX3pf"
      }
    },
    {
      "cell_type": "code",
      "source": [
        "Jane = read.csv(\"./datasets/Jane.csv\") %>% pull(x)\n",
        "Jane %>% str()"
      ],
      "metadata": {
        "id": "Xb5dwogWYmGx"
      },
      "execution_count": null,
      "outputs": []
    },
    {
      "cell_type": "markdown",
      "source": [
        "We first need to extract first digits of numbers in `Jane`."
      ],
      "metadata": {
        "id": "3Z0eO0nzaMDH"
      }
    },
    {
      "cell_type": "code",
      "source": [
        "first_digits = as.numeric(substr(as.character(Jane), 1, 1))\n",
        "first_digits %>% str()"
      ],
      "metadata": {
        "id": "I1Nk0l7FaTCP"
      },
      "execution_count": null,
      "outputs": []
    },
    {
      "cell_type": "markdown",
      "source": [
        "A frequency table can be created to estimate the frequency of each leading digit in the dataset. We can also visualise these frequencies to see whether they closely match Benford's Law."
      ],
      "metadata": {
        "id": "PpAQSxl_agKG"
      }
    },
    {
      "cell_type": "code",
      "source": [
        "# Observed (relative) frequencies\n",
        "obs_freq = table(first_digits)/length(first_digits)\n",
        "\n",
        "# Benford's Law's Predictions\n",
        "benford_freq = log10(1 + 1 / (1:9))\n",
        "\n",
        "# Plot observed frequencies\n",
        "plot(\n",
        "  1:9, obs_freq,\n",
        "  type = \"b\", pch = 19, col = \"blue\",\n",
        "  xlab = \"Leading Digit\",\n",
        "  ylab = \"Proportion\",\n",
        "  ylim = c(0, max(c(obs_freq, benford_freq))),\n",
        "  main = \"Observed vs Expected Frequencies (Benford's Law)\"\n",
        ")\n",
        "\n",
        "# Add Benford expected frequencies\n",
        "lines(1:9, benford_freq, type = \"b\", pch = 17, col = \"red\")\n",
        "\n",
        "# Add legend\n",
        "legend(\n",
        "  \"topright\",\n",
        "  legend = c(\"Observed\", \"Benford\"),\n",
        "  col = c(\"blue\", \"red\"),\n",
        "  pch = c(19, 17),\n",
        "  lty = 1\n",
        ")\n"
      ],
      "metadata": {
        "id": "gHokl95ya7jc"
      },
      "execution_count": null,
      "outputs": []
    },
    {
      "cell_type": "markdown",
      "source": [
        "The observed frequencies appear to closely match Benford's Law. For a more formal assessment, we can perform a chi-squared test for goodness-of-fit.\n",
        "\n",
        "\n",
        "- **Null hypothesis (H₀):** The distribution of the leading digits in the dataset follows Benford's Law.  \n",
        "- **Alternative hypothesis (H₁):** The distribution of the leading digits in the dataset does **not** follow Benford's Law.\n"
      ],
      "metadata": {
        "id": "Oey8YflubMi-"
      }
    },
    {
      "cell_type": "code",
      "source": [
        "obs_counts = table(first_digits)\n",
        "benford_freq = log10(1 + 1 / (1:9))\n",
        "\n",
        "chisq.test(x = obs_counts, p = benford_freq)"
      ],
      "metadata": {
        "id": "bz7fpEK_bvjV"
      },
      "execution_count": null,
      "outputs": []
    },
    {
      "cell_type": "markdown",
      "source": [
        "Here, the number of degrees of freedom is $8$, which is $9-1$. The p-value is 0.6391, quite larger than any conventional thresholds (e.g., 5%, 1%, or 10%). Therefore, there is no evidence against the hypothesis that the observed frequencies follow Benford's Law.\n",
        "\n",
        "According to this analysis, Jane's book appears to be consistent with the  distribution implied by Benford's law."
      ],
      "metadata": {
        "id": "E5ecWA50cAJW"
      }
    },
    {
      "cell_type": "markdown",
      "source": [
        "## **Workshop Questions**"
      ],
      "metadata": {
        "id": "MAi2C2OmdITz"
      }
    },
    {
      "cell_type": "markdown",
      "source": [
        "### **Question 1**\n",
        "\n",
        "Given the `titanic` dataset, use an appropriate method to test if there is any association between passenger class (`Class`) and sex (`Sex`)."
      ],
      "metadata": {
        "id": "IgqhajoUdKn8"
      }
    },
    {
      "cell_type": "code",
      "source": [],
      "metadata": {
        "id": "3uXseZwNd-ly"
      },
      "execution_count": null,
      "outputs": []
    },
    {
      "cell_type": "markdown",
      "source": [
        "<details>\n",
        "<summary>▶️ Click to show the solution </summary>\n",
        "\n",
        "We are interested in testing whether or not there is an association between **sex** and **survival**. Here, a chi-squared test of independence can be used, which is formalised as follows:\n",
        "\n",
        "- **Null hypothesis (H₀):**  \n",
        "$$\n",
        "P(\\text{Survival} \\mid \\text{Sex}) = P(\\text{Survival})\n",
        "$$\n",
        "(Survival is independent of sex)\n",
        "\n",
        "- **Alternative hypothesis (H₁):**  \n",
        "$$\n",
        "P(\\text{Survival} \\mid \\text{Sex}) \\neq P(\\text{Survival})\n",
        "$$\n",
        "(Survival depends on sex)\n",
        "\n",
        "```r\n",
        "chisq.test(titanic$Survived, titanic$Sex)\n",
        "```\n",
        "\n",
        "The p-value is extremely smaller than any conventional thresholds (5%, 1%, or 10%). There is evidence against the null hypothesis that survival is independent of sex.\n",
        "\n",
        "**FYI:**\n",
        "\n",
        "> \"Women and children first\", known to a lesser extent as the Birkenhead drill, is an unofficial code of conduct and gender role whereby the lives of women and children were to be saved first in a life-threatening situation, typically abandoning ship, when survival resources such as lifeboats were limited. However, it has no basis in maritime law.\"\n",
        "\n",
        "> \"Notable invocations of the concept include during the 1852 evacuation of the Royal Navy troopship HMS Birkenhead, the 1857 sinking of the ship SS Central America, and most famously during the 1912 sinking of the Titanic.\"\n",
        "\n",
        "(From [Women and children first - Wikipedia](https://en.wikipedia.org/wiki/Women_and_children_first)\n",
        "\n",
        "\n",
        "</details>"
      ],
      "metadata": {
        "id": "ZgWDRD5deA4Z"
      }
    },
    {
      "cell_type": "markdown",
      "source": [
        "### **Question 2**\n",
        "\n",
        "Use a chi-squared goodness-of-fit test to determine whether the distribution of hair colors in the `HairEyeColor` dataset differs from what would be expected under a discrete uniform distribution (e.g., all categories are equally likely).\n"
      ],
      "metadata": {
        "id": "w0kqANwHfcD0"
      }
    },
    {
      "cell_type": "code",
      "source": [
        "HairColorFreq = margin.table(HairEyeColor, 1)\n",
        "HairColorFreq"
      ],
      "metadata": {
        "colab": {
          "base_uri": "https://localhost:8080/",
          "height": 68
        },
        "id": "IE8qmmQLfvpN",
        "outputId": "5b9253e2-2216-4dfb-86db-e78591a653f3"
      },
      "execution_count": null,
      "outputs": [
        {
          "output_type": "display_data",
          "data": {
            "text/plain": [
              "Hair\n",
              "Black Brown   Red Blond \n",
              "  108   286    71   127 "
            ]
          },
          "metadata": {}
        }
      ]
    },
    {
      "cell_type": "markdown",
      "source": [
        "<details>\n",
        "<summary>▶️ Click to show the solution </summary>\n",
        "\n",
        "We are interested in testing whether or not the observed **hair color** distribution differs from a uniform distribution. Here, a chi-squared goodness-of-fit test can be used, which is formalised as follows:\n",
        "\n",
        "- **Null hypothesis (H₀):**  \n",
        "$$\n",
        "P(\\text{Hair Color}) =  \\frac{1}{4}  \\text{   (as there are 4 colours in the dataset)}\n",
        "$$\n",
        "(The observed hair color frequencies follow a uniform distribution)\n",
        "\n",
        "- **Alternative hypothesis (H₁):**  \n",
        "$$\n",
        "P(\\text{Hair Color}) \\neq \\frac{1}{4}\n",
        "$$\n",
        "(The observed hair color frequencies do not follow a uniform distribution)\n",
        "\n",
        "\n",
        "\n",
        "```r\n",
        "chisq.test(x = HairColorFreq, p = rep(1/4, 4))\n",
        "```\n",
        "\n",
        "The p-value is extremely smaller than any conventional thresholds (5%, 1%, or 10%). There is evidence against the null hypothesis that the observed hair color frequencies follow a uniform distribution.\n",
        "\n",
        "\n",
        "</details>"
      ],
      "metadata": {
        "id": "JNqMudxOgNE0"
      }
    }
  ]
}