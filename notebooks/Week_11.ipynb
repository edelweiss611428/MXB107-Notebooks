{
  "nbformat": 4,
  "nbformat_minor": 0,
  "metadata": {
    "colab": {
      "provenance": []
    },
    "kernelspec": {
      "name": "ir",
      "display_name": "R"
    },
    "language_info": {
      "name": "R"
    }
  },
  "cells": [
    {
      "cell_type": "markdown",
      "source": [
        "# **Week 11: Simple Linear Regression**\n",
        "\n",
        "```\n",
        ".------------------------------------.\n",
        "|   __  ____  ______  _  ___ _____   |\n",
        "|  |  \\/  \\ \\/ / __ )/ |/ _ \\___  |  |\n",
        "|  | |\\/| |\\  /|  _ \\| | | | | / /   |\n",
        "|  | |  | |/  \\| |_) | | |_| |/ /    |\n",
        "|  |_|  |_/_/\\_\\____/|_|\\___//_/     |\n",
        "'------------------------------------'\n",
        "\n",
        "```"
      ],
      "metadata": {
        "id": "ZtpJJ8BSHOaK"
      }
    },
    {
      "cell_type": "markdown",
      "source": [
        "In this workshop, we will explore how to perform linear regression in R through practical exercises."
      ],
      "metadata": {
        "id": "nJN_EjsDJ5My"
      }
    },
    {
      "cell_type": "markdown",
      "source": [
        "## **Pre-Configurating the Notebook**"
      ],
      "metadata": {
        "id": "qJMHamzBgYY4"
      }
    },
    {
      "cell_type": "markdown",
      "source": [
        "### **Switching to the R Kernel on Colab**\n",
        "\n",
        "By default, Google Colab uses Python as its programming language. To use R instead, you’ll need to manually switch the kernel by going to **Runtime > Change runtime type**, and selecting R as the kernel. This allows you to run R code in the Colab environment.\n",
        "\n",
        "However, our notebook is already configured to use R by default. Unless something goes wrong, you shouldn’t need to manually change runtime type."
      ],
      "metadata": {
        "id": "RYNbU2mDgjJZ"
      }
    },
    {
      "cell_type": "markdown",
      "source": [
        "### **Importing Required Packages**\n",
        "**Run the following lines of code**:"
      ],
      "metadata": {
        "id": "Sh6s1ChmglUe"
      }
    },
    {
      "cell_type": "code",
      "source": [
        "#Do not modify\n",
        "\n",
        "setwd(\"/content\")\n",
        "\n",
        "# Remove `MXB107-Notebooks` if exists,\n",
        "if (dir.exists(\"MXB107-Notebooks\")) {\n",
        "  system(\"rm -rf MXB107-Notebooks\")\n",
        "}\n",
        "\n",
        "# Fork the repository\n",
        "system(\"git clone https://github.com/edelweiss611428/MXB107-Notebooks.git\")\n",
        "\n",
        "# Change working directory to \"MXB107-Notebooks\"\n",
        "setwd(\"MXB107-Notebooks\")\n",
        "\n",
        "#\n",
        "invisible(source(\"R/preConfigurated.R\"))"
      ],
      "metadata": {
        "id": "hXjYwRwxgmqZ"
      },
      "execution_count": null,
      "outputs": []
    },
    {
      "cell_type": "markdown",
      "source": [
        "**Do not modify the following**"
      ],
      "metadata": {
        "id": "0xU1keysgotb"
      }
    },
    {
      "cell_type": "code",
      "source": [
        "if (!require(\"testthat\")) install.packages(\"testthat\"); library(\"testthat\")\n",
        "\n",
        "test_that(\"Test if all packages have been loaded\", {\n",
        "\n",
        "  expect_true(all(c(\"ggplot2\", \"tidyr\", \"dplyr\", \"stringr\", \"magrittr\", \"knitr\") %in% loadedNamespaces()))\n",
        "\n",
        "})"
      ],
      "metadata": {
        "id": "VkOd7qZXgqr8"
      },
      "execution_count": null,
      "outputs": []
    },
    {
      "cell_type": "markdown",
      "source": [
        "## **Simple Linear Regression Model**\n",
        "\n",
        "We have already introduced simple linear regression in the bivariate data summary workshop/lecture. This workshop content will go a bit deeper and focus on:\n",
        "\n",
        "- Performing hypothesis tests for regression parameters\n",
        "- Interpreting key quantities from `lm()` model outputs\n",
        "- Computing confidence intervals and prediction intervals\n",
        "- Interpreting diagnostic plots to assess model fit\n"
      ],
      "metadata": {
        "id": "_EVVevuQgTtV"
      }
    },
    {
      "cell_type": "markdown",
      "source": [
        "### **Fitting Simple Linear Regression Models in R**\n",
        "\n",
        "R provides the `lm()` function for fitting linear regression models. It has a formula interface, similar to `aov()`, `t.test()`, and other modeling functions in R. Linear models are very flexible and can be used for simple regression, multiple regression, and even ANOVA (since ANOVA is a special case of a linear model).\n",
        "\n"
      ],
      "metadata": {
        "id": "0RHRPsiKmVJQ"
      }
    },
    {
      "cell_type": "markdown",
      "source": [
        "\n",
        "**Usage:**\n",
        "\n",
        "```r\n",
        "lm(formula,\n",
        "   data = NULL,\n",
        "   subset = NULL,\n",
        "   weights = NULL,\n",
        "   na.action = na.omit,\n",
        "   ...)\n",
        "```"
      ],
      "metadata": {
        "id": "s5q_aJeJn6ly"
      }
    },
    {
      "cell_type": "markdown",
      "source": [
        "\n",
        "**Arguments:**\n",
        "\n",
        "- `formula`: a model formula of the form `response ~ predictors` (e.g., `y ~ x` for simple linear regression.)  \n",
        "- `data`: a data frame containing the variables in the model  \n",
        "- `subset`: an optional vector specifying a subset of observations to be used  \n",
        "- `weights`: an optional vector of weights for weighted regression  \n",
        "- `na.action`: a function that indicates what should happen when the data contain `NA`s (default is `na.omit`)  \n",
        "- `...`: additional arguments passed to lower-level modeling functions  "
      ],
      "metadata": {
        "id": "8sFv6_F-n7-T"
      }
    },
    {
      "cell_type": "markdown",
      "source": [
        "### **\"Reading\" `lm` Objects**\n",
        "\n",
        "The output of the `lm()` function is an object of class `lm`. By default, printing this object displays only basic information, such as the call and the estimated coefficients.\n",
        "\n",
        "Consider the `cars` example in `Mock-PST2.docx`. We are interested in studying the relationship between the speed of cars (in mph) and the distance required to stop (in feet). To explore this relationship, we may fit a linear model using `lm()`."
      ],
      "metadata": {
        "id": "6PhcKMinoB4g"
      }
    },
    {
      "cell_type": "code",
      "source": [
        "model1 = lm(dist~speed, cars)\n",
        "class(model1)\n",
        "model1"
      ],
      "metadata": {
        "id": "RKCmrwrxoaIG",
        "outputId": "19306ff5-b29d-4058-ac1e-d24928b0a226",
        "colab": {
          "base_uri": "https://localhost:8080/",
          "height": 153
        }
      },
      "execution_count": 4,
      "outputs": [
        {
          "output_type": "display_data",
          "data": {
            "text/html": [
              "'lm'"
            ],
            "text/markdown": "'lm'",
            "text/latex": "'lm'",
            "text/plain": [
              "[1] \"lm\""
            ]
          },
          "metadata": {}
        },
        {
          "output_type": "display_data",
          "data": {
            "text/plain": [
              "\n",
              "Call:\n",
              "lm(formula = dist ~ speed, data = cars)\n",
              "\n",
              "Coefficients:\n",
              "(Intercept)        speed  \n",
              "    -17.579        3.932  \n"
            ]
          },
          "metadata": {}
        }
      ]
    },
    {
      "cell_type": "markdown",
      "source": [
        "Like objects returned by `t.test()` and `aov()`, an `lm` object can be summarised using `summary()` to obtain additional statistics, such as standard errors, t-values, and p-values."
      ],
      "metadata": {
        "id": "8GGXULuupvr0"
      }
    },
    {
      "cell_type": "code",
      "source": [
        "summary(model1)"
      ],
      "metadata": {
        "id": "cyNDH3V0p-Ef",
        "outputId": "e0b44859-3973-49d5-a29a-a245b3c87f2f",
        "colab": {
          "base_uri": "https://localhost:8080/",
          "height": 323
        }
      },
      "execution_count": 5,
      "outputs": [
        {
          "output_type": "display_data",
          "data": {
            "text/plain": [
              "\n",
              "Call:\n",
              "lm(formula = dist ~ speed, data = cars)\n",
              "\n",
              "Residuals:\n",
              "    Min      1Q  Median      3Q     Max \n",
              "-29.069  -9.525  -2.272   9.215  43.201 \n",
              "\n",
              "Coefficients:\n",
              "            Estimate Std. Error t value Pr(>|t|)    \n",
              "(Intercept) -17.5791     6.7584  -2.601   0.0123 *  \n",
              "speed         3.9324     0.4155   9.464 1.49e-12 ***\n",
              "---\n",
              "Signif. codes:  0 ‘***’ 0.001 ‘**’ 0.01 ‘*’ 0.05 ‘.’ 0.1 ‘ ’ 1\n",
              "\n",
              "Residual standard error: 15.38 on 48 degrees of freedom\n",
              "Multiple R-squared:  0.6511,\tAdjusted R-squared:  0.6438 \n",
              "F-statistic: 89.57 on 1 and 48 DF,  p-value: 1.49e-12\n"
            ]
          },
          "metadata": {}
        }
      ]
    },
    {
      "cell_type": "markdown",
      "source": [
        "#### **Exercise**\n",
        "\n",
        "From the summary output of the `lm` object, answer the following questions:\n",
        "\n",
        "- How much variability in stopping distance is explained by the linear model?  \n",
        "- Interpret the *estimated* coefficient for `speed`. Is there any evidence that the linear relationship between speed and `dist` is statistically significant?\n"
      ],
      "metadata": {
        "id": "khtDSaG8qt_G"
      }
    },
    {
      "cell_type": "markdown",
      "source": [
        "\n",
        "<details>\n",
        "<summary>▶️ Click to show the solution</summary>\n",
        "\n",
        "The amount of variability in stopping distance explained by the linear model is R squared, 65.11%.\n",
        "\n",
        "The estimated coefficient for `speed` is 3.9324, implying that an additional mph in speed requires 3.9324 more feet to stop. This coefficient is statistically significant, as the p-value from the t-test is extremely small and smaller than any conventional threshold (e.g., 0.05).\n",
        "\n",
        "\n",
        "</details>"
      ],
      "metadata": {
        "id": "OUZW9CFCrpHj"
      }
    },
    {
      "cell_type": "markdown",
      "source": [
        "\n",
        "Also, note that the F-test from the ANOVA of the model shows the same result. Is this always true?  \n",
        "\n",
        "- **Yes**, for simple linear regression models.  \n",
        "- **No**, for multiple linear regression models (out of the scope of this unit).  \n",
        "\n",
        "In a regression model, the F-test is used to test whether all regression coefficients (excluding the intercept) are simultaneously equal to zero. For simple linear regression, since there is only one predictor, the F-test and the t-test for that coefficient are provably mathematically equivalent."
      ],
      "metadata": {
        "id": "m1Vwv1amsr7T"
      }
    },
    {
      "cell_type": "markdown",
      "source": [
        "### **Regression Diagnostics**\n",
        "\n"
      ],
      "metadata": {
        "id": "lkyG_EkBqHom"
      }
    }
  ]
}