{
  "nbformat": 4,
  "nbformat_minor": 0,
  "metadata": {
    "colab": {
      "provenance": []
    },
    "kernelspec": {
      "name": "ir",
      "display_name": "R"
    },
    "language_info": {
      "name": "R"
    }
  },
  "cells": [
    {
      "cell_type": "markdown",
      "source": [
        "# **Week 11: Simple Linear Regression**\n",
        "\n",
        "```\n",
        ".------------------------------------.\n",
        "|   __  ____  ______  _  ___ _____   |\n",
        "|  |  \\/  \\ \\/ / __ )/ |/ _ \\___  |  |\n",
        "|  | |\\/| |\\  /|  _ \\| | | | | / /   |\n",
        "|  | |  | |/  \\| |_) | | |_| |/ /    |\n",
        "|  |_|  |_/_/\\_\\____/|_|\\___//_/     |\n",
        "'------------------------------------'\n",
        "\n",
        "```"
      ],
      "metadata": {
        "id": "ZtpJJ8BSHOaK"
      }
    },
    {
      "cell_type": "markdown",
      "source": [
        "In this workshop, we will explore how to perform linear regression in R through practical exercises."
      ],
      "metadata": {
        "id": "nJN_EjsDJ5My"
      }
    },
    {
      "cell_type": "markdown",
      "source": [
        "## **Pre-Configurating the Notebook**"
      ],
      "metadata": {
        "id": "qJMHamzBgYY4"
      }
    },
    {
      "cell_type": "markdown",
      "source": [
        "### **Switching to the R Kernel on Colab**\n",
        "\n",
        "By default, Google Colab uses Python as its programming language. To use R instead, you’ll need to manually switch the kernel by going to **Runtime > Change runtime type**, and selecting R as the kernel. This allows you to run R code in the Colab environment.\n",
        "\n",
        "However, our notebook is already configured to use R by default. Unless something goes wrong, you shouldn’t need to manually change runtime type."
      ],
      "metadata": {
        "id": "RYNbU2mDgjJZ"
      }
    },
    {
      "cell_type": "markdown",
      "source": [
        "### **Importing Required Packages**\n",
        "**Run the following lines of code**:"
      ],
      "metadata": {
        "id": "Sh6s1ChmglUe"
      }
    },
    {
      "cell_type": "code",
      "source": [
        "#Do not modify\n",
        "\n",
        "setwd(\"/content\")\n",
        "\n",
        "# Remove `MXB107-Notebooks` if exists,\n",
        "if (dir.exists(\"MXB107-Notebooks\")) {\n",
        "  system(\"rm -rf MXB107-Notebooks\")\n",
        "}\n",
        "\n",
        "# Fork the repository\n",
        "system(\"git clone https://github.com/edelweiss611428/MXB107-Notebooks.git\")\n",
        "\n",
        "# Change working directory to \"MXB107-Notebooks\"\n",
        "setwd(\"MXB107-Notebooks\")\n",
        "\n",
        "#\n",
        "invisible(source(\"R/preConfigurated.R\"))"
      ],
      "metadata": {
        "id": "hXjYwRwxgmqZ"
      },
      "execution_count": null,
      "outputs": []
    },
    {
      "cell_type": "markdown",
      "source": [
        "**Do not modify the following**"
      ],
      "metadata": {
        "id": "0xU1keysgotb"
      }
    },
    {
      "cell_type": "code",
      "source": [
        "if (!require(\"testthat\")) install.packages(\"testthat\"); library(\"testthat\")\n",
        "\n",
        "test_that(\"Test if all packages have been loaded\", {\n",
        "\n",
        "  expect_true(all(c(\"ggplot2\", \"tidyr\", \"dplyr\", \"stringr\", \"magrittr\", \"knitr\") %in% loadedNamespaces()))\n",
        "\n",
        "})"
      ],
      "metadata": {
        "id": "VkOd7qZXgqr8"
      },
      "execution_count": null,
      "outputs": []
    },
    {
      "cell_type": "markdown",
      "source": [
        "## **Simple Linear Regression Model**\n",
        "\n",
        "We have already introduced simple linear regression in the bivariate data summary workshop/lecture. This workshop content will go a bit deeper and focus on:\n",
        "\n",
        "- Performing hypothesis tests for regression parameters\n",
        "- Interpreting key quantities from `lm()` model outputs\n",
        "- Computing confidence intervals and prediction intervals\n",
        "- Interpreting diagnostic plots to assess model fit\n"
      ],
      "metadata": {
        "id": "_EVVevuQgTtV"
      }
    },
    {
      "cell_type": "markdown",
      "source": [
        "### **Fitting Simple Linear Regression Models in R**\n",
        "\n",
        "R provides the `lm()` function for fitting linear regression models. It has a formula interface, similar to `aov()`, `t.test()`, and other modeling functions in R. Linear models are very flexible and can be used for simple regression, multiple regression, and even ANOVA (since ANOVA is a special case of a linear model).\n",
        "\n",
        "**Usage:**\n",
        "\n",
        "```r\n",
        "lm(formula,\n",
        "   data = NULL,\n",
        "   subset = NULL,\n",
        "   weights = NULL,\n",
        "   na.action = na.omit,\n",
        "   ...)\n",
        "```\n",
        "\n",
        "**Arguments:**\n",
        "\n",
        "- `formula`: a model formula of the form `response ~ predictors` (e.g., `y ~ x` for simple linear regression)  \n",
        "- `data`: a data frame containing the variables in the model  \n",
        "- `subset`: an optional vector specifying a subset of observations to be used  \n",
        "- `weights`: an optional vector of weights for weighted regression  \n",
        "- `na.action`: a function that indicates what should happen when the data contain `NA`s (default is `na.omit`)  \n",
        "- `...`: additional arguments passed to lower-level modeling functions  \n",
        "\n"
      ],
      "metadata": {
        "id": "0RHRPsiKmVJQ"
      }
    },
    {
      "cell_type": "markdown",
      "source": [
        "#### **Question 1.1**\n",
        "\n",
        "Use the `aov()` function to test for the effects of `wool`, `tension`, and their interaction on the number of breaks.  Interpret the ANOVA table.\n",
        "\n"
      ],
      "metadata": {
        "id": "_QrTBcpfae5l"
      }
    },
    {
      "cell_type": "code",
      "source": [
        "aov(breaks ~ wool * tension, data = warpbreaks) %>% summary()\n",
        "\n",
        "# Main effect of wool has p-value ≈ 0.058. At 95% significance level, there is insufficient evidence against the null hypothesis that wool type has no effect on the number of breaks, after allowing for tension.\n",
        "#                                          However, we could interpret this as some/slight evidence against H0 if we are not willing to stick to a strict significance level\n",
        "# Main effect of tension has p-value ≈ 0.0007 < 0.05. Different tension levels significantly affect the number of breaks, after allowing for wool type.\n",
        "# Interaction effect (wool:tension): p ≈ 0.02 < 0.05. Evidence against the null hypothesis in favour of the hypothesis that the effect of tension depends on the wool type (and vice versa).\n",
        "\n",
        "# Of course, one may also compare F statistics to critical values\n",
        "\n",
        "F_wool = 3.765\n",
        "F_tension = 8.498\n",
        "F_interaction = 4.189\n",
        "\n",
        "F_wool > qf(0.95, 1,48)\n",
        "F_tension > qf(0.95, 2,48)\n",
        "F_interaction > qf(0.95, 2,48)\n"
      ],
      "metadata": {
        "id": "6KP6Zsz7aqK8"
      },
      "execution_count": null,
      "outputs": []
    },
    {
      "cell_type": "markdown",
      "source": [
        "#### **Question 1.2**\n",
        "\n",
        "Use an appropriate post-hoc method to perform pairwise comparisons between levels of `tension`. Interpret the results to identify significant differences. Comment on the directions of the differences."
      ],
      "metadata": {
        "id": "mqcyN7SCaqdt"
      }
    },
    {
      "cell_type": "code",
      "source": [
        "aov(breaks ~ wool * tension, data = warpbreaks) %>% TukeyHSD()\n",
        "\n",
        "# M vs L: CI does not include 0. There is evidence that medium tension produces fewer breaks than low tension.\n",
        "# H vs L: CI does not include 0. There is evidence that high tension produces fewer breaks than low tension.\n",
        "# H vs M: CI does include 0. No evidence of difference between high and medium tension.\n",
        "\n",
        "# all of these should be interpreted as accounting or allowing for having wool type in the model\n",
        "\n",
        "# Technically, if a symmetric two-sided test is rejected, then the corresponding one-sided test in the same direction as the observed difference (`diff`) would also be rejected.\n",
        "# So, while TukeyHSD formally only performs two-sided tests for pairwise differences, it is still valid to **describe the observed direction of the difference** when reporting results.\n"
      ],
      "metadata": {
        "id": "cPG_Z7L9a6Ng"
      },
      "execution_count": null,
      "outputs": []
    },
    {
      "cell_type": "markdown",
      "source": [
        "### **Question 2**\n",
        "\n",
        "The `ToothGrowth` dataset contains the tooth length of 60 guinea pigs. Each animal received one of three dose levels of Vitamin C (0.5, 1, or 2 mg/day) with one of two delivery methods: orange juice (OJ) or ascorbic acid (VC).\n"
      ],
      "metadata": {
        "id": "CnhCDQTpqL1w"
      }
    },
    {
      "cell_type": "code",
      "source": [
        "ToothGrowth %>% str()"
      ],
      "metadata": {
        "id": "DOGCNkS2qOS_"
      },
      "execution_count": null,
      "outputs": []
    },
    {
      "cell_type": "markdown",
      "source": [
        "#### **Question 2.1**\n",
        "\n",
        "Fit a two-way ANOVA model using the `aov()` function to test for the effects of supplement and dose level, and their interaction on tooth length. Interpret the ANOVA table."
      ],
      "metadata": {
        "id": "K7ZAmMZMqiX9"
      }
    },
    {
      "cell_type": "markdown",
      "source": [
        "\n",
        "<details>\n",
        "<summary>▶️ Click to show the solution</summary>\n",
        "Solution will be released at the end of the week!\n",
        "\n",
        "</details>"
      ],
      "metadata": {
        "id": "W_WO0GKoM953"
      }
    },
    {
      "cell_type": "markdown",
      "source": [
        "#### **Question 2.2**\n",
        "\n",
        "\n",
        "Use an appropriate post-hoc method to perform pairwise comparisons between dose levels. Interpret the results to identify significant differences. Comment on the directions of the differences."
      ],
      "metadata": {
        "id": "RSz-uj6Hr-Bz"
      }
    },
    {
      "cell_type": "markdown",
      "source": [
        "\n",
        "<details>\n",
        "<summary>▶️ Click to show the solution</summary>\n",
        "Solution will be released at the end of the week!\n",
        "\n",
        "</details>"
      ],
      "metadata": {
        "id": "0YabJYRANFM3"
      }
    }
  ]
}