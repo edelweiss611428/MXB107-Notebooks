{
  "nbformat": 4,
  "nbformat_minor": 0,
  "metadata": {
    "colab": {
      "provenance": [],
      "toc_visible": true
    },
    "kernelspec": {
      "name": "ir",
      "display_name": "R"
    },
    "language_info": {
      "name": "R"
    }
  },
  "cells": [
    {
      "cell_type": "markdown",
      "source": [
        "# **Week 5: Introduction to Random Variables**\n",
        "\n",
        "```\n",
        ".------------------------------------.\n",
        "|   __  ____  ______  _  ___ _____   |\n",
        "|  |  \\/  \\ \\/ / __ )/ |/ _ \\___  |  |\n",
        "|  | |\\/| |\\  /|  _ \\| | | | | / /   |\n",
        "|  | |  | |/  \\| |_) | | |_| |/ /    |\n",
        "|  |_|  |_/_/\\_\\____/|_|\\___//_/     |\n",
        "'------------------------------------'\n",
        "\n",
        "```\n",
        "*A random variable is neither random nor a variable.*"
      ],
      "metadata": {
        "id": "ZtpJJ8BSHOaK"
      }
    },
    {
      "cell_type": "markdown",
      "source": [
        "## **Pre-Configurating the Notebook**"
      ],
      "metadata": {
        "id": "SVtkEkRDY5Ex"
      }
    },
    {
      "cell_type": "markdown",
      "source": [
        "### **Switching to the R Kernel on Colab**\n",
        "\n",
        "By default, Google Colab uses Python as its programming language. To use R instead, you’ll need to manually switch the kernel by going to **Runtime > Change runtime type**, and selecting R as the kernel. This allows you to run R code in the Colab environment.\n",
        "\n",
        "However, our notebook is already configured to use R by default. Unless something goes wrong, you shouldn’t need to manually change runtime type."
      ],
      "metadata": {
        "id": "0vfwHxobY6_q"
      }
    },
    {
      "cell_type": "markdown",
      "source": [
        "### **Importing Required Packages**\n",
        "**Run the following lines of code**:"
      ],
      "metadata": {
        "id": "36rWeG2RY7fJ"
      }
    },
    {
      "cell_type": "code",
      "source": [
        "#Do not modify\n",
        "\n",
        "setwd(\"/content\")\n",
        "\n",
        "# Remove `MXB107-Notebooks` if exists,\n",
        "if (dir.exists(\"MXB107-Notebooks\")) {\n",
        "  system(\"rm -rf MXB107-Notebooks\")\n",
        "}\n",
        "\n",
        "# Fork the repository\n",
        "system(\"git clone https://github.com/edelweiss611428/MXB107-Notebooks.git\")\n",
        "\n",
        "# Change working directory to \"MXB107-Notebooks\"\n",
        "setwd(\"MXB107-Notebooks\")\n",
        "\n",
        "#\n",
        "invisible(source(\"R/preConfigurated.R\"))"
      ],
      "metadata": {
        "id": "t_2d_ItyY9yz"
      },
      "execution_count": 48,
      "outputs": []
    },
    {
      "cell_type": "markdown",
      "source": [
        "**Do not modify the following**"
      ],
      "metadata": {
        "id": "q-ITFB1qY_ZJ"
      }
    },
    {
      "cell_type": "code",
      "source": [
        "if (!require(\"testthat\")) install.packages(\"testthat\"); library(\"testthat\")\n",
        "\n",
        "test_that(\"Test if all packages have been loaded\", {\n",
        "\n",
        "  expect_true(all(c(\"ggplot2\", \"tidyr\", \"dplyr\", \"stringr\", \"magrittr\", \"knitr\") %in% loadedNamespaces()))\n",
        "\n",
        "})"
      ],
      "metadata": {
        "colab": {
          "base_uri": "https://localhost:8080/"
        },
        "id": "Hgh75IDpZCf2",
        "outputId": "dcff0a45-9842-4361-a37f-6bb81e2aba5a"
      },
      "execution_count": 49,
      "outputs": [
        {
          "output_type": "stream",
          "name": "stdout",
          "text": [
            "\u001b[32mTest passed\u001b[39m 🥳\n"
          ]
        }
      ]
    },
    {
      "cell_type": "markdown",
      "source": [
        "## **What Is A Random Variable? (Optional)**\n"
      ],
      "metadata": {
        "id": "lUE974i7SwQ7"
      }
    },
    {
      "cell_type": "markdown",
      "source": [
        "A **random variable** is not really a “variable” in the usual algebraic sense, and it’s not “random” in itself.  \n",
        "Formally, it is a **function** that maps outcomes of an experiment (from the *sample space*) to numerical values.\n",
        "\n",
        "Mathematically:  \n",
        "$$\n",
        "X: \\Omega \\rightarrow \\mathbb{R}\n",
        "$$\n",
        "where $\\Omega$ is the set of all possible outcomes of the experiment."
      ],
      "metadata": {
        "id": "27hb4OWDzBl6"
      }
    },
    {
      "cell_type": "markdown",
      "source": [
        "### **Coin Tossing Experiment**\n",
        "- Experiment: Toss a fair coin twice.  \n",
        "- Sample space: $\\Omega = \\big\\{\\text{HH}, \\text{HT}, \\text{TH}, \\text{TT}\\big\\}$\n",
        "- Random variable: $X(\\omega)$ = number of heads in the outcome $\\omega \\in \\Omega$.  \n",
        "- Mapping:  \n",
        "  - HH → 2  \n",
        "  - HT → 1  \n",
        "  - TH → 1  \n",
        "  - TT → 0  "
      ],
      "metadata": {
        "id": "1yGOMwWqTpsj"
      }
    },
    {
      "cell_type": "markdown",
      "source": [
        "### **Gaussian Random Variables**\n",
        "In many problems, $X$ is **assumed** to follow a Gaussian (normal) distribution:  \n",
        "$$\n",
        "X \\sim N(\\mu, \\sigma^2)\n",
        "$$  \n",
        "Here, there might be a physical experiment (e.g., measurement errors) *or* $X$ could be a purely theoretical construct used in modelling."
      ],
      "metadata": {
        "id": "mDpdEHajR-b_"
      }
    },
    {
      "cell_type": "markdown",
      "source": [
        "### **Why Do We Use This Complicated Definition?**\n",
        "\n",
        "You may wonder why we use such a complicated and unintuitive definition — why call it a *function* instead of a *variable* or something that is *random*?\n",
        "\n",
        "In probability theory, we **start** by defining probability on a sample space $\\Omega$ (the set of all possible outcomes of the experiment). A random variable is just a way to **translate** those outcomes into numbers. This is to ensure that probability rules (i.e., axioms of probability) are always satisfied and that all probability assignments are consistent.  \n",
        "\n",
        "Relying on a well-defined sample space $\\Omega$ gives us a **common foundation**:  \n",
        "- Every random variable is defined as a function on $\\Omega$,  \n",
        "- Probabilities of events like $P(X \\le 2)$ are automatically consistent with the probability measure on $\\Omega$,  \n",
        "- This guarantees that all rules (e.g., $0 \\le P(\\cdot) \\le 1$, $P(\\Omega) = 1$, additivity for disjoint events) hold without having to check each case separately.\n",
        "\n",
        "\n",
        "\n",
        "This translation makes it possible to define important tools like the **PMF**, **PDF**, and **CDF** of $X$. Without starting from $\\Omega$, these concepts would not have a rigorous foundation.\n",
        "\n"
      ],
      "metadata": {
        "id": "gvN16OMrXz_Y"
      }
    },
    {
      "cell_type": "markdown",
      "source": [
        "#### **Example**\n",
        "\n",
        "\n",
        "When we write:\n",
        "\n",
        "$$\n",
        "P(X \\leq 2)\n",
        "$$\n",
        "\n",
        "we really mean:\n",
        "\n",
        "$$\n",
        "P(\\{\\omega \\in \\Omega : X(\\omega) \\leq 2\\})\n",
        "$$\n",
        "\n",
        "That is, we are looking for the probability of **all outcomes in the sample space** $ \\Omega $  whose random variable value is less than or equal to 2. We can verify if some common probability rules such as non-negativity and complement rule still hold.\n",
        "\n",
        "- Non-negativity  \n",
        "By definition of a probability measure:  \n",
        "\n",
        "$$\n",
        "0 \\le P(E) \\le 1 \\quad \\text{for any event } E \\subseteq \\Omega\n",
        "$$  \n",
        "\n",
        "Set $E = \\{\\omega \\in \\Omega : X(\\omega) \\le 2\\}$. Then:  \n",
        "\n",
        "$$\n",
        "0 \\le P(X \\le 2) = P(E) \\le 1\n",
        "$$  \n",
        "\n",
        "- Complement Rule\n",
        "\n",
        "Let $A \\subseteq \\mathbb{R}$, e.g., $A = (-\\infty, 2]$. Its complement is $A^c = (2, \\infty)$. Then:  \n",
        "\n",
        "$$\n",
        "\\{\\omega : X(\\omega) \\in A^c\\} = \\Omega \\setminus \\{\\omega : X(\\omega) \\in A\\}  \n",
        "$$  \n",
        "\n",
        "So by the complement property of $P$ on $\\Omega$:  \n",
        "\n",
        "$$\n",
        "P(X \\in A^c) = P(\\Omega) - P(X \\in A) = 1 - P(X \\in A)\n",
        "$$  \n"
      ],
      "metadata": {
        "id": "uUN3acTDc0Ih"
      }
    },
    {
      "cell_type": "markdown",
      "source": [
        "### **Physical vs. Abstract Random Variables**\n",
        "\n",
        "In this workshop, we will encounter several random variables.  Some are intuitive—like the Bernoulli or binomial —and can be linked to real-life experiments we understand.  \n",
        "\n",
        "However, not every random variable has a tangible experiment behind it.  Some are **thought experiments** or abstract models—black boxes that produce values according to certain probabilistic rules.  \n",
        "\n",
        "In practice, we often focus more on the **distributional properties** of a random variable—such as its PMF, PDF, or CDF—rather than the precise way it is defined mathematically. It is common that people refer to a random variable directly by its PMF or PDF (for example, saying “$X$ is Normal with mean $\\mu$ and variance $\\sigma^2$”) rather than giving a fully formal definition in terms of the underlying sample space.\n"
      ],
      "metadata": {
        "id": "dwALg8v2UMxl"
      }
    },
    {
      "cell_type": "markdown",
      "source": [
        "## **Random Variable Simulation in `R`**"
      ],
      "metadata": {
        "id": "enLg65VBkNPA"
      }
    },
    {
      "cell_type": "markdown",
      "source": [
        "`R` provides a wide range of built-in functions for computation and simulation with common distributions, including well-known ones such as the binomial, uniform, Gaussian (normal), and exponential distributions, to name just a few. These functions follow a consistent naming convention and typically begin with specific prefixes (as listed below)."
      ],
      "metadata": {
        "id": "9U27GgPxcirw"
      }
    },
    {
      "cell_type": "markdown",
      "source": [
        "| Prefix | Purpose | Example (Normal Distribution) |\n",
        "|--------|---------|-------------------------------|\n",
        "| `r`    | Random number generation | `rnorm(5, mean = 0, sd = 1)`\n",
        "| `d`    | Density / mass function | `dnorm(0, mean = 0, sd = 1)`|\n",
        "| `p`    | Cumulative distribution function | `pnorm(1.96, mean = 0, sd = 1)`|\n",
        "| `q`    | Quantile function (inverse CDF) | `qnorm(0.975, mean = 0, sd = 1)`|\n"
      ],
      "metadata": {
        "id": "nV25aUIJkRr1"
      }
    },
    {
      "cell_type": "markdown",
      "source": [
        "Here’s a compact summary table of the main probability distributions in `R` and their function families (`d`, `p`, `q`, `r`):"
      ],
      "metadata": {
        "id": "h-Mf0dqldf9D"
      }
    },
    {
      "cell_type": "markdown",
      "source": [
        "| Distribution        | Density/PMF    | CDF        | Quantile    | Random       |\n",
        "|---------------------|----------------|------------|-------------|--------------|\n",
        "| Beta                | `dbeta()`      | `pbeta()`  | `qbeta()`   | `rbeta()`    |\n",
        "| Binomial            | `dbinom()`     | `pbinom()` | `qbinom()`  | `rbinom()`   |\n",
        "| Cauchy              | `dcauchy()`    | `pcauchy()`| `qcauchy()` | `rcauchy()`  |\n",
        "| Chi-square          | `dchisq()`     | `pchisq()` | `qchisq()`  | `rchisq()`   |\n",
        "| Exponential         | `dexp()`       | `pexp()`   | `qexp()`    | `rexp()`     |\n",
        "| F (Fisher–Snedecor) | `df()`         | `pf()`     | `qf()`      | `rf()`       |\n",
        "| Gamma               | `dgamma()`     | `pgamma()` | `qgamma()`  | `rgamma()`   |\n",
        "| Geometric           | `dgeom()`      | `pgeom()`  | `qgeom()`   | `rgeom()`    |\n",
        "| Hypergeometric      | `dhyper()`     | `phyper()` | `qhyper()`  | `rhyper()`   |\n",
        "| Log-normal          | `dlnorm()`     | `plnorm()` | `qlnorm()`  | `rlnorm()`   |\n",
        "| Logistic            | `dlogis()`     | `plogis()` | `qlogis()`  | `rlogis()`   |\n",
        "| Multinomial         | —              | —          | —           | `rmultinom()`|\n",
        "| Negative Binomial   | `dnbinom()`    | `pnbinom()`| `qnbinom()` | `rnbinom()`  |\n",
        "| Normal (Gaussian)   | `dnorm()`      | `pnorm()`  | `qnorm()`   | `rnorm()`    |\n",
        "| Poisson             | `dpois()`      | `ppois()`  | `qpois()`   | `rpois()`    |\n",
        "| Student’s t         | `dt()`         | `pt()`     | `qt()`      | `rt()`       |\n",
        "| Uniform             | `dunif()`      | `punif()`  | `qunif()`   | `runif()`    |\n",
        "| Weibull             | `dweibull()`   | `pweibull()`| `qweibull()`| `rweibull()` |\n",
        "| Wilcoxon Rank       | `dwilcox()`    | `pwilcox()`| `qwilcox()` | `rwilcox()`  |\n",
        "| Wilcoxon Signed Rank| `dsignrank()`  | `psignrank()`| `qsignrank()`| `rsignrank()` |\n"
      ],
      "metadata": {
        "id": "4oq-sAoodWOI"
      }
    },
    {
      "cell_type": "markdown",
      "source": [
        "Note that the random variables supported in R represent only a small subset of the possible random variables. In practice, there are countless other random variables whose forms can be highly complex and may not even have a conventional name (as long as they are defined with a valid probability density function). Techniques for working with such distributions are beyond the scope of this unit."
      ],
      "metadata": {
        "id": "514GmlZeeyKK"
      }
    },
    {
      "cell_type": "markdown",
      "source": [
        "## **Discrete Random Variables**\n",
        "\n",
        "Discrete random variables take on discrete values typically from the domain $\\mathbb{N}$, i.e. $X=0,1,\\ldots$. For discrete random variables, probabilities are assigned to specific values, e.g. $X= 2$.\n",
        "\n"
      ],
      "metadata": {
        "id": "yRLG62xUfwyJ"
      }
    },
    {
      "cell_type": "markdown",
      "source": [
        "\n",
        "### **Bernoulli Distribution**  \n",
        "A Bernoulli distribution is a single experiment with exactly two outcomes: *success* (with probability $p$) and *failure* (with probability $1-p$).  \n",
        "\n",
        "$$\n",
        "X \\sim \\text{Bernoulli}(p), \\quad\n",
        "P(X=1) = p, \\quad P(X=0) = 1-p.\n",
        "$$\n",
        "\n",
        "An example of a Bernoulli trial is a single coin toss, whose outcome can be measured by a Bernoulli distribution.\n"
      ],
      "metadata": {
        "id": "d0hOCq3zgNAH"
      }
    },
    {
      "cell_type": "markdown",
      "source": [
        "### **Binomial Distribution**##\n",
        "\n",
        "A Binomial random variable $Y$ counts the number of successes in $n$ independent Bernoulli$(p)$ trials:  \n",
        "\n",
        "$$\n",
        "Y = \\sum_{i=1}^{n} X_i, \\quad X_i \\overset{\\text{iid}}{\\sim} \\text{Bernoulli}(p), \\quad\n",
        "Y \\sim \\text{Binomial}(n,p).\n",
        "$$\n",
        "\n",
        "Here, `i.i.d.` stands for *independent and identically distributed*.  This means that each $X_i$ represents the same Bernoulli trial (with success probability $p$), conducted independently across the $n$ trials. If `n = 1`, $Y \\sim \\text{Bernoulli}(p)$.\n",
        "\n",
        "| Property             | Formula |\n",
        "|----------------------|---------|\n",
        "| **Support**          | $$y \\in \\{0,1,2,\\dots,n\\}$$ |\n",
        "| **PMF**              | $$P(Y = y) = \\binom{n}{y} p^{\\,y}(1-p)^{\\,n-y}, \\quad y = 0,1,\\dots,n$$ |\n",
        "| **Expectation**      | $$\\mathbb{E}[Y] = np$$ |\n",
        "| **Variance**         | $$\\mathbb{V}(Y) = np(1-p)$$ |\n"
      ],
      "metadata": {
        "id": "uHi0Pl3chBeo"
      }
    },
    {
      "cell_type": "markdown",
      "source": [
        "The Binomial distribution is very versatile and is used to model the number of successes in a fixed number of independent trials, each with the same probability of success. A simple example is modelling the number of Heads after `n` coin tosses."
      ],
      "metadata": {
        "id": "VZGJlX3VlHFQ"
      }
    },
    {
      "cell_type": "markdown",
      "source": [
        "\n",
        "#### **R Quick Reference**\n",
        "\n",
        "`R` supports the following functions for computing distributional quantities and simulating from binomial distributions:\n",
        "\n",
        "- `dbinom(x, size, prob, log = FALSE)` computes PMF of `Binomial(size,p)`;\n",
        "- `pbinom(q, size, prob, lower.tail = TRUE, log.p = FALSE)` computes CDF of `Binomial(size,p)`;\n",
        "- `qbinom(p, size, prob, lower.tail = TRUE, log.p = FALSE)` computes `p`-quantile of `Binomial(size,p)`;\n",
        "- `rbinom(n, size, prob)` simulates `n` random numbers from `n` independent r.v. following `Binomial(size,p)`.\n",
        "\n",
        "Here,\n",
        "\n",
        "- `x`, `q`: The number of successes.\n",
        "- `size`: The number of Bernoulli trials. If `size = 1`, we refer to the Bernoulli distribution.\n",
        "- `prob`: The probability of success\n",
        "- `log`: Whether or not we want to return log PMF.\n",
        "- `lower.tail`: If `TRUE`, return $\\Pr(X \\leq x)$ where $X \\sim \\text{Binomial(size,p)}$. If `FALSE`, return $\\Pr(X > x)$."
      ],
      "metadata": {
        "id": "v-5JrI8Sh4_O"
      }
    },
    {
      "cell_type": "markdown",
      "source": [
        "#### **R Examples**\n"
      ],
      "metadata": {
        "id": "Y2xcvY0ilk_z"
      }
    },
    {
      "cell_type": "markdown",
      "source": [
        "##### **Example 1**\n",
        "\n",
        "Toss a fair coin 100 times and count the number of heads. Repeat this entire experiment 10 times using simulation."
      ],
      "metadata": {
        "id": "qOpI-ZdxtWkd"
      }
    },
    {
      "cell_type": "markdown",
      "source": [
        "We can model the outcome of this experiment by a random variable $Y \\sim \\text{Binomial(n,p)}$ where $n = 100$ and $p = 0.5$. To simulate random numbers of this r.v., we can use the `rbinom()` function:"
      ],
      "metadata": {
        "id": "yoGoaPEpt4o5"
      }
    },
    {
      "cell_type": "code",
      "source": [
        "rbinom(n = 10, size = 100, p = 0.5)"
      ],
      "metadata": {
        "colab": {
          "base_uri": "https://localhost:8080/",
          "height": 54
        },
        "id": "G_QsocB0tPEv",
        "outputId": "72871b86-dd28-46eb-d5e7-bdb4cc81df42"
      },
      "execution_count": 50,
      "outputs": [
        {
          "output_type": "display_data",
          "data": {
            "text/html": [
              "<style>\n",
              ".list-inline {list-style: none; margin:0; padding: 0}\n",
              ".list-inline>li {display: inline-block}\n",
              ".list-inline>li:not(:last-child)::after {content: \"\\00b7\"; padding: 0 .5ex}\n",
              "</style>\n",
              "<ol class=list-inline><li>54</li><li>44</li><li>47</li><li>41</li><li>50</li><li>57</li><li>50</li><li>47</li><li>53</li><li>45</li></ol>\n"
            ],
            "text/markdown": "1. 54\n2. 44\n3. 47\n4. 41\n5. 50\n6. 57\n7. 50\n8. 47\n9. 53\n10. 45\n\n\n",
            "text/latex": "\\begin{enumerate*}\n\\item 54\n\\item 44\n\\item 47\n\\item 41\n\\item 50\n\\item 57\n\\item 50\n\\item 47\n\\item 53\n\\item 45\n\\end{enumerate*}\n",
            "text/plain": [
              " [1] 54 44 47 41 50 57 50 47 53 45"
            ]
          },
          "metadata": {}
        }
      ]
    },
    {
      "cell_type": "markdown",
      "source": [
        "##### **Example 2**\n",
        "A fair coin is tossed $10$ times. What is the probability of observing exactly 6 heads?\n",
        "\n",
        "We can model the outcome of this experiment by a random variable $Y \\sim \\text{Binomial(n,p)}$ where $n = 10$ and $p = 0.5$. To calculate the probability of observing exactly 6 heads, we can use the PMF of `Binomial(10,0.5)`\n",
        "\n",
        "$$P(Y = 6) = \\binom{10}{6} 0.5^{6}(1-0.5)^{10-6}.$$"
      ],
      "metadata": {
        "id": "wPCPg1C0lrag"
      }
    },
    {
      "cell_type": "code",
      "source": [
        "choose(10,6)*0.5^6*(1-0.5)^{10-6}"
      ],
      "metadata": {
        "colab": {
          "base_uri": "https://localhost:8080/",
          "height": 54
        },
        "id": "vG5_oDFzl1Gh",
        "outputId": "2de0f4f5-940a-47f8-97d3-21cc581e865e"
      },
      "execution_count": 51,
      "outputs": [
        {
          "output_type": "display_data",
          "data": {
            "text/html": [
              "0.205078125"
            ],
            "text/markdown": "0.205078125",
            "text/latex": "0.205078125",
            "text/plain": [
              "[1] 0.2050781"
            ]
          },
          "metadata": {}
        }
      ]
    },
    {
      "cell_type": "markdown",
      "source": [
        "We can also use the `dbinom()` function in `R` to compute this probability:"
      ],
      "metadata": {
        "id": "hKoiVk7jmpfG"
      }
    },
    {
      "cell_type": "code",
      "source": [
        "dbinom(x = 6, size = 10, prob = 0.5)"
      ],
      "metadata": {
        "colab": {
          "base_uri": "https://localhost:8080/",
          "height": 54
        },
        "id": "a0Z-ligKmwzo",
        "outputId": "e21018a2-0276-409d-eb18-fc3744e1e26e"
      },
      "execution_count": 52,
      "outputs": [
        {
          "output_type": "display_data",
          "data": {
            "text/html": [
              "0.205078125"
            ],
            "text/markdown": "0.205078125",
            "text/latex": "0.205078125",
            "text/plain": [
              "[1] 0.2050781"
            ]
          },
          "metadata": {}
        }
      ]
    },
    {
      "cell_type": "markdown",
      "source": [
        "##### **Example 3**\n",
        "A fair coin is tossed $10$ times. Compute probability of observing at least 6 heads.\n"
      ],
      "metadata": {
        "id": "x50cNPIBm1CL"
      }
    },
    {
      "cell_type": "markdown",
      "source": [
        "\n",
        "We can model the outcome of this experiment by a random variable $Y \\sim \\text{Binomial(n,p)}$ where $n = 10$ and $p = 0.5$. We are interested in computing:\n",
        "\n",
        "$$\\Pr(Y \\geq 6).$$\n",
        "\n",
        "This can be done using the `pbinom()` function in `R`.\n",
        "\n",
        "Does the below command give us the correct answer?"
      ],
      "metadata": {
        "id": "71Y58Y3EnPl3"
      }
    },
    {
      "cell_type": "code",
      "source": [
        "pbinom(q = 6, size = 10, prob = 0.5, lower.tail = FALSE)"
      ],
      "metadata": {
        "colab": {
          "base_uri": "https://localhost:8080/",
          "height": 54
        },
        "id": "H2W1S4fdni27",
        "outputId": "ee724cd0-f7c2-468d-c8ec-a07e2104dcde"
      },
      "execution_count": 53,
      "outputs": [
        {
          "output_type": "display_data",
          "data": {
            "text/html": [
              "0.171875"
            ],
            "text/markdown": "0.171875",
            "text/latex": "0.171875",
            "text/plain": [
              "[1] 0.171875"
            ]
          },
          "metadata": {}
        }
      ]
    },
    {
      "cell_type": "markdown",
      "source": [
        "The answer is **NO** as when `lower.tail = FALSE`, `dbinom` computes $\\Pr(X > x)$, not $\\Pr(X >= x)$.\n",
        "\n",
        "There are two alternative solutions to address this: Computing $1 - \\Pr(Y \\leq 5)$ or $\\Pr(Y > 5)$."
      ],
      "metadata": {
        "id": "tnYOTeyJoPQm"
      }
    },
    {
      "cell_type": "code",
      "source": [
        "1 - pbinom(q = 5, size = 10, prob = 0.5, lower.tail = TRUE)"
      ],
      "metadata": {
        "colab": {
          "base_uri": "https://localhost:8080/",
          "height": 54
        },
        "id": "hA0_dGG2ooZL",
        "outputId": "b693da67-494b-44c1-d800-ca6fa3a09471"
      },
      "execution_count": 54,
      "outputs": [
        {
          "output_type": "display_data",
          "data": {
            "text/html": [
              "0.376953125"
            ],
            "text/markdown": "0.376953125",
            "text/latex": "0.376953125",
            "text/plain": [
              "[1] 0.3769531"
            ]
          },
          "metadata": {}
        }
      ]
    },
    {
      "cell_type": "code",
      "source": [
        "pbinom(q = 5, size = 10, prob = 0.5, lower.tail = FALSE)"
      ],
      "metadata": {
        "colab": {
          "base_uri": "https://localhost:8080/",
          "height": 54
        },
        "id": "3FJOlzvhpAWu",
        "outputId": "30ba8291-a4a3-47f6-adcc-bad05c466c51"
      },
      "execution_count": 55,
      "outputs": [
        {
          "output_type": "display_data",
          "data": {
            "text/html": [
              "0.376953125"
            ],
            "text/markdown": "0.376953125",
            "text/latex": "0.376953125",
            "text/plain": [
              "[1] 0.3769531"
            ]
          },
          "metadata": {}
        }
      ]
    },
    {
      "cell_type": "markdown",
      "source": [
        "##### **Example 4**\n",
        "\n",
        "A factory makes 5000 light bulbs an hour, and each bulb has a 1% chance of being defective. What is the number of defective bulbs that we would rarely exceed—specifically, in 95% of the batches?\n",
        "\n"
      ],
      "metadata": {
        "id": "WjKvfRzyqL7a"
      }
    },
    {
      "cell_type": "markdown",
      "source": [
        "\n",
        "We can model the number of defects in each batch by a random variable $Y \\sim \\text{Binomial(n,p)}$ where $n = 5000$ and $p = 0.01$.\n",
        "\n",
        "The number of defective bulbs that we would not exceed in 95% of the batches is $95\\%$-quantile of `Binomial(n,p)`, which can be computed using the `qbinom()` function."
      ],
      "metadata": {
        "id": "lP1rZYWHqlr6"
      }
    },
    {
      "cell_type": "code",
      "source": [
        "qbinom(p = 0.95, size = 5000, prob = 0.01, lower.tail = TRUE)"
      ],
      "metadata": {
        "colab": {
          "base_uri": "https://localhost:8080/",
          "height": 54
        },
        "id": "97k3wI4ireJb",
        "outputId": "a72608b9-3cd0-4a50-d0f8-9e2a818b354f"
      },
      "execution_count": 56,
      "outputs": [
        {
          "output_type": "display_data",
          "data": {
            "text/html": [
              "62"
            ],
            "text/markdown": "62",
            "text/latex": "62",
            "text/plain": [
              "[1] 62"
            ]
          },
          "metadata": {}
        }
      ]
    },
    {
      "cell_type": "markdown",
      "source": [
        "#### **Exercise**\n",
        "\n",
        "A factory makes 10000 light bulbs an hour, and each bulb has a 5% chance of being defective.\n",
        "\n",
        "\n",
        "- What is the number of defective bulbs that we would rarely exceed—specifically, in 95% of the batches?\n",
        "- A quality control expert wants to answer the question. However, there is no built-in `qbinom()` function on his computer, so he uses a simulation-based approach to answer the question:\n",
        "  - Simulate $10^6$ random numbers from the corresponding Binomial distribution.\n",
        "  - Estimate the 95%-quantile using the sample data.  \n",
        "  - Compute the sample mean and sample variance and compare them to the theoretical values.\n",
        "\n",
        "\n",
        "\n",
        "\n",
        "\n",
        "\n"
      ],
      "metadata": {
        "id": "ckG-L1DsrtVi"
      }
    },
    {
      "cell_type": "code",
      "source": [],
      "metadata": {
        "id": "0f9cDf2KtJuB"
      },
      "execution_count": 57,
      "outputs": []
    },
    {
      "cell_type": "markdown",
      "source": [
        "<details>\n",
        "<summary>▶️ Click to show the solution</summary>\n",
        "\n",
        "```r\n",
        "print(\"The number of defective bulbs not exceeded in 95% of the batches\")\n",
        "qbinom(p = 0.95, size = 10000, prob = 0.05)\n",
        "\n",
        "print(\" Estimated number of defective bulbs not exceeded in 95% of the batches\")\n",
        "x = rbinom(n = 10^6, size = 10000, prob = 0.05)\n",
        "quantile(x, probs = 0.95)\n",
        "\n",
        "print(\"Estimated mean\")\n",
        "mean(x)\n",
        "print(\"Theoretical mean\")\n",
        "10000*0.05\n",
        "\n",
        "print(\"Estimated variance\")\n",
        "var(x)\n",
        "print(\"Theoretical variance\")\n",
        "10000*0.05*(1-0.05)\n",
        "\n",
        "```\n",
        "\n",
        "</details>"
      ],
      "metadata": {
        "id": "PxtYv9o1uSit"
      }
    },
    {
      "cell_type": "markdown",
      "source": [
        "### **Poisson Distribution**\n",
        "\n",
        "A Poisson random variable models the number of events occurring in a fixed interval of time or space, assuming the events occur **independently** and at a **constant average rate** $\\lambda > 0$.  \n",
        "\n",
        "$$\n",
        "Y \\sim \\text{Poisson}(\\lambda), \\quad\n",
        "P(Y=y) = \\frac{e^{-\\lambda} \\lambda^y}{y!}, \\quad y = 0,1,2,\\dots\n",
        "$$\n",
        "\n",
        "| Property             | Formula |\n",
        "|----------------------|---------|\n",
        "| **Support**          | $$y \\in \\{0,1,2,\\dots\\}$$ |\n",
        "| **PMF**              | $$P(Y = y) = \\frac{e^{-\\lambda} \\lambda^y}{y!}, \\quad y = 0,1,2,\\dots$$ |\n",
        "| **Expectation**      | $$\\mathbb{E}[Y] = \\lambda$$ |\n",
        "| **Variance**         | $$\\mathbb{V}(Y) = \\lambda$$ |\n",
        "\n",
        "\n",
        "\n",
        "\n"
      ],
      "metadata": {
        "id": "TyccMdnlv_Cz"
      }
    },
    {
      "cell_type": "markdown",
      "source": [
        "\n",
        "A key property of the Poisson distribution is that its **mean equals its variance**:\n",
        "\n",
        "$$\n",
        "\\mathbb{E}[Y] = \\mathrm{Var}(Y) = \\lambda\n",
        "$$\n",
        "\n",
        "This property makes it suitable for modelling situations where the average number of events is roughly equal to the variability in the number of events—for example, counting rare defects in a batch of products.  \n",
        "\n",
        "If the data show **overdispersion** (variance > mean) or **underdispersion** (variance < mean), the Poisson distribution may not be appropriate. In such cases, consider alternative distributions such as the **Negative Binomial** for overdispersed counts."
      ],
      "metadata": {
        "id": "RrVmeH6ExgCc"
      }
    },
    {
      "cell_type": "markdown",
      "source": [
        "\n",
        "#### **Poisson Distribution As The Limiting Behavior Of Binomial Distribution**\n",
        "The Poisson distribution can be seen as the limit of a Binomial distribution where the number of trials $n$ approaches infinity and the probability of success $p$ approaches 0, but the expected number of successes $\\lambda = n p$ remains finite:\n",
        "\n",
        "$$\n",
        "\\text{Binomial}(n, p) \\;\\; \\xrightarrow[n \\to \\infty, p \\to 0]{\\text{with } np = \\lambda} \\;\\; \\text{Poisson}(\\lambda)\n",
        "$$\n"
      ],
      "metadata": {
        "id": "7PsIjB0sxRra"
      }
    },
    {
      "cell_type": "markdown",
      "source": [
        "#### **Example**\n",
        "\n",
        "\n",
        "Suppose we want to model the number of customers arriving in one hour.  \n",
        "\n",
        "1. Divide the hour into $n$ very small intervals. In each interval, a customer either **arrives** (with probability $p$) or **does not arrive**.  \n",
        "2. Let $Y \\sim \\text{Binomial}(n, p)$ be the total number of arrivals in the hour.  \n",
        "3. If the intervals are very small, then $n$ is large and $p$ is small, while the expected number of arrivals remains finite:  \n",
        "\n",
        "$$\n",
        "\\lambda = n \\cdot p\n",
        "$$\n",
        "\n",
        "4. As $n \\to \\infty$ and $p \\to 0$ such that $np = \\lambda$ is constant, the Binomial distribution **approaches a Poisson distribution**:\n",
        "\n",
        "$$\n",
        "Y \\sim \\text{Binomial}(n, p) \\;\\;\\longrightarrow\\;\\; Y \\sim \\text{Poisson}(\\lambda)\n",
        "$$\n",
        "\n"
      ],
      "metadata": {
        "id": "cyQUiduyyPQC"
      }
    },
    {
      "cell_type": "markdown",
      "source": [
        "#### **R Quick Reference**\n",
        "\n",
        "`R` supports the following functions for computing distributional quantities and simulating from Poisson distributions:\n",
        "\n",
        "- `dpois(x, lambda, log = FALSE)` computes PMF of `Poisson(lambda)`;  \n",
        "- `ppois(q, lambda, lower.tail = TRUE, log.p = FALSE)` computes CDF of `Poisson(lambda)`;  \n",
        "- `qpois(p, lambda, lower.tail = TRUE, log.p = FALSE)` computes `p`-quantile of `Poisson(lambda)`;  \n",
        "- `rpois(n, lambda)` simulates `n` random numbers from `Poisson(lambda)`.\n",
        "\n",
        "Here:\n",
        "\n",
        "- `x`, `q`: Number of events.  \n",
        "- `lambda`: Expected number of events (mean rate).  \n",
        "- `log`: Whether or not to return log PMF.  \n",
        "- `lower.tail`: If `TRUE`, return $\\Pr(Y \\leq x)$; if `FALSE`, return $\\Pr(Y > x)$."
      ],
      "metadata": {
        "id": "OFU_HF2SwmlC"
      }
    },
    {
      "cell_type": "markdown",
      "source": [
        "#### **Exercises**\n",
        "\n",
        "The number of emails a server receives in an hour is modeled as a Poisson random variable with $\\lambda = 10$.\n"
      ],
      "metadata": {
        "id": "LkiTa47KyxhF"
      }
    },
    {
      "cell_type": "markdown",
      "source": [
        "\n",
        "##### **Exercise 1**\n",
        "\n",
        "Simulate the number of emails received in 10 separate hours.\n"
      ],
      "metadata": {
        "id": "FqT7qpoFy340"
      }
    },
    {
      "cell_type": "code",
      "source": [],
      "metadata": {
        "id": "MWvWuk_RzSnx"
      },
      "execution_count": 58,
      "outputs": []
    },
    {
      "cell_type": "markdown",
      "source": [
        "<details>\n",
        "<summary>▶️ Click to show the solution</summary>\n",
        "\n",
        "```r\n",
        "rpois(n = 10, lambda = 5)\n",
        "```\n",
        "\n",
        "</details>"
      ],
      "metadata": {
        "id": "ncnHg_JizUoa"
      }
    },
    {
      "cell_type": "markdown",
      "source": [
        "##### **Exercise 2**\n",
        "\n",
        "What is the probability that exactly 3 emails are received in one hour?"
      ],
      "metadata": {
        "id": "xC465J9czkub"
      }
    },
    {
      "cell_type": "code",
      "source": [],
      "metadata": {
        "id": "-68Sxqn-zp1L"
      },
      "execution_count": 59,
      "outputs": []
    },
    {
      "cell_type": "markdown",
      "source": [
        "<details>\n",
        "<summary>▶️ Click to show the solution</summary>\n",
        "These are equivalent solutions\n",
        "```r\n",
        "(5^3 * exp(-5)) / factorial(3)\n",
        "```\n",
        "\n",
        "```r\n",
        "dpois(x = 3, lambda = 5)\n",
        "```\n",
        "\n",
        "</details>"
      ],
      "metadata": {
        "id": "C9pXwX7IzqNZ"
      }
    },
    {
      "cell_type": "markdown",
      "source": [
        "##### **Exercise 3**\n",
        "Calculate the probability of receiving between 3 and 6 emails inclusive in an hour."
      ],
      "metadata": {
        "id": "_t66hTDR0KFx"
      }
    },
    {
      "cell_type": "code",
      "source": [],
      "metadata": {
        "id": "uBWp6nEG097P"
      },
      "execution_count": 60,
      "outputs": []
    },
    {
      "cell_type": "markdown",
      "source": [
        "<details>\n",
        "<summary>▶️ Click to show the solution</summary>\n",
        "These are equivalent solutions\n",
        "\n",
        "```r\n",
        "ppois(6, lambda = 5) - ppois(2, lambda = 5)\n",
        "```\n",
        "\n",
        "```r\n",
        "sum((5^(3:6) * exp(-5)) / factorial(3:6))\n",
        "```\n",
        "\n",
        "</details>"
      ],
      "metadata": {
        "id": "HCuc69TM0-sN"
      }
    },
    {
      "cell_type": "markdown",
      "source": [
        "##### **Exercise 4**\n",
        "\n",
        "Simulate random numbers from a Binomial random variable with parameters $n = 10^6$ and $p = 10^{-3}$. Compare the simulated distribution to the corresponding Poisson distribution with $\\lambda = np$ using overlapping histograms.\n",
        "\n",
        "**Hint**: Use `geom_histogram(position = \"identity\", aes(y = after_stat(density)), alpha = 0.5)`\n"
      ],
      "metadata": {
        "id": "KjlTZdQ516CZ"
      }
    },
    {
      "cell_type": "code",
      "source": [],
      "metadata": {
        "id": "wdRGKYT12meY"
      },
      "execution_count": 61,
      "outputs": []
    },
    {
      "cell_type": "markdown",
      "source": [
        "\n",
        "\n",
        "<details>\n",
        "<summary>▶️ Click to show the solution</summary>\n",
        "\n",
        "```r\n",
        "nSim = 10^6\n",
        "n = 10^6\n",
        "p = 10^-3\n",
        "binom = rbinom(nSim, size = n, prob = p)\n",
        "pois  = rpois(nSim, lambda = n*p)\n",
        "\n",
        "results  = data.frame(\n",
        "  value = c(binom, pois),\n",
        "  distribution = rep(c(\"Binomial\", \"Poisson\"), each = nSim)\n",
        ")\n",
        "\n",
        "ggplot(results, aes(x = value, fill = distribution)) +\n",
        "  geom_histogram(aes(y = after_stat(density)), position = \"identity\", alpha = 0.5, bins = 30) +\n",
        "  scale_fill_manual(values = c(\"red\", \"blue\")) +\n",
        "  labs(title = \"Binomial vs. Poisson Simulation\",\n",
        "       x = \"Number of Successes\",\n",
        "       y = \"Frequency\") +\n",
        "  theme_minimal()\n",
        "  ```\n",
        "</details>\n"
      ],
      "metadata": {
        "id": "8Rlgmvr03Pys"
      }
    },
    {
      "cell_type": "markdown",
      "source": [
        "## **Continuous Random Variables**\n",
        "\n",
        "Continuous random variables take on values over a continuum, which, as in the case of discrete variables may or may not be bounded. For continuous random variables events are defined as a subset of the sample space, i.e. $2<X<4$. The probability that a continuous random variable takes on a specific value is $0$."
      ],
      "metadata": {
        "id": "wgUCZ0mS3Z28"
      }
    },
    {
      "cell_type": "markdown",
      "source": [
        "### **Uniform Random Variables**"
      ],
      "metadata": {
        "id": "7kIPms_W3hFK"
      }
    },
    {
      "cell_type": "markdown",
      "source": [
        "A continuous uniform random variable has **equal likelihood**  of taking any value in a given interval \\([a, b]\\):  \n",
        "\n",
        "$$\n",
        "X \\sim \\text{Uniform}(a, b), \\quad f_X(x) =\n",
        "\\begin{cases}\n",
        "\\frac{1}{b-a}, & a \\le x \\le b \\\\\n",
        "0, & \\text{otherwise}\n",
        "\\end{cases}\n",
        "$$\n",
        "\n",
        "**Properties:**\n",
        "\n",
        "| Property             | Formula |\n",
        "|----------------------|---------|\n",
        "| **Support**          | $$x \\in [a, b]$$ |\n",
        "| **PDF**              | $$f_X(x) = \\frac{1}{b-a}$$ |\n",
        "| **CDF**              | $$F_X(x) = \\frac{x-a}{b-a}, \\quad a \\le x \\le b$$ |\n",
        "| **Expectation**      | $$\\mathbb{E}[X] = \\frac{a+b}{2}$$ |\n",
        "| **Variance**         | $$\\mathrm{Var}(X) = \\frac{(b-a)^2}{12}$$ |\n",
        "\n",
        "The continuous uniform distribution is often used to model random numbers with equal likelihood within an interval. However, the biggest application of the uniform random variable is probably in **random number simulation**.  \n",
        "\n",
        "Computers generate **pseudo-random numbers** from a uniform distribution because, from a uniform random variable, we can transform it into **almost any other distributions** using various sampling methods (e.g., inverse transform sampling). This makes the uniform distribution a fundamental building block for stochastic modelling."
      ],
      "metadata": {
        "id": "ZwV0TfEt33f1"
      }
    },
    {
      "cell_type": "markdown",
      "source": [
        "#### **Inverse Transform Sampling**\n",
        "\n",
        "Let $X$ be a continuous random variable with cumulative distribution function (CDF) $F_X(x)$, which is strictly increasing on its support.  Our goal is to generate random samples from $X$ using uniform random numbers.  \n",
        "\n",
        "The following algorithm called inverse transform sampling can be used to simulate random numbers from $X$:\n",
        "\n",
        "1. Generate $U \\sim \\text{Uniform}(0,1)$.  \n",
        "2. Compute $X = F_X^{-1}(U)$, where $F_X^{-1}$ is the inverse of the CDF.  \n",
        "\n",
        "\n",
        "By construction, $P(X \\le x) = P(F_X^{-1}(U) \\le x) = P(U \\le F_X(x)) = F_X(x)$.  \n",
        "\n",
        "Thus, $X$ generated this way has the desired distribution with CDF $F_X(x)$.  \n",
        "\n",
        "##### **Relationship Between CDF and Quantile Function**\n",
        "\n",
        "For a continuous random variable $X$ with positive PDF everywhere on its support:\n",
        "\n",
        "- The CDF is $F_X(x) = P(X \\le x)$  \n",
        "- The **quantile function** (inverse CDF) is $F_X^{-1}(p)$, which returns the value $x$ such that $P(X \\le x) = p$  \n",
        "\n",
        "In other words, for these continuous distributions, the quantile function and the CDF are inverses of each other:\n",
        "\n",
        "$$\n",
        "F_X(F_X^{-1}(p)) = p, \\quad F_X^{-1}(F_X(x)) = x\n",
        "$$\n",
        "\n",
        "This implies that we can use functions like `qunif`, `qnorm`, and `qexp` to compute inverse CDF."
      ],
      "metadata": {
        "id": "h--gN287PjXR"
      }
    },
    {
      "cell_type": "markdown",
      "source": [
        "#### **R Quick Reference**\n",
        "\n",
        "`R` supports the following functions for computing distributional quantities and simulating from uniform distributions:\n",
        "\n",
        "- `dunif(x, min = a, max = b)`: computes PDF of `Unif(a,b) at `x`  \n",
        "- `punif(q, min = a, max = b, lower.tail = TRUE)`: computes CDF of `Unif(a,b)` at `q`  \n",
        "- `qunif(p, min = a, max = b, lower.tail = TRUE)`:  computes `p`-quantile of `Unif(a,b)`\n",
        "- `runif(n, min = a, max = b)` – simulate `n` random numbers from `Unif(a,b)`\n",
        "\n",
        "Here:\n",
        "\n",
        "- `x`, `q`: point(s) to evaluate PDF/CDF or quantile  \n",
        "- `n`: number of random numbers to simulate  \n",
        "- `min`, `max`: lower and upper bounds of the uniform interval  (By default, `min = 0` and `max = 1`)\n",
        "- `lower.tail`: If `TRUE`, return $\\Pr(X \\leq x)$ where $X \\sim \\text{Unif(a,b)}$. If `FALSE`, return $\\Pr(X > x)$.\n",
        "\n",
        "**However, the equality sign does NOT matter here as** $\\Pr(X = x) = 0$ as $X$ is a continuous r.v.\n",
        "\n"
      ],
      "metadata": {
        "id": "cBDvJ6xY4vgN"
      }
    },
    {
      "cell_type": "markdown",
      "source": [
        "#### **Exercise**\n",
        "\n",
        "The exponential distribution `Exp(1)` has the CDF:\n",
        "\n",
        "$$\n",
        "F_X(x) = \\Pr(X \\leq x) = 1 - e^{-x}, \\, x \\geq 0.\n",
        "$$\n",
        "\n",
        "- Use the inverse transform sampling method to simulate `n` random numbers from `Exp(1)`.\n",
        "- In `R`, we can simulate `n` random numbers from `Exp(1)` using `rexp(n)`. Simulate `n` random numbers from `Exp(1)` then compare the two simulated distributions using overlapping histograms.\n",
        "\n",
        "**Hint**: Use `geom_histogram(position = \"identity\", aes(y = after_stat(density)), alpha = 0.5)`\n"
      ],
      "metadata": {
        "id": "wX1c4m48PVFM"
      }
    },
    {
      "cell_type": "code",
      "source": [],
      "metadata": {
        "id": "FiXVPegNSq6Z"
      },
      "execution_count": 62,
      "outputs": []
    },
    {
      "cell_type": "markdown",
      "source": [
        "\n",
        "\n",
        "<details>\n",
        "<summary>▶️ Click to show the solution</summary>\n",
        "We can simulate `Exp(1)` random numbers by:\n",
        "\n",
        "1. Generating uniform random numbers `U ~ Uniform(0,1)`.\n",
        "2. Applying the inverse CDF:\n",
        "\n",
        "$$\n",
        "X = F_X^{-1}(U) = -\\ln(1-U)\n",
        "$$\n",
        "\n",
        "```r\n",
        "n = 10000\n",
        "U = runif(n)\n",
        "X_its = -log(1 - U)\n",
        "X_rexp = rexp(n)\n",
        "\n",
        "data.frame(\n",
        "  value = c(X_its, X_rexp),\n",
        "  method = rep(c(\"its\", \"rexp\"), each = n)\n",
        ") %>%\n",
        "  ggplot(aes(x = value, fill = method)) +\n",
        "  geom_histogram(position = \"identity\", aes(y = after_stat(density)), alpha = 0.75)\n",
        "\n",
        "```\n",
        "\n",
        "</details>\n"
      ],
      "metadata": {
        "id": "ZYLstTq-SrYW"
      }
    },
    {
      "cell_type": "markdown",
      "source": [
        "### **Exponential Distribution**\n",
        "\n",
        "A continuous random variable `X` follows an exponential distribution with rate `λ > 0` if its PDF is:\n",
        "\n",
        "$$\n",
        "f_X(x) = \\lambda e^{-\\lambda x}, \\quad x \\ge 0\n",
        "$$\n",
        "\n",
        "\n",
        "| Property        | Formula        |\n",
        "|-----------------|----------------|\n",
        "| **Support**     |  $$x \\ge 0$$  |\n",
        "| **PDF**         |  $$f_X(x) = \\lambda e^{-\\lambda x}$$  |\n",
        "| **CDF**         |  $$F_X(x) = 1 - e^{-\\lambda x}$$  |\n",
        "| **Expectation** |  $$\\mathbb{E}[X] = 1/\\lambda$$  |\n",
        "| **Variance**    |  $$\\mathbb{V}(X) = 1/\\lambda^2$$  |\n",
        "\n",
        "\n",
        "The exponential distribution is often used to model **waiting times between independent events** that occur at a constant average rate.\n"
      ],
      "metadata": {
        "id": "qxBD6Y-pWCQQ"
      }
    },
    {
      "cell_type": "markdown",
      "source": [
        "#### **Memoryless Property**\n",
        "\n",
        "The exponential distribution is **memoryless**, which means that for `X ~ Exp(λ)`:\n",
        "\n",
        "$$\n",
        "\\Pr(X > s + t \\mid X > s) = \\Pr(X > t), \\quad s, t \\ge 0\n",
        "$$\n",
        "\n",
        "In words, the probability of waiting at least an additional `t` units of time does **not** depend on how much time has already elapsed.\n",
        "\n",
        "If you have already been waiting in a queue for some time, the memoryless property implies that your expected remaining wait is **the same** as if you had just arrived. This can feel like a worst-case scenario, since your past waiting does not reduce your future waiting time.\n",
        "\n"
      ],
      "metadata": {
        "id": "PL554ZC9XNcR"
      }
    },
    {
      "cell_type": "markdown",
      "source": [
        "#### **R Quick Reference**\n",
        "\n",
        "\n",
        "`R` supports the following functions for computing distributional quantities and simulating from exponential distributions:\n",
        "\n",
        "- `dexp(x, rate, log = FALSE)` – **compute** the PDF of `Exp(rate)`  \n",
        "- `pexp(q, rate, lower.tail = TRUE, log.p = FALSE)` – **compute** the CDF of `Exp(rate)`  \n",
        "- `qexp(p, rate, lower.tail = TRUE, log.p = FALSE)` – **compute** the quantile (inverse CDF) of `Exp(rate)`  \n",
        "- `rexp(n, rate)` – **simulate** `n` random numbers from `Exp(rate)`\n",
        "\n",
        "Here:\n",
        "\n",
        "- `x`, `q`: Value(s) at which PDF or CDF is evaluated  \n",
        "- `rate`: Rate parameter λ of the exponential distribution  \n",
        "- `p`: Probability for the quantile function  \n",
        "- `lower.tail`: If TRUE, returns P(X ≤ x); if FALSE, returns P(X > x)  \n"
      ],
      "metadata": {
        "id": "RGliwf-gXBDC"
      }
    },
    {
      "cell_type": "markdown",
      "source": [
        "#### **Exercises**\n"
      ],
      "metadata": {
        "id": "QrM6xN53Xl5M"
      }
    },
    {
      "cell_type": "markdown",
      "source": [
        "##### **Exercise 1**\n",
        "\n",
        "\n",
        "In a hypothetical scenario, the wait time for the CityDog ferry follows an exponential distribution with a mean of 15 minutes.  \n",
        "\n",
        "Compute the probability that a passenger’s wait time for the CityDog ferry is between 10 and 20 minutes.\n"
      ],
      "metadata": {
        "id": "N6i_OR0Sacn8"
      }
    },
    {
      "cell_type": "code",
      "source": [],
      "metadata": {
        "id": "KmqZoSNkbPyO"
      },
      "execution_count": 63,
      "outputs": []
    },
    {
      "cell_type": "markdown",
      "source": [
        "\n",
        "\n",
        "<details>\n",
        "<summary>▶️ Click to show the solution</summary>\n",
        "\n",
        "\n",
        "The mean wait time is 15 minutes, so the rate parameter is:\n",
        "\n",
        "$$\n",
        "\\lambda = \\frac{1}{\\text{mean}} = \\frac{1}{15}.\n",
        "$$\n",
        "\n",
        "We want to compute:\n",
        "\n",
        "$$\n",
        "\\begin{align}\n",
        "P(10 \\le X \\le 20) &= F_X(20) - F_X(10) \\\\ &= \\left(1 - e^{-\\lambda \\cdot 20}\\right) - \\left(1 - e^{-\\lambda \\cdot 10}\\right) \\\\&= e^{-\\lambda \\cdot 10} - e^{-\\lambda \\cdot 20}.\n",
        "\\end{align}\n",
        "$$\n",
        "\n",
        "The two solutions are equivalent:\n",
        "\n",
        "```r\n",
        "exp(-1/15*10) - exp(-1/15*20)\n",
        "```\n",
        "\n",
        "```r\n",
        "pexp(20, rate = 1/15) - pexp(10, rate = 1/15)\n",
        "```\n",
        "\n",
        "\n",
        "</details>\n"
      ],
      "metadata": {
        "id": "w4b1RbFSbz47"
      }
    },
    {
      "cell_type": "markdown",
      "source": [
        "##### **Exercise 2**\n",
        "\n",
        "Using the inverse transform method and the `qexp()` function, simulate `n` random wait times for passengers of the CityDog ferry (see Exercise 1). Visualise the simulated distribution using a histogram. Is it realistic?"
      ],
      "metadata": {
        "id": "NbJfPgMVcFaT"
      }
    },
    {
      "cell_type": "code",
      "source": [],
      "metadata": {
        "id": "4fCoSkajcPP0"
      },
      "execution_count": 64,
      "outputs": []
    },
    {
      "cell_type": "markdown",
      "source": [
        "\n",
        "\n",
        "<details>\n",
        "<summary>▶️ Click to show the solution</summary>\n",
        "\n",
        "\n",
        "```r\n",
        "n = 1000\n",
        "U = runif(n)\n",
        "X = qexp(U, rate = 1/15)\n",
        "X %>% hist()\n",
        "```\n",
        "\n",
        "</details>\n"
      ],
      "metadata": {
        "id": "3EWUyf27c_O3"
      }
    },
    {
      "cell_type": "markdown",
      "source": [
        "##### **Exercise 3**\n",
        "\n",
        "\n",
        "Suppose the waiting time (in hours) for a customer service call follows `Exp(lambda = 0.5)`.  Compute the probability that a customer waits more than 3 hours given that they have already waited 2 hours.  "
      ],
      "metadata": {
        "id": "9NcRpx3bXop-"
      }
    },
    {
      "cell_type": "code",
      "source": [],
      "metadata": {
        "id": "UDD6EwrgYDTn"
      },
      "execution_count": 65,
      "outputs": []
    },
    {
      "cell_type": "markdown",
      "source": [
        "\n",
        "\n",
        "<details>\n",
        "<summary>▶️ Click to show the solution</summary>\n",
        "\n",
        "Given $X \\sim \\text{Exp(0.5)}$, to calculate $\\Pr(X > 3| X > 2)$, we can use the conditional probability formula:\n",
        "\n",
        "$$\n",
        "\\Pr(X > 3| X > 2) =  \\frac{\\Pr(X > 3 \\text{ and } X > 2)}{\\Pr(X > 2)} = \\frac{\\Pr(X > 3)}{\\Pr(X > 2)}.\n",
        "$$\n",
        "\n",
        "```r\n",
        "pexp(q = 3, rate = 0.5, lower.tail = FALSE)/pexp(q = 2, rate = 0.5, lower.tail = FALSE)\n",
        "```\n",
        "However, as $X$ follows a exponential distribution, because of the memoryless property of exponential distributions, the probability that a customer waits more than a certain additional time does not depend on how long they have already been waiting.  Then\n",
        "\n",
        "$$\n",
        "\\Pr(X > 3| X > 2) = \\Pr(X > (3-2)) = \\Pr(X > 1).\n",
        "$$\n",
        "\n",
        "```r\n",
        "pexp(q = 1, rate = 0.5, lower.tail = FALSE)\n",
        "\n",
        "```\n",
        "\n",
        "</details>\n"
      ],
      "metadata": {
        "id": "ATx-qJU6YFJC"
      }
    },
    {
      "cell_type": "markdown",
      "source": [
        "### **Gaussian (Normal) Distribution**\n",
        "\n",
        "A Gaussian (or normal) distribution is a continuous distribution that models many natural phenomena. It is fully characterised by a mean ($\\mu$) and a standard deviation $(\\sigma)$ (or equivalently, a variance $(\\sigma^2)$).\n",
        "\n",
        "A random variable $X$ following a normal distribution with mean ($\\mu$) and a standard deviation $(\\sigma)$ is usually denoted as\n",
        "\n",
        "$$X \\sim \\mathcal{N}(\\mu, \\sigma^2),$$\n",
        "\n",
        "whose PDF is\n",
        "\n",
        "$$\n",
        "f(x) = \\frac{1}{\\sigma \\sqrt{2\\pi}} \\exp\\Big(-\\frac{(x-\\mu)^2}{2\\sigma^2}\\Big), \\quad x \\in \\mathbb{R}.\n",
        "$$\n",
        "\n",
        "- $\\mu$: mean - center of the distribution  \n",
        "- $\\sigma^2$: variance - spread of the distribution\n",
        "\n",
        "A Gaussian distribution is **bell-shaped and symmetric** around the mean.\n",
        "\n",
        "| Property        | Formula |\n",
        "|-----------------|---------|\n",
        "| Support         | $$x \\in \\mathbb{R}$$ |\n",
        "| PDF             | $$f(x) = \\frac{1}{\\sigma \\sqrt{2\\pi}} \\exp\\Big(-\\frac{(x-\\mu)^2}{2\\sigma^2}\\Big)$$ |\n",
        "| CDF             | $$F(x) = P(X \\le x) = \\frac{1}{2} \\Big[ 1 + \\text{erf} \\Big( \\frac{x-\\mu}{\\sigma \\sqrt{2}} \\Big) \\Big]$$ |\n",
        "| Expectation     | $$\\mathbb{E}[X] = \\mu$$ |\n",
        "| Variance        | $$\\mathbb{V}[X] = \\sigma^2$$ |\n",
        "\n",
        "\n"
      ],
      "metadata": {
        "id": "2QMyLW_geMmQ"
      }
    },
    {
      "cell_type": "markdown",
      "source": [
        "#### **Linear Transformation of Gaussian Random Variables**\n",
        "Suppose  \n",
        "$$\n",
        "X \\sim \\mathcal{N}(\\mu, \\sigma^2),\n",
        "$$  \n",
        "\n",
        "and we define a new random variable:  \n",
        "$$\n",
        "Y = aX + b,\n",
        "$$  \n",
        "where **a, b ∈ ℝ**, and **a ≠ 0**. It is possible to show that  \n",
        "$$\n",
        "Y \\sim \\mathcal{N}(a\\mu + b,\\; a^2\\sigma^2).\n",
        "$$  \n",
        "\n",
        "This implies that linear transformations of Gaussian random variables are still Gaussian.\n",
        "\n",
        "\n",
        "| Transformation         | Mean of Y            | Variance of Y       | Std. Dev of Y |\n",
        "|------------------------|----------------------|---------------------|---------------|\n",
        "| $$Y = X$$              | $$\\mu$$              | $$\\sigma^2$$        | $$\\sigma$$    |\n",
        "| $$Y = aX$$             | $$a\\mu$$             | $$a^2\\sigma^2$$     | $$|a|\\sigma$$ |\n",
        "| $$Y = X + b$$          | $$\\mu + b$$          | $$\\sigma^2$$        | $$\\sigma$$    |\n",
        "| $$Y = aX + b$$         | $$a\\mu + b$$         | $$a^2\\sigma^2$$     | $$|a|\\sigma$$ |\n"
      ],
      "metadata": {
        "id": "GmZS-Fnph1LI"
      }
    },
    {
      "cell_type": "markdown",
      "source": [
        "#### **R Quick Reference**\n",
        "\n",
        "`R` supports the following functions for computing distributional quantities and simulating from Gaussian distributions:\n",
        "\n",
        "\n",
        "- `dnorm(x, mean, sd, log=FALSE)`: computes PDF of `N(mean, sd)` at $x$.\n",
        "- `pnorm(q, mean, sd, lower.tail=TRUE, log.p=FALSE)`: computes CDF of `N(mean, sd)` at $q$\n",
        "- `qnorm(p, mean, sd, lower.tail=TRUE, log.p=FALSE)` → `p`-quantile of `N(mean, sd)`\n",
        "- `rnorm(n, mean, sd)` → simulate `n` random numbers from `N(mean, sd)`"
      ],
      "metadata": {
        "id": "o2N8mr_shFs0"
      }
    },
    {
      "cell_type": "markdown",
      "source": [
        "#### **The Z Statistical Table**\n",
        "\n",
        "\n",
        "The Z statistical table (or *standard normal table*) lists values of the cumulative distribution function (CDF) for the standard normal distribution $Z$,  \n",
        "$$\n",
        "Z \\sim \\mathcal{N}(0, 1),\n",
        "$$  \n",
        "\n",
        "which can be created by standardising any Gaussian random variables.\n",
        "\n",
        "$$\n",
        "Z = \\frac{X - \\mu}{\\sigma}.\n",
        "$$  \n",
        "\n",
        "\n",
        "Each entry in the standard normal table gives a probability of the form:\n",
        "$$\n",
        "P(Z \\leq z),\n",
        "$$\n",
        "for a given $z$. In other words, it tells us the area under the standard normal curve to the left of \\(z\\).\n",
        "\n"
      ],
      "metadata": {
        "id": "PsNci3y6lgNI"
      }
    },
    {
      "cell_type": "code",
      "source": [
        "generateZTable()"
      ],
      "metadata": {
        "colab": {
          "base_uri": "https://localhost:8080/",
          "height": 1000
        },
        "id": "-ousdMNTn4Ht",
        "outputId": "38d999b8-75d0-4ca7-b166-e69b7f0cf94d"
      },
      "execution_count": 66,
      "outputs": [
        {
          "output_type": "display_data",
          "data": {
            "text/plain": [
              "\n",
              "\n",
              "|     |   0.00|   0.01|   0.02|   0.03|   0.04|   0.05|   0.06|   0.07|   0.08|   0.09|\n",
              "|:----|------:|------:|------:|------:|------:|------:|------:|------:|------:|------:|\n",
              "|-3.4 | 0.0003| 0.0003| 0.0004| 0.0004| 0.0004| 0.0004| 0.0004| 0.0004| 0.0005| 0.0005|\n",
              "|-3.3 | 0.0005| 0.0005| 0.0005| 0.0005| 0.0006| 0.0006| 0.0006| 0.0006| 0.0006| 0.0007|\n",
              "|-3.2 | 0.0007| 0.0007| 0.0007| 0.0008| 0.0008| 0.0008| 0.0008| 0.0009| 0.0009| 0.0009|\n",
              "|-3.1 | 0.0010| 0.0010| 0.0010| 0.0011| 0.0011| 0.0011| 0.0012| 0.0012| 0.0013| 0.0013|\n",
              "|-3.0 | 0.0013| 0.0014| 0.0014| 0.0015| 0.0015| 0.0016| 0.0016| 0.0017| 0.0018| 0.0018|\n",
              "|-2.9 | 0.0019| 0.0019| 0.0020| 0.0021| 0.0021| 0.0022| 0.0023| 0.0023| 0.0024| 0.0025|\n",
              "|-2.8 | 0.0026| 0.0026| 0.0027| 0.0028| 0.0029| 0.0030| 0.0031| 0.0032| 0.0033| 0.0034|\n",
              "|-2.7 | 0.0035| 0.0036| 0.0037| 0.0038| 0.0039| 0.0040| 0.0041| 0.0043| 0.0044| 0.0045|\n",
              "|-2.6 | 0.0047| 0.0048| 0.0049| 0.0051| 0.0052| 0.0054| 0.0055| 0.0057| 0.0059| 0.0060|\n",
              "|-2.5 | 0.0062| 0.0064| 0.0066| 0.0068| 0.0069| 0.0071| 0.0073| 0.0075| 0.0078| 0.0080|\n",
              "|-2.4 | 0.0082| 0.0084| 0.0087| 0.0089| 0.0091| 0.0094| 0.0096| 0.0099| 0.0102| 0.0104|\n",
              "|-2.3 | 0.0107| 0.0110| 0.0113| 0.0116| 0.0119| 0.0122| 0.0125| 0.0129| 0.0132| 0.0136|\n",
              "|-2.2 | 0.0139| 0.0143| 0.0146| 0.0150| 0.0154| 0.0158| 0.0162| 0.0166| 0.0170| 0.0174|\n",
              "|-2.1 | 0.0179| 0.0183| 0.0188| 0.0192| 0.0197| 0.0202| 0.0207| 0.0212| 0.0217| 0.0222|\n",
              "|-2.0 | 0.0228| 0.0233| 0.0239| 0.0244| 0.0250| 0.0256| 0.0262| 0.0268| 0.0274| 0.0281|\n",
              "|-1.9 | 0.0287| 0.0294| 0.0301| 0.0307| 0.0314| 0.0322| 0.0329| 0.0336| 0.0344| 0.0351|\n",
              "|-1.8 | 0.0359| 0.0367| 0.0375| 0.0384| 0.0392| 0.0401| 0.0409| 0.0418| 0.0427| 0.0436|\n",
              "|-1.7 | 0.0446| 0.0455| 0.0465| 0.0475| 0.0485| 0.0495| 0.0505| 0.0516| 0.0526| 0.0537|\n",
              "|-1.6 | 0.0548| 0.0559| 0.0571| 0.0582| 0.0594| 0.0606| 0.0618| 0.0630| 0.0643| 0.0655|\n",
              "|-1.5 | 0.0668| 0.0681| 0.0694| 0.0708| 0.0721| 0.0735| 0.0749| 0.0764| 0.0778| 0.0793|\n",
              "|-1.4 | 0.0808| 0.0823| 0.0838| 0.0853| 0.0869| 0.0885| 0.0901| 0.0918| 0.0934| 0.0951|\n",
              "|-1.3 | 0.0968| 0.0985| 0.1003| 0.1020| 0.1038| 0.1056| 0.1075| 0.1093| 0.1112| 0.1131|\n",
              "|-1.2 | 0.1151| 0.1170| 0.1190| 0.1210| 0.1230| 0.1251| 0.1271| 0.1292| 0.1314| 0.1335|\n",
              "|-1.1 | 0.1357| 0.1379| 0.1401| 0.1423| 0.1446| 0.1469| 0.1492| 0.1515| 0.1539| 0.1562|\n",
              "|-1.0 | 0.1587| 0.1611| 0.1635| 0.1660| 0.1685| 0.1711| 0.1736| 0.1762| 0.1788| 0.1814|\n",
              "|-0.9 | 0.1841| 0.1867| 0.1894| 0.1922| 0.1949| 0.1977| 0.2005| 0.2033| 0.2061| 0.2090|\n",
              "|-0.8 | 0.2119| 0.2148| 0.2177| 0.2206| 0.2236| 0.2266| 0.2296| 0.2327| 0.2358| 0.2389|\n",
              "|-0.7 | 0.2420| 0.2451| 0.2483| 0.2514| 0.2546| 0.2578| 0.2611| 0.2643| 0.2676| 0.2709|\n",
              "|-0.6 | 0.2743| 0.2776| 0.2810| 0.2843| 0.2877| 0.2912| 0.2946| 0.2981| 0.3015| 0.3050|\n",
              "|-0.5 | 0.3085| 0.3121| 0.3156| 0.3192| 0.3228| 0.3264| 0.3300| 0.3336| 0.3372| 0.3409|\n",
              "|-0.4 | 0.3446| 0.3483| 0.3520| 0.3557| 0.3594| 0.3632| 0.3669| 0.3707| 0.3745| 0.3783|\n",
              "|-0.3 | 0.3821| 0.3859| 0.3897| 0.3936| 0.3974| 0.4013| 0.4052| 0.4090| 0.4129| 0.4168|\n",
              "|-0.2 | 0.4207| 0.4247| 0.4286| 0.4325| 0.4364| 0.4404| 0.4443| 0.4483| 0.4522| 0.4562|\n",
              "|-0.1 | 0.4602| 0.4641| 0.4681| 0.4721| 0.4761| 0.4801| 0.4840| 0.4880| 0.4920| 0.4960|\n",
              "|0.0  | 0.5000| 0.5040| 0.5080| 0.5120| 0.5160| 0.5199| 0.5239| 0.5279| 0.5319| 0.5359|\n",
              "|0.1  | 0.5398| 0.5438| 0.5478| 0.5517| 0.5557| 0.5596| 0.5636| 0.5675| 0.5714| 0.5753|\n",
              "|0.2  | 0.5793| 0.5832| 0.5871| 0.5910| 0.5948| 0.5987| 0.6026| 0.6064| 0.6103| 0.6141|\n",
              "|0.3  | 0.6179| 0.6217| 0.6255| 0.6293| 0.6331| 0.6368| 0.6406| 0.6443| 0.6480| 0.6517|\n",
              "|0.4  | 0.6554| 0.6591| 0.6628| 0.6664| 0.6700| 0.6736| 0.6772| 0.6808| 0.6844| 0.6879|\n",
              "|0.5  | 0.6915| 0.6950| 0.6985| 0.7019| 0.7054| 0.7088| 0.7123| 0.7157| 0.7190| 0.7224|\n",
              "|0.6  | 0.7257| 0.7291| 0.7324| 0.7357| 0.7389| 0.7422| 0.7454| 0.7486| 0.7517| 0.7549|\n",
              "|0.7  | 0.7580| 0.7611| 0.7642| 0.7673| 0.7704| 0.7734| 0.7764| 0.7794| 0.7823| 0.7852|\n",
              "|0.8  | 0.7881| 0.7910| 0.7939| 0.7967| 0.7995| 0.8023| 0.8051| 0.8078| 0.8106| 0.8133|\n",
              "|0.9  | 0.8159| 0.8186| 0.8212| 0.8238| 0.8264| 0.8289| 0.8315| 0.8340| 0.8365| 0.8389|\n",
              "|1.0  | 0.8413| 0.8438| 0.8461| 0.8485| 0.8508| 0.8531| 0.8554| 0.8577| 0.8599| 0.8621|\n",
              "|1.1  | 0.8643| 0.8665| 0.8686| 0.8708| 0.8729| 0.8749| 0.8770| 0.8790| 0.8810| 0.8830|\n",
              "|1.2  | 0.8849| 0.8869| 0.8888| 0.8907| 0.8925| 0.8944| 0.8962| 0.8980| 0.8997| 0.9015|\n",
              "|1.3  | 0.9032| 0.9049| 0.9066| 0.9082| 0.9099| 0.9115| 0.9131| 0.9147| 0.9162| 0.9177|\n",
              "|1.4  | 0.9192| 0.9207| 0.9222| 0.9236| 0.9251| 0.9265| 0.9279| 0.9292| 0.9306| 0.9319|\n",
              "|1.5  | 0.9332| 0.9345| 0.9357| 0.9370| 0.9382| 0.9394| 0.9406| 0.9418| 0.9429| 0.9441|\n",
              "|1.6  | 0.9452| 0.9463| 0.9474| 0.9484| 0.9495| 0.9505| 0.9515| 0.9525| 0.9535| 0.9545|\n",
              "|1.7  | 0.9554| 0.9564| 0.9573| 0.9582| 0.9591| 0.9599| 0.9608| 0.9616| 0.9625| 0.9633|\n",
              "|1.8  | 0.9641| 0.9649| 0.9656| 0.9664| 0.9671| 0.9678| 0.9686| 0.9693| 0.9699| 0.9706|\n",
              "|1.9  | 0.9713| 0.9719| 0.9726| 0.9732| 0.9738| 0.9744| 0.9750| 0.9756| 0.9761| 0.9767|\n",
              "|2.0  | 0.9772| 0.9778| 0.9783| 0.9788| 0.9793| 0.9798| 0.9803| 0.9808| 0.9812| 0.9817|\n",
              "|2.1  | 0.9821| 0.9826| 0.9830| 0.9834| 0.9838| 0.9842| 0.9846| 0.9850| 0.9854| 0.9857|\n",
              "|2.2  | 0.9861| 0.9864| 0.9868| 0.9871| 0.9875| 0.9878| 0.9881| 0.9884| 0.9887| 0.9890|\n",
              "|2.3  | 0.9893| 0.9896| 0.9898| 0.9901| 0.9904| 0.9906| 0.9909| 0.9911| 0.9913| 0.9916|\n",
              "|2.4  | 0.9918| 0.9920| 0.9922| 0.9925| 0.9927| 0.9929| 0.9931| 0.9932| 0.9934| 0.9936|\n",
              "|2.5  | 0.9938| 0.9940| 0.9941| 0.9943| 0.9945| 0.9946| 0.9948| 0.9949| 0.9951| 0.9952|\n",
              "|2.6  | 0.9953| 0.9955| 0.9956| 0.9957| 0.9959| 0.9960| 0.9961| 0.9962| 0.9963| 0.9964|\n",
              "|2.7  | 0.9965| 0.9966| 0.9967| 0.9968| 0.9969| 0.9970| 0.9971| 0.9972| 0.9973| 0.9974|\n",
              "|2.8  | 0.9974| 0.9975| 0.9976| 0.9977| 0.9977| 0.9978| 0.9979| 0.9979| 0.9980| 0.9981|\n",
              "|2.9  | 0.9981| 0.9982| 0.9982| 0.9983| 0.9984| 0.9984| 0.9985| 0.9985| 0.9986| 0.9986|\n",
              "|3.0  | 0.9987| 0.9987| 0.9987| 0.9988| 0.9988| 0.9989| 0.9989| 0.9989| 0.9990| 0.9990|\n",
              "|3.1  | 0.9990| 0.9991| 0.9991| 0.9991| 0.9992| 0.9992| 0.9992| 0.9992| 0.9993| 0.9993|\n",
              "|3.2  | 0.9993| 0.9993| 0.9994| 0.9994| 0.9994| 0.9994| 0.9994| 0.9995| 0.9995| 0.9995|\n",
              "|3.3  | 0.9995| 0.9995| 0.9995| 0.9996| 0.9996| 0.9996| 0.9996| 0.9996| 0.9996| 0.9997|\n",
              "|3.4  | 0.9997| 0.9997| 0.9997| 0.9997| 0.9997| 0.9997| 0.9997| 0.9997| 0.9997| 0.9998|"
            ]
          },
          "metadata": {}
        }
      ]
    },
    {
      "cell_type": "markdown",
      "source": [
        "\n",
        "##### **Example**\n",
        "\n",
        "Suppose $X \\sim \\mathcal{N}(100, 15^2)$. What is $\\Pr(X \\leq 120)$?\n",
        "Notice that\n",
        "$$\n",
        "\\begin{align}\n",
        "  \\Pr(X \\leq 120) &= \\Pr(\\frac{X - 100}{15} \\leq \\frac{120 - 100}{15}) \\\\\n",
        "  &= \\Pr(Z > 1.33)\n",
        "\\end{align}\n",
        "$$\n",
        "   $$\n",
        "   Z = \\frac{120 - 100}{15} = \\frac{20}{15} = 1.33.\n",
        "   $$\n",
        "Look up $z = 1.33$ in the Z-table:\n",
        "   $$\n",
        "   P(Z \\leq 1.33) \\approx 0.9082.\n",
        "   $$\n",
        "Therefore:\n",
        "   $$\n",
        "   P(X \\leq 120) \\approx 0.9082.\n",
        "   $$"
      ],
      "metadata": {
        "id": "BO83ssPCn6IX"
      }
    },
    {
      "cell_type": "code",
      "source": [
        "#By default, pnorm() uses mean = 0 and sd = 1, i.e., standard Gaussian\n",
        "pnorm(1.33)\n",
        "pnorm(120, mean = 100, sd = 15)\n",
        "#You may see a bit different result due to round-off error"
      ],
      "metadata": {
        "colab": {
          "base_uri": "https://localhost:8080/",
          "height": 71
        },
        "id": "65TEHV-poVFV",
        "outputId": "2a72d3f0-8fd5-456b-cfe9-a787c3dd309f"
      },
      "execution_count": 73,
      "outputs": [
        {
          "output_type": "display_data",
          "data": {
            "text/html": [
              "0.908240864349719"
            ],
            "text/markdown": "0.908240864349719",
            "text/latex": "0.908240864349719",
            "text/plain": [
              "[1] 0.9082409"
            ]
          },
          "metadata": {}
        },
        {
          "output_type": "display_data",
          "data": {
            "text/html": [
              "0.908788780274132"
            ],
            "text/markdown": "0.908788780274132",
            "text/latex": "0.908788780274132",
            "text/plain": [
              "[1] 0.9087888"
            ]
          },
          "metadata": {}
        }
      ]
    },
    {
      "cell_type": "code",
      "source": [
        "\n",
        "img = readPNG(\"figures/standard_Gaus.png\")\n",
        "grid.raster(img)"
      ],
      "metadata": {
        "colab": {
          "base_uri": "https://localhost:8080/",
          "height": 457
        },
        "id": "_HmIAhZ7nQ6U",
        "outputId": "dc7df100-7b5b-4e59-914e-f049846fb72a"
      },
      "execution_count": 71,
      "outputs": [
        {
          "output_type": "display_data",
          "data": {
            "text/plain": [
              "plot without title"
            ],
            "image/png": "[encoded data removed]"
          },
          "metadata": {
            "image/png": {
              "width": 420,
              "height": 420
            }
          }
        }
      ]
    },
    {
      "cell_type": "markdown",
      "source": [
        "#### **Exercise**"
      ],
      "metadata": {
        "id": "WWewSjStik1J"
      }
    },
    {
      "cell_type": "markdown",
      "source": [
        "##### **Exercise 1**\n",
        "\n",
        "\n",
        "The weight of a 500 g package of mince follows a Gaussian probability distribution with a mean of 500 g and a standard deviation of 50 g. Compute the probability that a randomly selected package of mince will weigh:\n",
        "\n",
        "- More than 525 g\n",
        "- Less that 450 g\n",
        "- Between 490 g and 510 g"
      ],
      "metadata": {
        "id": "uV8dC30xjgN5"
      }
    },
    {
      "cell_type": "code",
      "source": [],
      "metadata": {
        "id": "mllUoj1Ii8hw"
      },
      "execution_count": 68,
      "outputs": []
    },
    {
      "cell_type": "markdown",
      "source": [
        "\n",
        "\n",
        "<details>\n",
        "<summary>▶️ Click to show the solution</summary>\n",
        "\n",
        "\n",
        "```r\n",
        "print(\"Pr(More than 525 g)\")\n",
        "pnorm(525, mean = 500, sd = 50, lower.tail = F)\n",
        "print(\"Pr(Less that 450 g)\")\n",
        "pnorm(450, mean = 500, sd = 50, lower.tail = T)\n",
        "print(\"Pr(Between 490 g and 510 g)\")\n",
        "pnorm(510, mean = 500, sd = 50, lower.tail = T) - pnorm(490, mean = 500, sd = 50, lower.tail = T)\n",
        "```\n",
        "\n",
        "</details>\n"
      ],
      "metadata": {
        "id": "69zbBsvCjoKP"
      }
    },
    {
      "cell_type": "markdown",
      "source": [
        "##### **Exercise 2**\n",
        "\n",
        "Let  \n",
        "$$\n",
        "X \\sim \\mathcal{N}(5,\\,2^2),\n",
        "$$\n",
        "and define the linear transformation\n",
        "$$\n",
        "Y = 3X - 2.\n",
        "$$\n",
        "\n",
        "- Derive the distribution of $Y$.\n",
        "- Compute $\\Pr(Y > 10)$ using 1, `pnorm()` function; 2, the statistical table.\n",
        "- Find the *90th percentile* of $Y$.\n",
        "- Simulate `n` draws from $Y$.\n",
        "\n",
        "\n"
      ],
      "metadata": {
        "id": "d1lRMIOUjvjq"
      }
    },
    {
      "cell_type": "code",
      "source": [],
      "metadata": {
        "id": "48i3c-xwkN8e"
      },
      "execution_count": 69,
      "outputs": []
    },
    {
      "cell_type": "markdown",
      "source": [
        "\n",
        "\n",
        "<details>\n",
        "<summary>▶️ Click to show the solution</summary>\n",
        "\n",
        "\n",
        "\n",
        "- Distribution of $Y$\n",
        "   $$\n",
        "   X \\sim \\mathcal{N}(5,\\,4),\\quad Y = 3X - 2\n",
        "   $$\n",
        "   $$\n",
        "   \\mu_Y = 3\\cdot 5 - 2 = 13,\\qquad \\sigma_Y^2 = 3^2 \\cdot 4 = 36\n",
        "   $$\n",
        "   $$\n",
        "   \\boxed{\\,Y \\sim \\mathcal{N}(13,\\,36)\\,}\n",
        "   $$\n",
        "\n",
        "- $\\Pr(Y > 10)$\n",
        "\n",
        "We can compute this probability using the `pnorm()` function.\n",
        "```r\n",
        "pnorm(10, mean = 13, sd = 6, lower.tail = FALSE)\n",
        "# 0.6914625\n",
        "```\n",
        "\n",
        "Another option is to use the statistical table.\n",
        "\n",
        "$$z = \\frac{10 - 13}{6} = -0.5$$\n",
        "\n",
        "Look up for $z = -0.5$, we have $\\Pr(Z \\leq -0.5) = 0.6915$. As a result,\n",
        "\n",
        "$$\\begin{align}\n",
        "\\Pr(Y > 10) &= \\Pr(Z > -0.5) \\\\\n",
        "&= 1 - \\Pr(Z \\leq -0.5)\\\\\n",
        "&= 1 - 0.3085 \\\\\n",
        "&= 0.6915\n",
        "\\end{align}$$\n",
        "\n",
        "- 90th percentile of $Y$\n",
        "\n",
        "```r\n",
        "qnorm(0.9, mean = 13, sd = 6, lower.tail = FALSE)\n",
        "```\n",
        "- Simulate `n` random numbers from $Y$\n",
        "\n",
        "```r\n",
        "n = 1000\n",
        "rnorm(n, mean = 13, sd = 6, lower.tail = FALSE)\n",
        "```\n",
        "\n",
        "</details>\n",
        "\n"
      ],
      "metadata": {
        "id": "qR9zfJankOOc"
      }
    },
    {
      "cell_type": "markdown",
      "source": [
        "## **Workshop Questions**"
      ],
      "metadata": {
        "id": "0aKRggaKqYEM"
      }
    },
    {
      "cell_type": "markdown",
      "source": [
        "### **Question 1**\n",
        "\n",
        "A factory produces 10,000 light bulbs per hour, with each bulb having a 0.05% chance of being defective. Defects occur independently, and each batch of bulbs (produced each hour) is independent of other batches.\n",
        "\n",
        "A quality control team checks each batch hourly. A batch passes the test if it contains at most 10 defective bulbs; otherwise, the batch fails.\n",
        "Consider a year with 365 days, and assume 24 production hours per day.\n",
        "\n"
      ],
      "metadata": {
        "id": "gOFpuVrYqaTF"
      }
    },
    {
      "cell_type": "markdown",
      "source": [
        "\n",
        "#### **Question 1.1**\n",
        "\n",
        "Let $Y$ be the number of batches that fail in one year. Determine the distribution of $Y$ and its mean and variance.\n"
      ],
      "metadata": {
        "id": "Wo4mS5hS0Y5m"
      }
    },
    {
      "cell_type": "code",
      "source": [],
      "metadata": {
        "id": "r4e5oaTft8Cs"
      },
      "execution_count": null,
      "outputs": []
    },
    {
      "cell_type": "markdown",
      "source": [
        "\n",
        "\n",
        "<details>\n",
        "<summary>▶️ Click to show the solution</summary>\n",
        "\n",
        "\n",
        "The number of defective bulbs in a batch can be modelled using $X\\sim $`Binomial(n = 10000, p = 0.0005)`.\n",
        "\n",
        "The test outcome of each batch can be modelled using a Bernoulli trial with probability of success $p_{test}$ where\n",
        "$$p_{test}  = \\Pr(X > 10)$$\n",
        "\n",
        "```r\n",
        "p_test = pbinom(10, size = 10000, prob = 0.0005, lower.tail = FALSE)\n",
        "# 0.01367261\n",
        "```\n",
        "\n",
        "The number of batches in a year is $365 \\times 24 = 8760$. The number of **FAILED** outcomes in a year can be modelled using $Y \\sim$ `Binomial(n = 8760, p = p_test)`, whose mean and variance are `8760*0.01367261` and `8760*0.01367261*(1-0.01367261)`, respectively.\n",
        "\n",
        "</details>\n",
        "\n"
      ],
      "metadata": {
        "id": "VS7WsBF7yHk-"
      }
    },
    {
      "cell_type": "markdown",
      "source": [
        "\n",
        "#### **Question 1.2**\n",
        "Calculate the exact probability at most 125 batches fail in the year."
      ],
      "metadata": {
        "id": "Wny2HKYFzO0S"
      }
    },
    {
      "cell_type": "code",
      "source": [],
      "metadata": {
        "id": "Ta4JXCfqzVjh"
      },
      "execution_count": null,
      "outputs": []
    },
    {
      "cell_type": "markdown",
      "source": [
        "\n",
        "\n",
        "<details>\n",
        "<summary>▶️ Click to show the solution</summary>\n",
        "\n",
        "The probability of failing at most 125 times a year can then be computed using the `pbinom()` function:\n",
        "\n",
        "```r\n",
        "pbinom(125, size = 8760, prob = 0.01367261)\n",
        "# 0.704624\n",
        "```\n",
        "\n",
        "</details>\n",
        "\n"
      ],
      "metadata": {
        "id": "f5GqEvStzack"
      }
    },
    {
      "cell_type": "markdown",
      "source": [
        "#### **Question 1.3**\n",
        "Use a Poisson approximation to approximate the previous probability. Compare the results."
      ],
      "metadata": {
        "id": "P3rV_Vu6zZJK"
      }
    },
    {
      "cell_type": "code",
      "source": [],
      "metadata": {
        "id": "UR_xyyjwzqof"
      },
      "execution_count": null,
      "outputs": []
    },
    {
      "cell_type": "markdown",
      "source": [
        "<details>\n",
        "<summary>▶️ Click to show the solution</summary>\n",
        "\n",
        "We can also approximate `Binomial(n = 8760, p = p_test)` with `Poisson(n*p = 119.7721)`. As a result, the previous probability can be approximated using the `ppois()` function:\n",
        "\n",
        "```r\n",
        "ppois(125, lambda = 119.7721)\n",
        "# 0.7034725\n",
        "```\n",
        "</details>\n"
      ],
      "metadata": {
        "id": "8pwS2AQuzq7t"
      }
    },
    {
      "cell_type": "markdown",
      "source": [
        "#### **Question 1.4**\n",
        "Generate `n` sample from the exact and approximate distributions. Comparing the simulated distributions using overlapping histograms via `ggplot()`.\n",
        "\n",
        "**Hint**: Use `geom_histogram(position = \"identity\", aes(y = after_stat(density)), alpha = 0.5)`"
      ],
      "metadata": {
        "id": "3FRo1E8PzmPt"
      }
    },
    {
      "cell_type": "code",
      "source": [],
      "metadata": {
        "id": "ZygJbt3g0dVg"
      },
      "execution_count": null,
      "outputs": []
    },
    {
      "cell_type": "markdown",
      "source": [
        "\n",
        "\n",
        "<details>\n",
        "<summary>▶️ Click to show the solution</summary>\n",
        "\n",
        "```r\n",
        "\n",
        "n = 10^6\n",
        "Y_binom = rbinom(n, size = 8760, prob = 0.01367261)\n",
        "Y_pois = rpois(n, lambda = 119.7721)\n",
        "\n",
        "results  = data.frame(\n",
        "  Y = c(Y_binom, Y_pois),\n",
        "  Distribution = rep(c(\"Binomial Exact\", \"Poisson Approx\"), each = n)\n",
        ")\n",
        "\n",
        "ggplot(results, aes(x = Y, fill = Distribution)) +\n",
        "  geom_histogram(position = \"identity\", aes(y = after_stat(density)),\n",
        "                 alpha = 0.5, bins = 30, color = \"black\") +\n",
        "  labs(title = \"Comparison of Exact Binomial vs Poisson Approximation\",\n",
        "       x = \"Number of Failed Batches\",\n",
        "       y = \"Density\") +\n",
        "  theme_minimal()\n",
        "\n",
        "```\n",
        "\n",
        "</details>"
      ],
      "metadata": {
        "id": "ieUQX_eOw0kP"
      }
    },
    {
      "cell_type": "markdown",
      "source": [
        "### **Question 2**\n",
        "\n",
        "A factory produces metal rods that are supposed to have a length of 50 cm. Due to variations in the manufacturing process, the actual lengths of the rods are modeled as independent random variables:\n",
        "\n",
        "$$\n",
        "L_i \\sim \\mathcal{N}(\\mu = 50, \\sigma = 0.2), \\quad i = 1, 2, \\dots, n\n",
        "$$\n",
        "\n",
        "where $\\mu$ is the target length in cm, and $\\sigma$ is the standard deviation of the manufacturing process.\n",
        "\n",
        "The company performs a quality control test every day, sampling **100 rods**.\n"
      ],
      "metadata": {
        "id": "6_RAFp_n0tdN"
      }
    },
    {
      "cell_type": "markdown",
      "source": [
        "#### **Question 2.1**\n",
        "\n",
        "Rods are considered **out of specification** if their length is less than 49.6 cm or greater than 50.4 cm. Compute the probability that a single rod is out of specification\n",
        "\n"
      ],
      "metadata": {
        "id": "4BGA4qKi05da"
      }
    },
    {
      "cell_type": "code",
      "source": [],
      "metadata": {
        "id": "ORkkIirB1cg4"
      },
      "execution_count": 82,
      "outputs": []
    },
    {
      "cell_type": "markdown",
      "source": [
        "\n",
        "\n",
        "<details>\n",
        "<summary>▶️ Click to show the solution</summary>\n",
        "\n",
        "$$\\Pr(49.6 > L_i \\text{ or } L_i > 50.4) = \\Pr(49.6 > L_i) + \\Pr(L_i > 50.4)$$\n",
        "\n",
        "```r\n",
        "pnorm(49.6, 50, 0.2) + pnorm(50.4, 50, 0.2, lower.tail = FALSE)\n",
        "# 0.0455\n",
        "```\n",
        "\n",
        "</details>"
      ],
      "metadata": {
        "id": "TcgvZMRe1c19"
      }
    },
    {
      "cell_type": "markdown",
      "source": [
        "#### **Question 2.2**\n",
        "\n",
        "For many probability distributions, their CDFs are not available in closed-form. One can try a stochastic (simulation-based) technique to answer deterministic quantities like:\n",
        "\n",
        "-  What is the probability that a single rod is out of specification?\n",
        "- Among rods whose length are greater than 50.2 cm, what is the probability that their length is also greater than 50.4 cm?\n",
        "\n",
        "Similar to what we have done in the `Exercise` sub-section of the `Binomial Distribution` section, can you estimate the probabilities above using simulation-based techniques? Compare these estimates to the exact values.\n",
        "\n"
      ],
      "metadata": {
        "id": "Ph24J0lK3BHz"
      }
    },
    {
      "cell_type": "code",
      "source": [],
      "metadata": {
        "id": "4tzblAAi5KTB"
      },
      "execution_count": 81,
      "outputs": []
    },
    {
      "cell_type": "markdown",
      "source": [
        "\n",
        "<details>\n",
        "<summary>▶️ Click to show the solution</summary>\n",
        "\n",
        "$$\\Pr(49.6 > L_i \\text{ or } L_i > 50.4) = \\Pr(49.6 > L_i) + \\Pr(L_i > 50.4)$$\n",
        "\n",
        "$$\\Pr(L_i > 50.4 | L_i > 50.2) = \\frac{\\Pr(L_i > 50.4 \\text{ and } L_i > 50.2)}{\\Pr(L_i > 50.2)} = \\frac{\\Pr(L_i > 50.4)}{\\Pr(L_i > 50.2)} $$\n",
        "\n",
        "Functions for computing distributional values of the truncated Gaussian distribution $L_i| L_i > 50.2$ is not available in base `R`. However, we can indirectly simulate random numbers from this distribution by simulating values from `N(50, 0.2^2)` and only accept the values greater than 50.2.\n",
        "\n",
        "\n",
        "```r\n",
        "n = 10^6\n",
        "X = rnorm(n, 50, 0.2)\n",
        "outofSpec = ifelse(49.6 > X | X > 50.4, 1, 0)\n",
        "mean(outofSpec)\n",
        "pnorm(49.6, 50, 0.2) + pnorm(50.4, 50, 0.2, lower.tail = FALSE)\n",
        "\n",
        "\n",
        "Xgreater = X[X>50.2]\n",
        "alsoGreater = ifelse(Xgreater > 50.4,1,0)\n",
        "mean(alsoGreater)\n",
        "pnorm(50.4, 50, 0.2, lower.tail = F)/pnorm(50.2, 50, 0.2, lower.tail = F)\n",
        "```\n",
        "\n",
        "</details>\n",
        "\n"
      ],
      "metadata": {
        "id": "2KY4LwtB6Dk3"
      }
    },
    {
      "cell_type": "markdown",
      "source": [
        "#### **Question 2.3**\n",
        "\n",
        "Let $Y$ be the number  of out-of-specification rods out of 100 sampled rods. What is the distribution of `Y`? What is the average number of out-of-specification rods?"
      ],
      "metadata": {
        "id": "WLrvgQQP1jY_"
      }
    },
    {
      "cell_type": "code",
      "source": [],
      "metadata": {
        "id": "fXJSfBGB2NKw"
      },
      "execution_count": null,
      "outputs": []
    },
    {
      "cell_type": "markdown",
      "source": [
        "\n",
        "\n",
        "\n",
        "\n",
        "<details>\n",
        "<summary>▶️ Click to show the solution</summary>\n",
        "\n",
        "Here, $Y$ is the number of rods out of 100 that are out of specification. Each rod is defective independently with probability  \n",
        "\n",
        "$$\n",
        "p_{defective} = 0.0455\n",
        "$$  \n",
        "\n",
        "Then $Y$ follows a **Binomial distribution**:\n",
        "\n",
        "$$\n",
        "Y \\sim \\text{Binomial}(n = 100, p = 0.0455)\n",
        "$$\n",
        "\n",
        "The expected number of out-of-specification rods is\n",
        "\n",
        "$$\n",
        "\\mathbb{E}[Y] = n \\cdot p = 100 \\cdot 0.0455 = 4.55\n",
        "$$\n",
        "\n",
        "</details>\n",
        "\n"
      ],
      "metadata": {
        "id": "UYSLku8v2Ncs"
      }
    }
  ]
}