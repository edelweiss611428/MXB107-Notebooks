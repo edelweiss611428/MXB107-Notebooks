{
  "nbformat": 4,
  "nbformat_minor": 0,
  "metadata": {
    "colab": {
      "provenance": [],
      "toc_visible": true
    },
    "kernelspec": {
      "name": "ir",
      "display_name": "R"
    },
    "language_info": {
      "name": "R"
    }
  },
  "cells": [
    {
      "cell_type": "markdown",
      "source": [
        "# **Week 6: Sampling Methods**\n",
        "\n",
        "```\n",
        ".------------------------------------.\n",
        "|   __  ____  ______  _  ___ _____   |\n",
        "|  |  \\/  \\ \\/ / __ )/ |/ _ \\___  |  |\n",
        "|  | |\\/| |\\  /|  _ \\| | | | | / /   |\n",
        "|  | |  | |/  \\| |_) | | |_| |/ /    |\n",
        "|  |_|  |_/_/\\_\\____/|_|\\___//_/     |\n",
        "'------------------------------------'\n",
        "\n",
        "```\n",
        "\n",
        "In this workshop, we will study common sampling methods and sampling distributions, and examines the asymptotic distribution of the sample mean as the sample size increases."
      ],
      "metadata": {
        "id": "ZtpJJ8BSHOaK"
      }
    },
    {
      "cell_type": "markdown",
      "source": [
        "## **Pre-Configurating the Notebook**"
      ],
      "metadata": {
        "id": "SVtkEkRDY5Ex"
      }
    },
    {
      "cell_type": "markdown",
      "source": [
        "### **Switching to the R Kernel on Colab**\n",
        "\n",
        "By default, Google Colab uses Python as its programming language. To use R instead, you’ll need to manually switch the kernel by going to **Runtime > Change runtime type**, and selecting R as the kernel. This allows you to run R code in the Colab environment.\n",
        "\n",
        "However, our notebook is already configured to use R by default. Unless something goes wrong, you shouldn’t need to manually change runtime type."
      ],
      "metadata": {
        "id": "0vfwHxobY6_q"
      }
    },
    {
      "cell_type": "markdown",
      "source": [
        "### **Importing Required Packages**\n",
        "**Run the following lines of code**:"
      ],
      "metadata": {
        "id": "36rWeG2RY7fJ"
      }
    },
    {
      "cell_type": "code",
      "source": [
        "#Do not modify\n",
        "\n",
        "setwd(\"/content\")\n",
        "\n",
        "# Remove `MXB107-Notebooks` if exists,\n",
        "if (dir.exists(\"MXB107-Notebooks\")) {\n",
        "  system(\"rm -rf MXB107-Notebooks\")\n",
        "}\n",
        "\n",
        "# Fork the repository\n",
        "system(\"git clone https://github.com/edelweiss611428/MXB107-Notebooks.git\")\n",
        "\n",
        "# Change working directory to \"MXB107-Notebooks\"\n",
        "setwd(\"MXB107-Notebooks\")\n",
        "\n",
        "#\n",
        "invisible(source(\"R/preConfigurated.R\"))"
      ],
      "metadata": {
        "id": "t_2d_ItyY9yz"
      },
      "execution_count": null,
      "outputs": []
    },
    {
      "cell_type": "markdown",
      "source": [
        "**Do not modify the following**"
      ],
      "metadata": {
        "id": "q-ITFB1qY_ZJ"
      }
    },
    {
      "cell_type": "code",
      "source": [
        "if (!require(\"testthat\")) install.packages(\"testthat\"); library(\"testthat\")\n",
        "\n",
        "test_that(\"Test if all packages have been loaded\", {\n",
        "\n",
        "  expect_true(all(c(\"ggplot2\", \"tidyr\", \"dplyr\", \"stringr\", \"magrittr\", \"knitr\") %in% loadedNamespaces()))\n",
        "\n",
        "})"
      ],
      "metadata": {
        "colab": {
          "base_uri": "https://localhost:8080/"
        },
        "id": "Hgh75IDpZCf2",
        "outputId": "dcff0a45-9842-4361-a37f-6bb81e2aba5a"
      },
      "execution_count": null,
      "outputs": [
        {
          "output_type": "stream",
          "name": "stdout",
          "text": [
            "\u001b[32mTest passed\u001b[39m 🥳\n"
          ]
        }
      ]
    },
    {
      "cell_type": "markdown",
      "source": [
        "## **Finite-Population Non-Probability Sampling**\n",
        "\n",
        "In this section, we will explore non-probability sampling through a series of practical discussion questions, rather than exercises or programming examples.\n"
      ],
      "metadata": {
        "id": "lUE974i7SwQ7"
      }
    },
    {
      "cell_type": "markdown",
      "source": [
        "### **Non-Probability Sampling Schemes**\n",
        "\n",
        "Non-probability sampling is a method of selecting units from a population through non-random, subjective procedures. This approach does not require a complete sampling frame — a list of all units in the population — making it relatively fast, convenient, and cost-effective. However, because selection is not random, the resulting sample may not accurately represent the population, and any inferences drawn are subject to potential bias.\n",
        "\n",
        "Common forms of non-probability sampling include sequential sampling, convenience sampling, snowball sampling, quota sampling, and purposive sampling, each of which has distinct characteristics and limitations. In particular:\n",
        "\n",
        "- **Sequential sampling**: Samples are selected periodically from a list of potential subjects, taken one after another in sequence. These schemes sometimes resemble random sampling but lack true randomness.\n",
        "- **Convenience sampling**: Subjects are chosen because they are easiest to reach, or they self-select to participate (e.g., IMDB user rankings). However, results are often unreliable due to self-selection bias.\n",
        "- **Snowball sampling**: Similar to convenience sampling, except participants are asked to refer others to the study. This can expand the sample but still suffers from self-selection bias.\n",
        "- **Quota sampling**: Aims to ensure demographic balance by filling pre-set quotas (e.g., 50% male, 50% female). While designed to improve representativeness, it is not random and risks over- or under-representing subgroups.\n",
        "- **Purposive sampling**: Participants are deliberately selected because they fit specific characteristics or criteria relevant to the study (e.g., interviewing only experts on climate change). This method can provide rich insights but is vulnerable to researcher bias and lacks generalisability."
      ],
      "metadata": {
        "id": "G8y-DuwOJtsz"
      }
    },
    {
      "cell_type": "markdown",
      "source": [
        "#### **Exercise**\n",
        "\n",
        "Can you think of an example where snowball sampling might be useful?"
      ],
      "metadata": {
        "id": "N_shPzE_J8Iw"
      }
    },
    {
      "cell_type": "markdown",
      "source": [
        "<details>\n",
        "<summary>▶️ Click to show the solution</summary>\n",
        "\n",
        "Studying the experiences of undocumented immigrants in a city can be challenging, as these individuals are often difficult to identify and may avoid official records out of fear of legal consequences.\n",
        "\n",
        "</details>"
      ],
      "metadata": {
        "id": "a1AFXrhaKGGe"
      }
    },
    {
      "cell_type": "markdown",
      "source": [
        "### **Free Swimming Tickets for Everyone**\n",
        "\n",
        "A city council wants to evaluate the health benefits of a new policy that provides free swimming tickets to residents. Participants are given tickets, and their heart rate is recorded before the program begins and after one year. All participants attend the sessions regularly, with no dropouts. After analysing the data, the council observes no substantial improvement in heart rate."
      ],
      "metadata": {
        "id": "9shEZZWiJP8F"
      }
    },
    {
      "cell_type": "markdown",
      "source": [
        "#### **Question 1**\n",
        "\n",
        "What type of sampling method was used in this consultation?"
      ],
      "metadata": {
        "id": "4JZt7bGgJfyK"
      }
    },
    {
      "cell_type": "markdown",
      "source": [
        "<details>\n",
        "<summary>▶️ Click to show the solution</summary>\n",
        "\n",
        "Convenience sampling\n",
        "\n",
        "</details>"
      ],
      "metadata": {
        "id": "paoEybEbJgWD"
      }
    },
    {
      "cell_type": "markdown",
      "source": [
        "#### **Question 2**\n",
        "\n",
        "What are the potential problems with this sampling approach?"
      ],
      "metadata": {
        "id": "tKiADl0qJ5PE"
      }
    },
    {
      "cell_type": "markdown",
      "source": [
        "<details>\n",
        "<summary>▶️ Click to show the solution</summary>\n",
        "\n",
        "Several problems can arise from this approach:\n",
        "\n",
        "- People who accept free swimming tickets may already be health-conscious, physically active, or motivated to improve their fitness.\n",
        "- Those who are less active or indifferent may ignore the offer, so the sample does not represent the general population.\n",
        "\n",
        "</details>"
      ],
      "metadata": {
        "id": "DrumPzDfLBYV"
      }
    },
    {
      "cell_type": "markdown",
      "source": [
        "#### **Question 3**\n",
        "\n",
        "What biases could affect conclusions drawn from this online consultation?"
      ],
      "metadata": {
        "id": "mng8Y6LvLpSv"
      }
    },
    {
      "cell_type": "markdown",
      "source": [
        "<details>\n",
        "<summary>▶️ Click to show the solution</summary>\n",
        "\n",
        "- Self-selection bias / voluntary response bias: People who chose to participate in the swimming program may differ systematically from the general population (e.g., already health-conscious or motivated). The observed lack of heart rate improvement may not reflect the effect on the entire population.\n",
        "- Coverage bias: Residents who did not accept the free tickets or were unaware of the program were excluded from the study.\n",
        "\n",
        "</details>"
      ],
      "metadata": {
        "id": "ADt3_SfpLrxD"
      }
    },
    {
      "cell_type": "markdown",
      "source": [
        "### **84% Want Europe to Stop Changing the Clock**\n",
        "\n",
        "In 2018, the European Commission conducted a public consultation on whether to end the bi-annual clock change across Europe. The consultation ran online from 4 July to 16 August and received 4.6 million responses from all 28 Member States, the highest number ever received for any Commission consultation. According to preliminary results, 84% of respondents favored stopping the clock changes, and 76% described the experience of changing clocks twice a year as “negative” or “very negative.” (see the press release [Summertime Consultation: 84% want Europe to stop changing the clock](https://ec.europa.eu/commission/presscorner/detail/en/ip_18_5302) for more details).\n",
        "\n",
        "![Which of the following alternatives would you favour?](http://ec.europa.eu/avservices/avs/files/video6/repository/prod/photo/store/store2/9/P037989-973692.jpg)\n",
        "\n",
        "\n",
        "![What is your overall experience with the clock change?](http://ec.europa.eu/avservices/avs/files/video6/repository/prod/photo/store/store2/9/P037989-904263.jpg)\n",
        "\n"
      ],
      "metadata": {
        "id": "CN7P2KixuXHF"
      }
    },
    {
      "cell_type": "markdown",
      "source": [
        "#### **Question 1**\n",
        "\n",
        "What type of sampling method was used in this consultation?"
      ],
      "metadata": {
        "id": "2EDrL0h-rNbV"
      }
    },
    {
      "cell_type": "markdown",
      "source": [
        "<details>\n",
        "<summary>▶️ Click to show the solution</summary>\n",
        "\n",
        "Convenience sampling\n",
        "\n",
        "</details>"
      ],
      "metadata": {
        "id": "1-ZBpKP9yNPO"
      }
    },
    {
      "cell_type": "markdown",
      "source": [
        "#### **Question 2**\n",
        "\n",
        "Why might the results not accurately represent the views of all European citizens?"
      ],
      "metadata": {
        "id": "I-li3bCYxb-4"
      }
    },
    {
      "cell_type": "markdown",
      "source": [
        "<details>\n",
        "<summary>▶️ Click to show the solution</summary>\n",
        "\n",
        "- European citizens who are highly motivated or have strong opinions about the clock change (especially those annoyed by it) were more likely to respond.\n",
        "- Many citizens who are indifferent or less engaged may not have participated.\n",
        "\n",
        "</details>"
      ],
      "metadata": {
        "id": "MxKgg1aOyT3c"
      }
    },
    {
      "cell_type": "markdown",
      "source": [
        "#### **Question 3**\n",
        "\n",
        "What biases could affect conclusions drawn from this online consultation?"
      ],
      "metadata": {
        "id": "I2P1TAxxxm9-"
      }
    },
    {
      "cell_type": "markdown",
      "source": [
        "<details>\n",
        "<summary>▶️ Click to show the solution</summary>\n",
        "\n",
        "- Self-selection bias/voluntary response bias: Strong opinions are overrepresented. The 84% figure likely overestimates support for ending clock changes compared to the general population.\n",
        "- Coverage bias: Citizens without internet access or awareness of the consultation were excluded.\n",
        "\n",
        "While the survey collected millions of responses, the large sample size does not guarantee representativeness. Any conclusions drawn should be treated cautiously.\n",
        "\n",
        "</details>"
      ],
      "metadata": {
        "id": "1OqcntU3xuz0"
      }
    },
    {
      "cell_type": "markdown",
      "source": [
        "#### **Question 4**\n",
        "\n",
        "Can you think of an example of a survey that might suffer from the same type of bias as the online consultation?"
      ],
      "metadata": {
        "id": "D8GGr-V3BoTF"
      }
    },
    {
      "cell_type": "markdown",
      "source": [
        "<details>\n",
        "<summary>▶️ Click to show the solution</summary>\n",
        "\n",
        "An online survey titled \"Who Do You Think Will Win the Next US Election?\" published on the website of a political party. Respondents are likely to be party supporters, which can lead to an overrepresentation of strong opinions and a sample that does not accurately reflect the views of the general population.\n",
        "\n",
        "</details>\n"
      ],
      "metadata": {
        "id": "hdL2gpAXBz7b"
      }
    },
    {
      "cell_type": "markdown",
      "source": [
        "## **Finite-Population Probability Sampling**"
      ],
      "metadata": {
        "id": "CI7fcDcCCfS6"
      }
    },
    {
      "cell_type": "markdown",
      "source": [
        "### **Simple Random Sampling**\n",
        "\n",
        "\n",
        "Simple random sampling (SRS) is a common method where each unit in the population has an equal chance of being selected, and all possible samples of a given size are equally likely.\n",
        "\n",
        "\n",
        "There are two main SRS schemes:\n",
        "- SRS Without Replacement (SRSWOR): Each unit in the population can be selected only once. Once a unit is chosen, it is removed from the pool of possible selections.\n",
        "- SRS With Replacement (SRSWR): Each unit can be selected multiple times, independently of previous selections. This means that after a unit is chosen, it is “put back” into the population, so it is still available for subsequent draws.\n",
        "\n",
        "SRSWR is less efficient than SRSWOR as it may select the same observation multiple times. However, SRSWR is mathematically simpler to work with because each draw is independent. Details on this topic are beyond the scope of this unit."
      ],
      "metadata": {
        "id": "ArLD0a3lCjvz"
      }
    },
    {
      "cell_type": "markdown",
      "source": [
        "#### **R Examples**\n",
        "\n",
        "To perform simple random sampling in R, we can use the `sample(x, size, replace, prob)` function, where:\n",
        "\n",
        "- `x`: a vector of values to sample from\n",
        "- `n`: the number of items to select\n",
        "- `replace`: whether or not to perform sampling with replacement\n",
        "- `prob`: an optional vector of probability weights for elements in `x`. By default, all elements are equally likely.\n",
        "\n",
        "If `replace = TRUE`, `n` cannot be greater than `length(x)`"
      ],
      "metadata": {
        "id": "T2vppVxfRpD3"
      }
    },
    {
      "cell_type": "markdown",
      "source": [
        "### **Stratified Random- Sampling**"
      ],
      "metadata": {
        "id": "bSrQWpcRNGnX"
      }
    },
    {
      "cell_type": "markdown",
      "source": [
        "### **Cluster Sampling**"
      ],
      "metadata": {
        "id": "Mx5hFnffNDA_"
      }
    },
    {
      "cell_type": "markdown",
      "source": [
        "## **Sampling Distribution**\n",
        "\n",
        "Suppose we have a population (for example, the heights of all people in a city). We are often interested in some characteristic of this population, such as the average height or the proportion of people taller than 180 cm.\n",
        "In practice, we rarely observe the entire population, so we instead take a sample from it. From this sample, we calculate a statistic (a function of the sample data), such as:\n",
        "\n",
        "- The sample mean: Estimate of the population mean\n",
        "- The sample variance: Estimate of the population variance,\n",
        "- The sample median: Estimate of the population median.\n",
        "\n",
        "If we were to repeat this sampling process many times, we would obtain a collection of values for the statistic. The distribution of these values is called the sampling distribution of that statistic."
      ],
      "metadata": {
        "id": "3JJaYAaZpUWc"
      }
    },
    {
      "cell_type": "markdown",
      "source": [
        "## **Workshop Questions**\n",
        "<details>\n",
        "<summary>▶️ Click to show the solution</summary>\n",
        "\n",
        "- Self-selection bias/voluntary response bias: Strong opinions are overrepresented. The 84% figure likely overestimates support for ending clock changes compared to the general population.\n",
        "- Coverage bias: Citizens without internet access or awareness of the consultation were excluded.\n",
        "\n",
        "While the survey collected millions of responses, the large sample size does not guarantee representativeness. Any conclusions drawn should be treated cautiously.\n",
        "\n",
        "</details>\n"
      ],
      "metadata": {
        "id": "uO9c9T2QAGqp"
      }
    },
    {
      "cell_type": "markdown",
      "source": [
        "### **Question 1**"
      ],
      "metadata": {
        "id": "D0fYT6WZAOfJ"
      }
    }
  ]
}