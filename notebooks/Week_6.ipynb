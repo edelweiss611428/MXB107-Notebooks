{
  "nbformat": 4,
  "nbformat_minor": 0,
  "metadata": {
    "colab": {
      "provenance": [],
      "toc_visible": true
    },
    "kernelspec": {
      "name": "ir",
      "display_name": "R"
    },
    "language_info": {
      "name": "R"
    }
  },
  "cells": [
    {
      "cell_type": "markdown",
      "source": [
        "# **Week 6: Sampling Methods**\n",
        "\n",
        "```\n",
        ".------------------------------------.\n",
        "|   __  ____  ______  _  ___ _____   |\n",
        "|  |  \\/  \\ \\/ / __ )/ |/ _ \\___  |  |\n",
        "|  | |\\/| |\\  /|  _ \\| | | | | / /   |\n",
        "|  | |  | |/  \\| |_) | | |_| |/ /    |\n",
        "|  |_|  |_/_/\\_\\____/|_|\\___//_/     |\n",
        "'------------------------------------'\n",
        "\n",
        "```\n",
        "\n",
        "In this workshop, we will study common sampling methods and sampling distributions, and examines the asymptotic distribution of the sample mean as the sample size increases."
      ],
      "metadata": {
        "id": "ZtpJJ8BSHOaK"
      }
    },
    {
      "cell_type": "markdown",
      "source": [
        "## **Pre-Configurating the Notebook**"
      ],
      "metadata": {
        "id": "SVtkEkRDY5Ex"
      }
    },
    {
      "cell_type": "markdown",
      "source": [
        "### **Switching to the R Kernel on Colab**\n",
        "\n",
        "By default, Google Colab uses Python as its programming language. To use R instead, you’ll need to manually switch the kernel by going to **Runtime > Change runtime type**, and selecting R as the kernel. This allows you to run R code in the Colab environment.\n",
        "\n",
        "However, our notebook is already configured to use R by default. Unless something goes wrong, you shouldn’t need to manually change runtime type."
      ],
      "metadata": {
        "id": "0vfwHxobY6_q"
      }
    },
    {
      "cell_type": "markdown",
      "source": [
        "### **Importing Required Packages**\n",
        "**Run the following lines of code**:"
      ],
      "metadata": {
        "id": "36rWeG2RY7fJ"
      }
    },
    {
      "cell_type": "code",
      "source": [
        "#Do not modify\n",
        "\n",
        "setwd(\"/content\")\n",
        "\n",
        "# Remove `MXB107-Notebooks` if exists,\n",
        "if (dir.exists(\"MXB107-Notebooks\")) {\n",
        "  system(\"rm -rf MXB107-Notebooks\")\n",
        "}\n",
        "\n",
        "# Fork the repository\n",
        "system(\"git clone https://github.com/edelweiss611428/MXB107-Notebooks.git\")\n",
        "\n",
        "# Change working directory to \"MXB107-Notebooks\"\n",
        "setwd(\"MXB107-Notebooks\")\n",
        "\n",
        "#\n",
        "invisible(source(\"R/preConfigurated.R\"))"
      ],
      "metadata": {
        "id": "t_2d_ItyY9yz"
      },
      "execution_count": 140,
      "outputs": []
    },
    {
      "cell_type": "markdown",
      "source": [
        "**Do not modify the following**"
      ],
      "metadata": {
        "id": "q-ITFB1qY_ZJ"
      }
    },
    {
      "cell_type": "code",
      "source": [
        "if (!require(\"testthat\")) install.packages(\"testthat\"); library(\"testthat\")\n",
        "\n",
        "test_that(\"Test if all packages have been loaded\", {\n",
        "\n",
        "  expect_true(all(c(\"ggplot2\", \"tidyr\", \"dplyr\", \"stringr\", \"magrittr\", \"knitr\") %in% loadedNamespaces()))\n",
        "\n",
        "})"
      ],
      "metadata": {
        "colab": {
          "base_uri": "https://localhost:8080/"
        },
        "id": "Hgh75IDpZCf2",
        "outputId": "752ae70b-5380-4c13-cf56-77ac54e078d8"
      },
      "execution_count": 141,
      "outputs": [
        {
          "output_type": "stream",
          "name": "stdout",
          "text": [
            "\u001b[32mTest passed\u001b[39m 🥇\n"
          ]
        }
      ]
    },
    {
      "cell_type": "markdown",
      "source": [
        "## **Finite-Population Non-Probability Sampling**\n",
        "\n",
        "In this section, we will explore non-probability sampling through a series of practical discussion questions, rather than exercises or programming examples.\n"
      ],
      "metadata": {
        "id": "lUE974i7SwQ7"
      }
    },
    {
      "cell_type": "markdown",
      "source": [
        "### **Non-Probability Sampling Schemes**\n",
        "\n",
        "Non-probability sampling is a method of selecting units from a population through non-random, subjective procedures. This approach does not require a complete sampling frame — a list of all units in the population — making it relatively fast, convenient, and cost-effective. However, because selection is not random, the resulting sample may not accurately represent the population, and any inferences drawn are subject to potential (non-quantifiable) bias.\n",
        "\n",
        "Common forms of non-probability sampling include sequential sampling, convenience sampling, snowball sampling, quota sampling, and purposive sampling, each of which has distinct characteristics and limitations. In particular:\n",
        "\n",
        "- **Sequential sampling**: Samples are selected periodically from a list of potential subjects, taken one after another in sequence. These schemes sometimes resemble random sampling but lack true randomness.\n",
        "- **Convenience sampling**: Subjects are chosen because they are easiest to reach, or they self-select to participate (e.g., IMDB user rankings). However, results are often unreliable due to self-selection bias.\n",
        "- **Snowball sampling**: Similar to convenience sampling, except participants are asked to refer others to the study. This can expand the sample but still suffers from self-selection bias.\n",
        "- **Quota sampling**: Aims to ensure demographic balance by filling pre-set quotas (e.g., 50% male, 50% female). While designed to improve representativeness, it is not random and risks over- or under-representing subgroups.\n",
        "- **Purposive sampling**: Participants are deliberately selected because they fit specific characteristics or criteria relevant to the study (e.g., interviewing only experts on climate change). This method can provide rich insights but is vulnerable to researcher bias and lacks generalisability."
      ],
      "metadata": {
        "id": "G8y-DuwOJtsz"
      }
    },
    {
      "cell_type": "markdown",
      "source": [
        "#### **Exercise**\n",
        "\n",
        "Can you think of an example where snowball sampling might be useful?"
      ],
      "metadata": {
        "id": "N_shPzE_J8Iw"
      }
    },
    {
      "cell_type": "markdown",
      "source": [
        "<details>\n",
        "<summary>▶️ Click to show the solution</summary>\n",
        "\n",
        "Studying the experiences of undocumented immigrants in a city can be challenging, as these individuals are often difficult to identify and may avoid official records out of fear of legal consequences.\n",
        "\n",
        "</details>"
      ],
      "metadata": {
        "id": "a1AFXrhaKGGe"
      }
    },
    {
      "cell_type": "markdown",
      "source": [
        "### **Free Swimming Tickets for Everyone**\n",
        "\n",
        "A city council wants to evaluate the health benefits of a new policy that provides free swimming tickets to residents. Participants are given tickets, and their heart rate is recorded before the program begins and after one year. All participants attend the sessions regularly, with no dropouts. After analysing the data, the council observes no substantial improvement in heart rate."
      ],
      "metadata": {
        "id": "9shEZZWiJP8F"
      }
    },
    {
      "cell_type": "markdown",
      "source": [
        "#### **Question 1**\n",
        "\n",
        "What type of sampling method was used in this consultation?"
      ],
      "metadata": {
        "id": "4JZt7bGgJfyK"
      }
    },
    {
      "cell_type": "markdown",
      "source": [
        "<details>\n",
        "<summary>▶️ Click to show the solution</summary>\n",
        "\n",
        "Convenience sampling\n",
        "\n",
        "</details>"
      ],
      "metadata": {
        "id": "paoEybEbJgWD"
      }
    },
    {
      "cell_type": "markdown",
      "source": [
        "#### **Question 2**\n",
        "\n",
        "What are the potential problems with this sampling approach?"
      ],
      "metadata": {
        "id": "tKiADl0qJ5PE"
      }
    },
    {
      "cell_type": "markdown",
      "source": [
        "<details>\n",
        "<summary>▶️ Click to show the solution</summary>\n",
        "\n",
        "Several problems can arise from this approach:\n",
        "\n",
        "- People who accept free swimming tickets may already be health-conscious, physically active, or motivated to improve their fitness.\n",
        "- Those who are less active or indifferent may ignore the offer, so the sample does not represent the general population.\n",
        "\n",
        "</details>"
      ],
      "metadata": {
        "id": "DrumPzDfLBYV"
      }
    },
    {
      "cell_type": "markdown",
      "source": [
        "#### **Question 3**\n",
        "\n",
        "What biases could affect conclusions drawn from this online consultation?"
      ],
      "metadata": {
        "id": "mng8Y6LvLpSv"
      }
    },
    {
      "cell_type": "markdown",
      "source": [
        "<details>\n",
        "<summary>▶️ Click to show the solution</summary>\n",
        "\n",
        "- Self-selection bias / voluntary response bias: People who chose to participate in the swimming program may differ systematically from the general population (e.g., already health-conscious or motivated). The observed lack of heart rate improvement may not reflect the effect on the entire population.\n",
        "- Coverage bias: Residents who did not accept the free tickets or were unaware of the program were excluded from the study.\n",
        "\n",
        "</details>"
      ],
      "metadata": {
        "id": "ADt3_SfpLrxD"
      }
    },
    {
      "cell_type": "markdown",
      "source": [
        "### **84% Want Europe to Stop Changing the Clock**\n",
        "\n",
        "In 2018, the European Commission conducted a public consultation on whether to end the bi-annual clock change across Europe. The consultation ran online from 4 July to 16 August and received 4.6 million responses from all 28 Member States, the highest number ever received for any Commission consultation. According to preliminary results, 84% of respondents favored stopping the clock changes, and 76% described the experience of changing clocks twice a year as “negative” or “very negative.” (see the press release [Summertime Consultation: 84% want Europe to stop changing the clock](https://ec.europa.eu/commission/presscorner/detail/en/ip_18_5302) for more details).\n",
        "\n",
        "![Which of the following alternatives would you favour?](http://ec.europa.eu/avservices/avs/files/video6/repository/prod/photo/store/store2/9/P037989-973692.jpg)\n",
        "\n",
        "\n",
        "![What is your overall experience with the clock change?](http://ec.europa.eu/avservices/avs/files/video6/repository/prod/photo/store/store2/9/P037989-904263.jpg)\n",
        "\n"
      ],
      "metadata": {
        "id": "CN7P2KixuXHF"
      }
    },
    {
      "cell_type": "markdown",
      "source": [
        "#### **Question 1**\n",
        "\n",
        "What type of sampling method was used in this consultation?"
      ],
      "metadata": {
        "id": "2EDrL0h-rNbV"
      }
    },
    {
      "cell_type": "markdown",
      "source": [
        "<details>\n",
        "<summary>▶️ Click to show the solution</summary>\n",
        "\n",
        "Convenience sampling\n",
        "\n",
        "</details>"
      ],
      "metadata": {
        "id": "1-ZBpKP9yNPO"
      }
    },
    {
      "cell_type": "markdown",
      "source": [
        "#### **Question 2**\n",
        "\n",
        "Why might the results not accurately represent the views of all European citizens?"
      ],
      "metadata": {
        "id": "I-li3bCYxb-4"
      }
    },
    {
      "cell_type": "markdown",
      "source": [
        "<details>\n",
        "<summary>▶️ Click to show the solution</summary>\n",
        "\n",
        "- European citizens who are highly motivated or have strong opinions about the clock change (especially those annoyed by it) were more likely to respond.\n",
        "- Many citizens who are indifferent or less engaged may not have participated.\n",
        "\n",
        "</details>"
      ],
      "metadata": {
        "id": "MxKgg1aOyT3c"
      }
    },
    {
      "cell_type": "markdown",
      "source": [
        "#### **Question 3**\n",
        "\n",
        "What biases could affect conclusions drawn from this online consultation?"
      ],
      "metadata": {
        "id": "I2P1TAxxxm9-"
      }
    },
    {
      "cell_type": "markdown",
      "source": [
        "<details>\n",
        "<summary>▶️ Click to show the solution</summary>\n",
        "\n",
        "- Self-selection bias/voluntary response bias: Strong opinions are overrepresented. The 84% figure likely overestimates support for ending clock changes compared to the general population.\n",
        "- Coverage bias: Citizens without internet access or awareness of the consultation were excluded.\n",
        "\n",
        "While the survey collected millions of responses, the large sample size does not guarantee representativeness. Any conclusions drawn should be treated cautiously.\n",
        "\n",
        "</details>"
      ],
      "metadata": {
        "id": "1OqcntU3xuz0"
      }
    },
    {
      "cell_type": "markdown",
      "source": [
        "#### **Question 4**\n",
        "\n",
        "Can you think of an example of a survey that might suffer from the same type of bias as the online consultation?"
      ],
      "metadata": {
        "id": "D8GGr-V3BoTF"
      }
    },
    {
      "cell_type": "markdown",
      "source": [
        "<details>\n",
        "<summary>▶️ Click to show the solution</summary>\n",
        "\n",
        "An online survey titled \"Who Do You Think Will Win the Next US Election?\" published on the website of a political party. Respondents are likely to be party supporters, which can lead to an overrepresentation of strong opinions and a sample that does not accurately reflect the views of the general population.\n",
        "\n",
        "</details>\n"
      ],
      "metadata": {
        "id": "hdL2gpAXBz7b"
      }
    },
    {
      "cell_type": "markdown",
      "source": [
        "## **Finite-Population Probability Sampling**"
      ],
      "metadata": {
        "id": "CI7fcDcCCfS6"
      }
    },
    {
      "cell_type": "markdown",
      "source": [
        "If the sampling frame is available, we can use a **probability-based** sampling method, where the probability of selecting each observation is known in advance. As a result, it is possible to quantify bias, as well as evaluate, validate, and compare different sampling methods. Details on this topic are beyond the scope of this unit."
      ],
      "metadata": {
        "id": "uRSwRlB3_o-e"
      }
    },
    {
      "cell_type": "markdown",
      "source": [
        "### **Simple Random Sampling**\n",
        "\n",
        "\n",
        "Simple random sampling (SRS) is a common method where each unit in the population has an equal chance of being selected, and all possible samples of a given size are equally likely.\n",
        "\n",
        "\n",
        "There are two main SRS schemes:\n",
        "- SRS Without Replacement (SRSWOR): Each unit in the population can be selected only once. Once a unit is chosen, it is removed from the pool of possible selections.\n",
        "- SRS With Replacement (SRSWR): Each unit can be selected multiple times, independently of previous selections. This means that after a unit is chosen, it is “put back” into the population, so it is still available for subsequent draws.\n",
        "\n",
        "SRSWR is a bit less efficient than SRSWOR as it may select the same observation multiple times. However, SRSWR is mathematically simpler to work with because each draw is independent."
      ],
      "metadata": {
        "id": "ArLD0a3lCjvz"
      }
    },
    {
      "cell_type": "markdown",
      "source": [
        "#### **Mean Estimation**\n",
        "\n",
        "For a simple random sample of size $n$ with observations $x_1, x_2, \\dots, x_n$ (from a population $X$ of size $N$), the **sample mean** is  \n",
        "\n",
        "$$\n",
        "\\bar{x} = \\frac{1}{n} \\sum_{i=1}^{n} x_i.\n",
        "$$\n",
        "\n",
        "This is an **unbiased estimator** of population mean if the sampling frame is complete."
      ],
      "metadata": {
        "id": "YT_DmHXFCKvG"
      }
    },
    {
      "cell_type": "markdown",
      "source": [
        "#### **R Examples**\n",
        "\n",
        "To perform simple random sampling in R, we can use the `sample(x, size, replace, prob)` function, where:\n",
        "\n",
        "- `x`: a vector of values to sample from\n",
        "- `size`: the number of items to select\n",
        "- `replace`: whether or not to perform sampling with replacement. By default, `replace = FALSE`.\n",
        "- `prob`: an optional vector of probability weights for elements in `x`. By default, all elements are equally likely.\n",
        "\n",
        "If `replace = TRUE`, `size` cannot be greater than `length(x)`.\n",
        "\n",
        "The `sample()` function does not work directly on data frames. Take the `iris` dataset as an example."
      ],
      "metadata": {
        "id": "T2vppVxfRpD3"
      }
    },
    {
      "cell_type": "code",
      "source": [
        "iris %>%\n",
        "  str()"
      ],
      "metadata": {
        "colab": {
          "base_uri": "https://localhost:8080/"
        },
        "id": "iNOedfZ7phFI",
        "outputId": "6d790b15-1e9a-497f-d7d4-c2358c6453ef"
      },
      "execution_count": 142,
      "outputs": [
        {
          "output_type": "stream",
          "name": "stdout",
          "text": [
            "'data.frame':\t150 obs. of  5 variables:\n",
            " $ Sepal.Length: num  5.1 4.9 4.7 4.6 5 5.4 4.6 5 4.4 4.9 ...\n",
            " $ Sepal.Width : num  3.5 3 3.2 3.1 3.6 3.9 3.4 3.4 2.9 3.1 ...\n",
            " $ Petal.Length: num  1.4 1.4 1.3 1.5 1.4 1.7 1.4 1.5 1.4 1.5 ...\n",
            " $ Petal.Width : num  0.2 0.2 0.2 0.2 0.2 0.4 0.3 0.2 0.2 0.1 ...\n",
            " $ Species     : Factor w/ 3 levels \"setosa\",\"versicolor\",..: 1 1 1 1 1 1 1 1 1 1 ...\n"
          ]
        }
      ]
    },
    {
      "cell_type": "markdown",
      "source": [
        "Suppose we want to select 6 observations from `iris` using SRSWOR. First, we need to sample the row indices using `sample()`."
      ],
      "metadata": {
        "id": "3HWHNSNDpk2z"
      }
    },
    {
      "cell_type": "code",
      "source": [
        "set.seed(1)\n",
        "nr = nrow(iris)\n",
        "rowIdx = 1:nr\n",
        "smplIdx = sample(rowIdx, 6)\n",
        "smplIdx %>% print()"
      ],
      "metadata": {
        "colab": {
          "base_uri": "https://localhost:8080/"
        },
        "id": "c8BOfaWrhNQX",
        "outputId": "edee48d3-63af-4ccd-83ce-0246bb0a3ed6"
      },
      "execution_count": 143,
      "outputs": [
        {
          "output_type": "stream",
          "name": "stdout",
          "text": [
            "[1]  68 129  43  14  51  85\n"
          ]
        }
      ]
    },
    {
      "cell_type": "markdown",
      "source": [
        "Then, we can use these indices to extract the corresponding rows."
      ],
      "metadata": {
        "id": "EPh4DQCjpzTD"
      }
    },
    {
      "cell_type": "code",
      "source": [
        "iris %>%\n",
        "  slice(smplIdx)"
      ],
      "metadata": {
        "colab": {
          "base_uri": "https://localhost:8080/",
          "height": 283
        },
        "id": "tZ72kco4nFyJ",
        "outputId": "aa20a32a-c626-45b9-c914-85cc8ce003a4"
      },
      "execution_count": 144,
      "outputs": [
        {
          "output_type": "display_data",
          "data": {
            "text/html": [
              "<table class=\"dataframe\">\n",
              "<caption>A data.frame: 6 × 5</caption>\n",
              "<thead>\n",
              "\t<tr><th scope=col>Sepal.Length</th><th scope=col>Sepal.Width</th><th scope=col>Petal.Length</th><th scope=col>Petal.Width</th><th scope=col>Species</th></tr>\n",
              "\t<tr><th scope=col>&lt;dbl&gt;</th><th scope=col>&lt;dbl&gt;</th><th scope=col>&lt;dbl&gt;</th><th scope=col>&lt;dbl&gt;</th><th scope=col>&lt;fct&gt;</th></tr>\n",
              "</thead>\n",
              "<tbody>\n",
              "\t<tr><td>5.8</td><td>2.7</td><td>4.1</td><td>1.0</td><td>versicolor</td></tr>\n",
              "\t<tr><td>6.4</td><td>2.8</td><td>5.6</td><td>2.1</td><td>virginica </td></tr>\n",
              "\t<tr><td>4.4</td><td>3.2</td><td>1.3</td><td>0.2</td><td>setosa    </td></tr>\n",
              "\t<tr><td>4.3</td><td>3.0</td><td>1.1</td><td>0.1</td><td>setosa    </td></tr>\n",
              "\t<tr><td>7.0</td><td>3.2</td><td>4.7</td><td>1.4</td><td>versicolor</td></tr>\n",
              "\t<tr><td>5.4</td><td>3.0</td><td>4.5</td><td>1.5</td><td>versicolor</td></tr>\n",
              "</tbody>\n",
              "</table>\n"
            ],
            "text/markdown": "\nA data.frame: 6 × 5\n\n| Sepal.Length &lt;dbl&gt; | Sepal.Width &lt;dbl&gt; | Petal.Length &lt;dbl&gt; | Petal.Width &lt;dbl&gt; | Species &lt;fct&gt; |\n|---|---|---|---|---|\n| 5.8 | 2.7 | 4.1 | 1.0 | versicolor |\n| 6.4 | 2.8 | 5.6 | 2.1 | virginica  |\n| 4.4 | 3.2 | 1.3 | 0.2 | setosa     |\n| 4.3 | 3.0 | 1.1 | 0.1 | setosa     |\n| 7.0 | 3.2 | 4.7 | 1.4 | versicolor |\n| 5.4 | 3.0 | 4.5 | 1.5 | versicolor |\n\n",
            "text/latex": "A data.frame: 6 × 5\n\\begin{tabular}{lllll}\n Sepal.Length & Sepal.Width & Petal.Length & Petal.Width & Species\\\\\n <dbl> & <dbl> & <dbl> & <dbl> & <fct>\\\\\n\\hline\n\t 5.8 & 2.7 & 4.1 & 1.0 & versicolor\\\\\n\t 6.4 & 2.8 & 5.6 & 2.1 & virginica \\\\\n\t 4.4 & 3.2 & 1.3 & 0.2 & setosa    \\\\\n\t 4.3 & 3.0 & 1.1 & 0.1 & setosa    \\\\\n\t 7.0 & 3.2 & 4.7 & 1.4 & versicolor\\\\\n\t 5.4 & 3.0 & 4.5 & 1.5 & versicolor\\\\\n\\end{tabular}\n",
            "text/plain": [
              "  Sepal.Length Sepal.Width Petal.Length Petal.Width Species   \n",
              "1 5.8          2.7         4.1          1.0         versicolor\n",
              "2 6.4          2.8         5.6          2.1         virginica \n",
              "3 4.4          3.2         1.3          0.2         setosa    \n",
              "4 4.3          3.0         1.1          0.1         setosa    \n",
              "5 7.0          3.2         4.7          1.4         versicolor\n",
              "6 5.4          3.0         4.5          1.5         versicolor"
            ]
          },
          "metadata": {}
        }
      ]
    },
    {
      "cell_type": "markdown",
      "source": [
        "The `dplyr` package provides a built-in function called `slice_sample()`, which allows you to perform row-wise sampling directly on a data frame, similar to `sample()`."
      ],
      "metadata": {
        "id": "KX98Lvnrq245"
      }
    },
    {
      "cell_type": "code",
      "source": [
        "set.seed(1)\n",
        "iris %>%\n",
        "  slice_sample(n = 6, replace = FALSE)"
      ],
      "metadata": {
        "colab": {
          "base_uri": "https://localhost:8080/",
          "height": 283
        },
        "id": "pQFQLHr0rMbD",
        "outputId": "9f744546-0554-44e9-a10a-6c4ef85a7565"
      },
      "execution_count": 145,
      "outputs": [
        {
          "output_type": "display_data",
          "data": {
            "text/html": [
              "<table class=\"dataframe\">\n",
              "<caption>A data.frame: 6 × 5</caption>\n",
              "<thead>\n",
              "\t<tr><th scope=col>Sepal.Length</th><th scope=col>Sepal.Width</th><th scope=col>Petal.Length</th><th scope=col>Petal.Width</th><th scope=col>Species</th></tr>\n",
              "\t<tr><th scope=col>&lt;dbl&gt;</th><th scope=col>&lt;dbl&gt;</th><th scope=col>&lt;dbl&gt;</th><th scope=col>&lt;dbl&gt;</th><th scope=col>&lt;fct&gt;</th></tr>\n",
              "</thead>\n",
              "<tbody>\n",
              "\t<tr><td>5.8</td><td>2.7</td><td>4.1</td><td>1.0</td><td>versicolor</td></tr>\n",
              "\t<tr><td>6.4</td><td>2.8</td><td>5.6</td><td>2.1</td><td>virginica </td></tr>\n",
              "\t<tr><td>4.4</td><td>3.2</td><td>1.3</td><td>0.2</td><td>setosa    </td></tr>\n",
              "\t<tr><td>4.3</td><td>3.0</td><td>1.1</td><td>0.1</td><td>setosa    </td></tr>\n",
              "\t<tr><td>7.0</td><td>3.2</td><td>4.7</td><td>1.4</td><td>versicolor</td></tr>\n",
              "\t<tr><td>5.4</td><td>3.0</td><td>4.5</td><td>1.5</td><td>versicolor</td></tr>\n",
              "</tbody>\n",
              "</table>\n"
            ],
            "text/markdown": "\nA data.frame: 6 × 5\n\n| Sepal.Length &lt;dbl&gt; | Sepal.Width &lt;dbl&gt; | Petal.Length &lt;dbl&gt; | Petal.Width &lt;dbl&gt; | Species &lt;fct&gt; |\n|---|---|---|---|---|\n| 5.8 | 2.7 | 4.1 | 1.0 | versicolor |\n| 6.4 | 2.8 | 5.6 | 2.1 | virginica  |\n| 4.4 | 3.2 | 1.3 | 0.2 | setosa     |\n| 4.3 | 3.0 | 1.1 | 0.1 | setosa     |\n| 7.0 | 3.2 | 4.7 | 1.4 | versicolor |\n| 5.4 | 3.0 | 4.5 | 1.5 | versicolor |\n\n",
            "text/latex": "A data.frame: 6 × 5\n\\begin{tabular}{lllll}\n Sepal.Length & Sepal.Width & Petal.Length & Petal.Width & Species\\\\\n <dbl> & <dbl> & <dbl> & <dbl> & <fct>\\\\\n\\hline\n\t 5.8 & 2.7 & 4.1 & 1.0 & versicolor\\\\\n\t 6.4 & 2.8 & 5.6 & 2.1 & virginica \\\\\n\t 4.4 & 3.2 & 1.3 & 0.2 & setosa    \\\\\n\t 4.3 & 3.0 & 1.1 & 0.1 & setosa    \\\\\n\t 7.0 & 3.2 & 4.7 & 1.4 & versicolor\\\\\n\t 5.4 & 3.0 & 4.5 & 1.5 & versicolor\\\\\n\\end{tabular}\n",
            "text/plain": [
              "  Sepal.Length Sepal.Width Petal.Length Petal.Width Species   \n",
              "1 5.8          2.7         4.1          1.0         versicolor\n",
              "2 6.4          2.8         5.6          2.1         virginica \n",
              "3 4.4          3.2         1.3          0.2         setosa    \n",
              "4 4.3          3.0         1.1          0.1         setosa    \n",
              "5 7.0          3.2         4.7          1.4         versicolor\n",
              "6 5.4          3.0         4.5          1.5         versicolor"
            ]
          },
          "metadata": {}
        }
      ]
    },
    {
      "cell_type": "markdown",
      "source": [
        "Another option is to use `sample_n()`, which is older and now soft-deprecated. Unlike `slice_sample()`, however, `sample_n()` allows the use of `n()` within its call."
      ],
      "metadata": {
        "id": "Ad6atqSbSToW"
      }
    },
    {
      "cell_type": "code",
      "source": [
        "set.seed(1)\n",
        "iris %>%\n",
        "  sample_n(size = 6, replace = FALSE)"
      ],
      "metadata": {
        "colab": {
          "base_uri": "https://localhost:8080/",
          "height": 283
        },
        "id": "Z1mf_6UiTCPb",
        "outputId": "8fe7aa6a-366b-4127-e514-de6fe733334f"
      },
      "execution_count": 146,
      "outputs": [
        {
          "output_type": "display_data",
          "data": {
            "text/html": [
              "<table class=\"dataframe\">\n",
              "<caption>A data.frame: 6 × 5</caption>\n",
              "<thead>\n",
              "\t<tr><th scope=col>Sepal.Length</th><th scope=col>Sepal.Width</th><th scope=col>Petal.Length</th><th scope=col>Petal.Width</th><th scope=col>Species</th></tr>\n",
              "\t<tr><th scope=col>&lt;dbl&gt;</th><th scope=col>&lt;dbl&gt;</th><th scope=col>&lt;dbl&gt;</th><th scope=col>&lt;dbl&gt;</th><th scope=col>&lt;fct&gt;</th></tr>\n",
              "</thead>\n",
              "<tbody>\n",
              "\t<tr><td>5.8</td><td>2.7</td><td>4.1</td><td>1.0</td><td>versicolor</td></tr>\n",
              "\t<tr><td>6.4</td><td>2.8</td><td>5.6</td><td>2.1</td><td>virginica </td></tr>\n",
              "\t<tr><td>4.4</td><td>3.2</td><td>1.3</td><td>0.2</td><td>setosa    </td></tr>\n",
              "\t<tr><td>4.3</td><td>3.0</td><td>1.1</td><td>0.1</td><td>setosa    </td></tr>\n",
              "\t<tr><td>7.0</td><td>3.2</td><td>4.7</td><td>1.4</td><td>versicolor</td></tr>\n",
              "\t<tr><td>5.4</td><td>3.0</td><td>4.5</td><td>1.5</td><td>versicolor</td></tr>\n",
              "</tbody>\n",
              "</table>\n"
            ],
            "text/markdown": "\nA data.frame: 6 × 5\n\n| Sepal.Length &lt;dbl&gt; | Sepal.Width &lt;dbl&gt; | Petal.Length &lt;dbl&gt; | Petal.Width &lt;dbl&gt; | Species &lt;fct&gt; |\n|---|---|---|---|---|\n| 5.8 | 2.7 | 4.1 | 1.0 | versicolor |\n| 6.4 | 2.8 | 5.6 | 2.1 | virginica  |\n| 4.4 | 3.2 | 1.3 | 0.2 | setosa     |\n| 4.3 | 3.0 | 1.1 | 0.1 | setosa     |\n| 7.0 | 3.2 | 4.7 | 1.4 | versicolor |\n| 5.4 | 3.0 | 4.5 | 1.5 | versicolor |\n\n",
            "text/latex": "A data.frame: 6 × 5\n\\begin{tabular}{lllll}\n Sepal.Length & Sepal.Width & Petal.Length & Petal.Width & Species\\\\\n <dbl> & <dbl> & <dbl> & <dbl> & <fct>\\\\\n\\hline\n\t 5.8 & 2.7 & 4.1 & 1.0 & versicolor\\\\\n\t 6.4 & 2.8 & 5.6 & 2.1 & virginica \\\\\n\t 4.4 & 3.2 & 1.3 & 0.2 & setosa    \\\\\n\t 4.3 & 3.0 & 1.1 & 0.1 & setosa    \\\\\n\t 7.0 & 3.2 & 4.7 & 1.4 & versicolor\\\\\n\t 5.4 & 3.0 & 4.5 & 1.5 & versicolor\\\\\n\\end{tabular}\n",
            "text/plain": [
              "  Sepal.Length Sepal.Width Petal.Length Petal.Width Species   \n",
              "1 5.8          2.7         4.1          1.0         versicolor\n",
              "2 6.4          2.8         5.6          2.1         virginica \n",
              "3 4.4          3.2         1.3          0.2         setosa    \n",
              "4 4.3          3.0         1.1          0.1         setosa    \n",
              "5 7.0          3.2         4.7          1.4         versicolor\n",
              "6 5.4          3.0         4.5          1.5         versicolor"
            ]
          },
          "metadata": {}
        }
      ]
    },
    {
      "cell_type": "code",
      "source": [
        "set.seed(1)\n",
        "iris %>%\n",
        "  sample_n(size = 1/25*n(), replace = FALSE)"
      ],
      "metadata": {
        "colab": {
          "base_uri": "https://localhost:8080/",
          "height": 283
        },
        "id": "eswtSSjzTROz",
        "outputId": "8a674182-591f-4a5a-9cc0-c63c1d3af5b7"
      },
      "execution_count": 147,
      "outputs": [
        {
          "output_type": "display_data",
          "data": {
            "text/html": [
              "<table class=\"dataframe\">\n",
              "<caption>A data.frame: 6 × 5</caption>\n",
              "<thead>\n",
              "\t<tr><th scope=col>Sepal.Length</th><th scope=col>Sepal.Width</th><th scope=col>Petal.Length</th><th scope=col>Petal.Width</th><th scope=col>Species</th></tr>\n",
              "\t<tr><th scope=col>&lt;dbl&gt;</th><th scope=col>&lt;dbl&gt;</th><th scope=col>&lt;dbl&gt;</th><th scope=col>&lt;dbl&gt;</th><th scope=col>&lt;fct&gt;</th></tr>\n",
              "</thead>\n",
              "<tbody>\n",
              "\t<tr><td>5.8</td><td>2.7</td><td>4.1</td><td>1.0</td><td>versicolor</td></tr>\n",
              "\t<tr><td>6.4</td><td>2.8</td><td>5.6</td><td>2.1</td><td>virginica </td></tr>\n",
              "\t<tr><td>4.4</td><td>3.2</td><td>1.3</td><td>0.2</td><td>setosa    </td></tr>\n",
              "\t<tr><td>4.3</td><td>3.0</td><td>1.1</td><td>0.1</td><td>setosa    </td></tr>\n",
              "\t<tr><td>7.0</td><td>3.2</td><td>4.7</td><td>1.4</td><td>versicolor</td></tr>\n",
              "\t<tr><td>5.4</td><td>3.0</td><td>4.5</td><td>1.5</td><td>versicolor</td></tr>\n",
              "</tbody>\n",
              "</table>\n"
            ],
            "text/markdown": "\nA data.frame: 6 × 5\n\n| Sepal.Length &lt;dbl&gt; | Sepal.Width &lt;dbl&gt; | Petal.Length &lt;dbl&gt; | Petal.Width &lt;dbl&gt; | Species &lt;fct&gt; |\n|---|---|---|---|---|\n| 5.8 | 2.7 | 4.1 | 1.0 | versicolor |\n| 6.4 | 2.8 | 5.6 | 2.1 | virginica  |\n| 4.4 | 3.2 | 1.3 | 0.2 | setosa     |\n| 4.3 | 3.0 | 1.1 | 0.1 | setosa     |\n| 7.0 | 3.2 | 4.7 | 1.4 | versicolor |\n| 5.4 | 3.0 | 4.5 | 1.5 | versicolor |\n\n",
            "text/latex": "A data.frame: 6 × 5\n\\begin{tabular}{lllll}\n Sepal.Length & Sepal.Width & Petal.Length & Petal.Width & Species\\\\\n <dbl> & <dbl> & <dbl> & <dbl> & <fct>\\\\\n\\hline\n\t 5.8 & 2.7 & 4.1 & 1.0 & versicolor\\\\\n\t 6.4 & 2.8 & 5.6 & 2.1 & virginica \\\\\n\t 4.4 & 3.2 & 1.3 & 0.2 & setosa    \\\\\n\t 4.3 & 3.0 & 1.1 & 0.1 & setosa    \\\\\n\t 7.0 & 3.2 & 4.7 & 1.4 & versicolor\\\\\n\t 5.4 & 3.0 & 4.5 & 1.5 & versicolor\\\\\n\\end{tabular}\n",
            "text/plain": [
              "  Sepal.Length Sepal.Width Petal.Length Petal.Width Species   \n",
              "1 5.8          2.7         4.1          1.0         versicolor\n",
              "2 6.4          2.8         5.6          2.1         virginica \n",
              "3 4.4          3.2         1.3          0.2         setosa    \n",
              "4 4.3          3.0         1.1          0.1         setosa    \n",
              "5 7.0          3.2         4.7          1.4         versicolor\n",
              "6 5.4          3.0         4.5          1.5         versicolor"
            ]
          },
          "metadata": {}
        }
      ]
    },
    {
      "cell_type": "markdown",
      "source": [
        "#### **Exercise**\n",
        "\n",
        "Planet Zog has 1,250 citizens, divided into 9 districts. The locations `(x,y)` of each citizen and their district are stored in the `planetZog` dataset.\n",
        "\n",
        "- Count the number of citizens in each district.\n",
        "- The planet wants to randomly select 25 citizens from Zog to respond to a survey. Use SRSWOR and save the resulting data frame as `smpl_Zog`.\n",
        "- Visualise the locations of the citizens using `geom_point()`, coloured by `District`.\n",
        "- Overlay the sampled data points, displayed in `black` colour, on the existing plot.\n",
        "- Repeat the sampling process several times and observe the results. What problem do you notice with this sampling approach?\n",
        "\n",
        "**Hint**: You can use a different dataset in `geom_point()` via the `data` argument, specify a separate `aes()` and `colour` for it, and overlay layers by stacking multiple `geom_point()` blocks.”\n",
        "\n",
        "*Why \"Zog\"? I asked ChatGPT to generate a random planet name.*"
      ],
      "metadata": {
        "id": "Rle5UujFsiIT"
      }
    },
    {
      "cell_type": "code",
      "source": [
        "planetZog = read.csv(\"./datasets/zog_planet.csv\")\n",
        "planetZog %>% str()"
      ],
      "metadata": {
        "colab": {
          "base_uri": "https://localhost:8080/"
        },
        "id": "MsVX0fKzz2Ox",
        "outputId": "5fd4a54e-71e9-45fc-85d5-fc23b2f8d03a"
      },
      "execution_count": 148,
      "outputs": [
        {
          "output_type": "stream",
          "name": "stdout",
          "text": [
            "'data.frame':\t1250 obs. of  4 variables:\n",
            " $ x       : num  0.955 1.122 1.036 1.04 1.011 ...\n",
            " $ y       : num  1.022 1.038 0.95 0.967 0.898 ...\n",
            " $ District: chr  \"Lala\" \"Lala\" \"Lala\" \"Lala\" ...\n",
            " $ Height  : num  167 163 166 160 164 ...\n"
          ]
        }
      ]
    },
    {
      "cell_type": "code",
      "source": [],
      "metadata": {
        "id": "89SEQ1Q7LhyK"
      },
      "execution_count": 149,
      "outputs": []
    },
    {
      "cell_type": "markdown",
      "source": [
        "<details>\n",
        "<summary>▶️ Click to show the solution</summary>\n",
        "\n",
        "\n",
        "```r\n",
        "planetZog = read.csv(\"./datasets/zog_planet.csv\")\n",
        "\n",
        "planetZog %>%\n",
        "  group_by(District) %>%\n",
        "  summarise(nrCitizens = n()) %>%\n",
        "  kable()\n",
        "\n",
        "planetZog %>%\n",
        "  slice_sample(n = 25) -> smpl_Zog\n",
        "\n",
        "planetZog %>%\n",
        "  ggplot(aes(x = x, y = y, colour = District)) +\n",
        "  geom_point(size = 2) +\n",
        "  geom_point(data = smpl_Zog, aes(x = x, y = y), colour = \"black\", size = 3)\n",
        "```\n",
        "After running the sampling several times, you will observe that:\n",
        "- The number of selected observations from each district is not proportional to that district’s population size.\n",
        "- Quite often, some districts end up with zero selected citizens.\n",
        "\n",
        "</details>\n"
      ],
      "metadata": {
        "id": "CLbiKBSe31jx"
      }
    },
    {
      "cell_type": "markdown",
      "source": [
        "### **Stratified Random Sampling**\n",
        "\n",
        "Stratified random sampling (StRS) is a method in which the population is first divided into non-overlapping subgroups, called strata, that are ideally internally homogeneous with respect to some characteristic and heterogeneous between strata. Within each stratum, a random sample is then drawn, often using SRS (usually without replacement).\n",
        "\n",
        "This approach ensures representation from all subgroups and can improve precision compared to simple random sampling.\n",
        "\n",
        "There are two main ways to allocate the sample across strata:\n",
        "\n",
        "- Proportional allocation: The sample size from each stratum is proportional to the stratum’s population size. This preserves the overall population structure.\n",
        "- Equal or optimal allocation: The sample sizes may be adjusted based on variability within strata or for specific analytical goals.\n",
        "\n",
        "Sometimes, the stratum sample size $n_h$ is not an integer and needs to be rounded, typically using the ceiling function. As a result, the total sample size may not be exactly $n$, but it will be close.\n",
        "\n",
        "We will only focus on proportional allocation in this workshop."
      ],
      "metadata": {
        "id": "bSrQWpcRNGnX"
      }
    },
    {
      "cell_type": "markdown",
      "source": [
        "#### **Mean Estimation**\n",
        "\n",
        "Suppose a population of size $N$ is divided into $H$ strata, with stratum $h$ having size $N_h$. From each stratum, we draw a simple random sample of size $n_h$, giving observations $x_{h1}, x_{h2}, \\dots, x_{h n_h}, h = 1, 2, \\dots, H.$\n",
        "\n",
        "The stratified sample mean is\n",
        "\n",
        "$$\n",
        "\\bar{x}_{\\text{st}} = \\sum_{h=1}^{H} \\frac{N_h}{N} \\bar{x}_h,\n",
        "$$\n",
        "\n",
        "where\n",
        "\n",
        "$$\n",
        "\\bar{x}_h = \\frac{1}{n_h} \\sum_{i=1}^{n_h} x_{hi}\n",
        "$$\n",
        "\n",
        "is the sample mean within stratum $h$, and $N = \\sum_{h=1}^H N_h$ is the total population size.\n",
        "\n",
        "This is an **unbiased estimator** of population mean if the sampling frame is complete."
      ],
      "metadata": {
        "id": "MlYSmCaxGB5I"
      }
    },
    {
      "cell_type": "markdown",
      "source": [
        "#### **R Examples**\n",
        "\n",
        "There is no built-in function for stratified random sampling in R. One option is to create sub-datasets for different strata and perform SRS on each of these.\n",
        "\n",
        "Back to the `iris` example. Suppose we want to randomly select 6 observations. Since the dataset contains 3 species with equal numbers of observations, we might want to select 2 observations from each species. In this case, stratified random sampling can be used to ensure that the sample is balanced across species."
      ],
      "metadata": {
        "id": "mLkYMe9TIQzj"
      }
    },
    {
      "cell_type": "markdown",
      "source": [
        "First, we create sub-datasets for different iris species."
      ],
      "metadata": {
        "id": "VlKkJrRaKdDs"
      }
    },
    {
      "cell_type": "code",
      "source": [
        "iris %>% select(Species) %>% unique() %>% print()\n",
        "iris %>% filter(Species == \"setosa\") -> setosa\n",
        "iris %>% filter(Species == \"versicolor\") -> versicolor\n",
        "iris %>% filter(Species == \"virginica\") -> virginica"
      ],
      "metadata": {
        "colab": {
          "base_uri": "https://localhost:8080/"
        },
        "id": "IgvM4Y-HKD0D",
        "outputId": "d19d8219-97b1-463f-d6e1-0caeb8a59a0a"
      },
      "execution_count": 150,
      "outputs": [
        {
          "output_type": "stream",
          "name": "stdout",
          "text": [
            "       Species\n",
            "1       setosa\n",
            "51  versicolor\n",
            "101  virginica\n"
          ]
        }
      ]
    },
    {
      "cell_type": "markdown",
      "source": [
        "Then, SRSWOR is performed within each species."
      ],
      "metadata": {
        "id": "KsklpnvLKhn4"
      }
    },
    {
      "cell_type": "code",
      "source": [
        "setosa %>% slice_sample(n = 2) -> smpl_setosa\n",
        "versicolor %>% slice_sample(n = 2) -> smpl_versicolor\n",
        "virginica %>% slice_sample(n = 2) -> smpl_virginica"
      ],
      "metadata": {
        "id": "8EQqYRIgKmta"
      },
      "execution_count": 151,
      "outputs": []
    },
    {
      "cell_type": "markdown",
      "source": [
        "It is clear that this method becomes time-consuming and cumbersome when there are many strata. Fortunately, we can use `group_by() %>% slice_sample()` to perform stratified random sampling efficiently."
      ],
      "metadata": {
        "id": "HmLal7I4Lkx1"
      }
    },
    {
      "cell_type": "code",
      "source": [
        "iris %>%\n",
        "  group_by(Species) %>%\n",
        "  slice_sample(n=2)"
      ],
      "metadata": {
        "colab": {
          "base_uri": "https://localhost:8080/",
          "height": 283
        },
        "id": "zOw6glSpL8g3",
        "outputId": "06b61169-d87e-435c-95ad-e2201585309b"
      },
      "execution_count": 152,
      "outputs": [
        {
          "output_type": "display_data",
          "data": {
            "text/html": [
              "<table class=\"dataframe\">\n",
              "<caption>A grouped_df: 6 × 5</caption>\n",
              "<thead>\n",
              "\t<tr><th scope=col>Sepal.Length</th><th scope=col>Sepal.Width</th><th scope=col>Petal.Length</th><th scope=col>Petal.Width</th><th scope=col>Species</th></tr>\n",
              "\t<tr><th scope=col>&lt;dbl&gt;</th><th scope=col>&lt;dbl&gt;</th><th scope=col>&lt;dbl&gt;</th><th scope=col>&lt;dbl&gt;</th><th scope=col>&lt;fct&gt;</th></tr>\n",
              "</thead>\n",
              "<tbody>\n",
              "\t<tr><td>4.9</td><td>3.6</td><td>1.4</td><td>0.1</td><td>setosa    </td></tr>\n",
              "\t<tr><td>5.1</td><td>3.8</td><td>1.6</td><td>0.2</td><td>setosa    </td></tr>\n",
              "\t<tr><td>5.6</td><td>2.5</td><td>3.9</td><td>1.1</td><td>versicolor</td></tr>\n",
              "\t<tr><td>6.7</td><td>3.0</td><td>5.0</td><td>1.7</td><td>versicolor</td></tr>\n",
              "\t<tr><td>6.0</td><td>2.2</td><td>5.0</td><td>1.5</td><td>virginica </td></tr>\n",
              "\t<tr><td>6.8</td><td>3.2</td><td>5.9</td><td>2.3</td><td>virginica </td></tr>\n",
              "</tbody>\n",
              "</table>\n"
            ],
            "text/markdown": "\nA grouped_df: 6 × 5\n\n| Sepal.Length &lt;dbl&gt; | Sepal.Width &lt;dbl&gt; | Petal.Length &lt;dbl&gt; | Petal.Width &lt;dbl&gt; | Species &lt;fct&gt; |\n|---|---|---|---|---|\n| 4.9 | 3.6 | 1.4 | 0.1 | setosa     |\n| 5.1 | 3.8 | 1.6 | 0.2 | setosa     |\n| 5.6 | 2.5 | 3.9 | 1.1 | versicolor |\n| 6.7 | 3.0 | 5.0 | 1.7 | versicolor |\n| 6.0 | 2.2 | 5.0 | 1.5 | virginica  |\n| 6.8 | 3.2 | 5.9 | 2.3 | virginica  |\n\n",
            "text/latex": "A grouped\\_df: 6 × 5\n\\begin{tabular}{lllll}\n Sepal.Length & Sepal.Width & Petal.Length & Petal.Width & Species\\\\\n <dbl> & <dbl> & <dbl> & <dbl> & <fct>\\\\\n\\hline\n\t 4.9 & 3.6 & 1.4 & 0.1 & setosa    \\\\\n\t 5.1 & 3.8 & 1.6 & 0.2 & setosa    \\\\\n\t 5.6 & 2.5 & 3.9 & 1.1 & versicolor\\\\\n\t 6.7 & 3.0 & 5.0 & 1.7 & versicolor\\\\\n\t 6.0 & 2.2 & 5.0 & 1.5 & virginica \\\\\n\t 6.8 & 3.2 & 5.9 & 2.3 & virginica \\\\\n\\end{tabular}\n",
            "text/plain": [
              "  Sepal.Length Sepal.Width Petal.Length Petal.Width Species   \n",
              "1 4.9          3.6         1.4          0.1         setosa    \n",
              "2 5.1          3.8         1.6          0.2         setosa    \n",
              "3 5.6          2.5         3.9          1.1         versicolor\n",
              "4 6.7          3.0         5.0          1.7         versicolor\n",
              "5 6.0          2.2         5.0          1.5         virginica \n",
              "6 6.8          3.2         5.9          2.3         virginica "
            ]
          },
          "metadata": {}
        }
      ]
    },
    {
      "cell_type": "markdown",
      "source": [
        "One particular disadvantage of `slice_sample()` is that it requires `n` to be a constant. On the other hand, `sample_n()` is more flexible and allows different stratum sample sizes."
      ],
      "metadata": {
        "id": "Qosnjr3BT6mu"
      }
    },
    {
      "cell_type": "markdown",
      "source": [
        "#### **Exercises**"
      ],
      "metadata": {
        "id": "eUZ9YEJZNWP4"
      }
    },
    {
      "cell_type": "markdown",
      "source": [
        "##### **Exercise 1**\n",
        "\n",
        "The dataset `iris_unbalanced` is extracted from the original `iris` dataset. In this version, the number of observations for each species is no longer equal.\n",
        "\n",
        "Write R code to perform StRS with proportional allocation to select 20 observations from `iris_unbalanced`"
      ],
      "metadata": {
        "id": "1qSIKdZBNYTY"
      }
    },
    {
      "cell_type": "markdown",
      "source": [
        "**Hint**:\n",
        "- Assign the number of observations in `iris_unbalanced` to a variable.\n",
        "- Use the `ceiling(x)` function to compute the ceiling value of `x`.\n",
        "-  `n()` cannot be used within `slice_sample()`."
      ],
      "metadata": {
        "id": "3ChONAA8O3eB"
      }
    },
    {
      "cell_type": "code",
      "source": [
        "iris_unbalanced= read.csv(\"./datasets/iris_unbalanced.csv\")\n",
        "iris_unbalanced %>% str()"
      ],
      "metadata": {
        "colab": {
          "base_uri": "https://localhost:8080/"
        },
        "id": "nHsylBDpNVa_",
        "outputId": "0586685c-0d07-4ec7-c7f8-166237c24dea"
      },
      "execution_count": 153,
      "outputs": [
        {
          "output_type": "stream",
          "name": "stdout",
          "text": [
            "'data.frame':\t50 obs. of  5 variables:\n",
            " $ Sepal.Length: num  5.4 4.6 5.4 4.9 4.8 4.3 5.2 5.8 5.3 5.1 ...\n",
            " $ Sepal.Width : num  3.4 3.4 3.7 3.6 3 3 3.4 4 3.7 3.5 ...\n",
            " $ Petal.Length: num  1.5 1.4 1.5 1.4 1.4 1.1 1.4 1.2 1.5 1.4 ...\n",
            " $ Petal.Width : num  0.4 0.3 0.2 0.1 0.1 0.1 0.2 0.2 0.2 0.2 ...\n",
            " $ Species     : chr  \"setosa\" \"setosa\" \"setosa\" \"setosa\" ...\n"
          ]
        }
      ]
    },
    {
      "cell_type": "code",
      "source": [],
      "metadata": {
        "id": "MBCogBowOppK"
      },
      "execution_count": 154,
      "outputs": []
    },
    {
      "cell_type": "markdown",
      "source": [
        "<details>\n",
        "<summary>▶️ Click to show the solution</summary>\n",
        "\n",
        "\n",
        "```r\n",
        "N = nrow(iris_unbalanced)\n",
        "smplSize = 20\n",
        "\n",
        "iris_unbalanced %>%\n",
        "  group_by(Species) %>%\n",
        "  sample_n(size = ceiling(smplSize*n()/N)) -> smpl_iris_unbalanced\n",
        "```\n",
        "\n",
        "</details>\n"
      ],
      "metadata": {
        "id": "3wV5Qz3JXPlG"
      }
    },
    {
      "cell_type": "markdown",
      "source": [
        "##### **Exercise 2**\n",
        "\n",
        "\n",
        "Zog citizens are not happy with the previous sampling method. They request that the number of selected citizens from each district be proportional to the district’s population size.\n",
        "- Choose an appropriate sampling method in R to carry out this task.\n",
        "- Use the resulting sample to estimate the average population height.\n",
        "\n",
        "**Hint**: Create a new column storing the stratum sizes."
      ],
      "metadata": {
        "id": "sN4UMVfjVFMc"
      }
    },
    {
      "cell_type": "code",
      "source": [],
      "metadata": {
        "id": "cZjXp_h1XCk0"
      },
      "execution_count": 166,
      "outputs": []
    },
    {
      "cell_type": "markdown",
      "source": [
        "<details>\n",
        "<summary>▶️ Click to show the solution</summary>\n",
        "\n",
        "\n",
        "```r\n",
        "N = nrow(planetZog)\n",
        "smplSize = 25\n",
        "\n",
        "planetZog %>%\n",
        "  group_by(District) %>%\n",
        "  mutate(Nh = n()) %>% #stratum sizes\n",
        "  sample_n(size = ceiling(smplSize*n()/N)) %>%\n",
        "  summarise(stratumAvgHeight = mean(Height),\n",
        "            Nh = Nh[1]) %>%\n",
        "  ungroup() %>%\n",
        "  summarise(popAvgHeight = sum(stratumAvgHeight*Nh)/sum(Nh))\n",
        "```\n",
        "\n",
        "</details>\n"
      ],
      "metadata": {
        "id": "222yR0weOsVj"
      }
    },
    {
      "cell_type": "markdown",
      "source": [
        "### **Cluster Sampling**\n",
        "\n",
        "In one-stage cluster sampling, the population is divided into non-overlapping clusters, and a random sample of clusters is selected (typically using SRSWOR). All units within the chosen clusters are included in the sample.\n",
        "\n",
        "If desired, one can also perform SRS within clusters, which leads to two-stage cluster sampling.\n",
        "\n",
        "- This method is simple and cost-effective, especially for populations that are large or geographically dispersed.\n",
        "- Cluster sampling is generally less efficient than SRS or stratified random sampling (this is beyond the scope of this unit)."
      ],
      "metadata": {
        "id": "Mx5hFnffNDA_"
      }
    },
    {
      "cell_type": "markdown",
      "source": [
        "#### **Mean Estimation**\n",
        "\n",
        "Suppose a population of size $N$ is divided into $C$ clusters, with cluster $c$ having size $M_c$. From the population, we draw a simple random sample of $n_c$ clusters, giving observations\n",
        "\n",
        "$$\n",
        "x_{c1}, x_{c2}, \\dots, x_{c M_c}, \\quad c = 1, 2, \\dots, n_c.\n",
        "$$\n",
        "\n",
        "The **one-stage cluster sample mean** is\n",
        "\n",
        "$$\n",
        "\\bar{x}_{\\text{cluster}} = \\frac{1}{n_c} \\sum_{c=1}^{n_c} \\bar{x}_c,\n",
        "$$\n",
        "\n",
        "where\n",
        "\n",
        "$$\n",
        "\\bar{x}_c = \\frac{1}{M_c} \\sum_{i=1}^{M_c} x_{ci}\n",
        "$$\n",
        "\n",
        "is the mean of all units within the selected cluster $c$.  \n",
        "\n",
        "This is an **unbiased estimator** of the population mean if the clusters are randomly selected and the sampling frame is complete.\n",
        "\n",
        "The formula for two-stage cluster sample mean is generally similar, except that we compute sample mean within each cluster instead.\n"
      ],
      "metadata": {
        "id": "tV9_2dKSbRIt"
      }
    },
    {
      "cell_type": "markdown",
      "source": [
        "#### **R Example**\n",
        "\n",
        "Cluster sampling is somewhat more involved than SRS or StRS in terms of implementation. One-stage cluster sampling is straightforward: we first select the clusters and then include all units within those clusters.\n",
        "\n",
        "For two-stage cluster sampling, an additional step is required, where a sample of units is drawn from each selected cluster."
      ],
      "metadata": {
        "id": "Do8KltQebu8k"
      }
    },
    {
      "cell_type": "markdown",
      "source": [
        "**One-stage cluster sampling**:"
      ],
      "metadata": {
        "id": "yr5tBHFGdRK4"
      }
    },
    {
      "cell_type": "code",
      "source": [
        "set.seed(1)\n",
        "planetZog %>% distinct(District) %>% sample_n(size = 3) -> selectedDistricts\n",
        "\n",
        "planetZog %>%\n",
        "  semi_join(selectedDistricts, by = \"District\") -> smpl_Zog"
      ],
      "metadata": {
        "id": "IAcn79BQcp3T"
      },
      "execution_count": 173,
      "outputs": []
    },
    {
      "cell_type": "markdown",
      "source": [
        "**Two-stage cluster sampling**:"
      ],
      "metadata": {
        "id": "QFJwIPYAdT3R"
      }
    },
    {
      "cell_type": "code",
      "source": [
        "set.seed(1)\n",
        "#Randomly select 3 districts\n",
        "planetZog %>% distinct(District) %>% sample_n(size = 3) -> selectedDistricts\n",
        "\n",
        "#Randomly select 5 observations within each selected district\n",
        "planetZog %>%\n",
        "  semi_join(selectedDistricts, by = \"District\") %>%\n",
        "  group_by(District) %>%\n",
        "  sample_n(size = 5) -> smpl_Zog"
      ],
      "metadata": {
        "id": "rTNVA-wZdVQ3"
      },
      "execution_count": 174,
      "outputs": []
    },
    {
      "cell_type": "markdown",
      "source": [
        "## **i.i.d. Sampling**\n",
        "\n",
        "\n",
        "In most classical sampling scenarios, we assume that the observations in a sample are **independent and identically distributed (i.i.d.)**.  \n",
        "\n",
        "- **Independent**: the value of one observation does not affect another.  \n",
        "- **Identically distributed**: all observations come from the same underlying population distribution.  \n",
        "\n",
        "Formally, if $X_1, X_2, \\dots, X_n$ are i.i.d. random variables from population $X$, then each $X_i \\sim F_X$ and  \n",
        "\n",
        "$$\n",
        "P(X_1 \\le x_1, \\dots, X_n \\le x_n) = \\prod_{i=1}^{n} P(X_i \\le x_i).\n",
        "$$  \n",
        "\n",
        "An example of i.i.d. sampling is SRSWR, where we repeatedly draw units from the same finite population, and each draw is independent and identically distributed. However, in many statistical modeling scenarios, the population may be infinite, such as in continuous distributions like the Gaussian or exponential.\n",
        "\n",
        "An example of non i.i.d. sampling is SRSWOR. In this case, the draws are no longer independent, because selecting one unit changes the probabilities of selecting the remaining units. As a result, the observations are dependent, and the i.i.d. assumption does not hold.\n",
        "\n"
      ],
      "metadata": {
        "id": "rQRgCUxxeS5D"
      }
    },
    {
      "cell_type": "markdown",
      "source": [
        "#### **Different Perspectives of i.i.d. Sampling**\n",
        "\n",
        "It is important to note that finite-population sampling and i.i.d. sampling are not fundamentally different. They simply represent different perspectives. Consider the example of estimate the average height of Zog citizens given a SRSWR sample:\n",
        "\n",
        "- Finite-Population Perspective: Heights are viewed as a sample drawn from the population of all people in Zog. The goal is to estimate the population mean of height.\n",
        "\n",
        "- Model-Based (i.i.d.) Perspective: Heights of individuals in both the Zog population and the sample are considered realisations of a random variable (or a data-generating process) $X$. The goal is to estimate the $X$ and study the distribution of heights through this probabilistic model."
      ],
      "metadata": {
        "id": "eLf4Tkjyfdmt"
      }
    },
    {
      "cell_type": "markdown",
      "source": [
        "## **Sampling Distribution**\n",
        "\n",
        "When we collect data as a sample of size $n$ from a population $X$, we can then calculate some sample statistics as an estimate of population-level characteristics or parameters. But because these statistics are functions of random variables, the resulting statistics are also random variables and are thus are subject to interpretation via probabilistic inference via their sampling distribution.\n",
        "\n",
        "The sampling distribution of a statistic describes how the statistic varies across repeated samples from the same population. It allows us to evaluate statistical methods (like probability sampling methods) and forms the basis for statistical inference.\n",
        "\n",
        "For non-probability sampling methods, a formal sampling distribution does not exist (as the probability of selecting each observation is not known). Consequently, it is not possible to quantify or correct for bias in the estimates.\n",
        "\n"
      ],
      "metadata": {
        "id": "3JJaYAaZpUWc"
      }
    },
    {
      "cell_type": "markdown",
      "source": [
        "## **Workshop Questions**\n"
      ],
      "metadata": {
        "id": "uO9c9T2QAGqp"
      }
    },
    {
      "cell_type": "markdown",
      "source": [
        "### **Question 1**"
      ],
      "metadata": {
        "id": "D0fYT6WZAOfJ"
      }
    }
  ]
}