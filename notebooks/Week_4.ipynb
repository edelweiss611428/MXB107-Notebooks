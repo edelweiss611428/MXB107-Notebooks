{
  "nbformat": 4,
  "nbformat_minor": 0,
  "metadata": {
    "colab": {
      "provenance": []
    },
    "kernelspec": {
      "name": "ir",
      "display_name": "R"
    },
    "language_info": {
      "name": "R"
    }
  },
  "cells": [
    {
      "cell_type": "markdown",
      "source": [
        "# **Week 4: Probability Review**\n",
        "\n",
        "```\n",
        ".------------------------------------.\n",
        "|   __  ____  ______  _  ___ _____   |\n",
        "|  |  \\/  \\ \\/ / __ )/ |/ _ \\___  |  |\n",
        "|  | |\\/| |\\  /|  _ \\| | | | | / /   |\n",
        "|  | |  | |/  \\| |_) | | |_| |/ /    |\n",
        "|  |_|  |_/_/\\_\\____/|_|\\___//_/     |\n",
        "'------------------------------------'\n",
        "\n",
        "```\n",
        "\n",
        "This week, we’ll review basic probability concepts through problem solving."
      ],
      "metadata": {
        "id": "ZtpJJ8BSHOaK"
      }
    },
    {
      "cell_type": "markdown",
      "source": [
        "## **Pre-Configurating the Notebook**"
      ],
      "metadata": {
        "id": "SVtkEkRDY5Ex"
      }
    },
    {
      "cell_type": "markdown",
      "source": [
        "### **Switching to the R Kernel on Colab**\n",
        "\n",
        "By default, Google Colab uses Python as its programming language. To use R instead, you’ll need to manually switch the kernel by going to **Runtime > Change runtime type**, and selecting R as the kernel. This allows you to run R code in the Colab environment.\n",
        "\n",
        "However, our notebook is already configured to use R by default. Unless something goes wrong, you shouldn’t need to manually change runtime type."
      ],
      "metadata": {
        "id": "0vfwHxobY6_q"
      }
    },
    {
      "cell_type": "markdown",
      "source": [
        "### **Importing Required Packages**\n",
        "**Run the following lines of code**:"
      ],
      "metadata": {
        "id": "36rWeG2RY7fJ"
      }
    },
    {
      "cell_type": "code",
      "source": [
        "#Do not modify\n",
        "\n",
        "setwd(\"/content\")\n",
        "\n",
        "# Remove `MXB107-Notebooks` if exists,\n",
        "if (dir.exists(\"MXB107-Notebooks\")) {\n",
        "  system(\"rm -rf MXB107-Notebooks\")\n",
        "}\n",
        "\n",
        "# Fork the repository\n",
        "system(\"git clone https://github.com/edelweiss611428/MXB107-Notebooks.git\")\n",
        "\n",
        "# Change working directory to \"MXB107-Notebooks\"\n",
        "setwd(\"MXB107-Notebooks\")\n",
        "\n",
        "#\n",
        "invisible(source(\"R/preConfigurated.R\"))"
      ],
      "metadata": {
        "id": "t_2d_ItyY9yz"
      },
      "execution_count": null,
      "outputs": []
    },
    {
      "cell_type": "markdown",
      "source": [
        "**Do not modify the following**"
      ],
      "metadata": {
        "id": "q-ITFB1qY_ZJ"
      }
    },
    {
      "cell_type": "code",
      "source": [
        "if (!require(\"testthat\")) install.packages(\"testthat\"); library(\"testthat\")\n",
        "\n",
        "test_that(\"Test if all packages have been loaded\", {\n",
        "\n",
        "  expect_true(all(c(\"ggplot2\", \"tidyr\", \"dplyr\", \"stringr\", \"magrittr\", \"knitr\") %in% loadedNamespaces()))\n",
        "\n",
        "})"
      ],
      "metadata": {
        "id": "Hgh75IDpZCf2"
      },
      "execution_count": null,
      "outputs": []
    },
    {
      "cell_type": "markdown",
      "source": [
        "## **Workshop Questions**"
      ],
      "metadata": {
        "id": "h2QjtRW9XW4Y"
      }
    },
    {
      "cell_type": "markdown",
      "source": [
        "### **Question 1**\n",
        "\n",
        "Three (fair) six-sided dice are rolled and their values summed. Calculate the probability of observing exactly two dice showing the same value and the third showing a different value."
      ],
      "metadata": {
        "id": "SWH2L-5QX6h0"
      }
    },
    {
      "cell_type": "markdown",
      "source": [
        "Here, we will utilise the combinatoric definition of probability (which can be applied when each possible outcome has the same probability):\n",
        "\n",
        "Probability of an event $A$ is the number of possible ways for $A$ to occur divided by the number of possible outcomes.\n",
        "\n",
        "$$\n",
        "\\Pr(A) = \\frac{\\text{Number of ways } A \\text{ can occur}}{\\text{Number of possible outcomes}}.\n",
        "$$"
      ],
      "metadata": {
        "id": "fl1JEwt3vIZk"
      }
    },
    {
      "cell_type": "markdown",
      "source": [
        "#### **The Brute-Force Approach**"
      ],
      "metadata": {
        "id": "C5yiAEQ0hvTz"
      }
    },
    {
      "cell_type": "markdown",
      "source": [
        "In many scenarios, we can use a brute-force approach to calculate the probability of an event. Essentially, this involves generating all possible outcomes in the sample space and then computing the probability of the event of interest."
      ],
      "metadata": {
        "id": "rYpFdxM1h6gb"
      }
    },
    {
      "cell_type": "markdown",
      "source": [
        "We can generate all possible outcomes of rolling three 6-sided dice using the `expand.grid()` function. The results is a `data.frame`, assigned to `outcomes`."
      ],
      "metadata": {
        "id": "BUcw5OzqYhyX"
      }
    },
    {
      "cell_type": "code",
      "source": [
        "die1 = die2 = die3 = 1:6\n",
        "outcomes = expand.grid(die1, die2, die3)\n",
        "outcomes %>% head(10) %>% kable()"
      ],
      "metadata": {
        "id": "w1m07ndZfgQe"
      },
      "execution_count": null,
      "outputs": []
    },
    {
      "cell_type": "markdown",
      "source": [
        "##### **Question 1.1**\n",
        "\n",
        "Rename `Var1`, `Var2`, and `Var3` columns to `Die1`, `Die2`, and `Die3`"
      ],
      "metadata": {
        "id": "4TrjbEtjb8fm"
      }
    },
    {
      "cell_type": "code",
      "source": [],
      "metadata": {
        "id": "t147stO4b83n"
      },
      "execution_count": null,
      "outputs": []
    },
    {
      "cell_type": "markdown",
      "source": [
        "<details>\n",
        "<summary>▶️ Click to show the solution</summary>\n",
        "\n",
        "```r\n",
        "outcomes %>%\n",
        "  rename(Die1 = Var1, Die2 = Var2, Die3 = Var3) -> outcomes\n",
        "outcomes %>% head(10) %>% kable()\n",
        "```\n",
        "\n",
        "</details>"
      ],
      "metadata": {
        "id": "R-qrbdCOVY5K"
      }
    },
    {
      "cell_type": "markdown",
      "source": [
        "##### **The `ifelse()` Function**\n",
        "\n",
        "The `ifelse(test, yes, no)` evaluates the logical or comparision expression in `test`. If `test` is `true`, the value in `yes` is returned. Otherwise, return the value in `no`.\n",
        "\n"
      ],
      "metadata": {
        "id": "2Xt6MgBjaUZ3"
      }
    },
    {
      "cell_type": "code",
      "source": [
        "ifelse(3>5, \"Aha!\", \"Voila!\")"
      ],
      "metadata": {
        "id": "aPbtMcEbkBCI"
      },
      "execution_count": null,
      "outputs": []
    },
    {
      "cell_type": "markdown",
      "source": [
        "`test` can be a vector operation."
      ],
      "metadata": {
        "id": "iCIPdeMPkLRE"
      }
    },
    {
      "cell_type": "code",
      "source": [
        "ifelse(c(1,2,3,4,5)>3, \"Aha!\", \"Voila!\")"
      ],
      "metadata": {
        "id": "bTWKX9GMkj2i"
      },
      "execution_count": null,
      "outputs": []
    },
    {
      "cell_type": "markdown",
      "source": [
        "We can create a new column named `Die1GreaterThan3` where value is 1 if `Die1 > 3` and 0 otherwise."
      ],
      "metadata": {
        "id": "sEjyFQLPk1r6"
      }
    },
    {
      "cell_type": "code",
      "source": [
        "outcomes %>%\n",
        "  mutate(Die1GreaterThan3 = ifelse(Die1 > 3, 1, 0)) %>%\n",
        "  head(10) %>%\n",
        "  kable()"
      ],
      "metadata": {
        "id": "nN_E_SVXlMDY"
      },
      "execution_count": null,
      "outputs": []
    },
    {
      "cell_type": "markdown",
      "source": [
        "##### **Question 1.2**\n",
        "\n",
        "Create a new column named `Satisfied` where value is 1 if we observe exactly two dice showing the same value and the third showing a different value and 0 otherwise."
      ],
      "metadata": {
        "id": "_JtRT003ll02"
      }
    },
    {
      "cell_type": "markdown",
      "source": [
        "<details>\n",
        "<summary>▶️ Click to show hint</summary>\n",
        "\n",
        "We need `Die1 == Die2` and `Die1 != Die3` **or** `Die2 == Die3` and `Die1 != Die3`, **or** `Die1 == Die3` and `Die1 != Die2`.\n",
        "\n",
        "</details>"
      ],
      "metadata": {
        "id": "TLDFVP5NmAEA"
      }
    },
    {
      "cell_type": "code",
      "source": [],
      "metadata": {
        "id": "RIV4Kldtb0k3"
      },
      "execution_count": null,
      "outputs": []
    },
    {
      "cell_type": "markdown",
      "source": [
        "<details>\n",
        "<summary>▶️ Click to show the solution</summary>\n",
        "\n",
        "```r\n",
        "outcomes %>%\n",
        "  mutate(Satisfied = ifelse((Die1 == Die2 & Die1 != Die3) |\n",
        "                            (Die2 == Die3 & Die1 != Die2)|\n",
        "                            (Die1 == Die3 & Die2 != Die3), 1, 0)) -> outcomes\n",
        "outcomes %>%                            \n",
        "  head(10) %>%\n",
        "  kable()\n",
        "```\n",
        "\n",
        "</details>"
      ],
      "metadata": {
        "id": "JMx9X4AtVNji"
      }
    },
    {
      "cell_type": "markdown",
      "source": [
        "##### **Question 1.3**\n",
        "\n",
        "The sum of `Satisfied` is the number of possible ways for our event of interest to occur. Calculate the probability of observing the event.\n"
      ],
      "metadata": {
        "id": "bmjqqSh8exIq"
      }
    },
    {
      "cell_type": "markdown",
      "source": [
        "<details>\n",
        "<summary>▶️ Click to show hint</summary>\n",
        "\n",
        "`n()` can be used within `summarise()` to calculate the number of rows.\n",
        "\n",
        "</details>"
      ],
      "metadata": {
        "id": "Cgp0niaHpUkG"
      }
    },
    {
      "cell_type": "code",
      "source": [],
      "metadata": {
        "id": "7DXsS7JUe5MS"
      },
      "execution_count": null,
      "outputs": []
    },
    {
      "cell_type": "markdown",
      "source": [
        "<details>\n",
        "<summary>▶️ Click to show the solution</summary>\n",
        "\n",
        "```r\n",
        "outcomes %>%\n",
        "  summarise(Pr = sum(Satisfied)/n())\n",
        "```\n",
        "\n",
        "</details>"
      ],
      "metadata": {
        "id": "SW9cP5VqVIhb"
      }
    },
    {
      "cell_type": "markdown",
      "source": [
        "#### **A \"Smarter\" Approach**\n",
        "\n",
        "Sometimes, we avoid the brute-force approach — for example, when the sample space is too large for our computers to handle, when we lack the computational resources, or when the problem is simply too complex to solve this way."
      ],
      "metadata": {
        "id": "rAz5j6J5o6Ia"
      }
    },
    {
      "cell_type": "markdown",
      "source": [
        "**Recall that**:\n",
        "\n",
        "The complement of an event $A$, denoted as $A^c$, includes all outcomes in the sample space $S$ but not in $A$.\n",
        "\n",
        "$$\n",
        "\\Pr(A^c) = 1 - \\Pr(A).\n",
        "$$\n",
        "\n",
        "\n"
      ],
      "metadata": {
        "id": "5xF1AxHUqACm"
      }
    },
    {
      "cell_type": "markdown",
      "source": [
        "Instead of directly calculating the probability of observing exactly two dice showing the same value and the third showing a different value, we could compute it indirectly by:\n",
        "\n",
        "- Letting `Pr1` be the probability that all three dice show different values (Event `E1`)\n",
        "- Letting `Pr2` be the probability that all three dice show the same value (Event `E2`)\n",
        "\n",
        "Then, since these three cases are mutually exclusive and exhaustive, we can write:\n",
        "\n",
        "$$\\text{Pr(exactly two the same) = 1 − Pr1 − Pr2}.$$"
      ],
      "metadata": {
        "id": "aHLF_oFbrVVr"
      }
    },
    {
      "cell_type": "markdown",
      "source": [
        "##### **Question 1.4**\n",
        "Calculate the probability of the event of interest following the \"smarter\" approach."
      ],
      "metadata": {
        "id": "LKWS3z7Esfyw"
      }
    },
    {
      "cell_type": "code",
      "source": [],
      "metadata": {
        "id": "-qR6qhmDsAN7"
      },
      "execution_count": null,
      "outputs": []
    },
    {
      "cell_type": "markdown",
      "source": [
        "<details>\n",
        "<summary>▶️ Click to show the solution</summary>\n",
        "\n",
        "There are $6^3$ cases in total, in which $6 \\times 5 \\times 4$ cases are of event `E1` and $6$ cases are of event `E2`.\n",
        "\n",
        "\n",
        "```r\n",
        "N = 6*6*6\n",
        "Pr1 = 6*5*4/N\n",
        "Pr2 = 6/N\n",
        "1 - Pr1 - Pr2\n",
        "```\n",
        "\n",
        "</details>"
      ],
      "metadata": {
        "id": "TiUm_ip1vqIc"
      }
    },
    {
      "cell_type": "markdown",
      "source": [
        "##### **Question 1.5**\n",
        "\n",
        "Following the approaches from Questions 1.3 and 1.4, calculate the probability of observing the event of interest by calculating `Pr1` and `Pr2`."
      ],
      "metadata": {
        "id": "KUICo3uftB_y"
      }
    },
    {
      "cell_type": "code",
      "source": [],
      "metadata": {
        "id": "UBlmsIaEtzvH"
      },
      "execution_count": null,
      "outputs": []
    },
    {
      "cell_type": "markdown",
      "source": [
        "<details>\n",
        "<summary>▶️ Click to show the solution</summary>\n",
        "\n",
        "```r\n",
        "outcomes %>%\n",
        "  mutate(E1 = ifelse(Die1 != Die2 & Die2 != Die3 & Die1 != Die3, 1, 0),\n",
        "         E2 = ifelse(Die1 == Die2 & Die2 == Die3, 1, 0)) %>%\n",
        "  summarise(Pr1 = sum(E1)/n(),\n",
        "            Pr2 = sum(E2)/n()) %>%\n",
        "  mutate(Pr = 1 - Pr1 - Pr2)\n",
        "```\n",
        "\n",
        "</details>"
      ],
      "metadata": {
        "id": "c8Vmyv-It1VN"
      }
    },
    {
      "cell_type": "markdown",
      "source": [
        "### **Question 2**\n",
        "Assume a year with 365 days (i.e., non-leap year)."
      ],
      "metadata": {
        "id": "e-yQSfiOw0_4"
      }
    },
    {
      "cell_type": "markdown",
      "source": [
        "#### **Question 2.1**\n",
        "\n",
        "What is the probability that two people share the same birthday (month and date; not year)?"
      ],
      "metadata": {
        "id": "3Omb-AyozLDD"
      }
    },
    {
      "cell_type": "markdown",
      "source": [
        "The solution is most directly found by finding the probability that two people don’t share the same birthday and then use the property of complimentary events.\n",
        "\n",
        "- Let $A$ be the event that two people share the same birthday\n",
        "- Let $A^c$ be the event that two people dont’t share a birthday\n",
        "\n",
        "There are $365 \\times 365$ combinations of birthdays for two people, and $365 \\times 364$ satisfy event $A$. Thus,\n",
        "\n",
        "$$\\text{Pr}(A^c) = \\frac{365}{365}\\times\\frac{364}{365} = 0.9972603.$$\n",
        "\n",
        "And, $\\text{Pr}(A) = 1 - \\text{Pr}(A^c) = 0.0027397$."
      ],
      "metadata": {
        "id": "VVxBUtBfxVrA"
      }
    },
    {
      "cell_type": "markdown",
      "source": [
        "In R, we can use the `prod()` function to compute the product of all elements of a vector.\n"
      ],
      "metadata": {
        "id": "WBEvgjhK0IL2"
      }
    },
    {
      "cell_type": "code",
      "source": [
        "prod(364:365) == 364*365\n",
        "prod(c(365, 365)) == 365^2"
      ],
      "metadata": {
        "id": "TA_RiT530Iz9"
      },
      "execution_count": null,
      "outputs": []
    },
    {
      "cell_type": "markdown",
      "source": [
        "#### **Question 2.2**\n",
        "\n",
        "Given that there are about 300 people enrolled in `MXB107`, what is the probability that no one shares the same birthday?\n"
      ],
      "metadata": {
        "id": "jfHchKcvzOjj"
      }
    },
    {
      "cell_type": "markdown",
      "source": [
        "<details>\n",
        "<summary>▶️ Click to show hint 1</summary>\n",
        "\n",
        "Let $A^c$ be the event that no one shares the same birthday. Thus,\n",
        "\n",
        "$$\\text{Pr}(A^c) = \\frac{365}{365}\\times\\frac{364}{365}\\times ⋯ \\frac{365-300+1}{365}.$$\n",
        "\n",
        "</details>"
      ],
      "metadata": {
        "id": "HlkyX8I-13iQ"
      }
    },
    {
      "cell_type": "markdown",
      "source": [
        "<details>\n",
        "<summary>▶️ Click to show hint 2</summary>\n",
        "\n",
        "If you use `prod(365:(365-300+1))`, you will very likely encounter overflow, meaning the number becomes larger than what your computer can handle. As a result, you might see the output `Inf` (infinity) in R.\n",
        "\n",
        "A better approach is to compute a vector of **proportions** and then use `prod()` on that vector.\n",
        "\n",
        "</details>"
      ],
      "metadata": {
        "id": "Z5mnDmxazXc3"
      }
    },
    {
      "cell_type": "code",
      "source": [],
      "metadata": {
        "id": "fo88v6YU1xQZ"
      },
      "execution_count": null,
      "outputs": []
    },
    {
      "cell_type": "markdown",
      "source": [
        "<details>\n",
        "<summary>▶️ Click to show the solution</summary>\n",
        "\n",
        "```r\n",
        "prop = (365:(365-300+1))/365\n",
        "prod(prop)\n",
        "```\n",
        "\n",
        "</details>"
      ],
      "metadata": {
        "id": "gSTltkL81vVQ"
      }
    },
    {
      "cell_type": "markdown",
      "source": [
        "\n",
        "\n",
        "#### **Question 2.3**\n",
        "\n",
        "What if there are 366 people enrolled in `MXB107`?"
      ],
      "metadata": {
        "id": "KalYT8475_bt"
      }
    },
    {
      "cell_type": "markdown",
      "source": [
        "<details>\n",
        "<summary>▶️ Click to show the solution</summary>\n",
        "\n",
        "Probability of no one sharing the same birthday is 0, according to the Dirichlet's (or pigeon) principle.\n",
        "</details>"
      ],
      "metadata": {
        "id": "XqfPBP5h6HsE"
      }
    },
    {
      "cell_type": "markdown",
      "source": [
        "### **Question 3:**\n",
        "\n",
        "A Covid-19 test has the following properties:\n",
        "\n",
        "- If a person has Covid-19, the test correctly detects it 95% of the time.\n",
        "- If a person does not have Covid-19, the test correctly shows a negative result 98% of the time.\n",
        "\n",
        "In the population, 1% of people actually have the virus."
      ],
      "metadata": {
        "id": "SgErpCsp2oOK"
      }
    },
    {
      "cell_type": "code",
      "source": [
        "svgCode = paste(readLines(\"figures/bayes.svg\", warn = F), collapse = \"\\n\")\n",
        "display_html(svgCode)"
      ],
      "metadata": {
        "id": "aqFUg5E322yt"
      },
      "execution_count": null,
      "outputs": []
    },
    {
      "cell_type": "markdown",
      "source": [
        "#### **Question 3.1**\n",
        "\n",
        "If a randomly selected person is infected, what is the probability of testing positive?"
      ],
      "metadata": {
        "id": "hN9tIflV7g0G"
      }
    },
    {
      "cell_type": "code",
      "source": [
        "# Write your solution in here (no R code)"
      ],
      "metadata": {
        "id": "u2t7iSWb1ML0"
      },
      "execution_count": null,
      "outputs": []
    },
    {
      "cell_type": "markdown",
      "source": [
        "<details>\n",
        "<summary>▶️ Click to show the solution</summary>\n",
        "\n",
        "Let $P$ be the event that a test is positive\n",
        "\n",
        "Let $I$ be the event that a person is infected\n",
        "\n",
        "From the information in the question, we can see that:\n",
        "\n",
        "$$\\Pr(P \\mid I) = 0.95$$\n",
        "\n",
        "This is what's called the \"true positive rate\".\n",
        "\n",
        "</details>"
      ],
      "metadata": {
        "id": "ATlD5iqE8A4M"
      }
    },
    {
      "cell_type": "markdown",
      "source": [
        "#### **Question 3.2**\n",
        "\n",
        "What is the probability of testing positive?"
      ],
      "metadata": {
        "id": "IKRJ7O1G7Wch"
      }
    },
    {
      "cell_type": "code",
      "source": [
        "# Write your solution in here (no R code)"
      ],
      "metadata": {
        "id": "EzO0yPEs7vp1"
      },
      "execution_count": null,
      "outputs": []
    },
    {
      "cell_type": "markdown",
      "source": [
        "<details>\n",
        "<summary>▶️ Click to show the solution</summary>\n",
        "\n",
        "Here we are interested in determining the unconditional probabability $\\Pr(P)$. We can calculate this using the law of total probability:\n",
        "\n",
        "$$\n",
        "\\begin{align}\n",
        "\\Pr(P) &= \\Pr(P|I)\\times\\Pr(I) + \\Pr(P|I^c)\\times\\Pr(I^c) \\\\\n",
        "&= 0.95 \\times 0.01 + 0.02 \\times 0.99 \\\\\n",
        "&= 0.0293\n",
        "\\end{align}\n",
        "$$\n",
        "\n",
        "</details>"
      ],
      "metadata": {
        "id": "PZ-bewen8cPT"
      }
    },
    {
      "cell_type": "markdown",
      "source": [
        "#### **Question 3.3**\n",
        "\n",
        "If a randomly selected person tests positive, what is the probability that the person actually has Covid-19?"
      ],
      "metadata": {
        "id": "sf4-JHwc7Rot"
      }
    },
    {
      "cell_type": "markdown",
      "source": [
        "<details>\n",
        "<summary>▶️ Click to show hint</summary>\n",
        "\n",
        "Recall the Bayes' Theorem:\n",
        "\n",
        "$$\n",
        "\\Pr(A \\mid B) = \\frac{\\Pr(B \\mid A) \\times \\Pr(A)}{\\Pr(B)}\n",
        "$$\n",
        "\n",
        "</details>"
      ],
      "metadata": {
        "id": "ad1FvHdTAYWF"
      }
    },
    {
      "cell_type": "code",
      "source": [
        "# Write your solution in here (no R code)"
      ],
      "metadata": {
        "id": "qk-rBrwXH1kq"
      },
      "execution_count": null,
      "outputs": []
    },
    {
      "cell_type": "markdown",
      "source": [
        "<details>\n",
        "<summary>▶️ Click to show the solution</summary>\n",
        "\n",
        "Here we want to find $\\Pr(I \\mid P)$. We can obtain this via Bayes theorem:\n",
        "\n",
        "$$\n",
        "\\begin{align}\n",
        "\\Pr(I \\mid P) &= \\frac{\\Pr(P \\mid I) \\times \\Pr(I)}{\\Pr(P)} \\\\\n",
        "&= \\frac{0.95 \\times 0.01}{0.0293} \\\\\n",
        "&\\approx 0.3242\n",
        "\\end{align}\n",
        "$$\n",
        "\n",
        "</details>\n",
        "\n",
        "\n"
      ],
      "metadata": {
        "id": "i2AmoVsm23P4"
      }
    },
    {
      "cell_type": "markdown",
      "source": [
        "Note that the **probability of being tested positive given being infected** tells you how good a test is at detecting infected patients. However, what we do care about in practice is **the probability of being infected given being tested positive**.\n",
        "\n",
        "Many serious diseases have hallmark symptoms that almost always appear in patients who have the disease (i.e., almost 100% \"true positive rate\"). But those same symptoms can also appear in many other, less severe or more common illnesses. So, seeing the symptom alone isn’t enough to confidently diagnose the severe disease.\n",
        "\n",
        "**Examples**:\n",
        "\n",
        "- Chest pain: It’s a classic symptom of a heart attack (which can be life-threatening), but it’s also common in many less serious conditions like acid reflux, muscle strain, or anxiety.\n",
        "- Fatigue: Seen in severe diseases like cancer or autoimmune disorders, but also in common conditions like sleep deprivation or stress."
      ],
      "metadata": {
        "id": "FJKllhNs984v"
      }
    },
    {
      "cell_type": "markdown",
      "source": [
        "### **Question 4**\n",
        "\n",
        "We have seen the classical definition of probability based on counting. There is another important (classical) definition — the frequentist definition — based on relative frequency. It defines the probability of an event as the limiting value of the proportion of times the event occurs as the number of trials becomes very large:\n",
        "\n",
        "$$\n",
        "\\Pr(A) = \\lim_{n \\to \\infty} \\frac{N_A(n)}{n}\n",
        "$$\n",
        "\n",
        "where $N_A(n)$ is the number of times event $A$ occurs in $n$ trials.\n"
      ],
      "metadata": {
        "id": "VRMbNRYaAsar"
      }
    },
    {
      "cell_type": "markdown",
      "source": [
        "We know that the probability of getting `Heads` (1) by tossing a fair coin is 0.5. Similarly, the probability of getting `Tails` (0) is 1 - 0.5 = 0.5. To simulate this coin tossing experiment `n` times, we could run `sample(0:1, size = n, replace = T)`."
      ],
      "metadata": {
        "id": "dYW--6WFELtW"
      }
    },
    {
      "cell_type": "code",
      "source": [
        "n = 10\n",
        "x = sample(0:1, size = n, replace = T) #Head = 1; Tail = 0\n",
        "print(x)\n",
        "mean(x) #The relative frequency of Head"
      ],
      "metadata": {
        "id": "9hLjc1cUEsEZ"
      },
      "execution_count": null,
      "outputs": []
    },
    {
      "cell_type": "markdown",
      "source": [
        "Every time you rerun the block above, you get a new `x` vector. Our computers do not truly produce random values, though. Computers use pseudo-random number generators, which produce values that appear random but are actually generated by a deterministic process.\n",
        "\n",
        "To ensure reproducibility (i.e., getting the same results each time you run the code), you can use `set.seed(seed)` to fix the starting point of the random number generator."
      ],
      "metadata": {
        "id": "0MLIhCgjE3m9"
      }
    },
    {
      "cell_type": "code",
      "source": [
        "set.seed(123)\n",
        "n = 10\n",
        "x = sample(0:1, size = n, replace = T)\n",
        "print(x)\n",
        "mean(x)"
      ],
      "metadata": {
        "id": "zPU9gkSuH5p_"
      },
      "execution_count": null,
      "outputs": []
    },
    {
      "cell_type": "markdown",
      "source": [
        "Assume that you want to toss a coin `n` times then calculate the relative frequency of `Heads` and repeat the process `nRepeats` times. To perform this experiment in R, we can do the following steps:\n",
        "\n",
        "- Create an empty numeric vector of length `nRepeats` to store the frequency of `Heads`."
      ],
      "metadata": {
        "id": "kzp46Xg4H7QU"
      }
    },
    {
      "cell_type": "code",
      "source": [
        "nRepeats = 100\n",
        "headFreqn10 = numeric(nRepeats) #Here, n = 10."
      ],
      "metadata": {
        "id": "TwH35KkgIaZl"
      },
      "execution_count": null,
      "outputs": []
    },
    {
      "cell_type": "markdown",
      "source": [
        "- Use a `for` loop to repeat the process `nRepeats` times and save the results to `headFreqn10`."
      ],
      "metadata": {
        "id": "lSS6085tKl0A"
      }
    },
    {
      "cell_type": "code",
      "source": [
        "set.seed(123)\n",
        "for(i in 1:nRepeats){ #Repeat for i varying from 1 to nRepeats\n",
        "   x = sample(0:1, size = 10, replace = T) #Toss a coin 10 times\n",
        "   headFreqn10[i] = mean(x) #Compute the relative frequency of `Head` in `x` and save the value to the i-th value in `headFreqn10`\n",
        "}"
      ],
      "metadata": {
        "id": "ft_FjkE4Kz_C"
      },
      "execution_count": null,
      "outputs": []
    },
    {
      "cell_type": "markdown",
      "source": [
        "#### **Question 4.1**\n",
        "\n",
        "Follow the steps above to create new vectors named `headFreqn100`, `headFreqn1000`, and `headFreqn10000` that contain the relative frequencies of heads in 100, 1000, and 10000 tosses, respectively (repeated 100 times).\n",
        "\n",
        "Set a `seed` value for ensuring reproducibility."
      ],
      "metadata": {
        "id": "jg1NNLWwIyTA"
      }
    },
    {
      "cell_type": "code",
      "source": [],
      "metadata": {
        "id": "MNjGiNnuN01i"
      },
      "execution_count": null,
      "outputs": []
    },
    {
      "cell_type": "markdown",
      "source": [
        "<details>\n",
        "<summary>▶️ Click to show the solution</summary>\n",
        "\n",
        "```r\n",
        "set.seed(123)\n",
        "\n",
        "nRepeats = 100\n",
        "headFreqn100 = numeric(nRepeats)\n",
        "headFreqn1000 = numeric(nRepeats)\n",
        "headFreqn10000 = numeric(nRepeats)\n",
        "\n",
        "for(i in 1:nRepeats){\n",
        "   x = sample(0:1, size = 100, replace = T)\n",
        "   headFreqn100[i] = mean(x)\n",
        "}\n",
        "\n",
        "for(i in 1:nRepeats){\n",
        "   x = sample(0:1, size = 1000, replace = T)\n",
        "   headFreqn1000[i] = mean(x)\n",
        "}\n",
        "\n",
        "for(i in 1:nRepeats){\n",
        "   x = sample(0:1, size = 10000, replace = T)\n",
        "   headFreqn10000[i] = mean(x)\n",
        "}\n",
        "```\n",
        "</details>"
      ],
      "metadata": {
        "id": "_0ErryqUJiqF"
      }
    },
    {
      "cell_type": "markdown",
      "source": [
        "#### **Question 4.2**\n",
        "\n",
        "Group the simulated data in `headFreqn10`, `headFreqn100`, `headFreqn1000`, and `headFreqn10000` into a single data frame. Then, visualise the distribution of the relative frequency of heads for different numbers of coin tosses with boxplots. What observations can you make from the results?"
      ],
      "metadata": {
        "id": "m_doFieyJjFJ"
      }
    },
    {
      "cell_type": "code",
      "source": [],
      "metadata": {
        "id": "gYg5B07DMYEC"
      },
      "execution_count": null,
      "outputs": []
    },
    {
      "cell_type": "markdown",
      "source": [
        "<details>\n",
        "<summary>▶️ Click to show the solution</summary>\n",
        "\n",
        "```r\n",
        "headFreq = data.frame(n10 = headFreqn10,\n",
        "                      n100 = headFreqn100,\n",
        "                      n1000 = headFreqn1000,\n",
        "                      n10000 = headFreqn10000)\n",
        "\n",
        "headFreq %>% boxplot()\n",
        "abline(h = 0.5, col = \"red\")\n",
        "```\n",
        "</details>\n",
        "\n",
        "\n"
      ],
      "metadata": {
        "id": "5nSBlbbBNLet"
      }
    },
    {
      "cell_type": "markdown",
      "source": [
        "**The remaining questions are for you to try on your own, with solutions released at the end of the week.**"
      ],
      "metadata": {
        "id": "JPUj0j-KwPK5"
      }
    },
    {
      "cell_type": "markdown",
      "source": [
        "### **Question 5**\n",
        "- For any randomly selected card from a standard 52-card deck:\n",
        "  - What is the probability that a player draws an ace?\n",
        "  - What is the probability that a player draws a diamond?\n",
        "- Are the events “player draws an ace” and “player draws a diamond” independent?\n",
        "- Determine the probability of drawing an Ace of Diamonds from the deck."
      ],
      "metadata": {
        "id": "KnMqGpydOeNt"
      }
    },
    {
      "cell_type": "code",
      "source": [
        "# Write your solution in here (no R code)"
      ],
      "metadata": {
        "id": "U6rhN8COOsfL"
      },
      "execution_count": null,
      "outputs": []
    },
    {
      "cell_type": "markdown",
      "source": [
        "<details>\n",
        "<summary>▶️ Click to show the solution</summary>\n",
        "\n",
        "```r\n",
        "Solution will be released at the end of the week!\n",
        "```\n",
        "</details>\n",
        "\n",
        "\n"
      ],
      "metadata": {
        "id": "ZQR8AZnwOsBT"
      }
    },
    {
      "cell_type": "markdown",
      "source": [
        "### **Question 6**\n",
        "\n",
        "A fair six-sided die is rolled 6 times. What is the probability that the product of all 6 outcomes is an odd number?"
      ],
      "metadata": {
        "id": "GEOXUwXEOyup"
      }
    },
    {
      "cell_type": "code",
      "source": [
        "# Write your solution in here (no R code)"
      ],
      "metadata": {
        "id": "abaJIvmuO986"
      },
      "execution_count": null,
      "outputs": []
    },
    {
      "cell_type": "markdown",
      "source": [
        "<details>\n",
        "<summary>▶️ Click to show the solution</summary>\n",
        "\n",
        "```r\n",
        "Solution will be released at the end of the week!\n",
        "```\n",
        "</details>\n",
        "\n",
        "\n"
      ],
      "metadata": {
        "id": "l8HhbZ99O_UX"
      }
    },
    {
      "cell_type": "markdown",
      "source": [
        "## **Question 7**\n",
        "\n",
        "Sometimes there's no better option than using a brute-force method. Suppose a fair six-sided die is rolled 4 times, and the results are summed. Use a brute-force approach (with `dplyr` and `%>%`, as demonstrated earlier) to calculate the probability that the total sum is greater than 10.\n",
        "\n"
      ],
      "metadata": {
        "id": "F3j9EA5GPopK"
      }
    },
    {
      "cell_type": "code",
      "source": [],
      "metadata": {
        "id": "ayLPg8ZWQnUy"
      },
      "execution_count": null,
      "outputs": []
    },
    {
      "cell_type": "markdown",
      "source": [
        "<details>\n",
        "<summary>▶️ Click to show the solution</summary>\n",
        "\n",
        "```r\n",
        "Solution will be released at the end of the week!\n",
        "```\n",
        "</details>\n",
        "\n",
        "\n"
      ],
      "metadata": {
        "id": "8EiPumuLQoVH"
      }
    },
    {
      "cell_type": "markdown",
      "source": [
        "## **Question 8**\n",
        "\n",
        "You have two coins:\n",
        "- One two-headed coin (always lands on `Heads`),\n",
        "- One fair coin (`Heads` or `Tails` with equal probability).\n",
        "You randomly select one of the two coins and flip it once.\n",
        "\n",
        "**The result is Heads!!!**\n",
        "\n",
        "What is the probability that you selected the two-headed coin?"
      ],
      "metadata": {
        "id": "i8NzTT7IQzhD"
      }
    },
    {
      "cell_type": "code",
      "source": [
        "# Write your solution in here (no R code)"
      ],
      "metadata": {
        "id": "J1Wy2y73R5Fl"
      },
      "execution_count": null,
      "outputs": []
    },
    {
      "cell_type": "markdown",
      "source": [
        "<details>\n",
        "<summary>▶️ Click to show the solution</summary>\n",
        "\n",
        "```r\n",
        "Solution will be released at the end of the week!\n",
        "```\n",
        "</details>\n",
        "\n",
        "\n"
      ],
      "metadata": {
        "id": "7QxwuS7ZR5Xx"
      }
    }
  ]
}