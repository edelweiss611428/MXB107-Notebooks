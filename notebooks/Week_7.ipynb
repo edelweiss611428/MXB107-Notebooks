{
  "nbformat": 4,
  "nbformat_minor": 0,
  "metadata": {
    "colab": {
      "provenance": []
    },
    "kernelspec": {
      "name": "ir",
      "display_name": "R"
    },
    "language_info": {
      "name": "R"
    }
  },
  "cells": [
    {
      "cell_type": "markdown",
      "source": [
        "# **Week 7: Parameter Estimation Methods**\n",
        "\n",
        "```\n",
        ".------------------------------------.\n",
        "|   __  ____  ______  _  ___ _____   |\n",
        "|  |  \\/  \\ \\/ / __ )/ |/ _ \\___  |  |\n",
        "|  | |\\/| |\\  /|  _ \\| | | | | / /   |\n",
        "|  | |  | |/  \\| |_) | | |_| |/ /    |\n",
        "|  |_|  |_/_/\\_\\____/|_|\\___//_/     |\n",
        "'------------------------------------'\n",
        "\n",
        "```\n",
        "\n",
        "Through various exercises, the first part of this workshop will review two common point estimation methods: the method of moments and maximum likelihood estimation. In the second part, we will focus on interval estimation using the asymptotic distribution of sample means."
      ],
      "metadata": {
        "id": "ZtpJJ8BSHOaK"
      }
    },
    {
      "cell_type": "markdown",
      "source": [
        "## **Pre-Configurating the Notebook**"
      ],
      "metadata": {
        "id": "SVtkEkRDY5Ex"
      }
    },
    {
      "cell_type": "markdown",
      "source": [
        "### **Switching to the R Kernel on Colab**\n",
        "\n",
        "By default, Google Colab uses Python as its programming language. To use R instead, you’ll need to manually switch the kernel by going to **Runtime > Change runtime type**, and selecting R as the kernel. This allows you to run R code in the Colab environment.\n",
        "\n",
        "However, our notebook is already configured to use R by default. Unless something goes wrong, you shouldn’t need to manually change runtime type."
      ],
      "metadata": {
        "id": "0vfwHxobY6_q"
      }
    },
    {
      "cell_type": "markdown",
      "source": [
        "### **Importing Required Packages**\n",
        "**Run the following lines of code**:"
      ],
      "metadata": {
        "id": "36rWeG2RY7fJ"
      }
    },
    {
      "cell_type": "code",
      "source": [
        "#Do not modify\n",
        "\n",
        "setwd(\"/content\")\n",
        "\n",
        "# Remove `MXB107-Notebooks` if exists,\n",
        "if (dir.exists(\"MXB107-Notebooks\")) {\n",
        "  system(\"rm -rf MXB107-Notebooks\")\n",
        "}\n",
        "\n",
        "# Fork the repository\n",
        "system(\"git clone https://github.com/edelweiss611428/MXB107-Notebooks.git\")\n",
        "\n",
        "# Change working directory to \"MXB107-Notebooks\"\n",
        "setwd(\"MXB107-Notebooks\")\n",
        "\n",
        "#\n",
        "invisible(source(\"R/preConfigurated.R\"))"
      ],
      "metadata": {
        "id": "t_2d_ItyY9yz",
        "colab": {
          "base_uri": "https://localhost:8080/"
        },
        "outputId": "5b28a0f3-25cd-48a1-86e8-db4790af8c83"
      },
      "execution_count": null,
      "outputs": [
        {
          "output_type": "stream",
          "name": "stderr",
          "text": [
            "Loading required package: ggplot2\n",
            "\n",
            "Loading required package: dplyr\n",
            "\n",
            "\n",
            "Attaching package: ‘dplyr’\n",
            "\n",
            "\n",
            "The following objects are masked from ‘package:stats’:\n",
            "\n",
            "    filter, lag\n",
            "\n",
            "\n",
            "The following objects are masked from ‘package:base’:\n",
            "\n",
            "    intersect, setdiff, setequal, union\n",
            "\n",
            "\n",
            "Loading required package: tidyr\n",
            "\n",
            "Loading required package: stringr\n",
            "\n",
            "Loading required package: magrittr\n",
            "\n",
            "\n",
            "Attaching package: ‘magrittr’\n",
            "\n",
            "\n",
            "The following object is masked from ‘package:tidyr’:\n",
            "\n",
            "    extract\n",
            "\n",
            "\n",
            "Loading required package: IRdisplay\n",
            "\n",
            "Loading required package: png\n",
            "\n",
            "Warning message in library(package, lib.loc = lib.loc, character.only = TRUE, logical.return = TRUE, :\n",
            "“there is no package called ‘png’”\n",
            "Installing package into ‘/usr/local/lib/R/site-library’\n",
            "(as ‘lib’ is unspecified)\n",
            "\n",
            "Loading required package: grid\n",
            "\n",
            "Loading required package: knitr\n",
            "\n"
          ]
        }
      ]
    },
    {
      "cell_type": "markdown",
      "source": [
        "**Do not modify the following**"
      ],
      "metadata": {
        "id": "q-ITFB1qY_ZJ"
      }
    },
    {
      "cell_type": "code",
      "source": [
        "if (!require(\"testthat\")) install.packages(\"testthat\"); library(\"testthat\")\n",
        "\n",
        "test_that(\"Test if all packages have been loaded\", {\n",
        "\n",
        "  expect_true(all(c(\"ggplot2\", \"tidyr\", \"dplyr\", \"stringr\", \"magrittr\", \"knitr\") %in% loadedNamespaces()))\n",
        "\n",
        "})"
      ],
      "metadata": {
        "id": "Hgh75IDpZCf2",
        "colab": {
          "base_uri": "https://localhost:8080/"
        },
        "outputId": "62e22f3c-3719-4766-874e-d2a9ea158ad2"
      },
      "execution_count": null,
      "outputs": [
        {
          "output_type": "stream",
          "name": "stderr",
          "text": [
            "Loading required package: testthat\n",
            "\n",
            "\n",
            "Attaching package: ‘testthat’\n",
            "\n",
            "\n",
            "The following objects are masked from ‘package:magrittr’:\n",
            "\n",
            "    equals, is_less_than, not\n",
            "\n",
            "\n",
            "The following object is masked from ‘package:tidyr’:\n",
            "\n",
            "    matches\n",
            "\n",
            "\n",
            "The following object is masked from ‘package:dplyr’:\n",
            "\n",
            "    matches\n",
            "\n",
            "\n"
          ]
        },
        {
          "output_type": "stream",
          "name": "stdout",
          "text": [
            "\u001b[32mTest passed\u001b[39m 🌈\n"
          ]
        }
      ]
    },
    {
      "cell_type": "markdown",
      "source": [
        "## **Point Estimation**\n",
        "\n",
        "We have studied point estimation before, where our goal was to estimate population parameters such as the mean ($\\mu$) and variance ($\\sigma^2$). In those cases, we used the **sample mean** ($\\bar{x}$)  and **sample variance** ($s^2$) as our estimators. Each of these provides a single number from the data that serves as our “best guess” for the true population parameter.\n",
        "\n",
        "- If the population mean is $\\mu$, then the sample mean $\\bar{x}$ is our point estimate.\n",
        "- If the population variance is $\\sigma^2$, then the sample variance $s^2$ is our point estimate.\n",
        "\n",
        "These estimators also have desirable properties: they are unbiased — ***on average***, they hit the true parameter; and they become increasingly \"accurate\" as the sample size grows.\n",
        "\n",
        "\n"
      ],
      "metadata": {
        "id": "DM1B0p44cnem"
      }
    },
    {
      "cell_type": "markdown",
      "source": [
        "More generally, we consider the situation where the sample data $\\{x_1, \\dots, x_n\\}$ are generated according to a **statistical model** with probability distribution  \n",
        "\n",
        "$$\n",
        "f(\\{x_1, \\dots, x_n\\} \\mid \\theta),\n",
        "$$\n",
        "\n",
        "where $\\theta$ represents one or more unknown parameters of interest. Given the observed data, our goal is to construct an estimator $\\hat{\\theta}$ that provides a single “best guess” for the true value of $\\theta$.  \n",
        "\n",
        "Often, we assume that the data $\\{x_1, \\dots, x_n\\}$ are realisations of i.i.d. random variables with probability function $p(x \\mid \\theta)$. In that case, the joint probability can be written as  \n",
        "\n",
        "$$\n",
        "f(\\{x_1, \\dots, x_n\\} \\mid \\theta) = \\prod_{i=1}^{n} p(x_i \\mid \\theta).\n",
        "$$  \n",
        "\n",
        "Note that, **pre-sample** (i.e. before observing any data), like sample mean and sample variance, $\\hat{\\theta}$ is also a random variable as it is a function of random variables (sample data). The point estimate computed after observing the sample data is a realisation of this random variable. Details about the sampling distribution of $\\hat{\\theta}$ are beyond the scope of this unit.\n",
        "\n",
        "$$\\hat{\\theta} = T\\big(\\{x_1,...,x_n\\}\\big).$$\n"
      ],
      "metadata": {
        "id": "N81cpLdOYX9t"
      }
    },
    {
      "cell_type": "markdown",
      "source": [
        "In this section, we will introduce two fundamental methods for constructing such estimators: the **method of moments (MoM)** and **maximum likelihood estimation (MLE)**. Both methods start from the same observed data but approach the estimation problem in different ways. While we will not study their theoretical properties (such as bias, variance, or asymptotic studies), our focus will be on understanding how these methods are are formulated and applied in practice."
      ],
      "metadata": {
        "id": "SlJkgZvNGW25"
      }
    },
    {
      "cell_type": "markdown",
      "source": [
        "### **Method of Moments**\n",
        "\n",
        "The method of moments is a simple way to construct estimators by equating sample moments with theoretical moments. Suppose our model has an unknown parameter $\\theta$, and let $m_k(\\theta)$ denote the $k$-th population moment:\n",
        "\n",
        "$$\n",
        "m_k(\\theta) = \\mathbb{E}[X^k].\n",
        "$$\n",
        "\n",
        "From a sample $x_1, \\dots, x_n$, we can compute the corresponding sample moments:\n",
        "\n",
        "$$\n",
        "\\hat{m}_k = \\frac{1}{n} \\sum_{i=1}^{n} x_i^k.\n",
        "$$\n",
        "\n",
        "The idea of MoM is to solve the system of equations\n",
        "\n",
        "$$\n",
        "\\hat{m}_k = m_k(\\theta), \\quad k = 1, 2, \\dots\n",
        "$$\n",
        "\n",
        "for the unknown parameter(s) $\\theta$. The solution gives the method of moments estimator $\\hat{\\theta}_{\\text{MoM}}$.  In general, for a model with $k$ parameters, we need to solve $k$ equations.\n",
        "\n",
        "MoM is intuitive and easy to compute. However, it may produce nonsensical values (e.g., negative estimates for parameters that must be positive) if the sample moments deviate strongly from theoretical constraints."
      ],
      "metadata": {
        "id": "J0ptx2-jpo9-"
      }
    },
    {
      "cell_type": "markdown",
      "source": [
        "\n",
        "### **Maximum Likelihood Estimation**\n",
        "\n",
        "Maximum likelihood estimation takes a different approach. Suppose the sample $x_1, \\dots, x_n$ are realisations from i.i.d. random variables with probability function $p(x \\mid \\theta)$. The **likelihood function** is\n",
        "\n",
        "$$\n",
        "L(\\theta) = \\prod_{i=1}^{n} p(x_i \\mid \\theta),\n",
        "$$\n",
        "\n",
        "which we can also write in log form as\n",
        "\n",
        "$$\n",
        "\\ell(\\theta) = \\log L(\\theta) = \\sum_{i=1}^{n} \\log p(x_i \\mid \\theta).\n",
        "$$\n",
        "\n",
        "\n",
        "Note that the likelihood function is a function of the model parameter $\\theta$, while the sample data $\\{x_1, \\dots, x_n\\}$ are fixed. It represents how plausible the observed data are for each possible value of $\\theta$.\n",
        "\n",
        "\n",
        "The maximum likelihood estimator $\\hat{\\theta}_{\\text{MLE}}$ is defined as the value of $\\theta$ that maximises the likelihood function:\n",
        "\n",
        "$$\n",
        "\\hat{\\theta}_{\\text{MLE}} = \\arg \\max_{\\theta} L(\\theta) = \\arg \\max_{\\theta} \\ell(\\theta).\n",
        "$$\n",
        "\n"
      ],
      "metadata": {
        "id": "6jQN-qgyrzXL"
      }
    },
    {
      "cell_type": "markdown",
      "source": [
        "\n",
        "In practice, we often optimise the log-likelihood function instead of the likelihood function, even though they are equivalent. This is because the log-likelihood is a sum rather than a productIn practice, we often optimise the log-likelihood function instead of the likelihood function, even though they are equivalent. This is because the log-likelihood is a sum rather than a product, making its derivatives easier to compute.\n",
        "\n",
        "MLE has many desirable properties in large samples (beyond the scope of this unit). In many scenarios, MLE and MoM result in the same estimator. However, unlike MoM, it always respects the constraints of the parameter space as we optimises for $\\theta$ over its parameter space. The main drawback is that computing $\\hat{\\theta}_{\\text{MLE}}$ can sometimes require solving nonlinear equations or numerical optimisation. Here, however, we will primarily focus on models for which the maximum likelihood estimator, $\\hat{\\theta}_{\\text{MLE}}$, can be derived analytically."
      ],
      "metadata": {
        "id": "DlwlZxXhGyEA"
      }
    },
    {
      "cell_type": "markdown",
      "source": [
        "### **Workshop Questions**"
      ],
      "metadata": {
        "id": "sQsNEVzjt8J2"
      }
    },
    {
      "cell_type": "markdown",
      "source": [
        "#### **Question 1**\n",
        "\n",
        "A factory produces light bulbs. Each bulb has a probability $p$ of being defective. A quality inspector selects 10 bulbs at random from the production line, and the number of defective bulbs in each sample is recorded as follows:\n",
        "\n",
        "$$\n",
        "\\{2, 1, 0, 3, 1, 2, 1, 0, 2, 1\\}\n",
        "$$\n",
        "\n",
        "Assume that the number of defective bulbs in each sample follows `Binomial(n,p)`.  \n",
        "\n",
        "- Use the MoM and MLE to estimate the probability $p$ of a defective bulb.\n",
        "- Comment on the results"
      ],
      "metadata": {
        "id": "WmM8CSFA3ZpJ"
      }
    },
    {
      "cell_type": "code",
      "source": [
        "smpl_data = c(2,1,0,3,1,2,1,0,2,1)"
      ],
      "metadata": {
        "id": "hzu8zcE54my-"
      },
      "execution_count": null,
      "outputs": []
    },
    {
      "cell_type": "markdown",
      "source": [
        "\n",
        "\n",
        "<details>\n",
        "<summary>▶️ Click to show the solution</summary>\n",
        "\n",
        "Lorem ipsum dolor sit amet, consectetur adipiscing elit. Sed do eiusmod tempor incididunt ut labore et dolore magna aliqua. Ut enim ad minim veniam, quis nostrud exercitation ullamco laboris nisi ut aliquip ex ea commodo consequat.  \n",
        "\n",
        "Duis aute irure dolor in reprehenderit in voluptate velit esse cillum dolore eu fugiat nulla pariatur. Excepteur sint occaecat cupidatat non proident, sunt in culpa qui officia deserunt mollit anim id est laborum.\n",
        "\n",
        "\n",
        "</details>\n",
        "\n",
        "\n"
      ],
      "metadata": {
        "id": "1AqGoHq87LFr"
      }
    },
    {
      "cell_type": "markdown",
      "source": [
        "#### **Question 2**\n",
        "\n",
        "The following sample data $\\{3,1,2,0,6\\}$ are generated from  i.i.d. `Binomial(n, p)`.  \n",
        "Use the MoM to estimate the parameters $n$ and $p$, and comment on the results.\n",
        "\n",
        "**Hint**: Use the following identity\n",
        "\n",
        "$$\\mathbb{V}[X] = \\mathbb{E}[X^2] - \\mathbb{E}[X]^2$$"
      ],
      "metadata": {
        "id": "kqPj58PXt_yq"
      }
    },
    {
      "cell_type": "code",
      "source": [
        "smpl_data = c(3,1,2,0,5)"
      ],
      "metadata": {
        "id": "dUN_WVtn30kE"
      },
      "execution_count": null,
      "outputs": []
    },
    {
      "cell_type": "markdown",
      "source": [
        "\n",
        "\n",
        "<details>\n",
        "<summary>▶️ Click to show the solution</summary>\n",
        "\n",
        "\n",
        "For $X \\sim \\text{Binomial}(n, p)$, the first two theoretical moments are:\n",
        "\n",
        "$$\n",
        "\\begin{align}\n",
        "m_1 &= \\mathbb{E}[X] = np, \\\\\n",
        "m_2 = \\mathbb{E}[X^2] &= \\mathbb{V}[X] + \\mathbb{E}[X]^2 = np(1-p) + (np)^2.\n",
        "\\end{align}\n",
        "$$\n",
        "\n",
        "From the sample $x_1, \\dots, x_{5}$, we compute the corresponding sample moments:\n",
        "\n",
        "$$\n",
        "\\begin{align}\n",
        "\\hat{m}_1 &= \\frac{\\sum_{i=1}^n x_i}{n},\\\\\n",
        "\\hat{m}_2 &= \\frac{\\sum_{i=1}^n x_i^2}{n}.\n",
        "\\end{align}\n",
        "$$\n",
        "\n",
        "To compute MoM estimates, we need to solve the system of equations:\n",
        "\n",
        "$$\n",
        "\\begin{align}\n",
        "\\hat{m}_1 &= m_1, \\\\\n",
        "\\hat{m}_2 - \\hat{m}_1^2 &= m_2 - m_1^2.\n",
        "\\end{align}\n",
        "$$\n",
        "\n",
        "\n",
        "Equivalently,\n",
        "\n",
        "\n",
        "$$\n",
        "\\begin{align}\n",
        "np &= \\frac{\\sum_{i=1}^n x_i}{n} \\equiv \\overline{x} = 2.2 , \\\\\n",
        "np(1-p) + (np)^2 &= \\frac{\\sum_{i=1}^n x_i^2}{n} \\equiv \\overline{x^2} = 7.8.\n",
        "\\end{align}\n",
        "$$\n",
        "\n",
        "Solving for $n$ and $p$:\n",
        "\n",
        "$$\n",
        "\\begin{align}\n",
        "2.2(1 - \\hat{p}) + (2.2)^2 &= 7.8, \\\\\n",
        "\\hat{n} &= \\frac{2.2}{\\hat{p}}.\n",
        "\\end{align}\n",
        "$$\n",
        "\n",
        "Equivalently,\n",
        "\n",
        "$$\n",
        "\\begin{align}\n",
        "\\hat{p} &= -0.345, \\\\\n",
        "\\hat{n} &= \\frac{2.2}{\\hat{p}} = -6.368.\n",
        "\\end{align}\n",
        "$$\n",
        "\n",
        "\n",
        "```r\n",
        "\n",
        "smpl_data = c(3,1,2,0,5)\n",
        "x_bar = mean(smpl_data)\n",
        "xsq_bar = mean(smpl_data^2)\n",
        "\n",
        "p = 1-(xsq_bar-x_bar^2)/x_bar\n",
        "n = x_bar/p\n",
        "\n",
        "```\n",
        "\n",
        "These are invalid because $n$ and $p$ must be positive.\n",
        "\n",
        "</details>\n",
        "\n",
        "\n"
      ],
      "metadata": {
        "id": "S4DpI6VixBZL"
      }
    },
    {
      "cell_type": "markdown",
      "source": [
        "#### **Question 3**\n",
        "**Back to this after the second part, if there is still time.**\n",
        "\n",
        "The following sample data are recorded as the time (in hours) until failure of 5 identical machines:\n",
        "\n",
        "$$\n",
        "\\{2.3, 1.5, 0.7, 3.1, 2.0\\}\n",
        "$$\n",
        "\n",
        "Assume that these data are generated from i.i.d. `Exp(lambda)`.  \n",
        "\n",
        "**Tasks:**\n",
        "\n",
        "- Use the MoM and MLE to estimate the parameter $\\lambda$.  \n",
        "- Comment on the results"
      ],
      "metadata": {
        "id": "fbyqIE7Kw6Io"
      }
    },
    {
      "cell_type": "code",
      "source": [
        "smpl_data = c(2.3,1.5,0.7,3.1,2.0)"
      ],
      "metadata": {
        "id": "wTvY8jjS8U3I"
      },
      "execution_count": null,
      "outputs": []
    },
    {
      "cell_type": "markdown",
      "source": [
        "\n",
        "\n",
        "<details>\n",
        "<summary>▶️ Click to show the solution</summary>\n",
        "\n",
        "Lorem ipsum dolor sit amet, consectetur adipiscing elit. Sed do eiusmod tempor incididunt ut labore et dolore magna aliqua. Ut enim ad minim veniam, quis nostrud exercitation ullamco laboris nisi ut aliquip ex ea commodo consequat.  \n",
        "\n",
        "Duis aute irure dolor in reprehenderit in voluptate velit esse cillum dolore eu fugiat nulla pariatur. Excepteur sint occaecat cupidatat non proident, sunt in culpa qui officia deserunt mollit anim id est laborum.\n",
        "\n",
        "\n",
        "</details>\n",
        "\n",
        "\n"
      ],
      "metadata": {
        "id": "YiZo3ENO8qhV"
      }
    },
    {
      "cell_type": "markdown",
      "source": [
        "#### **Question 4**\n",
        "**Back to this after the second part, if there is still time.**\n",
        "\n",
        "The following sample data are the number of emails received per hour by a customer service team over 5 randomly selected hours:\n",
        "\n",
        "$$\n",
        "\\{3, 2, 4, 0, 5\\}\n",
        "$$\n",
        "\n",
        "Assume that these data are generated from i.i.d. `Poisson(lambda)`.  \n",
        "\n",
        "- Use the MoM and MLE to estimate the parameter $\\lambda$.  \n",
        "- Comment on the results."
      ],
      "metadata": {
        "id": "qJLYxtGC9Fhh"
      }
    },
    {
      "cell_type": "code",
      "source": [
        "smpl_data = c(3,2,4,0,5)"
      ],
      "metadata": {
        "id": "lbaQmV439O_v"
      },
      "execution_count": null,
      "outputs": []
    },
    {
      "cell_type": "markdown",
      "source": [
        "\n",
        "\n",
        "<details>\n",
        "<summary>▶️ Click to show the solution</summary>\n",
        "\n",
        "Lorem ipsum dolor sit amet, consectetur adipiscing elit. Sed do eiusmod tempor incididunt ut labore et dolore magna aliqua. Ut enim ad minim veniam, quis nostrud exercitation ullamco laboris nisi ut aliquip ex ea commodo consequat.  \n",
        "\n",
        "Duis aute irure dolor in reprehenderit in voluptate velit esse cillum dolore eu fugiat nulla pariatur. Excepteur sint occaecat cupidatat non proident, sunt in culpa qui officia deserunt mollit anim id est laborum.\n",
        "\n",
        "\n",
        "</details>\n",
        "\n",
        "\n"
      ],
      "metadata": {
        "id": "SmIU9_Rr9Q4A"
      }
    },
    {
      "cell_type": "markdown",
      "source": [
        "## **Interval Estimation**"
      ],
      "metadata": {
        "id": "uRHV_m3s9X4R"
      }
    },
    {
      "cell_type": "markdown",
      "source": [
        "\n",
        "In many scenarios, we are interested in creating an interval that hopefully captures the parameter’s true value instead of obtaining a single point estimate:\n",
        "\n",
        "$$\\Big[T_1\\big(\\{x_1,...,x_n\\}\\big), T_2\\big(\\{x_1,...,x_n\\}\\big)\\Big].$$\n",
        "\n",
        "A common rule option $(1−\\alpha)$% confidence interval, which aims to find functions $T_1$ and $T_2$ such that:\n",
        "\n",
        "$$\\Pr\\Big(T_1\\big(\\{x_1,...,x_n\\}\\big) \\leq \\theta \\leq T_2\\big(\\{x_1,...,x_n\\}\\big)\\Big) = 1 - \\alpha.$$\n",
        "\n",
        "Conventionally, $\\alpha = 0.05$ (95% confidence interval). Other common options include $\\alpha = 0.01$ and $\\alpha = 0.1$.\n",
        "\n",
        "\n",
        "Note that, **pre-sample**, the upper and lower bounds of a confidence interval are random variables. This is why the previous equation is mathematically valid. The upper and lower bound estimates computed after observing the sample data are realisations of these random variables.\n",
        "\n",
        "\n"
      ],
      "metadata": {
        "id": "o41nwYQc9anw"
      }
    },
    {
      "cell_type": "markdown",
      "source": [
        "### **Asymptotic Confidence Interval for Population Mean**\n",
        "\n",
        "Recall that, for i.i.d. sample of size $n$ drawn from any probability distribution with mean $\\mu$ and variance $\\sigma^2$, if $n$ is large enough,\n",
        "$$\n",
        "\\begin{align}\n",
        "&\\quad\\quad\\;\\,\\,\\displaystyle \\bar{x} \\approx \\mathcal{N}\\Big(\\mu, \\frac{\\sigma^2}{n}\\Big);\\\\\n",
        "&\\implies  \\frac{\\bar{x} - \\mu}{\\sigma/n} \\approx \\mathcal{N}(0,1); \\\\\n",
        "&\\implies \\Pr\\Big(z_{\\alpha/2} \\leq \\frac{\\bar{x} - \\mu}{\\sigma/n} \\leq z_{1-\\alpha/2}\\Big) \\approx 1 - \\alpha;\\\\\n",
        "&\\implies \\Pr\\Big(\\bar{x} + z_{\\alpha/2}\\frac{\\sigma}{n} \\leq \\mu \\leq \\bar{x} + z_{1-\\alpha/2}\\frac{\\sigma}{n}\\Big) \\approx 1 - \\alpha\\\\\n",
        "&\\implies \\Pr\\Big(\\bar{x} - z_{1-\\alpha/2}\\frac{\\sigma}{n} \\leq \\mu \\leq \\bar{x} + z_{1-\\alpha/2}\\frac{\\sigma}{n}\\Big) \\approx 1 - \\alpha.\n",
        "\\end{align}\n",
        "$$  \n",
        "\n",
        "Here, $z_{\\alpha/2}$ and $z_{1-\\alpha/2}$ are $\\alpha/2$ and $1-\\alpha/2$ quantiles of the standard Gaussian distribution $\\mathcal{N}(0,1)$. As the standard Gaussian PDF is symmetric around 0, $z_{\\alpha/2} = -z_{1-\\alpha/2}$.\n",
        "\n",
        "\n",
        "\n"
      ],
      "metadata": {
        "id": "XvvKrqv0L_jj"
      }
    },
    {
      "cell_type": "code",
      "source": [
        "img = readPNG(\"figures/z_95int.png\")\n",
        "grid.newpage()\n",
        "vp = viewport()\n",
        "pushViewport(vp)\n",
        "grid.raster(img)\n",
        "popViewport()"
      ],
      "metadata": {
        "id": "Z2Af8mffSNTo",
        "outputId": "b2263cac-cec0-4ee2-aef9-4ee2ef56b2d6",
        "colab": {
          "base_uri": "https://localhost:8080/",
          "height": 457
        }
      },
      "execution_count": null,
      "outputs": [
        {
          "output_type": "display_data",
          "data": {
            "text/plain": [
              "plot without title"
            ],
            "image/png": "[encoded data removed]"
          },
          "metadata": {
            "image/png": {
              "width": 420,
              "height": 420
            }
          }
        }
      ]
    },
    {
      "cell_type": "markdown",
      "source": [
        "An asymptotically valid confidence interval for population mean can be obtained by choosing:\n",
        "\n",
        "$$\n",
        "\\begin{align}\n",
        "T_1\\big(\\{x_1,...,x_n\\}\\big) &= \\bar{x} - z_{1-\\alpha/2}\\frac{\\sigma}{n};\\\\\n",
        "T_2\\big(\\{x_1,...,x_n\\}\\big) &= \\bar{x} + z_{1-\\alpha/2}\\frac{\\sigma}{n}.\n",
        "\\end{align}\n",
        "$$\n",
        "\n",
        "Confidence intervals constructed following this rule are symmetric around sample means.\n",
        "\n",
        "A $95\\%$ symmetric confidence interval can be constructed by choosing:\n",
        "\n",
        "$$\n",
        "\\begin{align}\n",
        "T_1\\big(\\{x_1,...,x_n\\}\\big) &= \\bar{x} - z_{0.975}\\frac{\\sigma}{n};\\\\\n",
        "T_2\\big(\\{x_1,...,x_n\\}\\big) &= \\bar{x} + z_{0.975}\\frac{\\sigma}{n}.\n",
        "\\end{align}\n",
        "$$\n",
        "\n",
        "Of course, one can construct an annoying asymmetrical confidence interval like this:\n",
        "\n",
        "$$\n",
        "\\begin{align}\n",
        "T_1\\big(\\{x_1,...,x_n\\}\\big) &= \\bar{x} + z_{0.01}\\frac{\\sigma}{n};\\\\\n",
        "T_2\\big(\\{x_1,...,x_n\\}\\big) &= \\bar{x} + z_{0.96}\\frac{\\sigma}{n};\n",
        "\\end{align}\n",
        "$$\n",
        "\n",
        "Or an annoying $61\\%$ symmetric confidence interval (we might be the first ones to use a $61\\%$ confidence interval):\n",
        "\n",
        "$$\n",
        "\\begin{align}\n",
        "T_1\\big(\\{x_1,...,x_n\\}\\big) &= \\bar{x} + z_{0.195}\\frac{\\sigma}{n};\\\\\n",
        "T_2\\big(\\{x_1,...,x_n\\}\\big) &= \\bar{x} + z_{0.805}\\frac{\\sigma}{n}\n",
        "\\end{align}\n",
        "$$\n",
        "\n",
        "If data are generated from i.i.d. Gaussians, these $1-\\alpha$ confidence intervals are **ALWAYS** valid regardless of the sample size.\n",
        "\n",
        "\n",
        "\n",
        "In practice, the variance $\\sigma^2$ (or equivalently, the standard deviation $\\sigma$) is usually unknown. However, we can replace $\\sigma^2$ by the sample variance estimate. This is a plug-in estimator.\n",
        "\n",
        "> A plug-in estimator is obtained by taking a formula that involves an unknown parameter and plugging in an estimate of that parameter (usually computed from data)."
      ],
      "metadata": {
        "id": "Ube_8GClWRWY"
      }
    },
    {
      "cell_type": "markdown",
      "source": [
        "### **Finding Quantiles**\n",
        "\n",
        "You can find quantiles of the standard Gaussian distribution in a $Z$ statistical table.\n",
        "\n",
        "*Tutors are expected to show students how to find these values, especially common ones such as 0.95, 0.975, and 0.995*"
      ],
      "metadata": {
        "id": "2NPiduMMaOkN"
      }
    },
    {
      "cell_type": "code",
      "source": [
        "generateZTable()"
      ],
      "metadata": {
        "id": "_6lAJGxtaS16",
        "outputId": "269cd062-d626-4017-e02b-8d18cab92e29",
        "colab": {
          "base_uri": "https://localhost:8080/",
          "height": 1000
        }
      },
      "execution_count": 43,
      "outputs": [
        {
          "output_type": "display_data",
          "data": {
            "text/plain": [
              "\n",
              "\n",
              "|     |   0.00|   0.01|   0.02|   0.03|   0.04|   0.05|   0.06|   0.07|   0.08|   0.09|\n",
              "|:----|------:|------:|------:|------:|------:|------:|------:|------:|------:|------:|\n",
              "|-3.4 | 0.0003| 0.0003| 0.0004| 0.0004| 0.0004| 0.0004| 0.0004| 0.0004| 0.0005| 0.0005|\n",
              "|-3.3 | 0.0005| 0.0005| 0.0005| 0.0005| 0.0006| 0.0006| 0.0006| 0.0006| 0.0006| 0.0007|\n",
              "|-3.2 | 0.0007| 0.0007| 0.0007| 0.0008| 0.0008| 0.0008| 0.0008| 0.0009| 0.0009| 0.0009|\n",
              "|-3.1 | 0.0010| 0.0010| 0.0010| 0.0011| 0.0011| 0.0011| 0.0012| 0.0012| 0.0013| 0.0013|\n",
              "|-3.0 | 0.0013| 0.0014| 0.0014| 0.0015| 0.0015| 0.0016| 0.0016| 0.0017| 0.0018| 0.0018|\n",
              "|-2.9 | 0.0019| 0.0019| 0.0020| 0.0021| 0.0021| 0.0022| 0.0023| 0.0023| 0.0024| 0.0025|\n",
              "|-2.8 | 0.0026| 0.0026| 0.0027| 0.0028| 0.0029| 0.0030| 0.0031| 0.0032| 0.0033| 0.0034|\n",
              "|-2.7 | 0.0035| 0.0036| 0.0037| 0.0038| 0.0039| 0.0040| 0.0041| 0.0043| 0.0044| 0.0045|\n",
              "|-2.6 | 0.0047| 0.0048| 0.0049| 0.0051| 0.0052| 0.0054| 0.0055| 0.0057| 0.0059| 0.0060|\n",
              "|-2.5 | 0.0062| 0.0064| 0.0066| 0.0068| 0.0069| 0.0071| 0.0073| 0.0075| 0.0078| 0.0080|\n",
              "|-2.4 | 0.0082| 0.0084| 0.0087| 0.0089| 0.0091| 0.0094| 0.0096| 0.0099| 0.0102| 0.0104|\n",
              "|-2.3 | 0.0107| 0.0110| 0.0113| 0.0116| 0.0119| 0.0122| 0.0125| 0.0129| 0.0132| 0.0136|\n",
              "|-2.2 | 0.0139| 0.0143| 0.0146| 0.0150| 0.0154| 0.0158| 0.0162| 0.0166| 0.0170| 0.0174|\n",
              "|-2.1 | 0.0179| 0.0183| 0.0188| 0.0192| 0.0197| 0.0202| 0.0207| 0.0212| 0.0217| 0.0222|\n",
              "|-2.0 | 0.0228| 0.0233| 0.0239| 0.0244| 0.0250| 0.0256| 0.0262| 0.0268| 0.0274| 0.0281|\n",
              "|-1.9 | 0.0287| 0.0294| 0.0301| 0.0307| 0.0314| 0.0322| 0.0329| 0.0336| 0.0344| 0.0351|\n",
              "|-1.8 | 0.0359| 0.0367| 0.0375| 0.0384| 0.0392| 0.0401| 0.0409| 0.0418| 0.0427| 0.0436|\n",
              "|-1.7 | 0.0446| 0.0455| 0.0465| 0.0475| 0.0485| 0.0495| 0.0505| 0.0516| 0.0526| 0.0537|\n",
              "|-1.6 | 0.0548| 0.0559| 0.0571| 0.0582| 0.0594| 0.0606| 0.0618| 0.0630| 0.0643| 0.0655|\n",
              "|-1.5 | 0.0668| 0.0681| 0.0694| 0.0708| 0.0721| 0.0735| 0.0749| 0.0764| 0.0778| 0.0793|\n",
              "|-1.4 | 0.0808| 0.0823| 0.0838| 0.0853| 0.0869| 0.0885| 0.0901| 0.0918| 0.0934| 0.0951|\n",
              "|-1.3 | 0.0968| 0.0985| 0.1003| 0.1020| 0.1038| 0.1056| 0.1075| 0.1093| 0.1112| 0.1131|\n",
              "|-1.2 | 0.1151| 0.1170| 0.1190| 0.1210| 0.1230| 0.1251| 0.1271| 0.1292| 0.1314| 0.1335|\n",
              "|-1.1 | 0.1357| 0.1379| 0.1401| 0.1423| 0.1446| 0.1469| 0.1492| 0.1515| 0.1539| 0.1562|\n",
              "|-1.0 | 0.1587| 0.1611| 0.1635| 0.1660| 0.1685| 0.1711| 0.1736| 0.1762| 0.1788| 0.1814|\n",
              "|-0.9 | 0.1841| 0.1867| 0.1894| 0.1922| 0.1949| 0.1977| 0.2005| 0.2033| 0.2061| 0.2090|\n",
              "|-0.8 | 0.2119| 0.2148| 0.2177| 0.2206| 0.2236| 0.2266| 0.2296| 0.2327| 0.2358| 0.2389|\n",
              "|-0.7 | 0.2420| 0.2451| 0.2483| 0.2514| 0.2546| 0.2578| 0.2611| 0.2643| 0.2676| 0.2709|\n",
              "|-0.6 | 0.2743| 0.2776| 0.2810| 0.2843| 0.2877| 0.2912| 0.2946| 0.2981| 0.3015| 0.3050|\n",
              "|-0.5 | 0.3085| 0.3121| 0.3156| 0.3192| 0.3228| 0.3264| 0.3300| 0.3336| 0.3372| 0.3409|\n",
              "|-0.4 | 0.3446| 0.3483| 0.3520| 0.3557| 0.3594| 0.3632| 0.3669| 0.3707| 0.3745| 0.3783|\n",
              "|-0.3 | 0.3821| 0.3859| 0.3897| 0.3936| 0.3974| 0.4013| 0.4052| 0.4090| 0.4129| 0.4168|\n",
              "|-0.2 | 0.4207| 0.4247| 0.4286| 0.4325| 0.4364| 0.4404| 0.4443| 0.4483| 0.4522| 0.4562|\n",
              "|-0.1 | 0.4602| 0.4641| 0.4681| 0.4721| 0.4761| 0.4801| 0.4840| 0.4880| 0.4920| 0.4960|\n",
              "|0.0  | 0.5000| 0.5040| 0.5080| 0.5120| 0.5160| 0.5199| 0.5239| 0.5279| 0.5319| 0.5359|\n",
              "|0.1  | 0.5398| 0.5438| 0.5478| 0.5517| 0.5557| 0.5596| 0.5636| 0.5675| 0.5714| 0.5753|\n",
              "|0.2  | 0.5793| 0.5832| 0.5871| 0.5910| 0.5948| 0.5987| 0.6026| 0.6064| 0.6103| 0.6141|\n",
              "|0.3  | 0.6179| 0.6217| 0.6255| 0.6293| 0.6331| 0.6368| 0.6406| 0.6443| 0.6480| 0.6517|\n",
              "|0.4  | 0.6554| 0.6591| 0.6628| 0.6664| 0.6700| 0.6736| 0.6772| 0.6808| 0.6844| 0.6879|\n",
              "|0.5  | 0.6915| 0.6950| 0.6985| 0.7019| 0.7054| 0.7088| 0.7123| 0.7157| 0.7190| 0.7224|\n",
              "|0.6  | 0.7257| 0.7291| 0.7324| 0.7357| 0.7389| 0.7422| 0.7454| 0.7486| 0.7517| 0.7549|\n",
              "|0.7  | 0.7580| 0.7611| 0.7642| 0.7673| 0.7704| 0.7734| 0.7764| 0.7794| 0.7823| 0.7852|\n",
              "|0.8  | 0.7881| 0.7910| 0.7939| 0.7967| 0.7995| 0.8023| 0.8051| 0.8078| 0.8106| 0.8133|\n",
              "|0.9  | 0.8159| 0.8186| 0.8212| 0.8238| 0.8264| 0.8289| 0.8315| 0.8340| 0.8365| 0.8389|\n",
              "|1.0  | 0.8413| 0.8438| 0.8461| 0.8485| 0.8508| 0.8531| 0.8554| 0.8577| 0.8599| 0.8621|\n",
              "|1.1  | 0.8643| 0.8665| 0.8686| 0.8708| 0.8729| 0.8749| 0.8770| 0.8790| 0.8810| 0.8830|\n",
              "|1.2  | 0.8849| 0.8869| 0.8888| 0.8907| 0.8925| 0.8944| 0.8962| 0.8980| 0.8997| 0.9015|\n",
              "|1.3  | 0.9032| 0.9049| 0.9066| 0.9082| 0.9099| 0.9115| 0.9131| 0.9147| 0.9162| 0.9177|\n",
              "|1.4  | 0.9192| 0.9207| 0.9222| 0.9236| 0.9251| 0.9265| 0.9279| 0.9292| 0.9306| 0.9319|\n",
              "|1.5  | 0.9332| 0.9345| 0.9357| 0.9370| 0.9382| 0.9394| 0.9406| 0.9418| 0.9429| 0.9441|\n",
              "|1.6  | 0.9452| 0.9463| 0.9474| 0.9484| 0.9495| 0.9505| 0.9515| 0.9525| 0.9535| 0.9545|\n",
              "|1.7  | 0.9554| 0.9564| 0.9573| 0.9582| 0.9591| 0.9599| 0.9608| 0.9616| 0.9625| 0.9633|\n",
              "|1.8  | 0.9641| 0.9649| 0.9656| 0.9664| 0.9671| 0.9678| 0.9686| 0.9693| 0.9699| 0.9706|\n",
              "|1.9  | 0.9713| 0.9719| 0.9726| 0.9732| 0.9738| 0.9744| 0.9750| 0.9756| 0.9761| 0.9767|\n",
              "|2.0  | 0.9772| 0.9778| 0.9783| 0.9788| 0.9793| 0.9798| 0.9803| 0.9808| 0.9812| 0.9817|\n",
              "|2.1  | 0.9821| 0.9826| 0.9830| 0.9834| 0.9838| 0.9842| 0.9846| 0.9850| 0.9854| 0.9857|\n",
              "|2.2  | 0.9861| 0.9864| 0.9868| 0.9871| 0.9875| 0.9878| 0.9881| 0.9884| 0.9887| 0.9890|\n",
              "|2.3  | 0.9893| 0.9896| 0.9898| 0.9901| 0.9904| 0.9906| 0.9909| 0.9911| 0.9913| 0.9916|\n",
              "|2.4  | 0.9918| 0.9920| 0.9922| 0.9925| 0.9927| 0.9929| 0.9931| 0.9932| 0.9934| 0.9936|\n",
              "|2.5  | 0.9938| 0.9940| 0.9941| 0.9943| 0.9945| 0.9946| 0.9948| 0.9949| 0.9951| 0.9952|\n",
              "|2.6  | 0.9953| 0.9955| 0.9956| 0.9957| 0.9959| 0.9960| 0.9961| 0.9962| 0.9963| 0.9964|\n",
              "|2.7  | 0.9965| 0.9966| 0.9967| 0.9968| 0.9969| 0.9970| 0.9971| 0.9972| 0.9973| 0.9974|\n",
              "|2.8  | 0.9974| 0.9975| 0.9976| 0.9977| 0.9977| 0.9978| 0.9979| 0.9979| 0.9980| 0.9981|\n",
              "|2.9  | 0.9981| 0.9982| 0.9982| 0.9983| 0.9984| 0.9984| 0.9985| 0.9985| 0.9986| 0.9986|\n",
              "|3.0  | 0.9987| 0.9987| 0.9987| 0.9988| 0.9988| 0.9989| 0.9989| 0.9989| 0.9990| 0.9990|\n",
              "|3.1  | 0.9990| 0.9991| 0.9991| 0.9991| 0.9992| 0.9992| 0.9992| 0.9992| 0.9993| 0.9993|\n",
              "|3.2  | 0.9993| 0.9993| 0.9994| 0.9994| 0.9994| 0.9994| 0.9994| 0.9995| 0.9995| 0.9995|\n",
              "|3.3  | 0.9995| 0.9995| 0.9995| 0.9996| 0.9996| 0.9996| 0.9996| 0.9996| 0.9996| 0.9997|\n",
              "|3.4  | 0.9997| 0.9997| 0.9997| 0.9997| 0.9997| 0.9997| 0.9997| 0.9997| 0.9997| 0.9998|"
            ]
          },
          "metadata": {}
        }
      ]
    },
    {
      "cell_type": "markdown",
      "source": [
        "### **Example**\n",
        "\n"
      ],
      "metadata": {
        "id": "ndOGR1X9TLzq"
      }
    },
    {
      "cell_type": "markdown",
      "source": [
        "The following sample are generated from i.i.d. random variables with unknown mean $\\mu$ and variance $\\sigma^2 = 1$.\n",
        "\n",
        "$$\\{0.13, 0.68, 0.26, 0.97, 1.2, 0.74, 0.42, 0.2, 2.13, 0.06, 1.18, 0.25, 3.12, 4.16, 2.05, 0.21, 2.14,2,0.85,0.07,0.04,0.77,0.3,0.53,0.3,0.82,0.53,0.08,0.22,0.14,0.17,0.81,0.29,0.57,0.08,0.2,1.94,3.34,2.09,0.95,0.44\\}$$\n",
        "\n",
        "Compute a $90\\%$ symmetric confidence interval estimate for $\\mu$ using the asymptotic distribution of $\\bar{x}$ using\n",
        "- The true variance\n",
        "- The estimated variance\n",
        "\n",
        "Comment on the results."
      ],
      "metadata": {
        "id": "XL3qVbDcVUxw"
      }
    },
    {
      "cell_type": "code",
      "source": [
        "smpl_data = c(0.13, 0.68, 0.26, 0.97, 1.2, 0.74, 0.42, 0.2, 2.13, 0.06, 1.18, 0.25, 3.12, 4.16, 2.05, 0.21, 2.14,2,0.85,0.07,0.04,0.77,0.3,0.53,0.3,0.82,0.53,0.08,0.22,0.14,0.17,0.81,0.29,0.57,0.08,0.2,1.94,3.34,2.09,0.95,0.44)\n"
      ],
      "metadata": {
        "id": "H37cWKTbUZf_"
      },
      "execution_count": 44,
      "outputs": []
    },
    {
      "cell_type": "markdown",
      "source": [
        "\n",
        "\n",
        "<details>\n",
        "<summary>▶️ Click to show the solution</summary>\n",
        "\n",
        "Lorem ipsum dolor sit amet, consectetur adipiscing elit. Sed do eiusmod tempor incididunt ut labore et dolore magna aliqua. Ut enim ad minim veniam, quis nostrud exercitation ullamco laboris nisi ut aliquip ex ea commodo consequat.  \n",
        "\n",
        "Duis aute irure dolor in reprehenderit in voluptate velit esse cillum dolore eu fugiat nulla pariatur. Excepteur sint occaecat cupidatat non proident, sunt in culpa qui officia deserunt mollit anim id est laborum.\n",
        "\n",
        "\n",
        "</details>\n",
        "\n",
        "\n"
      ],
      "metadata": {
        "id": "8zKMRHadWD36"
      }
    },
    {
      "cell_type": "markdown",
      "source": [
        "### **Making Sense of Confidence Intervals**"
      ],
      "metadata": {
        "id": "J_9MT9Nva5Z6"
      }
    }
  ]
}