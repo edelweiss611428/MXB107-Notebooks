{
  "nbformat": 4,
  "nbformat_minor": 0,
  "metadata": {
    "colab": {
      "provenance": []
    },
    "kernelspec": {
      "name": "ir",
      "display_name": "R"
    },
    "language_info": {
      "name": "R"
    }
  },
  "cells": [
    {
      "cell_type": "markdown",
      "source": [
        "# **Week 7: Parameter Estimation Methods**\n",
        "\n",
        "```\n",
        ".------------------------------------.\n",
        "|   __  ____  ______  _  ___ _____   |\n",
        "|  |  \\/  \\ \\/ / __ )/ |/ _ \\___  |  |\n",
        "|  | |\\/| |\\  /|  _ \\| | | | | / /   |\n",
        "|  | |  | |/  \\| |_) | | |_| |/ /    |\n",
        "|  |_|  |_/_/\\_\\____/|_|\\___//_/     |\n",
        "'------------------------------------'\n",
        "\n",
        "```\n",
        "\n",
        "Through various exercises, the first part of this workshop will review two common point estimation methods: the method of moments and maximum likelihood estimation. In the second part, we will focus on interval estimation using the asymptotic distribution of sample means."
      ],
      "metadata": {
        "id": "ZtpJJ8BSHOaK"
      }
    },
    {
      "cell_type": "markdown",
      "source": [
        "## **Pre-Configurating the Notebook**"
      ],
      "metadata": {
        "id": "SVtkEkRDY5Ex"
      }
    },
    {
      "cell_type": "markdown",
      "source": [
        "### **Switching to the R Kernel on Colab**\n",
        "\n",
        "By default, Google Colab uses Python as its programming language. To use R instead, you’ll need to manually switch the kernel by going to **Runtime > Change runtime type**, and selecting R as the kernel. This allows you to run R code in the Colab environment.\n",
        "\n",
        "However, our notebook is already configured to use R by default. Unless something goes wrong, you shouldn’t need to manually change runtime type."
      ],
      "metadata": {
        "id": "0vfwHxobY6_q"
      }
    },
    {
      "cell_type": "markdown",
      "source": [
        "### **Importing Required Packages**\n",
        "**Run the following lines of code**:"
      ],
      "metadata": {
        "id": "36rWeG2RY7fJ"
      }
    },
    {
      "cell_type": "code",
      "source": [
        "#Do not modify\n",
        "\n",
        "setwd(\"/content\")\n",
        "\n",
        "# Remove `MXB107-Notebooks` if exists,\n",
        "if (dir.exists(\"MXB107-Notebooks\")) {\n",
        "  system(\"rm -rf MXB107-Notebooks\")\n",
        "}\n",
        "\n",
        "# Fork the repository\n",
        "system(\"git clone https://github.com/edelweiss611428/MXB107-Notebooks.git\")\n",
        "\n",
        "# Change working directory to \"MXB107-Notebooks\"\n",
        "setwd(\"MXB107-Notebooks\")\n",
        "\n",
        "#\n",
        "invisible(source(\"R/preConfigurated.R\"))"
      ],
      "metadata": {
        "id": "t_2d_ItyY9yz"
      },
      "execution_count": null,
      "outputs": []
    },
    {
      "cell_type": "markdown",
      "source": [
        "**Do not modify the following**"
      ],
      "metadata": {
        "id": "q-ITFB1qY_ZJ"
      }
    },
    {
      "cell_type": "code",
      "source": [
        "if (!require(\"testthat\")) install.packages(\"testthat\"); library(\"testthat\")\n",
        "\n",
        "test_that(\"Test if all packages have been loaded\", {\n",
        "\n",
        "  expect_true(all(c(\"ggplot2\", \"tidyr\", \"dplyr\", \"stringr\", \"magrittr\", \"knitr\") %in% loadedNamespaces()))\n",
        "\n",
        "})"
      ],
      "metadata": {
        "id": "Hgh75IDpZCf2"
      },
      "execution_count": null,
      "outputs": []
    },
    {
      "cell_type": "markdown",
      "source": [
        "## **Point Estimation**\n",
        "\n",
        "We have studied point estimation before, where our goal was to estimate population parameters such as the mean ($\\mu$) and variance ($\\sigma^2$). In those cases, we used the **sample mean** ($\\bar{x}$)  and **sample variance** ($s^2$) as our estimators. Each of these provides a single number from the data that serves as our “best guess” for the true population parameter.\n",
        "\n",
        "- If the population mean is $\\mu$, then the sample mean $\\bar{x}$ is our point estimate.\n",
        "- If the population variance is $\\sigma^2$, then the sample variance $s^2$ is our point estimate.\n",
        "\n",
        "These estimators also have desirable properties: they are unbiased — ***on average***, they hit the true parameter; and they become increasingly \"accurate\" as the sample size grows.\n",
        "\n",
        "\n"
      ],
      "metadata": {
        "id": "DM1B0p44cnem"
      }
    },
    {
      "cell_type": "markdown",
      "source": [
        "More generally, we consider the situation where the sample data $\\{x_1, \\dots, x_n\\}$ are generated according to a **statistical model** with probability distribution  \n",
        "\n",
        "$$\n",
        "f(\\{x_1, \\dots, x_n\\} \\mid \\theta),\n",
        "$$\n",
        "\n",
        "where $\\theta$ represents one or more unknown parameters of interest. Given the observed data, our goal is to construct an estimator $\\hat{\\theta}$ that provides a single “best guess” for the true value of $\\theta$.  \n",
        "\n",
        "Often, we assume that the data $\\{x_1, \\dots, x_n\\}$ are realizations of i.i.d. random variables with probability function $p(x \\mid \\theta)$. In that case, the joint probability can be written as  \n",
        "\n",
        "$$\n",
        "f(\\{x_1, \\dots, x_n\\} \\mid \\theta) = \\prod_{i=1}^{n} p(x_i \\mid \\theta).\n",
        "$$  \n",
        "\n",
        "Note that, like sample mean and sample variance, $\\hat{\\theta}$ is also a random variable as it is a function of random variables. Details about the sampling distribution of $\\hat{\\theta}$ are beyond the scope of this unit.\n",
        "\n",
        "$$\\hat{\\theta} = T\\big(\\{x_1,...,x_n\\}\\big).$$\n"
      ],
      "metadata": {
        "id": "N81cpLdOYX9t"
      }
    },
    {
      "cell_type": "markdown",
      "source": [
        "In this section, we will introduce two fundamental methods for constructing such estimators: the **method of moments (MoM)** and **maximum likelihood estimation (MLE)**. Both methods start from the same observed data but approach the estimation problem in different ways. While we will not study their theoretical properties (such as bias, variance, or asymptotic studies), our focus will be on understanding how these methods are are formulated and applied in practice."
      ],
      "metadata": {
        "id": "SlJkgZvNGW25"
      }
    },
    {
      "cell_type": "markdown",
      "source": [
        "### **Method of Moments**\n",
        "\n",
        "The method of moments is a simple way to construct estimators by equating sample moments with theoretical moments. Suppose our model has an unknown parameter $\\theta$, and let $m_k(\\theta)$ denote the $k$-th population moment:\n",
        "\n",
        "$$\n",
        "m_k(\\theta) = \\mathbb{E}[X^k].\n",
        "$$\n",
        "\n",
        "From a sample $x_1, \\dots, x_n$, we can compute the corresponding sample moments:\n",
        "\n",
        "$$\n",
        "\\hat{m}_k = \\frac{1}{n} \\sum_{i=1}^{n} x_i^k.\n",
        "$$\n",
        "\n",
        "The idea of MoM is to solve the system of equations\n",
        "\n",
        "$$\n",
        "\\hat{m}_k = m_k(\\theta), \\quad k = 1, 2, \\dots\n",
        "$$\n",
        "\n",
        "for the unknown parameter(s) $\\theta$. The solution gives the method of moments estimator $\\hat{\\theta}_{\\text{MoM}}$.  In general, for a model with $k$ parameters, we need to solve $k$ equations.\n",
        "\n",
        "MoM is intuitive and easy to compute. However, it may produce nonsensical values (e.g., negative estimates for parameters that must be positive) if the sample moments deviate strongly from theoretical constraints."
      ],
      "metadata": {
        "id": "J0ptx2-jpo9-"
      }
    },
    {
      "cell_type": "markdown",
      "source": [
        "\n",
        "### **Maximum Likelihood Estimation**\n",
        "\n",
        "Maximum likelihood estimation takes a different approach. Suppose the sample $x_1, \\dots, x_n$ are realisations from i.i.d. random variables with probability function $p(x \\mid \\theta)$. The **likelihood function** is\n",
        "\n",
        "$$\n",
        "L(\\theta) = \\prod_{i=1}^{n} p(x_i \\mid \\theta),\n",
        "$$\n",
        "\n",
        "which we can also write in log form as\n",
        "\n",
        "$$\n",
        "\\ell(\\theta) = \\log L(\\theta) = \\sum_{i=1}^{n} \\log p(x_i \\mid \\theta).\n",
        "$$\n",
        "\n",
        "In practice, we often optimise the log-likelihood function instead of the likelihood function, even though they are equivalent. This is because the log-likelihood is a sum rather than a productIn practice, we often optimise the log-likelihood function instead of the likelihood function, even though they are equivalent. This is because the log-likelihood is a sum rather than a product, making its derivatives easier to compute.\n",
        "\n",
        "Note that the likelihood function is a function of the model parameter $\\theta$, while the sample data $\\{x_1, \\dots, x_n\\}$ are fixed. It represents how plausible the observed data are for each possible value of $\\theta$.\n",
        "\n",
        "\n",
        "The maximum likelihood estimator $\\hat{\\theta}_{\\text{MLE}}$ is defined as the value of $\\theta$ that maximises the likelihood function:\n",
        "\n",
        "$$\n",
        "\\hat{\\theta}_{\\text{MLE}} = \\arg \\max_{\\theta} L(\\theta) = \\arg \\max_{\\theta} \\ell(\\theta).\n",
        "$$\n",
        "\n",
        "MLE has many desirable properties in large samples (beyond the scope of this unit). In many scenarios, MLE and MoM result in the same estimator. However, unlike MoM, it always respects the constraints of the parameter space as we optimises for $\\theta$ over its parameter space. The main drawback is that computing $\\hat{\\theta}_{\\text{MLE}}$ can sometimes require solving nonlinear equations or numerical optimisation.\n",
        "\n",
        "In this unit, we will primarily focus on models for which the maximum likelihood estimator, $\\hat{\\theta}_{\\text{MLE}}$, can be derived analytically."
      ],
      "metadata": {
        "id": "6jQN-qgyrzXL"
      }
    },
    {
      "cell_type": "markdown",
      "source": [
        "### **Workshop Questions**"
      ],
      "metadata": {
        "id": "sQsNEVzjt8J2"
      }
    },
    {
      "cell_type": "markdown",
      "source": [
        "#### **Question 1**\n",
        "\n",
        "A factory produces light bulbs. Each bulb has a probability $p$ of being defective. A quality inspector selects 10 bulbs at random from the production line, and the number of defective bulbs in each sample is recorded as follows:\n",
        "\n",
        "$$\n",
        "\\{2, 1, 0, 3, 1, 2, 1, 0, 2, 1\\}\n",
        "$$\n",
        "\n",
        "Assume that the number of defective bulbs in each sample follows `Binomial(n,p)`.  \n",
        "\n",
        "- Use the MoM and MLE to estimate the probability $p$ of a defective bulb.\n",
        "- Comment on the results"
      ],
      "metadata": {
        "id": "WmM8CSFA3ZpJ"
      }
    },
    {
      "cell_type": "code",
      "source": [
        "smpl_data = c(2,1,0,3,1,2,1,0,2,1)"
      ],
      "metadata": {
        "id": "hzu8zcE54my-"
      },
      "execution_count": null,
      "outputs": []
    },
    {
      "cell_type": "markdown",
      "source": [
        "\n",
        "\n",
        "<details>\n",
        "<summary>▶️ Click to show the solution</summary>\n",
        "\n",
        "Lorem ipsum dolor sit amet, consectetur adipiscing elit. Sed do eiusmod tempor incididunt ut labore et dolore magna aliqua. Ut enim ad minim veniam, quis nostrud exercitation ullamco laboris nisi ut aliquip ex ea commodo consequat.  \n",
        "\n",
        "Duis aute irure dolor in reprehenderit in voluptate velit esse cillum dolore eu fugiat nulla pariatur. Excepteur sint occaecat cupidatat non proident, sunt in culpa qui officia deserunt mollit anim id est laborum.\n",
        "\n",
        "\n",
        "</details>\n",
        "\n",
        "\n"
      ],
      "metadata": {
        "id": "1AqGoHq87LFr"
      }
    },
    {
      "cell_type": "markdown",
      "source": [
        "#### **Question 2**\n",
        "\n",
        "The following sample data $\\{3,1,2,0,6\\}$ are generated from  i.i.d. `Binomial(n, p)`.  \n",
        "Use the MoM to estimate the parameters $n$ and $p$, and comment on the results.\n",
        "\n",
        "**Hint**: Use the following identity\n",
        "\n",
        "$$\\mathbb{V}[X] = \\mathbb{E}[X^2] - \\mathbb{E}[X]^2$$"
      ],
      "metadata": {
        "id": "kqPj58PXt_yq"
      }
    },
    {
      "cell_type": "code",
      "source": [
        "smpl_data = c(3,1,2,0,5)"
      ],
      "metadata": {
        "id": "dUN_WVtn30kE"
      },
      "execution_count": null,
      "outputs": []
    },
    {
      "cell_type": "markdown",
      "source": [
        "\n",
        "\n",
        "<details>\n",
        "<summary>▶️ Click to show the solution</summary>\n",
        "\n",
        "\n",
        "For $X \\sim \\text{Binomial}(n, p)$, the first two theoretical moments are:\n",
        "\n",
        "$$\n",
        "\\begin{align}\n",
        "m_1 &= \\mathbb{E}[X] = np, \\\\\n",
        "m_2 = \\mathbb{E}[X^2] &= \\mathbb{V}[X] + \\mathbb{E}[X]^2 = np(1-p) + (np)^2.\n",
        "\\end{align}\n",
        "$$\n",
        "\n",
        "From the sample $x_1, \\dots, x_{5}$, we compute the corresponding sample moments:\n",
        "\n",
        "$$\n",
        "\\begin{align}\n",
        "\\hat{m}_1 &= \\frac{\\sum_{i=1}^n x_i}{n},\\\\\n",
        "\\hat{m}_2 &= \\frac{\\sum_{i=1}^n x_i^2}{n}.\n",
        "\\end{align}\n",
        "$$\n",
        "\n",
        "To compute MoM estimates, we need to solve the system of equations:\n",
        "\n",
        "$$\n",
        "\\begin{align}\n",
        "\\hat{m}_1 &= m_1, \\\\\n",
        "\\hat{m}_2 - \\hat{m}_1^2 &= m_2 - m_1^2.\n",
        "\\end{align}\n",
        "$$\n",
        "\n",
        "\n",
        "Equivalently,\n",
        "\n",
        "\n",
        "$$\n",
        "\\begin{align}\n",
        "np &= \\frac{\\sum_{i=1}^n x_i}{n} \\equiv \\overline{x} = 2.2 , \\\\\n",
        "np(1-p) + (np)^2 &= \\frac{\\sum_{i=1}^n x_i^2}{n} \\equiv \\overline{x^2} = 7.8.\n",
        "\\end{align}\n",
        "$$\n",
        "\n",
        "Solving for $n$ and $p$:\n",
        "\n",
        "$$\n",
        "\\begin{align}\n",
        "2.2(1 - \\hat{p}) + (2.2)^2 &= 7.8, \\\\\n",
        "\\hat{n} &= \\frac{2.2}{\\hat{p}}.\n",
        "\\end{align}\n",
        "$$\n",
        "\n",
        "Equivalently,\n",
        "\n",
        "$$\n",
        "\\begin{align}\n",
        "\\hat{p} &= -0.345, \\\\\n",
        "\\hat{n} &= \\frac{2.2}{\\hat{p}} = -6.368.\n",
        "\\end{align}\n",
        "$$\n",
        "\n",
        "\n",
        "```r\n",
        "\n",
        "smpl_data = c(3,1,2,0,5)\n",
        "x_bar = mean(smpl_data)\n",
        "xsq_bar = mean(smpl_data^2)\n",
        "\n",
        "p = 1-(xsq_bar-x_bar^2)/x_bar\n",
        "n = x_bar/p\n",
        "\n",
        "```\n",
        "\n",
        "These are invalid because $n$ and $p$ must be positive.\n",
        "\n",
        "</details>\n",
        "\n",
        "\n"
      ],
      "metadata": {
        "id": "S4DpI6VixBZL"
      }
    },
    {
      "cell_type": "markdown",
      "source": [
        "#### **Question 3**\n",
        "**Back to this after the second part, if there is still time.**\n",
        "\n",
        "The following sample data are recorded as the time (in hours) until failure of 5 identical machines:\n",
        "\n",
        "$$\n",
        "\\{2.3, 1.5, 0.7, 3.1, 2.0\\}\n",
        "$$\n",
        "\n",
        "Assume that these data are generated from i.i.d. `Exp(lambda)`.  \n",
        "\n",
        "**Tasks:**\n",
        "\n",
        "- Use the MoM and MLE to estimate the parameter $\\lambda$.  \n",
        "- Comment on the results"
      ],
      "metadata": {
        "id": "fbyqIE7Kw6Io"
      }
    },
    {
      "cell_type": "code",
      "source": [
        "smpl_data = c(2.3,1.5,0.7,3.1,2.0)"
      ],
      "metadata": {
        "id": "wTvY8jjS8U3I"
      },
      "execution_count": null,
      "outputs": []
    },
    {
      "cell_type": "markdown",
      "source": [
        "\n",
        "\n",
        "<details>\n",
        "<summary>▶️ Click to show the solution</summary>\n",
        "\n",
        "Lorem ipsum dolor sit amet, consectetur adipiscing elit. Sed do eiusmod tempor incididunt ut labore et dolore magna aliqua. Ut enim ad minim veniam, quis nostrud exercitation ullamco laboris nisi ut aliquip ex ea commodo consequat.  \n",
        "\n",
        "Duis aute irure dolor in reprehenderit in voluptate velit esse cillum dolore eu fugiat nulla pariatur. Excepteur sint occaecat cupidatat non proident, sunt in culpa qui officia deserunt mollit anim id est laborum.\n",
        "\n",
        "\n",
        "</details>\n",
        "\n",
        "\n"
      ],
      "metadata": {
        "id": "YiZo3ENO8qhV"
      }
    },
    {
      "cell_type": "markdown",
      "source": [
        "#### **Question 4**\n",
        "**Back to this after the second part, if there is still time.**\n",
        "\n",
        "The following sample data are the number of emails received per hour by a customer service team over 5 randomly selected hours:\n",
        "\n",
        "$$\n",
        "\\{3, 2, 4, 0, 5\\}\n",
        "$$\n",
        "\n",
        "Assume that these data are generated from i.i.d. `Poisson(lambda)`.  \n",
        "\n",
        "- Use the MoM and MLE to estimate the parameter $\\lambda$.  \n",
        "- Comment on the results."
      ],
      "metadata": {
        "id": "qJLYxtGC9Fhh"
      }
    },
    {
      "cell_type": "code",
      "source": [
        "smpl_data = c(3,2,4,0,5)"
      ],
      "metadata": {
        "id": "lbaQmV439O_v"
      },
      "execution_count": null,
      "outputs": []
    },
    {
      "cell_type": "markdown",
      "source": [
        "\n",
        "\n",
        "<details>\n",
        "<summary>▶️ Click to show the solution</summary>\n",
        "\n",
        "Lorem ipsum dolor sit amet, consectetur adipiscing elit. Sed do eiusmod tempor incididunt ut labore et dolore magna aliqua. Ut enim ad minim veniam, quis nostrud exercitation ullamco laboris nisi ut aliquip ex ea commodo consequat.  \n",
        "\n",
        "Duis aute irure dolor in reprehenderit in voluptate velit esse cillum dolore eu fugiat nulla pariatur. Excepteur sint occaecat cupidatat non proident, sunt in culpa qui officia deserunt mollit anim id est laborum.\n",
        "\n",
        "\n",
        "</details>\n",
        "\n",
        "\n"
      ],
      "metadata": {
        "id": "SmIU9_Rr9Q4A"
      }
    },
    {
      "cell_type": "markdown",
      "source": [
        "## **Interval Estimation**"
      ],
      "metadata": {
        "id": "uRHV_m3s9X4R"
      }
    },
    {
      "cell_type": "markdown",
      "source": [
        "\n",
        "In many scenarios, we are interested in creating an interval that hopefully captures the parameter’s true value instead of obtaining a single point estimate.\n",
        "\n",
        "$$\\Big[T_1\\big(\\{x_1,...,x_n\\}\\big), T_2\\big(\\{x_1,...,x_n\\}\\big)\\Big]$$\n"
      ],
      "metadata": {
        "id": "o41nwYQc9anw"
      }
    }
  ]
}